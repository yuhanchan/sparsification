{
 "cells": [
  {
   "cell_type": "markdown",
   "metadata": {
    "toc": "true"
   },
   "source": [
    "<h1>Table of Contents<span class=\"tocSkip\"></span></h1>\n",
    "<div class=\"toc\"><ul class=\"toc-item\"><li><span><a href=\"#Graph-Generators\" data-toc-modified-id=\"Graph-Generators-1\"><span class=\"toc-item-num\">1&nbsp;&nbsp;</span>Graph Generators</a></span><ul class=\"toc-item\"><li><span><a href=\"#Chimeric-Graphs\" data-toc-modified-id=\"Chimeric-Graphs-1.1\"><span class=\"toc-item-num\">1.1&nbsp;&nbsp;</span>Chimeric Graphs</a></span></li></ul></li><li><span><a href=\"#Reading-and-Writing-graphs\" data-toc-modified-id=\"Reading-and-Writing-graphs-2\"><span class=\"toc-item-num\">2&nbsp;&nbsp;</span>Reading and Writing graphs</a></span></li><li><span><a href=\"#Solving-systems-of-linear-equations\" data-toc-modified-id=\"Solving-systems-of-linear-equations-3\"><span class=\"toc-item-num\">3&nbsp;&nbsp;</span>Solving systems of linear equations</a></span></li><li><span><a href=\"#Computing-Low-Stretch-Spanning-Trees\" data-toc-modified-id=\"Computing-Low-Stretch-Spanning-Trees-4\"><span class=\"toc-item-num\">4&nbsp;&nbsp;</span>Computing Low Stretch Spanning Trees</a></span></li><li><span><a href=\"#Computing-Components,-and-demo-of-percolation\" data-toc-modified-id=\"Computing-Components,-and-demo-of-percolation-5\"><span class=\"toc-item-num\">5&nbsp;&nbsp;</span>Computing Components, and demo of percolation</a></span></li><li><span><a href=\"#Spectral-Graph-Drawing\" data-toc-modified-id=\"Spectral-Graph-Drawing-6\"><span class=\"toc-item-num\">6&nbsp;&nbsp;</span>Spectral Graph Drawing</a></span></li><li><span><a href=\"#Here-is-a-look-under-the-hood-of-sparse-matrices\" data-toc-modified-id=\"Here-is-a-look-under-the-hood-of-sparse-matrices-7\"><span class=\"toc-item-num\">7&nbsp;&nbsp;</span>Here is a look under the hood of sparse matrices</a></span></li></ul></div>"
   ]
  },
  {
   "cell_type": "markdown",
   "metadata": {},
   "source": [
    "This is a short demo of some of the things you can do with the Laplacians package for Julia, and with Julia itself for those who are new to it.  You need to have Laplacians installed to use this.  If you have not done so already, install it by typing `]add Laplacians`."
   ]
  },
  {
   "cell_type": "code",
   "execution_count": 1,
   "metadata": {
    "ExecuteTime": {
     "end_time": "2018-08-26T15:50:46.631000-04:00",
     "start_time": "2018-08-26T19:50:45.167Z"
    }
   },
   "outputs": [
    {
     "data": {
      "text/plain": [
       "v\"1.0.0\""
      ]
     },
     "execution_count": 1,
     "metadata": {},
     "output_type": "execute_result"
    }
   ],
   "source": [
    "VERSION"
   ]
  },
  {
   "cell_type": "code",
   "execution_count": 2,
   "metadata": {
    "ExecuteTime": {
     "end_time": "2018-08-26T15:50:47.474000-04:00",
     "start_time": "2018-08-26T19:50:45.171Z"
    }
   },
   "outputs": [
    {
     "data": {
      "text/plain": [
       "\"/Users/spielman/Lap7/Project.toml\""
      ]
     },
     "execution_count": 2,
     "metadata": {},
     "output_type": "execute_result"
    }
   ],
   "source": [
    "using Pkg\n",
    "Pkg.activate(\"/Users/spielman/Lap7/\")"
   ]
  },
  {
   "cell_type": "code",
   "execution_count": 3,
   "metadata": {
    "ExecuteTime": {
     "end_time": "2018-08-26T15:50:54.258000-04:00",
     "start_time": "2018-08-26T19:50:45.174Z"
    }
   },
   "outputs": [],
   "source": [
    "using Laplacians"
   ]
  },
  {
   "cell_type": "code",
   "execution_count": 4,
   "metadata": {
    "ExecuteTime": {
     "end_time": "2018-08-26T15:50:56.813000-04:00",
     "start_time": "2018-08-26T19:50:45.177Z"
    }
   },
   "outputs": [],
   "source": [
    "using PyPlot\n",
    "using SparseArrays\n",
    "using Random\n",
    "using LinearAlgebra\n",
    "using Statistics\n",
    "using Arpack"
   ]
  },
  {
   "cell_type": "markdown",
   "metadata": {},
   "source": [
    "# Graph Generators"
   ]
  },
  {
   "cell_type": "code",
   "execution_count": 5,
   "metadata": {
    "ExecuteTime": {
     "end_time": "2018-08-26T15:50:58.085000-04:00",
     "start_time": "2018-08-26T19:50:45.179Z"
    }
   },
   "outputs": [
    {
     "data": {
      "text/plain": [
       "16×16 SparseMatrixCSC{Float64,Int64} with 48 stored entries:\n",
       "  [2 ,  1]  =  1.0\n",
       "  [5 ,  1]  =  1.0\n",
       "  [1 ,  2]  =  1.0\n",
       "  [3 ,  2]  =  1.0\n",
       "  [6 ,  2]  =  1.0\n",
       "  [2 ,  3]  =  1.0\n",
       "  [4 ,  3]  =  1.0\n",
       "  [7 ,  3]  =  1.0\n",
       "  [3 ,  4]  =  1.0\n",
       "  [8 ,  4]  =  1.0\n",
       "  [1 ,  5]  =  1.0\n",
       "  [6 ,  5]  =  1.0\n",
       "  ⋮\n",
       "  [11, 12]  =  1.0\n",
       "  [16, 12]  =  1.0\n",
       "  [9 , 13]  =  1.0\n",
       "  [14, 13]  =  1.0\n",
       "  [10, 14]  =  1.0\n",
       "  [13, 14]  =  1.0\n",
       "  [15, 14]  =  1.0\n",
       "  [11, 15]  =  1.0\n",
       "  [14, 15]  =  1.0\n",
       "  [16, 15]  =  1.0\n",
       "  [12, 16]  =  1.0\n",
       "  [15, 16]  =  1.0"
      ]
     },
     "execution_count": 5,
     "metadata": {},
     "output_type": "execute_result"
    }
   ],
   "source": [
    "gr = grid2(4)"
   ]
  },
  {
   "cell_type": "code",
   "execution_count": 6,
   "metadata": {
    "ExecuteTime": {
     "end_time": "2018-08-26T15:51:03.789000-04:00",
     "start_time": "2018-08-26T19:50:45.183Z"
    }
   },
   "outputs": [
    {
     "data": {
      "image/png": "[encoded data removed]",
      "text/plain": [
       "Figure(PyObject <matplotlib.figure.Figure object at 0x12688ce90>)"
      ]
     },
     "metadata": {},
     "output_type": "display_data"
    },
    {
     "data": {
      "text/plain": [
       "1-element Array{PyCall.PyObject,1}:\n",
       " PyObject <matplotlib.lines.Line2D object at 0x126ffad10>"
      ]
     },
     "execution_count": 6,
     "metadata": {},
     "output_type": "execute_result"
    }
   ],
   "source": [
    "gr = grid2(4,3)\n",
    "(x,y) = grid2coords(4,3)\n",
    "p = plot_graph(gr,x,y;dots=false)"
   ]
  },
  {
   "cell_type": "code",
   "execution_count": 7,
   "metadata": {
    "ExecuteTime": {
     "end_time": "2018-08-26T15:51:04.969000-04:00",
     "start_time": "2018-08-26T19:50:45.186Z"
    }
   },
   "outputs": [
    {
     "data": {
      "image/png": "[encoded data removed]",
      "text/plain": [
       "Figure(PyObject <matplotlib.figure.Figure object at 0x1271f3d10>)"
      ]
     },
     "metadata": {},
     "output_type": "display_data"
    },
    {
     "data": {
      "text/plain": [
       "PyObject <matplotlib.image.AxesImage object at 0x12734c590>"
      ]
     },
     "execution_count": 7,
     "metadata": {},
     "output_type": "execute_result"
    }
   ],
   "source": [
    "gr = rand_regular(15,3)\n",
    "spy(Matrix(gr))"
   ]
  },
  {
   "cell_type": "code",
   "execution_count": 8,
   "metadata": {
    "ExecuteTime": {
     "end_time": "2018-08-26T15:51:05.595000-04:00",
     "start_time": "2018-08-26T19:50:45.190Z"
    }
   },
   "outputs": [
    {
     "data": {
      "image/png": "[encoded data removed]",
      "text/plain": [
       "Figure(PyObject <matplotlib.figure.Figure object at 0x1276aecd0>)"
      ]
     },
     "metadata": {},
     "output_type": "display_data"
    },
    {
     "data": {
      "text/plain": [
       "PyObject <matplotlib.image.AxesImage object at 0x12782ff10>"
      ]
     },
     "execution_count": 8,
     "metadata": {},
     "output_type": "execute_result"
    }
   ],
   "source": [
    "gr = grown_graph(200,2)\n",
    "spy(Matrix(gr))"
   ]
  },
  {
   "cell_type": "code",
   "execution_count": 9,
   "metadata": {
    "ExecuteTime": {
     "end_time": "2018-08-26T15:51:06.626000-04:00",
     "start_time": "2018-08-26T19:50:45.193Z"
    }
   },
   "outputs": [
    {
     "data": {
      "text/plain": [
       "8×8 Array{Float64,2}:\n",
       " 0.0  1.0  1.0  0.0  1.0  0.0  0.0  0.0\n",
       " 1.0  0.0  0.0  1.0  0.0  1.0  0.0  0.0\n",
       " 1.0  0.0  0.0  1.0  0.0  0.0  1.0  0.0\n",
       " 0.0  1.0  1.0  0.0  0.0  0.0  0.0  1.0\n",
       " 1.0  0.0  0.0  0.0  0.0  1.0  1.0  0.0\n",
       " 0.0  1.0  0.0  0.0  1.0  0.0  0.0  1.0\n",
       " 0.0  0.0  1.0  0.0  1.0  0.0  0.0  1.0\n",
       " 0.0  0.0  0.0  1.0  0.0  1.0  1.0  0.0"
      ]
     },
     "execution_count": 9,
     "metadata": {},
     "output_type": "execute_result"
    }
   ],
   "source": [
    "gr = Matrix(hypercube(3))"
   ]
  },
  {
   "cell_type": "code",
   "execution_count": 10,
   "metadata": {
    "ExecuteTime": {
     "end_time": "2018-08-26T15:51:06.972000-04:00",
     "start_time": "2018-08-26T19:50:45.195Z"
    }
   },
   "outputs": [
    {
     "data": {
      "image/png": "[encoded data removed]",
      "text/plain": [
       "Figure(PyObject <matplotlib.figure.Figure object at 0x1276fa150>)"
      ]
     },
     "metadata": {},
     "output_type": "display_data"
    },
    {
     "data": {
      "text/plain": [
       "PyObject <matplotlib.image.AxesImage object at 0x127c40ad0>"
      ]
     },
     "execution_count": 10,
     "metadata": {},
     "output_type": "execute_result"
    }
   ],
   "source": [
    "a = complete_binary_tree(15)\n",
    "spy(Matrix(a))"
   ]
  },
  {
   "cell_type": "code",
   "execution_count": 11,
   "metadata": {
    "ExecuteTime": {
     "end_time": "2018-08-26T15:51:07.197000-04:00",
     "start_time": "2018-08-26T19:50:45.198Z"
    }
   },
   "outputs": [],
   "source": [
    "a0 = complete_binary_tree(3)\n",
    "a1 = complete_binary_tree(5)\n",
    "a = product_graph(a0,a1);"
   ]
  },
  {
   "cell_type": "code",
   "execution_count": 12,
   "metadata": {
    "ExecuteTime": {
     "end_time": "2018-08-26T15:51:10.978000-04:00",
     "start_time": "2018-08-26T19:50:45.206Z"
    }
   },
   "outputs": [
    {
     "data": {
      "image/png": "[encoded data removed]",
      "text/plain": [
       "Figure(PyObject <matplotlib.figure.Figure object at 0x127c78b90>)"
      ]
     },
     "metadata": {},
     "output_type": "display_data"
    },
    {
     "data": {
      "text/plain": [
       "1-element Array{PyCall.PyObject,1}:\n",
       " PyObject <matplotlib.lines.Line2D object at 0x1280a17d0>"
      ]
     },
     "execution_count": 12,
     "metadata": {},
     "output_type": "execute_result"
    }
   ],
   "source": [
    "spectral_drawing(a)"
   ]
  },
  {
   "cell_type": "markdown",
   "metadata": {},
   "source": [
    "## Chimeric Graphs"
   ]
  },
  {
   "cell_type": "markdown",
   "metadata": {},
   "source": [
    "The chimeric graphs combine together elementary graphs in strange ways.  If you want to really test your code, try it on a couple thousand of the chimeric graphs.  We also produce graphs with weights.  Here are two. "
   ]
  },
  {
   "cell_type": "code",
   "execution_count": 13,
   "metadata": {
    "ExecuteTime": {
     "end_time": "2018-08-26T15:51:16.115000-04:00",
     "start_time": "2018-08-26T19:50:45.209Z"
    }
   },
   "outputs": [
    {
     "data": {
      "image/png": "[encoded data removed]",
      "text/plain": [
       "Figure(PyObject <matplotlib.figure.Figure object at 0x1280d9510>)"
      ]
     },
     "metadata": {},
     "output_type": "display_data"
    },
    {
     "data": {
      "text/plain": [
       "1-element Array{PyCall.PyObject,1}:\n",
       " PyObject <matplotlib.lines.Line2D object at 0x128160110>"
      ]
     },
     "execution_count": 13,
     "metadata": {},
     "output_type": "execute_result"
    }
   ],
   "source": [
    "a = chimera(100,1)\n",
    "spectral_drawing(a)"
   ]
  },
  {
   "cell_type": "code",
   "execution_count": 14,
   "metadata": {
    "ExecuteTime": {
     "end_time": "2018-08-26T15:51:17.529000-04:00",
     "start_time": "2018-08-26T19:50:45.212Z"
    }
   },
   "outputs": [
    {
     "data": {
      "text/plain": [
       "100×100 SparseMatrixCSC{Float64,Int64} with 358 stored entries:\n",
       "  [9  ,   1]  =  0.305356\n",
       "  [43 ,   1]  =  0.810396\n",
       "  [59 ,   1]  =  0.303577\n",
       "  [77 ,   1]  =  0.255593\n",
       "  [14 ,   2]  =  4.19075\n",
       "  [29 ,   2]  =  3.84596\n",
       "  [40 ,   2]  =  3.91678\n",
       "  [27 ,   3]  =  19.5378\n",
       "  [33 ,   3]  =  0.831174\n",
       "  [50 ,   3]  =  0.417519\n",
       "  [90 ,   3]  =  0.934766\n",
       "  [28 ,   4]  =  4.90028\n",
       "  ⋮\n",
       "  [41 ,  96]  =  0.339475\n",
       "  [61 ,  96]  =  0.465076\n",
       "  [72 ,  96]  =  1.38052\n",
       "  [20 ,  97]  =  0.302484\n",
       "  [91 ,  97]  =  0.526588\n",
       "  [33 ,  98]  =  1.57839\n",
       "  [69 ,  98]  =  0.894723\n",
       "  [69 ,  99]  =  0.749935\n",
       "  [74 ,  99]  =  0.785528\n",
       "  [91 ,  99]  =  0.54301\n",
       "  [64 , 100]  =  0.371812\n",
       "  [81 , 100]  =  0.582503"
      ]
     },
     "execution_count": 14,
     "metadata": {},
     "output_type": "execute_result"
    }
   ],
   "source": [
    "a = wted_chimera(100)"
   ]
  },
  {
   "cell_type": "markdown",
   "metadata": {},
   "source": [
    "If you want to see how the graph was generated, turn on `verbose`."
   ]
  },
  {
   "cell_type": "code",
   "execution_count": 15,
   "metadata": {
    "ExecuteTime": {
     "end_time": "2018-08-26T15:51:18.300000-04:00",
     "start_time": "2018-08-26T19:50:45.214Z"
    }
   },
   "outputs": [
    {
     "name": "stdout",
     "output_type": "stream",
     "text": [
      "joinGraphs(0.7881821061098012*chimera(119128),chimera(4328),1242)\n",
      " joinGraphs(0.7383063939080016*chimera(119067),chimera(61),4)\n",
      "  joinGraphs(0.6653943021172429*chimera(118987),chimera(80),12)\n",
      "    firstn_grid2(118987)\n",
      "    complete_binary_tree(80)\n",
      "  joinGraphs(0.07849797488634705*chimera(11),chimera(50),6)\n",
      "    grown_graph(11)\n",
      "   joinGraphs(0.5243766134642553*chimera(21),chimera(29),2)\n",
      "     firstn_grid2(21)\n",
      "     firstn_grid2(29)\n",
      "  grown_graph(4328)\n"
     ]
    }
   ],
   "source": [
    "a = wted_chimera(123456,4,verbose=true);"
   ]
  },
  {
   "cell_type": "markdown",
   "metadata": {},
   "source": [
    "# Reading and Writing graphs"
   ]
  },
  {
   "cell_type": "markdown",
   "metadata": {},
   "source": [
    "We can read and write graphs as ijv lists.  These routines just want the adjacency matrix, and only store the upper-triangular portion."
   ]
  },
  {
   "cell_type": "code",
   "execution_count": 16,
   "metadata": {
    "ExecuteTime": {
     "end_time": "2018-08-26T15:51:19.570000-04:00",
     "start_time": "2018-08-26T19:50:45.218Z"
    }
   },
   "outputs": [
    {
     "name": "stdout",
     "output_type": "stream",
     "text": [
      "1,2,1.9926191243844393\n",
      "3,4,3.373572182808055\n",
      "3,5,3.972345721087011\n",
      "3,7,3.54506770516898\n",
      "6,8,0.9798577711382909\n",
      "7,8,1.7835803281107323\n",
      "8,9,0.23174531058213932\n",
      "6,10,1.1953990903387635\n",
      "7,10,1.9991216473112046\n",
      "2,11,3.5420989365757523\n",
      "5,11,4.065628185762425\n",
      "1,12,1.4639197939120832\n",
      "9,12,1.3903750749518728\n",
      "1,13,0.09743100434804973\n",
      "4,13,2.014805839640207\n",
      "9,14,2.1477631845361493\n",
      "11,14,3.770787715687673\n",
      "13,14,2.3187389078444096\n",
      "6,15,0.7409713922415665\n",
      "10,15,0.4544276980971968\n",
      "12,15,0.9197433854730092\n"
     ]
    },
    {
     "data": {
      "text/plain": [
       "Process(`\u001b[4mcat\u001b[24m \u001b[4maGraph.ijv\u001b[24m`, ProcessExited(0))"
      ]
     },
     "execution_count": 16,
     "metadata": {},
     "output_type": "execute_result"
    }
   ],
   "source": [
    "a = wted_chimera(15,2)\n",
    "writeIJV(\"aGraph.ijv\",a)\n",
    "run(`cat aGraph.ijv`)"
   ]
  },
  {
   "cell_type": "markdown",
   "metadata": {},
   "source": [
    "We can, of course, read this back in."
   ]
  },
  {
   "cell_type": "code",
   "execution_count": 17,
   "metadata": {
    "ExecuteTime": {
     "end_time": "2018-08-26T15:51:21.395000-04:00",
     "start_time": "2018-08-26T19:50:45.220Z"
    }
   },
   "outputs": [
    {
     "data": {
      "text/plain": [
       "15×15 SparseMatrixCSC{Float64,Int64} with 0 stored entries"
      ]
     },
     "execution_count": 17,
     "metadata": {},
     "output_type": "execute_result"
    }
   ],
   "source": [
    "a2 = readIJV(\"aGraph.ijv\")\n",
    "a2-a"
   ]
  },
  {
   "cell_type": "markdown",
   "metadata": {},
   "source": [
    "You can use routines like this to communicate with Matlab.\n",
    "First, you need to tell Matlab where to find Julia.  Hopefully it is in your search path.\n",
    "If not, we will try to find it.  And, tell Matlab where to find some m-files.\n",
    "<pre>\n",
    ">> cd('~/.julia/v0.6/Laplacians/matlab')\n",
    ">> init\n",
    ">> a = readIJV('aGraph.ijv')\n",
    "\n",
    "a =\n",
    "\n",
    "   (8,1)       1.0658\n",
    "  (11,1)       1.0978\n",
    "  (15,1)       0.6688\n",
    "   (3,2)       4.0888\n",
    "   (5,2)       4.6810\n",
    "   (2,3)       4.0888\n",
    "  (14,3)       4.3929\n",
    "   (6,4)       0.6851\n",
    "   (9,4)       1.6401\n",
    "  (15,4)       0.4751\n",
    "   (2,5)       4.6810\n",
    "   (9,5)       3.9026\n",
    "  (14,5)       4.9851\n",
    "   (4,6)       0.6851\n",
    "   (7,6)       2.0197\n",
    "  (14,6)       3.4076\n",
    "   (6,7)       2.0197\n",
    "  (10,7)       1.5522\n",
    "  (13,7)       1.7009\n",
    "   (1,8)       1.0658\n",
    "  (10,8)       1.0896\n",
    "  (12,8)       0.8409\n",
    "   (4,9)       1.6401\n",
    "   (5,9)       3.9026\n",
    "  (12,9)       1.6089\n",
    "   (7,10)      1.5522\n",
    "   (8,10)      1.0896\n",
    "   (1,11)      1.0978\n",
    "  (13,11)      1.2704\n",
    "  (15,11)      0.4290\n",
    "   (8,12)      0.8409\n",
    "   (9,12)      1.6089\n",
    "  (13,12)      0.3975\n",
    "   (7,13)      1.7009\n",
    "  (11,13)      1.2704\n",
    "  (12,13)      0.3975\n",
    "   (3,14)      4.3929\n",
    "   (5,14)      4.9851\n",
    "   (6,14)      3.4076\n",
    "   (1,15)      0.6688\n",
    "   (4,15)      0.4751\n",
    "  (11,15)      0.4290\n",
    "</pre>"
   ]
  },
  {
   "cell_type": "markdown",
   "metadata": {},
   "source": [
    "You can also save graphs from Matlab, and read them back in to Julia.\n",
    "<pre>\n",
    ">> a2 = 2*a;\n",
    ">> writeIJV('a2Graph.ijv',a2);\n",
    "</pre>\n"
   ]
  },
  {
   "cell_type": "markdown",
   "metadata": {},
   "source": [
    "Alternatively, you can read and write .mat files using the MATLAB.jl package."
   ]
  },
  {
   "cell_type": "markdown",
   "metadata": {},
   "source": [
    "# Solving systems of linear equations"
   ]
  },
  {
   "cell_type": "markdown",
   "metadata": {},
   "source": [
    "This package contains code for solving systems of linear equations in Laplacian and SDDM matrices.  You may form the Laplacian matrix of a graph as follows."
   ]
  },
  {
   "cell_type": "code",
   "execution_count": 18,
   "metadata": {
    "ExecuteTime": {
     "end_time": "2018-08-26T15:51:21.531000-04:00",
     "start_time": "2018-08-26T19:50:45.224Z"
    }
   },
   "outputs": [
    {
     "data": {
      "text/plain": [
       "5×5 Array{Float64,2}:\n",
       "  2.0  -1.0   0.0   0.0  -1.0\n",
       " -1.0   2.0  -1.0   0.0   0.0\n",
       "  0.0  -1.0   2.0  -1.0   0.0\n",
       "  0.0   0.0  -1.0   2.0  -1.0\n",
       " -1.0   0.0   0.0  -1.0   2.0"
      ]
     },
     "execution_count": 18,
     "metadata": {},
     "output_type": "execute_result"
    }
   ],
   "source": [
    "a = ring_graph(5)\n",
    "Matrix(lap(a))"
   ]
  },
  {
   "cell_type": "markdown",
   "metadata": {},
   "source": [
    "Solvers for Laplacians take the adjacency matrices as input.  To use them, you first construct a function that applies the inverse.  You then apply it to a vector."
   ]
  },
  {
   "cell_type": "code",
   "execution_count": 19,
   "metadata": {
    "ExecuteTime": {
     "end_time": "2018-08-26T15:51:25.039000-04:00",
     "start_time": "2018-08-26T19:50:45.226Z"
    }
   },
   "outputs": [
    {
     "data": {
      "text/plain": [
       "7.704553170864119e-7"
      ]
     },
     "execution_count": 19,
     "metadata": {},
     "output_type": "execute_result"
    }
   ],
   "source": [
    "a = wted_chimera(123456,1)\n",
    "solver = approxchol_lap(a);\n",
    "b = randn(123456); b = b .- mean(b);\n",
    "x = solver(b)\n",
    "norm(lap(a)*x - b)/norm(b)"
   ]
  },
  {
   "cell_type": "markdown",
   "metadata": {},
   "source": [
    "You can adjust the accuracy, get reports about how the code performs, and much more.  To see a docstring for a function, just type a `?` followed by its name."
   ]
  },
  {
   "cell_type": "code",
   "execution_count": 20,
   "metadata": {
    "ExecuteTime": {
     "end_time": "2018-08-26T15:51:27.655000-04:00",
     "start_time": "2018-08-26T19:50:45.229Z"
    }
   },
   "outputs": [
    {
     "name": "stdout",
     "output_type": "stream",
     "text": [
      "search: \u001b[0m\u001b[1ma\u001b[22m\u001b[0m\u001b[1mp\u001b[22m\u001b[0m\u001b[1mp\u001b[22m\u001b[0m\u001b[1mr\u001b[22m\u001b[0m\u001b[1mo\u001b[22m\u001b[0m\u001b[1mx\u001b[22m\u001b[0m\u001b[1mc\u001b[22m\u001b[0m\u001b[1mh\u001b[22m\u001b[0m\u001b[1mo\u001b[22m\u001b[0m\u001b[1ml\u001b[22m\u001b[0m\u001b[1m_\u001b[22m\u001b[0m\u001b[1ml\u001b[22m\u001b[0m\u001b[1ma\u001b[22m\u001b[0m\u001b[1mp\u001b[22m \u001b[0m\u001b[1ma\u001b[22m\u001b[0m\u001b[1mp\u001b[22m\u001b[0m\u001b[1mp\u001b[22m\u001b[0m\u001b[1mr\u001b[22m\u001b[0m\u001b[1mo\u001b[22m\u001b[0m\u001b[1mx\u001b[22m\u001b[0m\u001b[1mc\u001b[22m\u001b[0m\u001b[1mh\u001b[22m\u001b[0m\u001b[1mo\u001b[22m\u001b[0m\u001b[1ml\u001b[22m\u001b[0m\u001b[1m_\u001b[22msddm \u001b[0m\u001b[1ma\u001b[22m\u001b[0m\u001b[1mp\u001b[22m\u001b[0m\u001b[1mp\u001b[22m\u001b[0m\u001b[1mr\u001b[22m\u001b[0m\u001b[1mo\u001b[22m\u001b[0m\u001b[1mx\u001b[22m\u001b[0m\u001b[1mC\u001b[22m\u001b[0m\u001b[1mh\u001b[22m\u001b[0m\u001b[1mo\u001b[22m\u001b[0m\u001b[1ml\u001b[22mLap \u001b[0m\u001b[1ma\u001b[22m\u001b[0m\u001b[1mp\u001b[22m\u001b[0m\u001b[1mp\u001b[22m\u001b[0m\u001b[1mr\u001b[22m\u001b[0m\u001b[1mo\u001b[22m\u001b[0m\u001b[1mx\u001b[22m\u001b[0m\u001b[1mC\u001b[22m\u001b[0m\u001b[1mh\u001b[22m\u001b[0m\u001b[1mo\u001b[22m\u001b[0m\u001b[1ml\u001b[22mSDDM\n",
      "\n"
     ]
    },
    {
     "data": {
      "text/markdown": [
       "```\n",
       "solver = approxchol_lap(a); x = solver(b);\n",
       "solver = approxchol_lap(a; tol::Real=1e-6, maxits=1000, maxtime=Inf, verbose=false, pcgIts=Int[], params=ApproxCholParams())\n",
       "```\n",
       "\n",
       "A heuristic by Daniel Spielman inspired by the linear system solver in https://arxiv.org/abs/1605.02353 by Rasmus Kyng and Sushant Sachdeva.  Whereas that paper eliminates vertices one at a time, this eliminates edges one at a time.  It is probably possible to analyze it. The `ApproxCholParams` let you choose one of three orderings to perform the elimination.\n",
       "\n",
       "  * ApproxCholParams(:given) - in the order given.   This is the fastest for construction the preconditioner, but the slowest solve.\n",
       "  * ApproxCholParams(:deg) - always eliminate the node of lowest degree.   This is the slowest build, but the fastest solve.\n",
       "  * ApproxCholParams(:wdeg) - go by a perturbed order of wted degree.\n",
       "\n",
       "For more info, see http://danspielman.github.io/Laplacians.jl/latest/usingSolvers/index.html\n"
      ],
      "text/plain": [
       "\u001b[36m  solver = approxchol_lap(a); x = solver(b);\u001b[39m\n",
       "\u001b[36m  solver = approxchol_lap(a; tol::Real=1e-6, maxits=1000, maxtime=Inf, verbose=false, pcgIts=Int[], params=ApproxCholParams())\u001b[39m\n",
       "\n",
       "  A heuristic by Daniel Spielman inspired by the linear system solver in\n",
       "  https://arxiv.org/abs/1605.02353 by Rasmus Kyng and Sushant Sachdeva.\n",
       "  Whereas that paper eliminates vertices one at a time, this eliminates edges\n",
       "  one at a time. It is probably possible to analyze it. The \u001b[36mApproxCholParams\u001b[39m\n",
       "  let you choose one of three orderings to perform the elimination.\n",
       "\n",
       "    •    ApproxCholParams(:given) - in the order given. This is the fastest\n",
       "        for construction the preconditioner, but the slowest solve.\n",
       "\n",
       "    •    ApproxCholParams(:deg) - always eliminate the node of lowest\n",
       "        degree. This is the slowest build, but the fastest solve.\n",
       "\n",
       "    •    ApproxCholParams(:wdeg) - go by a perturbed order of wted degree. \n",
       "\n",
       "  For more info, see\n",
       "  http://danspielman.github.io/Laplacians.jl/latest/usingSolvers/index.html"
      ]
     },
     "execution_count": 20,
     "metadata": {},
     "output_type": "execute_result"
    }
   ],
   "source": [
    "?approxchol_lap"
   ]
  },
  {
   "cell_type": "code",
   "execution_count": 21,
   "metadata": {
    "ExecuteTime": {
     "end_time": "2018-08-26T15:51:28.957000-04:00",
     "start_time": "2018-08-26T19:50:45.233Z"
    }
   },
   "outputs": [
    {
     "name": "stdout",
     "output_type": "stream",
     "text": [
      "Using greedy degree ordering. Factorization time: 0.5422999858856201\n",
      "Ratio of operator edges to original edges: 2.1363768286465072\n",
      "ratio of max to min diagonal of laplacian : 1137.8545292374856\n",
      "Solver build time: 0.698 seconds.\n",
      "PCG stopped after: 0.485 seconds and 32 iterations with relative error 7.597745653873571e-11.\n"
     ]
    },
    {
     "data": {
      "text/plain": [
       "7.597731624739917e-11"
      ]
     },
     "execution_count": 21,
     "metadata": {},
     "output_type": "execute_result"
    }
   ],
   "source": [
    "solver = approxchol_lap(a,verbose=true,tol=1e-10);\n",
    "x = solver(b)\n",
    "norm(lap(a)*x - b)/norm(b)"
   ]
  },
  {
   "cell_type": "markdown",
   "metadata": {},
   "source": [
    "The code for solving systems in SDDM matrices takes the actual matrix as input.  These should NOT be singular (Laplacians)."
   ]
  },
  {
   "cell_type": "code",
   "execution_count": 22,
   "metadata": {
    "ExecuteTime": {
     "end_time": "2018-08-26T15:51:31.327000-04:00",
     "start_time": "2018-08-26T19:50:45.236Z"
    }
   },
   "outputs": [
    {
     "name": "stdout",
     "output_type": "stream",
     "text": [
      "PCG stopped after: 0.353 seconds and 21 iterations with relative error 9.944063250489565e-7.\n"
     ]
    },
    {
     "data": {
      "text/plain": [
       "9.938193486916035e-7"
      ]
     },
     "execution_count": 22,
     "metadata": {},
     "output_type": "execute_result"
    }
   ],
   "source": [
    "la = lap(a)\n",
    "la[1,1] += 1\n",
    "solver = approxchol_sddm(la)\n",
    "x = solver(b,verbose=true)\n",
    "norm(la*x-b)/norm(b)"
   ]
  },
  {
   "cell_type": "markdown",
   "metadata": {},
   "source": [
    "# Computing Low Stretch Spanning Trees"
   ]
  },
  {
   "cell_type": "markdown",
   "metadata": {},
   "source": [
    "We have implemented a variant of the low-stretch spanning tree code of Alon, Karp, Peleg and West.  It produces a matrix whose entries are the stretches of all the edges in the original graph.  So that you can visualize it, we first do a small dense example."
   ]
  },
  {
   "cell_type": "code",
   "execution_count": 23,
   "metadata": {
    "ExecuteTime": {
     "end_time": "2018-08-26T15:51:32.393000-04:00",
     "start_time": "2018-08-26T19:50:45.239Z"
    }
   },
   "outputs": [
    {
     "data": {
      "text/plain": [
       "5×5 Array{Float64,2}:\n",
       " 0.0  1.0  0.0  0.0  1.0\n",
       " 1.0  0.0  1.0  0.0  0.0\n",
       " 0.0  1.0  0.0  1.0  0.0\n",
       " 0.0  0.0  1.0  0.0  0.0\n",
       " 1.0  0.0  0.0  0.0  0.0"
      ]
     },
     "execution_count": 23,
     "metadata": {},
     "output_type": "execute_result"
    }
   ],
   "source": [
    "a = ring_graph(5);\n",
    "t = akpw(a);\n",
    "Matrix(t)"
   ]
  },
  {
   "cell_type": "code",
   "execution_count": 24,
   "metadata": {
    "ExecuteTime": {
     "end_time": "2018-08-26T15:51:32.869000-04:00",
     "start_time": "2018-08-26T19:50:45.242Z"
    }
   },
   "outputs": [
    {
     "data": {
      "text/plain": [
       "5×5 Array{Float64,2}:\n",
       " 0.0  1.0  0.0  0.0  1.0\n",
       " 1.0  0.0  1.0  0.0  0.0\n",
       " 0.0  1.0  0.0  1.0  0.0\n",
       " 0.0  0.0  1.0  0.0  4.0\n",
       " 1.0  0.0  0.0  4.0  0.0"
      ]
     },
     "execution_count": 24,
     "metadata": {},
     "output_type": "execute_result"
    }
   ],
   "source": [
    "st = comp_stretches(t,a)\n",
    "Matrix(st)"
   ]
  },
  {
   "cell_type": "markdown",
   "metadata": {},
   "source": [
    "You can use this to compute the average stretch of the tree."
   ]
  },
  {
   "cell_type": "code",
   "execution_count": 25,
   "metadata": {
    "ExecuteTime": {
     "end_time": "2018-08-26T15:51:43.901000-04:00",
     "start_time": "2018-08-26T19:50:45.245Z"
    }
   },
   "outputs": [
    {
     "name": "stdout",
     "output_type": "stream",
     "text": [
      "  7.491976 seconds (1.55 k allocations: 3.080 GiB, 18.30% gc time)\n"
     ]
    },
    {
     "data": {
      "text/plain": [
       "31.646543434343435"
      ]
     },
     "execution_count": 25,
     "metadata": {},
     "output_type": "execute_result"
    }
   ],
   "source": [
    "a = grid3(100);\n",
    "@time t = akpw(a);\n",
    "sum(comp_stretches(t,a))/nnz(a)"
   ]
  },
  {
   "cell_type": "markdown",
   "metadata": {},
   "source": [
    "Note that 31.6 is very close to log(n)"
   ]
  },
  {
   "cell_type": "code",
   "execution_count": 26,
   "metadata": {
    "ExecuteTime": {
     "end_time": "2018-08-26T15:51:43.913000-04:00",
     "start_time": "2018-08-26T19:50:45.248Z"
    }
   },
   "outputs": [
    {
     "data": {
      "text/plain": [
       "27.631021115928547"
      ]
     },
     "execution_count": 26,
     "metadata": {},
     "output_type": "execute_result"
    }
   ],
   "source": [
    "log(length(a))"
   ]
  },
  {
   "cell_type": "code",
   "execution_count": 27,
   "metadata": {
    "ExecuteTime": {
     "end_time": "2018-08-26T15:52:14.020000-04:00",
     "start_time": "2018-08-26T19:50:45.251Z"
    }
   },
   "outputs": [
    {
     "name": "stdout",
     "output_type": "stream",
     "text": [
      " 10.004667 seconds (10.58 k allocations: 2.036 GiB, 13.56% gc time)\n"
     ]
    },
    {
     "data": {
      "text/plain": [
       "6.830210014168481"
      ]
     },
     "execution_count": 27,
     "metadata": {},
     "output_type": "execute_result"
    }
   ],
   "source": [
    "a = wted_chimera(1000000);\n",
    "@time t = akpw(a);\n",
    "sum(comp_stretches(t,a))/nnz(a)"
   ]
  },
  {
   "cell_type": "markdown",
   "metadata": {},
   "source": [
    "# Computing Components, and demo of percolation"
   ]
  },
  {
   "cell_type": "markdown",
   "metadata": {},
   "source": [
    "The following code computes a 30-by-30 grid graph, samples edges with probability 1/2, and then computes the components."
   ]
  },
  {
   "cell_type": "code",
   "execution_count": 28,
   "metadata": {
    "ExecuteTime": {
     "end_time": "2018-08-26T15:52:14.166000-04:00",
     "start_time": "2018-08-26T19:50:45.254Z"
    }
   },
   "outputs": [],
   "source": [
    "gr = grid2(30);\n",
    "grs = subsampleEdges(gr,.5);\n"
   ]
  },
  {
   "cell_type": "code",
   "execution_count": 29,
   "metadata": {
    "ExecuteTime": {
     "end_time": "2018-08-26T15:52:15.397000-04:00",
     "start_time": "2018-08-26T19:50:45.256Z"
    }
   },
   "outputs": [
    {
     "data": {
      "text/plain": [
       "900-element Array{Int64,1}:\n",
       "  1\n",
       "  2\n",
       "  3\n",
       "  4\n",
       "  5\n",
       "  6\n",
       "  6\n",
       "  7\n",
       "  7\n",
       "  8\n",
       "  8\n",
       "  8\n",
       "  8\n",
       "  ⋮\n",
       " 66\n",
       " 66\n",
       " 66\n",
       " 66\n",
       " 66\n",
       " 93\n",
       " 93\n",
       " 93\n",
       " 95\n",
       " 96\n",
       " 97\n",
       " 98"
      ]
     },
     "execution_count": 29,
     "metadata": {},
     "output_type": "execute_result"
    }
   ],
   "source": [
    "co = components(grs)"
   ]
  },
  {
   "cell_type": "code",
   "execution_count": 30,
   "metadata": {
    "ExecuteTime": {
     "end_time": "2018-08-26T15:52:16.227000-04:00",
     "start_time": "2018-08-26T19:50:45.260Z"
    }
   },
   "outputs": [
    {
     "data": {
      "text/plain": [
       "98-element Array{Array{Int64,1},1}:\n",
       " [1, 31, 61]                                                                                   \n",
       " [2, 32, 62]                                                                                   \n",
       " [3]                                                                                           \n",
       " [4, 33, 34, 35, 63, 64, 65, 92, 93, 94  …  453, 454, 483, 484, 485, 513, 514, 515, 543, 544]  \n",
       " [5]                                                                                           \n",
       " [6, 7, 36, 37]                                                                                \n",
       " [8, 9, 38, 39, 69]                                                                            \n",
       " [10, 11, 12, 13, 14, 15, 16, 17, 18, 19  …  130, 131, 132, 133, 134, 135, 136, 137, 138, 160] \n",
       " [20]                                                                                          \n",
       " [21, 22, 50, 51, 52, 80, 81, 82]                                                              \n",
       " [23, 24, 25, 53, 54, 55, 83, 84, 85, 114  …  388, 389, 390, 414, 415, 416, 417, 418, 419, 420]\n",
       " [26, 56]                                                                                      \n",
       " [27, 28, 29, 30, 57, 58, 59, 60, 86, 87, 88, 89, 116, 117, 118]                               \n",
       " ⋮                                                                                             \n",
       " [818, 821, 848, 849, 850, 851, 879, 880, 881, 882]                                            \n",
       " [819]                                                                                         \n",
       " [820]                                                                                         \n",
       " [832, 862]                                                                                    \n",
       " [847, 877]                                                                                    \n",
       " [863]                                                                                         \n",
       " [864, 865, 866, 867, 894, 895, 896]                                                           \n",
       " [878]                                                                                         \n",
       " [897]                                                                                         \n",
       " [898]                                                                                         \n",
       " [899]                                                                                         \n",
       " [900]                                                                                         "
      ]
     },
     "execution_count": 30,
     "metadata": {},
     "output_type": "execute_result"
    }
   ],
   "source": [
    "comps = vecToComps(co)"
   ]
  },
  {
   "cell_type": "code",
   "execution_count": 31,
   "metadata": {
    "ExecuteTime": {
     "end_time": "2018-08-26T15:52:16.945000-04:00",
     "start_time": "2018-08-26T19:50:45.263Z"
    }
   },
   "outputs": [
    {
     "data": {
      "image/png": "[encoded data removed]",
      "text/plain": [
       "Figure(PyObject <matplotlib.figure.Figure object at 0x1271d0890>)"
      ]
     },
     "metadata": {},
     "output_type": "display_data"
    },
    {
     "data": {
      "text/plain": [
       "1-element Array{PyCall.PyObject,1}:\n",
       " PyObject <matplotlib.lines.Line2D object at 0x128420390>"
      ]
     },
     "execution_count": 31,
     "metadata": {},
     "output_type": "execute_result"
    }
   ],
   "source": [
    "(x,y) = grid2coords(30,30)\n",
    "for i = 1:length(comps)\n",
    "    ind = comps[i]\n",
    "    \n",
    "    plot_graph(grs[ind,ind],x[ind],y[ind],color=rand(3),dots=false,setaxis=false)\n",
    "end\n",
    "pm = plot(x,y,marker=\"o\",linestyle=\"none\",color=\"black\",markersize=2)"
   ]
  },
  {
   "cell_type": "markdown",
   "metadata": {},
   "source": [
    "# Spectral Graph Drawing"
   ]
  },
  {
   "cell_type": "code",
   "execution_count": 32,
   "metadata": {
    "ExecuteTime": {
     "end_time": "2018-08-26T15:52:16.947000-04:00",
     "start_time": "2018-08-26T19:50:45.266Z"
    }
   },
   "outputs": [
    {
     "data": {
      "text/plain": [
       "9×9 SparseMatrixCSC{Float64,Int64} with 33 stored entries:\n",
       "  [1, 1]  =  2.0\n",
       "  [2, 1]  =  -1.0\n",
       "  [4, 1]  =  -1.0\n",
       "  [1, 2]  =  -1.0\n",
       "  [2, 2]  =  3.0\n",
       "  [3, 2]  =  -1.0\n",
       "  [5, 2]  =  -1.0\n",
       "  [2, 3]  =  -1.0\n",
       "  [3, 3]  =  2.0\n",
       "  [6, 3]  =  -1.0\n",
       "  [1, 4]  =  -1.0\n",
       "  [4, 4]  =  3.0\n",
       "  ⋮\n",
       "  [6, 6]  =  3.0\n",
       "  [9, 6]  =  -1.0\n",
       "  [4, 7]  =  -1.0\n",
       "  [7, 7]  =  2.0\n",
       "  [8, 7]  =  -1.0\n",
       "  [5, 8]  =  -1.0\n",
       "  [7, 8]  =  -1.0\n",
       "  [8, 8]  =  3.0\n",
       "  [9, 8]  =  -1.0\n",
       "  [6, 9]  =  -1.0\n",
       "  [8, 9]  =  -1.0\n",
       "  [9, 9]  =  2.0"
      ]
     },
     "execution_count": 32,
     "metadata": {},
     "output_type": "execute_result"
    }
   ],
   "source": [
    "la = lap(grid2(3))"
   ]
  },
  {
   "cell_type": "code",
   "execution_count": 33,
   "metadata": {
    "ExecuteTime": {
     "end_time": "2018-08-26T15:52:16.962000-04:00",
     "start_time": "2018-08-26T19:50:45.269Z"
    }
   },
   "outputs": [
    {
     "data": {
      "text/plain": [
       "9×3 Array{Float64,2}:\n",
       " 0.333333   0.250412      0.520218   \n",
       " 0.333333  -0.134903      0.385315   \n",
       " 0.333333  -0.520218      0.250412   \n",
       " 0.333333   0.385315      0.134903   \n",
       " 0.333333  -5.55112e-17   1.11022e-16\n",
       " 0.333333  -0.385315     -0.134903   \n",
       " 0.333333   0.520218     -0.250412   \n",
       " 0.333333   0.134903     -0.385315   \n",
       " 0.333333  -0.250412     -0.520218   "
      ]
     },
     "execution_count": 33,
     "metadata": {},
     "output_type": "execute_result"
    }
   ],
   "source": [
    "E = eigs(la, nev = 3, which=:SR)\n",
    "V = E[2]"
   ]
  },
  {
   "cell_type": "markdown",
   "metadata": {},
   "source": [
    "You would think that you should use\n",
    "<pre>\n",
    "E = eigs(la, nev = 3, which=:SM)\n",
    "</pre>\n",
    "But, that gives horrible results."
   ]
  },
  {
   "cell_type": "code",
   "execution_count": 34,
   "metadata": {
    "ExecuteTime": {
     "end_time": "2018-08-26T15:52:17.176000-04:00",
     "start_time": "2018-08-26T19:50:45.272Z"
    }
   },
   "outputs": [
    {
     "data": {
      "image/png": "[encoded data removed]",
      "text/plain": [
       "Figure(PyObject <matplotlib.figure.Figure object at 0x1282c9110>)"
      ]
     },
     "metadata": {},
     "output_type": "display_data"
    },
    {
     "data": {
      "text/plain": [
       "1-element Array{PyCall.PyObject,1}:\n",
       " PyObject <matplotlib.lines.Line2D object at 0x128d23350>"
      ]
     },
     "execution_count": 34,
     "metadata": {},
     "output_type": "execute_result"
    }
   ],
   "source": [
    "plot_graph(la,V[:,2],V[:,3])"
   ]
  },
  {
   "cell_type": "code",
   "execution_count": 35,
   "metadata": {
    "ExecuteTime": {
     "end_time": "2018-08-26T15:52:17.584000-04:00",
     "start_time": "2018-08-26T19:50:45.275Z"
    }
   },
   "outputs": [
    {
     "data": {
      "image/png": "[encoded data removed]",
      "text/plain": [
       "Figure(PyObject <matplotlib.figure.Figure object at 0x128e7ff90>)"
      ]
     },
     "metadata": {},
     "output_type": "display_data"
    },
    {
     "data": {
      "text/plain": [
       "1-element Array{PyCall.PyObject,1}:\n",
       " PyObject <matplotlib.lines.Line2D object at 0x128f00250>"
      ]
     },
     "execution_count": 35,
     "metadata": {},
     "output_type": "execute_result"
    }
   ],
   "source": [
    "a = hypercube(3)\n",
    "la = lap(a)\n",
    "E = eigs(la, nev = 3, which=:SR)\n",
    "V = E[2]\n",
    "plot_graph(a,V[:,2],V[:,3])"
   ]
  },
  {
   "cell_type": "markdown",
   "metadata": {},
   "source": [
    "# Here is a look under the hood of sparse matrices"
   ]
  },
  {
   "cell_type": "code",
   "execution_count": 36,
   "metadata": {
    "ExecuteTime": {
     "end_time": "2018-08-26T15:52:18.131000-04:00",
     "start_time": "2018-08-26T19:50:45.277Z"
    }
   },
   "outputs": [
    {
     "data": {
      "text/plain": [
       "SparseMatrixCSC{Float64,Int64}"
      ]
     },
     "execution_count": 36,
     "metadata": {},
     "output_type": "execute_result"
    }
   ],
   "source": [
    "a = grid2(5)\n",
    "typeof(a)"
   ]
  },
  {
   "cell_type": "code",
   "execution_count": 37,
   "metadata": {
    "ExecuteTime": {
     "end_time": "2018-08-26T15:52:18.564000-04:00",
     "start_time": "2018-08-26T19:50:45.280Z"
    }
   },
   "outputs": [
    {
     "data": {
      "text/plain": [
       "(:m, :n, :colptr, :rowval, :nzval)"
      ]
     },
     "execution_count": 37,
     "metadata": {},
     "output_type": "execute_result"
    }
   ],
   "source": [
    "fieldnames(SparseArrays.SparseMatrixCSC)"
   ]
  },
  {
   "cell_type": "code",
   "execution_count": null,
   "metadata": {},
   "outputs": [],
   "source": []
  }
 ],
 "metadata": {
  "kernelspec": {
   "display_name": "Julia 1.0.0",
   "language": "julia",
   "name": "julia-1.0"
  },
  "language_info": {
   "file_extension": ".jl",
   "mimetype": "application/julia",
   "name": "julia",
   "version": "1.0.0"
  },
  "toc": {
   "base_numbering": 1,
   "nav_menu": {
    "height": "195px",
    "width": "252px"
   },
   "number_sections": true,
   "sideBar": true,
   "skip_h1_title": false,
   "title_cell": "Table of Contents",
   "title_sidebar": "Contents",
   "toc_cell": true,
   "toc_position": {},
   "toc_section_display": "block",
   "toc_window_display": true
  }
 },
 "nbformat": 4,
 "nbformat_minor": 1
}
