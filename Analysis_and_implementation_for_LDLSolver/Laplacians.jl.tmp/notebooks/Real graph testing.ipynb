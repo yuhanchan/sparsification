{
 "cells": [
  {
   "cell_type": "code",
   "execution_count": 65,
   "metadata": {
    "collapsed": false
   },
   "outputs": [
    {
     "data": {
      "text/plain": [
       "apr_local (generic function with 1 method)"
      ]
     },
     "execution_count": 65,
     "metadata": {},
     "output_type": "execute_result"
    }
   ],
   "source": [
    "using Laplacians\n",
    "using DataStructures\n",
    "include(\"../src/flowClustering.jl\")\n",
    "include(\"../src/cutHeuristics.jl\")\n",
    "include(\"../src/localClustering.jl\")"
   ]
  },
  {
   "cell_type": "code",
   "execution_count": 34,
   "metadata": {
    "collapsed": false
   },
   "outputs": [],
   "source": [
    "a = readIJ(\"/Users/serbanstan/Downloads/emailEnron.txt\", '\\t');"
   ]
  },
  {
   "cell_type": "code",
   "execution_count": 74,
   "metadata": {
    "collapsed": false
   },
   "outputs": [
    {
     "name": "stdout",
     "output_type": "stream",
     "text": [
      "  0.085396 seconds (43.48 k allocations: 2.082 MB)\n",
      "6\n"
     ]
    }
   ],
   "source": [
    "a = chimera(10000)\n",
    "include(\"../src/localClustering.jl\"); @time s = prn_local(a, [1], 0.5, 1)\n",
    "println(length(s))"
   ]
  },
  {
   "cell_type": "code",
   "execution_count": 77,
   "metadata": {
    "collapsed": false
   },
   "outputs": [
    {
     "name": "stdout",
     "output_type": "stream",
     "text": [
      "0.5 70 10.87831313429896\n",
      "0.25 70 2.878313134299006\n",
      "0.125 9972 0.0\n",
      "0.1875 9998 0.0\n",
      "0.21875 70 0.5925988485846752\n",
      "0.203125 9992 0.0\n",
      "0.2109375 9984 0.0\n",
      "0.21484375 70 0.2601313161171248\n",
      "0.212890625 70 0.08932230861085699\n",
      "0.2119140625 9993 0.0\n",
      "0.21240234375 70 0.04612922625295468\n",
      "0.212158203125 70 0.024458128545184366\n",
      "0.2120361328125 70 0.0\n",
      "0.21209716796875 70 0.0\n",
      "0.212127685546875 70 0.0\n",
      "0.2121429443359375 70 0.023102028782133743\n",
      "0.21213531494140625 70 0.022423905742904537\n",
      "  "
     ]
    },
    {
     "data": {
      "text/plain": [
       "1.0"
      ]
     },
     "execution_count": 77,
     "metadata": {},
     "output_type": "execute_result"
    },
    {
     "name": "stdout",
     "output_type": "stream",
     "text": [
      "6.574691 seconds (58.75 M allocations: 1.958 GB, 7.13% gc time)\n",
      "  0.007622 seconds (79.26 k allocations: 2.075 MB)\n",
      "  0.008709 seconds (59.67 k allocations: 932.563 KB, 65.98% gc time)\n"
     ]
    }
   ],
   "source": [
    "minEpsSigma = getVolume(a, s) / getVolume(a, setdiff(collect(1:max(a.n, a.m)), s))\n",
    "@time cut, flow = localImprove(a, s, epsSigma = minEpsSigma, err = 1e-5, maxSize = 10000);\n",
    "condcut = compConductance(a, cut)\n",
    "\n",
    "@time heur_refcut = refineCut(a, s)\n",
    "condref = compConductance(a, heur_refcut)\n",
    "    \n",
    "@time heur_dumb = dumb(a, s)\n",
    "conddumb = compConductance(a, heur_dumb)"
   ]
  },
  {
   "cell_type": "code",
   "execution_count": 78,
   "metadata": {
    "collapsed": false
   },
   "outputs": [
    {
     "name": "stdout",
     "output_type": "stream",
     "text": [
      "0.47368421052631576 6\n",
      "0.018691588785046728 70\n",
      "0.5 1\n",
      "1.0\n"
     ]
    }
   ],
   "source": [
    "println(compConductance(a, s), \" \", length(s))\n",
    "println(condcut, \" \", length(cut))\n",
    "println(condref, \" \", length(condref))\n",
    "println(conddumb)"
   ]
  },
  {
   "cell_type": "code",
   "execution_count": null,
   "metadata": {
    "collapsed": true
   },
   "outputs": [],
   "source": []
  },
  {
   "cell_type": "code",
   "execution_count": null,
   "metadata": {
    "collapsed": true
   },
   "outputs": [],
   "source": []
  },
  {
   "cell_type": "code",
   "execution_count": null,
   "metadata": {
    "collapsed": false
   },
   "outputs": [],
   "source": [
    "for i in 1:30000\n",
    "    println(\"************ \", i)\n",
    "    \n",
    "    a = chimera(30000)\n",
    "    \n",
    "    s = prn_local(a, [i], 0.5, 1)\n",
    "    println(length(s))\n",
    "    \n",
    "    if length(s) > 0\n",
    "    \n",
    "        minEpsSigma = getVolume(a, s) / getVolume(a, setdiff(collect(1:max(a.n, a.m)), s))\n",
    "        @time cut, flow = localImprove(a, s, epsSigma = minEpsSigma);\n",
    "        condcut = compConductance(a, cut)\n",
    "\n",
    "        @time heur_refcut = refineCut(a, s)\n",
    "        condref = compConductance(a, heur_refcut)\n",
    "\n",
    "        @time heur_dumb = dumb(a, s)\n",
    "        conddumb = compConductance(a, heur_dumb)\n",
    "\n",
    "        println(compConductance(a, s), \" \", length(s))\n",
    "        println(condcut, \" \", length(cut))\n",
    "        println(condref, \" \", length(heur_refcut))\n",
    "        println(conddumb, \" \", length(heur_dumb))\n",
    "\n",
    "    end\n",
    "end"
   ]
  },
  {
   "cell_type": "code",
   "execution_count": null,
   "metadata": {
    "collapsed": false
   },
   "outputs": [],
   "source": []
  },
  {
   "cell_type": "code",
   "execution_count": null,
   "metadata": {
    "collapsed": false
   },
   "outputs": [],
   "source": []
  },
  {
   "cell_type": "code",
   "execution_count": null,
   "metadata": {
    "collapsed": true
   },
   "outputs": [],
   "source": []
  },
  {
   "cell_type": "code",
   "execution_count": null,
   "metadata": {
    "collapsed": true
   },
   "outputs": [],
   "source": []
  },
  {
   "cell_type": "code",
   "execution_count": null,
   "metadata": {
    "collapsed": true
   },
   "outputs": [],
   "source": []
  },
  {
   "cell_type": "code",
   "execution_count": null,
   "metadata": {
    "collapsed": false
   },
   "outputs": [],
   "source": [
    "a = chimera(1000000)\n",
    "@time s = prn(a, [1,2,3], 0.5, 3);\n",
    "@time s2 = prn_local(a, [1,2,3], 0.5, 3);"
   ]
  },
  {
   "cell_type": "code",
   "execution_count": null,
   "metadata": {
    "collapsed": false
   },
   "outputs": [],
   "source": [
    "for i in 1:100\n",
    "    a = chimera(100)\n",
    "    s = prn(a, [1,2,3], 0.5, 3); #println(compConductance(a, s))\n",
    "    s2 = prn_local(a, [1,2,3], 0.5, 3); #println(compConductance(a, s2))\n",
    "    \n",
    "    c1 = compConductance(a, s)\n",
    "    c2 = compConductance(a, s2)\n",
    "    \n",
    "    if c1 != c2\n",
    "        println(i, \"? \", c1, \" \", c2)\n",
    "    end\n",
    "end"
   ]
  }
 ],
 "metadata": {
  "kernelspec": {
   "display_name": "Julia 0.4.0",
   "language": "julia",
   "name": "julia-0.4"
  },
  "language_info": {
   "file_extension": ".jl",
   "mimetype": "application/julia",
   "name": "julia",
   "version": "0.4.0"
  }
 },
 "nbformat": 4,
 "nbformat_minor": 0
}
