{
 "cells": [
  {
   "cell_type": "code",
   "execution_count": 1,
   "metadata": {
    "collapsed": true
   },
   "outputs": [],
   "source": [
    "using Laplacians"
   ]
  },
  {
   "cell_type": "markdown",
   "metadata": {},
   "source": [
    "We will demonstrate sparsification by first trying it with a power of a grid graph."
   ]
  },
  {
   "cell_type": "code",
   "execution_count": 2,
   "metadata": {},
   "outputs": [
    {
     "name": "stdout",
     "output_type": "stream",
     "text": [
      "n = size(G,1) = 10000\n"
     ]
    },
    {
     "data": {
      "text/plain": [
       "3.96"
      ]
     },
     "execution_count": 2,
     "metadata": {},
     "output_type": "execute_result"
    }
   ],
   "source": [
    "G = grid2(100)\n",
    "@show n = size(G,1)\n",
    "d_ave = nnz(G)/n"
   ]
  },
  {
   "cell_type": "markdown",
   "metadata": {},
   "source": [
    "This has average degree close to 4.  We use the 15th power, which has average degree around 229."
   ]
  },
  {
   "cell_type": "code",
   "execution_count": 3,
   "metadata": {},
   "outputs": [
    {
     "data": {
      "text/plain": [
       "229.3376"
      ]
     },
     "execution_count": 3,
     "metadata": {},
     "output_type": "execute_result"
    }
   ],
   "source": [
    "Gp = power(G,15)\n",
    "nnz(Gp)/n"
   ]
  },
  {
   "cell_type": "markdown",
   "metadata": {},
   "source": [
    "We now compute an epsilon sparsifier with epsilon=1"
   ]
  },
  {
   "cell_type": "code",
   "execution_count": 4,
   "metadata": {},
   "outputs": [
    {
     "name": "stdout",
     "output_type": "stream",
     "text": [
      "Average degree of sparsifier: 49.0366\n"
     ]
    }
   ],
   "source": [
    "Gsparse = sparsify(Gp, ep=1)\n",
    "println(\"Average degree of sparsifier: \",nnz(Gsparse)/n)"
   ]
  },
  {
   "cell_type": "code",
   "execution_count": 5,
   "metadata": {},
   "outputs": [
    {
     "name": "stdout",
     "output_type": "stream",
     "text": [
      "Approximation quality: 0.2677433522535886\n"
     ]
    }
   ],
   "source": [
    "println(\"Approximation quality: \", approxQual(Gp, Gsparse))"
   ]
  },
  {
   "cell_type": "markdown",
   "metadata": {},
   "source": [
    "If we try to make the approximation too sparse (say by making ep big), then we might get a disconnected graph.  This would be a very bad approximation."
   ]
  },
  {
   "cell_type": "code",
   "execution_count": 6,
   "metadata": {},
   "outputs": [
    {
     "name": "stderr",
     "output_type": "stream",
     "text": [
      "\u001b[1m\u001b[31mWARNING: Calling sparsify with ep > 1 can produce a disconnected graph.\u001b[0m\n"
     ]
    },
    {
     "name": "stdout",
     "output_type": "stream",
     "text": [
      "Average degree of sparsifier: 4.5778\n"
     ]
    }
   ],
   "source": [
    "Gsparse = sparsify(Gp, ep=4)\n",
    "println(\"Average degree of sparsifier: \",nnz(Gsparse)/n)"
   ]
  },
  {
   "cell_type": "code",
   "execution_count": 7,
   "metadata": {},
   "outputs": [
    {
     "data": {
      "text/plain": [
       "false"
      ]
     },
     "execution_count": 7,
     "metadata": {},
     "output_type": "execute_result"
    }
   ],
   "source": [
    "isConnected(Gsparse)"
   ]
  },
  {
   "cell_type": "markdown",
   "metadata": {},
   "source": [
    "Of course, we can do this with any graph.\n",
    "Let's try it with a weighted chimera.\n",
    "We will thicken it to bring the average degree to around 200.\n"
   ]
  },
  {
   "cell_type": "code",
   "execution_count": 8,
   "metadata": {},
   "outputs": [
    {
     "name": "stdout",
     "output_type": "stream",
     "text": [
      "Average degree of this graph: 200.3952\n"
     ]
    }
   ],
   "source": [
    "G = wtedChimera(10000,1)\n",
    "Gt = thicken(G, 200*n/nnz(G))\n",
    "println(\"Average degree of this graph: \",nnz(Gt)/n)"
   ]
  },
  {
   "cell_type": "code",
   "execution_count": 9,
   "metadata": {},
   "outputs": [
    {
     "name": "stdout",
     "output_type": "stream",
     "text": [
      "Average degree of sparsifier: 73.6674\n",
      "That was 396616.0 edges per second.\n"
     ]
    }
   ],
   "source": [
    "t1 = time()\n",
    "Gsparse = sparsify(Gt, ep=1)\n",
    "t2 = time()\n",
    "println(\"Average degree of sparsifier: \",nnz(Gsparse)/n)\n",
    "println(\"That was \", round(nnz(Gt)/(t2-t1)), \" edges per second.\")"
   ]
  },
  {
   "cell_type": "code",
   "execution_count": 10,
   "metadata": {},
   "outputs": [
    {
     "name": "stdout",
     "output_type": "stream",
     "text": [
      "Approximation quality: 0.6129799037483947\n"
     ]
    }
   ],
   "source": [
    "println(\"Approximation quality: \", approxQual(Gt, Gsparse))"
   ]
  },
  {
   "cell_type": "code",
   "execution_count": null,
   "metadata": {
    "collapsed": true
   },
   "outputs": [],
   "source": []
  }
 ],
 "metadata": {
  "kernelspec": {
   "display_name": "Julia 0.5.1",
   "language": "julia",
   "name": "julia-0.5"
  },
  "language_info": {
   "file_extension": ".jl",
   "mimetype": "application/julia",
   "name": "julia",
   "version": "0.5.1"
  }
 },
 "nbformat": 4,
 "nbformat_minor": 2
}
