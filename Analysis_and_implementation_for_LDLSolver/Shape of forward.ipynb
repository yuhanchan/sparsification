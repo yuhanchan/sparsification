{
 "cells": [
  {
   "cell_type": "code",
   "execution_count": 21,
   "id": "f3758375",
   "metadata": {},
   "outputs": [],
   "source": [
    "import Laplacians as Lap\n",
    "using SparseArrays\n",
    "using LinearAlgebra\n",
    "using Random\n",
    "using Plots"
   ]
  },
  {
   "cell_type": "code",
   "execution_count": 33,
   "id": "903680b6",
   "metadata": {},
   "outputs": [
    {
     "data": {
      "text/plain": [
       "originalApplyBackward (generic function with 1 method)"
      ]
     },
     "execution_count": 33,
     "metadata": {},
     "output_type": "execute_result"
    }
   ],
   "source": [
    "Random.seed!(1234) # fix the seed\n",
    "originalGetLDLi(mat) = Lap.approxChol(Lap.LLmatp(mat))\n",
    "originalApplyLDLi(ldli, mat) = sparse(reduce(hcat, map(x -> Lap.LDLsolver(ldli, Vector(x)), eachcol(mat))))\n",
    "\n",
    "# get the matrix representation of the forward pass\n",
    "function forwardWarp(ldli, v)\n",
    "    y = Vector(deepcopy(v))\n",
    "    Lap.forward!(ldli, y)\n",
    "    return y\n",
    "end\n",
    "originalApplyForward(ldli, mat) = sparse(reduce(hcat, map(x -> forwardWarp(ldli, Vector(x)), eachcol(mat))))\n",
    "\n",
    "# get the matrix representation of the backward pass\n",
    "function backwardWarp(ldli, v)\n",
    "    y = Vector(deepcopy(v))\n",
    "    Lap.backward!(ldli, y)\n",
    "    return y\n",
    "end\n",
    "originalApplyBackward(ldli, mat) = sparse(reduce(hcat, map(x -> backwardWarp(ldli, Vector(x)), eachcol(mat))))"
   ]
  },
  {
   "cell_type": "code",
   "execution_count": 91,
   "id": "2e14d984",
   "metadata": {},
   "outputs": [
    {
     "data": {
      "text/plain": [
       "50×50 SparseMatrixCSC{Float64, Int64} with 148 stored entries:\n",
       "⢀⠐⠀⠀⠂⠀⠀⠂⠠⠀⠀⠀⠀⠈⢀⠄⠈⠀⠀⠄⠀⠀⠀⢀⠁\n",
       "⠀⠀⢀⠐⠀⠀⠀⠀⠀⠀⠉⠀⠔⠀⠑⠀⠀⠀⠀⠄⠀⡠⠀⡀⠀\n",
       "⠈⠀⠀⠀⠠⠂⢁⠀⠀⠀⠀⡐⠀⠀⠄⠂⢀⠀⠀⠀⠁⠀⠄⠀⠀\n",
       "⠠⠀⠀⠀⠁⠐⠄⠁⠀⠀⠠⢀⠀⠀⠀⠀⠀⢂⠀⠀⠐⠀⢀⠁⠀\n",
       "⠀⠂⠀⠀⠀⠀⠀⠀⢀⠐⠀⠀⠡⠁⡠⡀⠂⠀⠀⠀⠀⠀⠄⠀⠁\n",
       "⠀⠀⠃⠀⢀⠠⠀⢂⠀⠀⢀⠐⠀⠄⠀⠀⠁⠀⠀⠀⠀⠀⠀⠀⠡\n",
       "⡀⠀⠐⠁⠀⠀⠀⠀⠅⠂⠀⠄⠀⠀⠀⠀⠀⠀⠀⠁⠄⡀⠐⠀⢀\n",
       "⠀⠔⠑⠀⠠⠁⠀⠀⠀⠪⠀⠀⠀⠀⠀⠀⠀⡀⡀⠀⢀⠀⠀⠀⠀\n",
       "⠂⠀⠀⠀⠀⠐⠠⢀⠈⠀⠁⠀⠀⠀⠀⠠⣀⠘⠀⠀⠀⠠⠀⠀⠀\n",
       "⠀⠄⠀⠄⠀⠀⠀⠀⠀⠀⠀⠀⠄⠀⠀⠈⠀⠀⢀⠐⢀⠁⠀⠑⠀\n",
       "⠀⠀⠀⡠⠁⠀⠐⠀⠀⠀⠀⠀⠀⠡⠀⠐⠀⡀⠄⠐⡀⠈⠀⠀⠀\n",
       "⠀⢀⠀⠠⠀⠁⠄⠐⠀⠁⠀⠀⠐⠀⠀⠀⠀⠀⢄⠀⠀⠀⡀⠈⠐\n",
       "⠁⠀⠀⠀⠀⠀⠀⠀⠁⠀⠁⠂⠀⠐⠀⠀⠀⠀⠀⠀⠀⠀⠐⠀⠀"
      ]
     },
     "execution_count": 91,
     "metadata": {},
     "output_type": "execute_result"
    }
   ],
   "source": [
    "G = Lap.pure_random_graph(50)"
   ]
  },
  {
   "cell_type": "code",
   "execution_count": 110,
   "id": "2128d755",
   "metadata": {},
   "outputs": [
    {
     "data": {
      "text/plain": [
       "60×60 SparseMatrixCSC{Float64, Int64} with 550 stored entries:\n",
       "⠄⡡⡊⠈⡀⣍⠁⠘⠐⠒⠠⠩⠀⢠⠄⠀⠋⠠⠀⠀⠂⠀⠐⠲⠀⠁⠐⠈⠀⠂\n",
       "⡊⠈⠊⠀⡂⠁⠠⢄⠠⠀⠀⠀⢠⠠⢀⠀⠼⠠⠁⠀⡬⡉⠨⢀⡀⠠⠈⠄⠀⠠\n",
       "⡄⢬⠌⠈⠀⠀⢰⠈⠃⠠⢘⠀⠀⠀⠜⠂⠈⢀⠃⢀⢄⠀⠰⠎⠆⠤⠈⢂⢀⠠\n",
       "⣁⠀⠀⢆⡐⠒⡀⡨⠁⡈⠌⡁⠈⠂⠀⠀⢀⠀⠡⡁⠀⠌⠀⠂⠀⠀⠈⠢⠁⡈\n",
       "⢰⠀⠀⠂⠉⡀⡁⠠⡀⡨⠠⣀⠁⡀⠡⢂⢠⠀⠰⠰⡁⡉⠲⡀⠈⠝⣄⠄⠄⠀\n",
       "⡄⡂⠀⠀⠒⠐⠆⠡⠀⢢⡠⠊⡐⡈⠁⠀⠀⠅⢀⠀⢀⠠⠈⠸⢀⠈⠆⠄⠀⢠\n",
       "⠀⣀⠀⡒⠀⠀⠢⠀⠁⠠⡐⠨⠊⡠⠀⠁⡀⡈⢐⠈⢁⠀⠀⡡⠁⠂⣀⠀⠈⠀\n",
       "⠀⠁⠀⠐⠲⠁⠀⠀⠡⢂⠁⠀⠄⠀⠀⠀⠀⠎⠀⠈⠠⠈⠀⠀⠚⠔⠠⠀⠢⠄\n",
       "⠋⡀⠒⡃⠂⢀⠀⠐⠀⠒⠄⠄⡀⠨⡠⠄⠊⠀⡀⠀⢠⢀⠀⠀⠠⡂⠅⡀⠀⡂\n",
       "⠀⠀⠁⠀⠉⢀⠅⠢⢐⡂⠀⠐⡐⠐⡀⠀⠀⠈⠀⠀⡐⠐⠈⠁⠀⣀⠀⠐⠠⠂\n",
       "⠈⠀⡆⠫⠀⠑⡀⠄⡅⠨⠀⡐⠁⠐⡀⠂⠀⢒⢐⠈⡀⠈⠆⣄⠀⠀⠐⠀⠈⠁\n",
       "⢰⡀⠂⢂⡰⠆⠠⠀⠘⠢⣂⡀⠄⡠⠀⠀⠀⠀⠆⠀⠈⢥⡀⠈⠢⠠⠚⠂⠢⢀\n",
       "⠄⠀⠀⡈⠈⡅⠀⠀⣆⠄⡀⠐⠡⠀⢚⠄⠠⠢⠀⢠⠀⠀⠈⡂⠀⠀⠀⠢⠀⠀\n",
       "⡐⠀⠂⠄⠢⢀⠢⡀⠀⠝⠈⠅⠀⠘⠀⠂⠁⠡⢀⠀⠐⠀⠺⠀⠠⡀⠀⡠⡠⠌\n",
       "⠠⠀⠀⡀⠀⡐⡁⠠⠀⠁⠀⣀⠂⠀⠈⠆⠠⠠⠠⠂⠆⠀⠈⢂⠀⠀⡀⠎⠄⠁"
      ]
     },
     "execution_count": 110,
     "metadata": {},
     "output_type": "execute_result"
    }
   ],
   "source": [
    "numNodes=60\n",
    "G = Lap.ErdosRenyi(numNodes, numNodes*5)"
   ]
  },
  {
   "cell_type": "code",
   "execution_count": 165,
   "id": "eb7a5bdd",
   "metadata": {},
   "outputs": [
    {
     "data": {
      "text/plain": [
       "Laplacians.LDLinv{Int64, Float64}([32, 39, 6, 45, 27, 57, 49, 33, 15, 4  …  51, 30, 47, 23, 13, 1, 36, 42, 7, 46], [1, 2, 5, 9, 14, 19, 25, 31, 37, 43  …  428, 436, 443, 450, 455, 460, 464, 467, 469, 470], [20, 13, 16, 58, 1, 5, 9, 34, 18, 42  …  48, 46, 7, 42, 46, 48, 7, 48, 46, 48], [1.0, 0.3333333333333333, 0.5, 1.0, 0.25, 0.3333333333333333, 0.4999999999999999, 1.0, 0.2, 0.24999999999999997  …  0.17684740531995471, 0.3156119954944527, 0.4810871749628766, 1.0, 0.24155148617502928, 0.4847167196749991, 1.0, 0.31585650346240657, 1.0, 1.0], [0.7301449326657674, 0.29761585893731324, 0.7531884048577402, 0.16666666666666677, 0.35153723508944285, 0.25000000000000006, 4.155623670612812, 0.11071752203641164, 0.37759410363087964, 0.29051315853718057  …  0.2096730357754851, 0.12500000000000022, 0.2524774006189365, 0.24654786094239944, 0.3553600709016536, 0.23390392191442044, 0.16666666666666677, 0.14285714285714293, 0.12244897959183698, 0.14285714285714307])"
      ]
     },
     "execution_count": 165,
     "metadata": {},
     "output_type": "execute_result"
    }
   ],
   "source": [
    "ldli = originalGetLDLi(G)"
   ]
  },
  {
   "cell_type": "code",
   "execution_count": 166,
   "id": "f6b72834",
   "metadata": {},
   "outputs": [
    {
     "data": {
      "text/plain": [
       "60×60 SparseMatrixCSC{Float64, Int64} with 1354 stored entries:\n",
       "⠙⢽⠛⠘⠉⠉⠉⠛⠙⠉⠋⠉⠙⠉⠏⠉⠋⠃⠋⠛⠁⠛⠃⠁⠻⠙⠙⠙⠛⠋\n",
       "⠤⠬⠽⢤⠤⠤⠤⡥⠤⠤⠤⠤⢤⠤⠤⠤⠤⠤⠥⠤⠤⡥⡅⠄⡤⠤⠤⠤⠤⠤\n",
       "⠠⣭⣭⢨⢽⢬⢸⣭⢬⠠⣭⠠⢭⡧⡅⠠⠤⡅⡇⣭⠀⡭⡅⠀⣯⢨⠬⢨⣭⡥\n",
       "⠈⠉⠉⢈⠉⠉⠙⣍⠉⠉⠉⠉⢉⠋⠉⠉⠉⠁⠉⡉⠁⡉⡁⠁⡉⠉⠉⠉⣉⡉\n",
       "⢠⣭⣭⢨⣭⢬⢨⣭⣽⢤⣭⢠⣭⣥⡅⢤⣤⡅⡥⣭⠄⣭⡇⠀⣭⢸⣬⢬⣭⣥\n",
       "⠠⣶⠤⢰⢴⠤⢰⣧⢤⠤⣵⢤⣴⡦⡧⠤⠤⡅⡦⣤⠄⡦⡆⠄⣾⢬⠤⠤⣤⣤\n",
       "⢀⣉⣀⢈⣈⢀⢈⣉⢈⠀⣉⠀⣙⣅⡁⠀⣀⡁⡁⣉⠀⣁⡁⠀⣉⢈⣀⢀⣉⣁\n",
       "⠰⠶⠶⠰⠶⠶⠰⠶⠶⠲⠶⠰⠶⠶⠗⢶⠶⠆⠖⠶⠆⠶⠆⠀⠾⠲⠶⠲⠶⠶\n",
       "⣐⣒⣒⢐⣒⣐⣐⣒⣐⣀⣒⣀⣒⣂⣂⣀⣓⣆⣂⣒⡀⣒⡂⡀⣲⣐⣒⣐⣒⣒\n",
       "⠐⠒⠒⠐⠒⠒⠐⡒⢒⠐⡒⠐⠒⠒⡂⠒⠒⡂⠓⢖⠂⠒⡂⠀⢒⢐⠒⠐⠒⠒\n",
       "⠚⢛⣛⠘⠛⠛⠚⡟⢛⠚⡛⠚⠛⠛⡓⠚⠛⡓⡓⢛⠓⣟⡇⠂⢛⢚⠛⠚⠛⠛\n",
       "⣲⣶⣶⣲⣶⣶⣲⣶⣶⣶⣶⣲⣶⣶⣶⣶⣶⣖⣶⣶⣖⣶⣗⣆⣶⣶⣶⣶⣶⣶\n",
       "⠠⠤⠤⠠⠤⠤⠠⠤⠤⠤⠤⠠⠤⠤⠄⠤⠤⠄⠤⠤⠄⠤⠄⠀⠵⢤⠤⠤⠤⠤\n",
       "⠠⢽⣶⢸⠬⠤⠨⣷⠴⠠⡮⠠⢼⠥⡇⠤⠥⡇⡧⡶⠄⡷⡇⠀⣿⢰⠵⢤⣶⡮\n",
       "⠀⠀⠀⠀⠀⠀⠀⠀⠀⠀⠀⠀⠀⠀⠀⠀⠀⠀⠀⠂⠀⠀⠀⠀⠀⠀⠀⠀⠕⢄"
      ]
     },
     "execution_count": 166,
     "metadata": {},
     "output_type": "execute_result"
    }
   ],
   "source": [
    "Linv = originalApplyForward(ldli, Matrix(1.0I, size(G)))"
   ]
  },
  {
   "cell_type": "code",
   "execution_count": 167,
   "id": "8c6314aa",
   "metadata": {},
   "outputs": [
    {
     "data": {
      "text/plain": [
       "60×60 SparseMatrixCSC{Float64, Int64} with 1354 stored entries:\n",
       "⣗⣄⡀⡇⡄⣦⡆⠀⡄⣶⢠⣦⡄⢰⢰⡆⢰⢸⢰⠀⣾⢀⢸⣾⠀⡆⣄⣆⠀⠀\n",
       "⣛⠀⠓⣇⡃⣛⡃⢀⡃⣛⢀⣃⡀⢘⢘⡃⢘⢘⢘⠀⣛⠘⢸⣻⠀⡃⣘⣛⠀⠀\n",
       "⡇⠀⠀⡇⡓⣗⡇⠀⡃⣟⠐⡗⠂⢘⢸⡇⢘⢸⢸⠀⣿⠀⢸⣿⠀⡇⠂⡇⠀⠀\n",
       "⣧⠀⠄⡧⡖⣶⡗⢤⡆⣶⠴⣶⡆⢰⢰⡆⢰⢸⢰⠠⣾⠤⢸⣾⠀⡆⢦⣦⠀⠀\n",
       "⡗⠀⠀⡇⠂⡓⡇⠀⠓⣟⠀⡗⠂⠐⢸⡃⠐⢸⢘⠐⣻⠐⢸⣿⠀⡇⠐⡃⠀⠀\n",
       "⡏⠀⠀⡇⠃⡛⡇⠀⠃⣛⠑⣟⠃⠘⢘⡃⠘⢸⢘⠈⣻⠈⢸⣻⠀⡃⠊⡋⠀⠀\n",
       "⡗⠀⠀⡗⠧⡷⡧⠐⠇⣿⠰⡿⠗⢼⢸⡇⠸⢸⢸⠀⣿⠀⢸⣿⠀⡇⠖⡗⠀⠀\n",
       "⡏⠁⠀⡇⠁⡉⡇⠀⠁⣍⠉⡏⠁⠈⢹⣅⠈⢸⢨⠈⣹⠈⢸⣿⠀⡅⠉⡍⠀⠀\n",
       "⠯⠀⠀⡇⠄⠧⠇⠀⠄⠿⠄⠧⠄⠸⠸⠇⠹⢼⠸⠠⢿⠠⢸⢿⠀⠇⠥⠧⠀⠀\n",
       "⣯⠀⠁⡇⡍⣭⡇⠠⡅⣯⠈⣯⡅⢨⢸⡅⢨⢸⢹⢄⣽⢈⢸⣿⠀⡇⢩⡯⠠⠀\n",
       "⣥⠀⠄⡧⡄⡤⡅⠠⡄⣥⠠⡥⠄⢠⢨⡅⢠⢨⢨⠀⣽⢤⢸⣽⠀⡅⢤⡥⠀⠀\n",
       "⠍⠀⠁⠍⠁⠉⠅⠈⠉⠉⠈⠍⠁⠈⠈⠁⠈⠨⠈⠈⠩⠉⠹⢽⠀⠁⠉⠉⠀⠀\n",
       "⣟⠂⠀⡏⡋⣛⡇⠈⣃⣛⡚⣟⡃⢘⢺⡃⢘⢺⢘⢐⣻⢐⢸⣿⠑⣇⢛⣛⠀⠀\n",
       "⣗⠀⠀⡇⡂⣃⡇⠀⡂⣟⠀⡇⠀⢘⢸⡃⢘⢸⢘⠀⣻⠀⢸⣿⠀⡇⠑⣇⠀⠀\n",
       "⡿⠀⠀⡇⠇⡿⡇⠸⠇⣿⠀⣿⠇⢸⢸⡇⢸⢸⢸⠀⣿⠀⢸⣿⠀⡇⡸⡿⠑⢅"
      ]
     },
     "execution_count": 167,
     "metadata": {},
     "output_type": "execute_result"
    }
   ],
   "source": [
    "LTinv = originalApplyBackward(ldli, Matrix(1.0I, size(G)))"
   ]
  },
  {
   "cell_type": "code",
   "execution_count": 168,
   "id": "fc0fbf1f",
   "metadata": {},
   "outputs": [
    {
     "data": {
      "text/plain": [
       "true"
      ]
     },
     "execution_count": 168,
     "metadata": {},
     "output_type": "execute_result"
    }
   ],
   "source": [
    "Linv' ≈ LTinv"
   ]
  },
  {
   "cell_type": "code",
   "execution_count": 119,
   "id": "2b315e84",
   "metadata": {},
   "outputs": [
    {
     "data": {
      "text/plain": [
       "60×60 SparseMatrixCSC{Float64, Int64} with 3600 stored entries:\n",
       "⣿⣿⣿⣿⣿⣿⣿⣿⣿⣿⣿⣿⣿⣿⣿⣿⣿⣿⣿⣿⣿⣿⣿⣿⣿⣿⣿⣿⣿⣿\n",
       "⣿⣿⣿⣿⣿⣿⣿⣿⣿⣿⣿⣿⣿⣿⣿⣿⣿⣿⣿⣿⣿⣿⣿⣿⣿⣿⣿⣿⣿⣿\n",
       "⣿⣿⣿⣿⣿⣿⣿⣿⣿⣿⣿⣿⣿⣿⣿⣿⣿⣿⣿⣿⣿⣿⣿⣿⣿⣿⣿⣿⣿⣿\n",
       "⣿⣿⣿⣿⣿⣿⣿⣿⣿⣿⣿⣿⣿⣿⣿⣿⣿⣿⣿⣿⣿⣿⣿⣿⣿⣿⣿⣿⣿⣿\n",
       "⣿⣿⣿⣿⣿⣿⣿⣿⣿⣿⣿⣿⣿⣿⣿⣿⣿⣿⣿⣿⣿⣿⣿⣿⣿⣿⣿⣿⣿⣿\n",
       "⣿⣿⣿⣿⣿⣿⣿⣿⣿⣿⣿⣿⣿⣿⣿⣿⣿⣿⣿⣿⣿⣿⣿⣿⣿⣿⣿⣿⣿⣿\n",
       "⣿⣿⣿⣿⣿⣿⣿⣿⣿⣿⣿⣿⣿⣿⣿⣿⣿⣿⣿⣿⣿⣿⣿⣿⣿⣿⣿⣿⣿⣿\n",
       "⣿⣿⣿⣿⣿⣿⣿⣿⣿⣿⣿⣿⣿⣿⣿⣿⣿⣿⣿⣿⣿⣿⣿⣿⣿⣿⣿⣿⣿⣿\n",
       "⣿⣿⣿⣿⣿⣿⣿⣿⣿⣿⣿⣿⣿⣿⣿⣿⣿⣿⣿⣿⣿⣿⣿⣿⣿⣿⣿⣿⣿⣿\n",
       "⣿⣿⣿⣿⣿⣿⣿⣿⣿⣿⣿⣿⣿⣿⣿⣿⣿⣿⣿⣿⣿⣿⣿⣿⣿⣿⣿⣿⣿⣿\n",
       "⣿⣿⣿⣿⣿⣿⣿⣿⣿⣿⣿⣿⣿⣿⣿⣿⣿⣿⣿⣿⣿⣿⣿⣿⣿⣿⣿⣿⣿⣿\n",
       "⣿⣿⣿⣿⣿⣿⣿⣿⣿⣿⣿⣿⣿⣿⣿⣿⣿⣿⣿⣿⣿⣿⣿⣿⣿⣿⣿⣿⣿⣿\n",
       "⣿⣿⣿⣿⣿⣿⣿⣿⣿⣿⣿⣿⣿⣿⣿⣿⣿⣿⣿⣿⣿⣿⣿⣿⣿⣿⣿⣿⣿⣿\n",
       "⣿⣿⣿⣿⣿⣿⣿⣿⣿⣿⣿⣿⣿⣿⣿⣿⣿⣿⣿⣿⣿⣿⣿⣿⣿⣿⣿⣿⣿⣿\n",
       "⣿⣿⣿⣿⣿⣿⣿⣿⣿⣿⣿⣿⣿⣿⣿⣿⣿⣿⣿⣿⣿⣿⣿⣿⣿⣿⣿⣿⣿⣿"
      ]
     },
     "execution_count": 119,
     "metadata": {},
     "output_type": "execute_result"
    }
   ],
   "source": [
    "t = LTinv * Linv "
   ]
  },
  {
   "cell_type": "code",
   "execution_count": 96,
   "id": "828d7861",
   "metadata": {},
   "outputs": [
    {
     "data": {
      "text/plain": [
       "0.22857142857142856"
      ]
     },
     "execution_count": 96,
     "metadata": {},
     "output_type": "execute_result"
    }
   ],
   "source": [
    "length(Linv.nzval)/(50 * (50 -1))"
   ]
  },
  {
   "cell_type": "code",
   "execution_count": 107,
   "id": "345e707f",
   "metadata": {},
   "outputs": [],
   "source": [
    "nList = Int64[]\n",
    "densityList = Float64[]\n",
    "for n in 20:10:100\n",
    "    for j in 1:10\n",
    "        G = pure_random_graph(n)\n",
    "        ldli = originalGetLDLi(G)\n",
    "        ops = length(originalApplyForward(ldli, Matrix(1.0I, size(G))).nzval)\n",
    "        push!(nList, n)\n",
    "        push!(densityList, ops/(n * (n - 1)))\n",
    "    end\n",
    "end"
   ]
  },
  {
   "cell_type": "code",
   "execution_count": 109,
   "id": "7c849527",
   "metadata": {},
   "outputs": [
    {
     "data": {
      "image/svg+xml": [
       "<?xml version=\"1.0\" encoding=\"utf-8\"?>\n",
       "<svg xmlns=\"http://www.w3.org/2000/svg\" xmlns:xlink=\"http://www.w3.org/1999/xlink\" width=\"600\" height=\"400\" viewBox=\"0 0 2400 1600\">\n",
       "<defs>\n",
       "  <clipPath id=\"clip160\">\n",
       "    <rect x=\"0\" y=\"0\" width=\"2400\" height=\"1600\"/>\n",
       "  </clipPath>\n",
       "</defs>\n",
       "<path clip-path=\"url(#clip160)\" d=\"\n",
       "M0 1600 L2400 1600 L2400 0 L0 0  Z\n",
       "  \" fill=\"#ffffff\" fill-rule=\"evenodd\" fill-opacity=\"1\"/>\n",
       "<defs>\n",
       "  <clipPath id=\"clip161\">\n",
       "    <rect x=\"480\" y=\"0\" width=\"1681\" height=\"1600\"/>\n",
       "  </clipPath>\n",
       "</defs>\n",
       "<path clip-path=\"url(#clip160)\" d=\"\n",
       "M156.598 1486.45 L2352.76 1486.45 L2352.76 47.2441 L156.598 47.2441  Z\n",
       "  \" fill=\"#ffffff\" fill-rule=\"evenodd\" fill-opacity=\"1\"/>\n",
       "<defs>\n",
       "  <clipPath id=\"clip162\">\n",
       "    <rect x=\"156\" y=\"47\" width=\"2197\" height=\"1440\"/>\n",
       "  </clipPath>\n",
       "</defs>\n",
       "<polyline clip-path=\"url(#clip162)\" style=\"stroke:#000000; stroke-linecap:butt; stroke-linejoin:round; stroke-width:2; stroke-opacity:0.1; fill:none\" points=\"\n",
       "  218.754,1486.45 218.754,47.2441 \n",
       "  \"/>\n",
       "<polyline clip-path=\"url(#clip162)\" style=\"stroke:#000000; stroke-linecap:butt; stroke-linejoin:round; stroke-width:2; stroke-opacity:0.1; fill:none\" points=\"\n",
       "  736.715,1486.45 736.715,47.2441 \n",
       "  \"/>\n",
       "<polyline clip-path=\"url(#clip162)\" style=\"stroke:#000000; stroke-linecap:butt; stroke-linejoin:round; stroke-width:2; stroke-opacity:0.1; fill:none\" points=\"\n",
       "  1254.68,1486.45 1254.68,47.2441 \n",
       "  \"/>\n",
       "<polyline clip-path=\"url(#clip162)\" style=\"stroke:#000000; stroke-linecap:butt; stroke-linejoin:round; stroke-width:2; stroke-opacity:0.1; fill:none\" points=\"\n",
       "  1772.64,1486.45 1772.64,47.2441 \n",
       "  \"/>\n",
       "<polyline clip-path=\"url(#clip162)\" style=\"stroke:#000000; stroke-linecap:butt; stroke-linejoin:round; stroke-width:2; stroke-opacity:0.1; fill:none\" points=\"\n",
       "  2290.6,1486.45 2290.6,47.2441 \n",
       "  \"/>\n",
       "<polyline clip-path=\"url(#clip160)\" style=\"stroke:#000000; stroke-linecap:butt; stroke-linejoin:round; stroke-width:4; stroke-opacity:1; fill:none\" points=\"\n",
       "  156.598,1486.45 2352.76,1486.45 \n",
       "  \"/>\n",
       "<polyline clip-path=\"url(#clip160)\" style=\"stroke:#000000; stroke-linecap:butt; stroke-linejoin:round; stroke-width:4; stroke-opacity:1; fill:none\" points=\"\n",
       "  218.754,1486.45 218.754,1467.55 \n",
       "  \"/>\n",
       "<polyline clip-path=\"url(#clip160)\" style=\"stroke:#000000; stroke-linecap:butt; stroke-linejoin:round; stroke-width:4; stroke-opacity:1; fill:none\" points=\"\n",
       "  736.715,1486.45 736.715,1467.55 \n",
       "  \"/>\n",
       "<polyline clip-path=\"url(#clip160)\" style=\"stroke:#000000; stroke-linecap:butt; stroke-linejoin:round; stroke-width:4; stroke-opacity:1; fill:none\" points=\"\n",
       "  1254.68,1486.45 1254.68,1467.55 \n",
       "  \"/>\n",
       "<polyline clip-path=\"url(#clip160)\" style=\"stroke:#000000; stroke-linecap:butt; stroke-linejoin:round; stroke-width:4; stroke-opacity:1; fill:none\" points=\"\n",
       "  1772.64,1486.45 1772.64,1467.55 \n",
       "  \"/>\n",
       "<polyline clip-path=\"url(#clip160)\" style=\"stroke:#000000; stroke-linecap:butt; stroke-linejoin:round; stroke-width:4; stroke-opacity:1; fill:none\" points=\"\n",
       "  2290.6,1486.45 2290.6,1467.55 \n",
       "  \"/>\n",
       "<path clip-path=\"url(#clip160)\" d=\"M197.527 1544.91 L213.846 1544.91 L213.846 1548.85 L191.902 1548.85 L191.902 1544.91 Q194.564 1542.16 199.147 1537.53 Q203.754 1532.88 204.934 1531.53 Q207.18 1529.01 208.059 1527.27 Q208.962 1525.51 208.962 1523.82 Q208.962 1521.07 207.018 1519.33 Q205.096 1517.6 201.994 1517.6 Q199.795 1517.6 197.342 1518.36 Q194.911 1519.13 192.133 1520.68 L192.133 1515.95 Q194.957 1514.82 197.411 1514.24 Q199.865 1513.66 201.902 1513.66 Q207.272 1513.66 210.467 1516.35 Q213.661 1519.03 213.661 1523.52 Q213.661 1525.65 212.851 1527.57 Q212.064 1529.47 209.957 1532.07 Q209.379 1532.74 206.277 1535.95 Q203.175 1539.15 197.527 1544.91 Z\" fill=\"#000000\" fill-rule=\"evenodd\" fill-opacity=\"1\" /><path clip-path=\"url(#clip160)\" d=\"M233.661 1517.37 Q230.05 1517.37 228.221 1520.93 Q226.416 1524.47 226.416 1531.6 Q226.416 1538.71 228.221 1542.27 Q230.05 1545.82 233.661 1545.82 Q237.295 1545.82 239.101 1542.27 Q240.929 1538.71 240.929 1531.6 Q240.929 1524.47 239.101 1520.93 Q237.295 1517.37 233.661 1517.37 M233.661 1513.66 Q239.471 1513.66 242.527 1518.27 Q245.605 1522.85 245.605 1531.6 Q245.605 1540.33 242.527 1544.94 Q239.471 1549.52 233.661 1549.52 Q227.851 1549.52 224.772 1544.94 Q221.717 1540.33 221.717 1531.6 Q221.717 1522.85 224.772 1518.27 Q227.851 1513.66 233.661 1513.66 Z\" fill=\"#000000\" fill-rule=\"evenodd\" fill-opacity=\"1\" /><path clip-path=\"url(#clip160)\" d=\"M724.887 1518.36 L713.081 1536.81 L724.887 1536.81 L724.887 1518.36 M723.66 1514.29 L729.539 1514.29 L729.539 1536.81 L734.47 1536.81 L734.47 1540.7 L729.539 1540.7 L729.539 1548.85 L724.887 1548.85 L724.887 1540.7 L709.285 1540.7 L709.285 1536.19 L723.66 1514.29 Z\" fill=\"#000000\" fill-rule=\"evenodd\" fill-opacity=\"1\" /><path clip-path=\"url(#clip160)\" d=\"M752.201 1517.37 Q748.59 1517.37 746.762 1520.93 Q744.956 1524.47 744.956 1531.6 Q744.956 1538.71 746.762 1542.27 Q748.59 1545.82 752.201 1545.82 Q755.836 1545.82 757.641 1542.27 Q759.47 1538.71 759.47 1531.6 Q759.47 1524.47 757.641 1520.93 Q755.836 1517.37 752.201 1517.37 M752.201 1513.66 Q758.012 1513.66 761.067 1518.27 Q764.146 1522.85 764.146 1531.6 Q764.146 1540.33 761.067 1544.94 Q758.012 1549.52 752.201 1549.52 Q746.391 1549.52 743.313 1544.94 Q740.257 1540.33 740.257 1531.6 Q740.257 1522.85 743.313 1518.27 Q746.391 1513.66 752.201 1513.66 Z\" fill=\"#000000\" fill-rule=\"evenodd\" fill-opacity=\"1\" /><path clip-path=\"url(#clip160)\" d=\"M1240.08 1529.7 Q1236.93 1529.7 1235.08 1531.86 Q1233.25 1534.01 1233.25 1537.76 Q1233.25 1541.49 1235.08 1543.66 Q1236.93 1545.82 1240.08 1545.82 Q1243.23 1545.82 1245.06 1543.66 Q1246.91 1541.49 1246.91 1537.76 Q1246.91 1534.01 1245.06 1531.86 Q1243.23 1529.7 1240.08 1529.7 M1249.36 1515.05 L1249.36 1519.31 Q1247.61 1518.48 1245.8 1518.04 Q1244.02 1517.6 1242.26 1517.6 Q1237.63 1517.6 1235.17 1520.72 Q1232.74 1523.85 1232.4 1530.17 Q1233.76 1528.15 1235.82 1527.09 Q1237.88 1526 1240.36 1526 Q1245.57 1526 1248.58 1529.17 Q1251.61 1532.32 1251.61 1537.76 Q1251.61 1543.08 1248.46 1546.3 Q1245.31 1549.52 1240.08 1549.52 Q1234.09 1549.52 1230.92 1544.94 Q1227.74 1540.33 1227.74 1531.6 Q1227.74 1523.41 1231.63 1518.55 Q1235.52 1513.66 1242.07 1513.66 Q1243.83 1513.66 1245.61 1514.01 Q1247.42 1514.36 1249.36 1515.05 Z\" fill=\"#000000\" fill-rule=\"evenodd\" fill-opacity=\"1\" /><path clip-path=\"url(#clip160)\" d=\"M1269.67 1517.37 Q1266.05 1517.37 1264.23 1520.93 Q1262.42 1524.47 1262.42 1531.6 Q1262.42 1538.71 1264.23 1542.27 Q1266.05 1545.82 1269.67 1545.82 Q1273.3 1545.82 1275.11 1542.27 Q1276.93 1538.71 1276.93 1531.6 Q1276.93 1524.47 1275.11 1520.93 Q1273.3 1517.37 1269.67 1517.37 M1269.67 1513.66 Q1275.48 1513.66 1278.53 1518.27 Q1281.61 1522.85 1281.61 1531.6 Q1281.61 1540.33 1278.53 1544.94 Q1275.48 1549.52 1269.67 1549.52 Q1263.86 1549.52 1260.78 1544.94 Q1257.72 1540.33 1257.72 1531.6 Q1257.72 1522.85 1260.78 1518.27 Q1263.86 1513.66 1269.67 1513.66 Z\" fill=\"#000000\" fill-rule=\"evenodd\" fill-opacity=\"1\" /><path clip-path=\"url(#clip160)\" d=\"M1757.51 1532.44 Q1754.18 1532.44 1752.26 1534.22 Q1750.36 1536 1750.36 1539.13 Q1750.36 1542.25 1752.26 1544.03 Q1754.18 1545.82 1757.51 1545.82 Q1760.84 1545.82 1762.77 1544.03 Q1764.69 1542.23 1764.69 1539.13 Q1764.69 1536 1762.77 1534.22 Q1760.87 1532.44 1757.51 1532.44 M1752.84 1530.45 Q1749.83 1529.7 1748.14 1527.64 Q1746.47 1525.58 1746.47 1522.62 Q1746.47 1518.48 1749.41 1516.07 Q1752.37 1513.66 1757.51 1513.66 Q1762.67 1513.66 1765.61 1516.07 Q1768.55 1518.48 1768.55 1522.62 Q1768.55 1525.58 1766.86 1527.64 Q1765.2 1529.7 1762.21 1530.45 Q1765.59 1531.23 1767.47 1533.52 Q1769.36 1535.82 1769.36 1539.13 Q1769.36 1544.15 1766.28 1546.83 Q1763.23 1549.52 1757.51 1549.52 Q1751.79 1549.52 1748.72 1546.83 Q1745.66 1544.15 1745.66 1539.13 Q1745.66 1535.82 1747.56 1533.52 Q1749.46 1531.23 1752.84 1530.45 M1751.12 1523.06 Q1751.12 1525.75 1752.79 1527.25 Q1754.48 1528.76 1757.51 1528.76 Q1760.52 1528.76 1762.21 1527.25 Q1763.92 1525.75 1763.92 1523.06 Q1763.92 1520.38 1762.21 1518.87 Q1760.52 1517.37 1757.51 1517.37 Q1754.48 1517.37 1752.79 1518.87 Q1751.12 1520.38 1751.12 1523.06 Z\" fill=\"#000000\" fill-rule=\"evenodd\" fill-opacity=\"1\" /><path clip-path=\"url(#clip160)\" d=\"M1787.67 1517.37 Q1784.06 1517.37 1782.23 1520.93 Q1780.43 1524.47 1780.43 1531.6 Q1780.43 1538.71 1782.23 1542.27 Q1784.06 1545.82 1787.67 1545.82 Q1791.31 1545.82 1793.11 1542.27 Q1794.94 1538.71 1794.94 1531.6 Q1794.94 1524.47 1793.11 1520.93 Q1791.31 1517.37 1787.67 1517.37 M1787.67 1513.66 Q1793.48 1513.66 1796.54 1518.27 Q1799.62 1522.85 1799.62 1531.6 Q1799.62 1540.33 1796.54 1544.94 Q1793.48 1549.52 1787.67 1549.52 Q1781.86 1549.52 1778.78 1544.94 Q1775.73 1540.33 1775.73 1531.6 Q1775.73 1522.85 1778.78 1518.27 Q1781.86 1513.66 1787.67 1513.66 Z\" fill=\"#000000\" fill-rule=\"evenodd\" fill-opacity=\"1\" /><path clip-path=\"url(#clip160)\" d=\"M2250.21 1544.91 L2257.85 1544.91 L2257.85 1518.55 L2249.54 1520.21 L2249.54 1515.95 L2257.8 1514.29 L2262.48 1514.29 L2262.48 1544.91 L2270.11 1544.91 L2270.11 1548.85 L2250.21 1548.85 L2250.21 1544.91 Z\" fill=\"#000000\" fill-rule=\"evenodd\" fill-opacity=\"1\" /><path clip-path=\"url(#clip160)\" d=\"M2289.56 1517.37 Q2285.95 1517.37 2284.12 1520.93 Q2282.31 1524.47 2282.31 1531.6 Q2282.31 1538.71 2284.12 1542.27 Q2285.95 1545.82 2289.56 1545.82 Q2293.19 1545.82 2295 1542.27 Q2296.83 1538.71 2296.83 1531.6 Q2296.83 1524.47 2295 1520.93 Q2293.19 1517.37 2289.56 1517.37 M2289.56 1513.66 Q2295.37 1513.66 2298.42 1518.27 Q2301.5 1522.85 2301.5 1531.6 Q2301.5 1540.33 2298.42 1544.94 Q2295.37 1549.52 2289.56 1549.52 Q2283.75 1549.52 2280.67 1544.94 Q2277.61 1540.33 2277.61 1531.6 Q2277.61 1522.85 2280.67 1518.27 Q2283.75 1513.66 2289.56 1513.66 Z\" fill=\"#000000\" fill-rule=\"evenodd\" fill-opacity=\"1\" /><path clip-path=\"url(#clip160)\" d=\"M2319.72 1517.37 Q2316.11 1517.37 2314.28 1520.93 Q2312.48 1524.47 2312.48 1531.6 Q2312.48 1538.71 2314.28 1542.27 Q2316.11 1545.82 2319.72 1545.82 Q2323.35 1545.82 2325.16 1542.27 Q2326.99 1538.71 2326.99 1531.6 Q2326.99 1524.47 2325.16 1520.93 Q2323.35 1517.37 2319.72 1517.37 M2319.72 1513.66 Q2325.53 1513.66 2328.59 1518.27 Q2331.67 1522.85 2331.67 1531.6 Q2331.67 1540.33 2328.59 1544.94 Q2325.53 1549.52 2319.72 1549.52 Q2313.91 1549.52 2310.83 1544.94 Q2307.78 1540.33 2307.78 1531.6 Q2307.78 1522.85 2310.83 1518.27 Q2313.91 1513.66 2319.72 1513.66 Z\" fill=\"#000000\" fill-rule=\"evenodd\" fill-opacity=\"1\" /><polyline clip-path=\"url(#clip162)\" style=\"stroke:#000000; stroke-linecap:butt; stroke-linejoin:round; stroke-width:2; stroke-opacity:0.1; fill:none\" points=\"\n",
       "  156.598,1404.48 2352.76,1404.48 \n",
       "  \"/>\n",
       "<polyline clip-path=\"url(#clip162)\" style=\"stroke:#000000; stroke-linecap:butt; stroke-linejoin:round; stroke-width:2; stroke-opacity:0.1; fill:none\" points=\"\n",
       "  156.598,1097.57 2352.76,1097.57 \n",
       "  \"/>\n",
       "<polyline clip-path=\"url(#clip162)\" style=\"stroke:#000000; stroke-linecap:butt; stroke-linejoin:round; stroke-width:2; stroke-opacity:0.1; fill:none\" points=\"\n",
       "  156.598,790.652 2352.76,790.652 \n",
       "  \"/>\n",
       "<polyline clip-path=\"url(#clip162)\" style=\"stroke:#000000; stroke-linecap:butt; stroke-linejoin:round; stroke-width:2; stroke-opacity:0.1; fill:none\" points=\"\n",
       "  156.598,483.736 2352.76,483.736 \n",
       "  \"/>\n",
       "<polyline clip-path=\"url(#clip162)\" style=\"stroke:#000000; stroke-linecap:butt; stroke-linejoin:round; stroke-width:2; stroke-opacity:0.1; fill:none\" points=\"\n",
       "  156.598,176.82 2352.76,176.82 \n",
       "  \"/>\n",
       "<polyline clip-path=\"url(#clip160)\" style=\"stroke:#000000; stroke-linecap:butt; stroke-linejoin:round; stroke-width:4; stroke-opacity:1; fill:none\" points=\"\n",
       "  156.598,1486.45 156.598,47.2441 \n",
       "  \"/>\n",
       "<polyline clip-path=\"url(#clip160)\" style=\"stroke:#000000; stroke-linecap:butt; stroke-linejoin:round; stroke-width:4; stroke-opacity:1; fill:none\" points=\"\n",
       "  156.598,1404.48 175.496,1404.48 \n",
       "  \"/>\n",
       "<polyline clip-path=\"url(#clip160)\" style=\"stroke:#000000; stroke-linecap:butt; stroke-linejoin:round; stroke-width:4; stroke-opacity:1; fill:none\" points=\"\n",
       "  156.598,1097.57 175.496,1097.57 \n",
       "  \"/>\n",
       "<polyline clip-path=\"url(#clip160)\" style=\"stroke:#000000; stroke-linecap:butt; stroke-linejoin:round; stroke-width:4; stroke-opacity:1; fill:none\" points=\"\n",
       "  156.598,790.652 175.496,790.652 \n",
       "  \"/>\n",
       "<polyline clip-path=\"url(#clip160)\" style=\"stroke:#000000; stroke-linecap:butt; stroke-linejoin:round; stroke-width:4; stroke-opacity:1; fill:none\" points=\"\n",
       "  156.598,483.736 175.496,483.736 \n",
       "  \"/>\n",
       "<polyline clip-path=\"url(#clip160)\" style=\"stroke:#000000; stroke-linecap:butt; stroke-linejoin:round; stroke-width:4; stroke-opacity:1; fill:none\" points=\"\n",
       "  156.598,176.82 175.496,176.82 \n",
       "  \"/>\n",
       "<path clip-path=\"url(#clip160)\" d=\"M64.6495 1390.28 Q61.0384 1390.28 59.2097 1393.85 Q57.4041 1397.39 57.4041 1404.52 Q57.4041 1411.62 59.2097 1415.19 Q61.0384 1418.73 64.6495 1418.73 Q68.2837 1418.73 70.0892 1415.19 Q71.9179 1411.62 71.9179 1404.52 Q71.9179 1397.39 70.0892 1393.85 Q68.2837 1390.28 64.6495 1390.28 M64.6495 1386.58 Q70.4596 1386.58 73.5152 1391.19 Q76.5938 1395.77 76.5938 1404.52 Q76.5938 1413.25 73.5152 1417.85 Q70.4596 1422.43 64.6495 1422.43 Q58.8393 1422.43 55.7606 1417.85 Q52.7051 1413.25 52.7051 1404.52 Q52.7051 1395.77 55.7606 1391.19 Q58.8393 1386.58 64.6495 1386.58 Z\" fill=\"#000000\" fill-rule=\"evenodd\" fill-opacity=\"1\" /><path clip-path=\"url(#clip160)\" d=\"M84.8114 1415.88 L89.6956 1415.88 L89.6956 1421.76 L84.8114 1421.76 L84.8114 1415.88 Z\" fill=\"#000000\" fill-rule=\"evenodd\" fill-opacity=\"1\" /><path clip-path=\"url(#clip160)\" d=\"M100.691 1417.83 L108.33 1417.83 L108.33 1391.46 L100.02 1393.13 L100.02 1388.87 L108.283 1387.2 L112.959 1387.2 L112.959 1417.83 L120.598 1417.83 L120.598 1421.76 L100.691 1421.76 L100.691 1417.83 Z\" fill=\"#000000\" fill-rule=\"evenodd\" fill-opacity=\"1\" /><path clip-path=\"url(#clip160)\" d=\"M65.0198 1083.37 Q61.4087 1083.37 59.58 1086.93 Q57.7745 1090.47 57.7745 1097.6 Q57.7745 1104.71 59.58 1108.27 Q61.4087 1111.82 65.0198 1111.82 Q68.6541 1111.82 70.4596 1108.27 Q72.2883 1104.71 72.2883 1097.6 Q72.2883 1090.47 70.4596 1086.93 Q68.6541 1083.37 65.0198 1083.37 M65.0198 1079.66 Q70.83 1079.66 73.8855 1084.27 Q76.9642 1088.85 76.9642 1097.6 Q76.9642 1106.33 73.8855 1110.94 Q70.83 1115.52 65.0198 1115.52 Q59.2097 1115.52 56.131 1110.94 Q53.0754 1106.33 53.0754 1097.6 Q53.0754 1088.85 56.131 1084.27 Q59.2097 1079.66 65.0198 1079.66 Z\" fill=\"#000000\" fill-rule=\"evenodd\" fill-opacity=\"1\" /><path clip-path=\"url(#clip160)\" d=\"M85.1818 1108.97 L90.066 1108.97 L90.066 1114.85 L85.1818 1114.85 L85.1818 1108.97 Z\" fill=\"#000000\" fill-rule=\"evenodd\" fill-opacity=\"1\" /><path clip-path=\"url(#clip160)\" d=\"M104.279 1110.91 L120.598 1110.91 L120.598 1114.85 L98.6539 1114.85 L98.6539 1110.91 Q101.316 1108.16 105.899 1103.53 Q110.506 1098.88 111.686 1097.53 Q113.932 1095.01 114.811 1093.27 Q115.714 1091.51 115.714 1089.82 Q115.714 1087.07 113.77 1085.33 Q111.848 1083.6 108.746 1083.6 Q106.547 1083.6 104.094 1084.36 Q101.663 1085.13 98.8854 1086.68 L98.8854 1081.95 Q101.709 1080.82 104.163 1080.24 Q106.617 1079.66 108.654 1079.66 Q114.024 1079.66 117.219 1082.35 Q120.413 1085.03 120.413 1089.52 Q120.413 1091.65 119.603 1093.57 Q118.816 1095.47 116.709 1098.07 Q116.131 1098.74 113.029 1101.95 Q109.927 1105.15 104.279 1110.91 Z\" fill=\"#000000\" fill-rule=\"evenodd\" fill-opacity=\"1\" /><path clip-path=\"url(#clip160)\" d=\"M64.0708 776.451 Q60.4597 776.451 58.631 780.015 Q56.8254 783.557 56.8254 790.687 Q56.8254 797.793 58.631 801.358 Q60.4597 804.9 64.0708 804.9 Q67.705 804.9 69.5105 801.358 Q71.3392 797.793 71.3392 790.687 Q71.3392 783.557 69.5105 780.015 Q67.705 776.451 64.0708 776.451 M64.0708 772.747 Q69.8809 772.747 72.9365 777.353 Q76.0151 781.937 76.0151 790.687 Q76.0151 799.413 72.9365 804.02 Q69.8809 808.603 64.0708 808.603 Q58.2606 808.603 55.1819 804.02 Q52.1264 799.413 52.1264 790.687 Q52.1264 781.937 55.1819 777.353 Q58.2606 772.747 64.0708 772.747 Z\" fill=\"#000000\" fill-rule=\"evenodd\" fill-opacity=\"1\" /><path clip-path=\"url(#clip160)\" d=\"M84.2327 802.052 L89.1169 802.052 L89.1169 807.932 L84.2327 807.932 L84.2327 802.052 Z\" fill=\"#000000\" fill-rule=\"evenodd\" fill-opacity=\"1\" /><path clip-path=\"url(#clip160)\" d=\"M113.469 789.298 Q116.825 790.015 118.7 792.284 Q120.598 794.552 120.598 797.886 Q120.598 803.001 117.08 805.802 Q113.561 808.603 107.08 808.603 Q104.904 808.603 102.589 808.163 Q100.297 807.747 97.8437 806.89 L97.8437 802.376 Q99.7882 803.511 102.103 804.089 Q104.418 804.668 106.941 804.668 Q111.339 804.668 113.631 802.932 Q115.945 801.196 115.945 797.886 Q115.945 794.83 113.793 793.117 Q111.663 791.381 107.844 791.381 L103.816 791.381 L103.816 787.539 L108.029 787.539 Q111.478 787.539 113.307 786.173 Q115.135 784.784 115.135 782.191 Q115.135 779.529 113.237 778.117 Q111.362 776.682 107.844 776.682 Q105.922 776.682 103.723 777.099 Q101.524 777.515 98.8854 778.395 L98.8854 774.228 Q101.547 773.488 103.862 773.117 Q106.2 772.747 108.26 772.747 Q113.584 772.747 116.686 775.177 Q119.788 777.585 119.788 781.705 Q119.788 784.576 118.145 786.566 Q116.501 788.534 113.469 789.298 Z\" fill=\"#000000\" fill-rule=\"evenodd\" fill-opacity=\"1\" /><path clip-path=\"url(#clip160)\" d=\"M62.9365 469.535 Q59.3254 469.535 57.4967 473.1 Q55.6912 476.641 55.6912 483.771 Q55.6912 490.877 57.4967 494.442 Q59.3254 497.984 62.9365 497.984 Q66.5707 497.984 68.3763 494.442 Q70.205 490.877 70.205 483.771 Q70.205 476.641 68.3763 473.1 Q66.5707 469.535 62.9365 469.535 M62.9365 465.831 Q68.7467 465.831 71.8022 470.438 Q74.8809 475.021 74.8809 483.771 Q74.8809 492.498 71.8022 497.104 Q68.7467 501.687 62.9365 501.687 Q57.1264 501.687 54.0477 497.104 Q50.9921 492.498 50.9921 483.771 Q50.9921 475.021 54.0477 470.438 Q57.1264 465.831 62.9365 465.831 Z\" fill=\"#000000\" fill-rule=\"evenodd\" fill-opacity=\"1\" /><path clip-path=\"url(#clip160)\" d=\"M83.0984 495.137 L87.9827 495.137 L87.9827 501.016 L83.0984 501.016 L83.0984 495.137 Z\" fill=\"#000000\" fill-rule=\"evenodd\" fill-opacity=\"1\" /><path clip-path=\"url(#clip160)\" d=\"M111.015 470.53 L99.2095 488.979 L111.015 488.979 L111.015 470.53 M109.788 466.456 L115.668 466.456 L115.668 488.979 L120.598 488.979 L120.598 492.868 L115.668 492.868 L115.668 501.016 L111.015 501.016 L111.015 492.868 L95.4132 492.868 L95.4132 488.354 L109.788 466.456 Z\" fill=\"#000000\" fill-rule=\"evenodd\" fill-opacity=\"1\" /><path clip-path=\"url(#clip160)\" d=\"M64.418 162.619 Q60.8069 162.619 58.9782 166.184 Q57.1726 169.725 57.1726 176.855 Q57.1726 183.961 58.9782 187.526 Q60.8069 191.068 64.418 191.068 Q68.0522 191.068 69.8578 187.526 Q71.6865 183.961 71.6865 176.855 Q71.6865 169.725 69.8578 166.184 Q68.0522 162.619 64.418 162.619 M64.418 158.915 Q70.2281 158.915 73.2837 163.522 Q76.3624 168.105 76.3624 176.855 Q76.3624 185.582 73.2837 190.188 Q70.2281 194.772 64.418 194.772 Q58.6078 194.772 55.5291 190.188 Q52.4736 185.582 52.4736 176.855 Q52.4736 168.105 55.5291 163.522 Q58.6078 158.915 64.418 158.915 Z\" fill=\"#000000\" fill-rule=\"evenodd\" fill-opacity=\"1\" /><path clip-path=\"url(#clip160)\" d=\"M84.5799 188.221 L89.4641 188.221 L89.4641 194.1 L84.5799 194.1 L84.5799 188.221 Z\" fill=\"#000000\" fill-rule=\"evenodd\" fill-opacity=\"1\" /><path clip-path=\"url(#clip160)\" d=\"M99.6956 159.54 L118.052 159.54 L118.052 163.475 L103.978 163.475 L103.978 171.948 Q104.996 171.6 106.015 171.438 Q107.033 171.253 108.052 171.253 Q113.839 171.253 117.219 174.425 Q120.598 177.596 120.598 183.012 Q120.598 188.591 117.126 191.693 Q113.654 194.772 107.334 194.772 Q105.159 194.772 102.89 194.401 Q100.645 194.031 98.2372 193.29 L98.2372 188.591 Q100.321 189.725 102.543 190.281 Q104.765 190.836 107.242 190.836 Q111.246 190.836 113.584 188.73 Q115.922 186.624 115.922 183.012 Q115.922 179.401 113.584 177.295 Q111.246 175.188 107.242 175.188 Q105.367 175.188 103.492 175.605 Q101.64 176.022 99.6956 176.901 L99.6956 159.54 Z\" fill=\"#000000\" fill-rule=\"evenodd\" fill-opacity=\"1\" /><circle clip-path=\"url(#clip162)\" cx=\"218.754\" cy=\"588.734\" r=\"14.4\" fill=\"#009af9\" fill-rule=\"evenodd\" fill-opacity=\"1\" stroke=\"#000000\" stroke-opacity=\"1\" stroke-width=\"3.2\"/>\n",
       "<circle clip-path=\"url(#clip162)\" cx=\"218.754\" cy=\"112.206\" r=\"14.4\" fill=\"#009af9\" fill-rule=\"evenodd\" fill-opacity=\"1\" stroke=\"#000000\" stroke-opacity=\"1\" stroke-width=\"3.2\"/>\n",
       "<circle clip-path=\"url(#clip162)\" cx=\"218.754\" cy=\"87.9763\" r=\"14.4\" fill=\"#009af9\" fill-rule=\"evenodd\" fill-opacity=\"1\" stroke=\"#000000\" stroke-opacity=\"1\" stroke-width=\"3.2\"/>\n",
       "<circle clip-path=\"url(#clip162)\" cx=\"218.754\" cy=\"540.273\" r=\"14.4\" fill=\"#009af9\" fill-rule=\"evenodd\" fill-opacity=\"1\" stroke=\"#000000\" stroke-opacity=\"1\" stroke-width=\"3.2\"/>\n",
       "<circle clip-path=\"url(#clip162)\" cx=\"218.754\" cy=\"798.729\" r=\"14.4\" fill=\"#009af9\" fill-rule=\"evenodd\" fill-opacity=\"1\" stroke=\"#000000\" stroke-opacity=\"1\" stroke-width=\"3.2\"/>\n",
       "<circle clip-path=\"url(#clip162)\" cx=\"218.754\" cy=\"1057.18\" r=\"14.4\" fill=\"#009af9\" fill-rule=\"evenodd\" fill-opacity=\"1\" stroke=\"#000000\" stroke-opacity=\"1\" stroke-width=\"3.2\"/>\n",
       "<circle clip-path=\"url(#clip162)\" cx=\"218.754\" cy=\"1016.8\" r=\"14.4\" fill=\"#009af9\" fill-rule=\"evenodd\" fill-opacity=\"1\" stroke=\"#000000\" stroke-opacity=\"1\" stroke-width=\"3.2\"/>\n",
       "<circle clip-path=\"url(#clip162)\" cx=\"218.754\" cy=\"758.345\" r=\"14.4\" fill=\"#009af9\" fill-rule=\"evenodd\" fill-opacity=\"1\" stroke=\"#000000\" stroke-opacity=\"1\" stroke-width=\"3.2\"/>\n",
       "<circle clip-path=\"url(#clip162)\" cx=\"218.754\" cy=\"588.734\" r=\"14.4\" fill=\"#009af9\" fill-rule=\"evenodd\" fill-opacity=\"1\" stroke=\"#000000\" stroke-opacity=\"1\" stroke-width=\"3.2\"/>\n",
       "<circle clip-path=\"url(#clip162)\" cx=\"218.754\" cy=\"766.422\" r=\"14.4\" fill=\"#009af9\" fill-rule=\"evenodd\" fill-opacity=\"1\" stroke=\"#000000\" stroke-opacity=\"1\" stroke-width=\"3.2\"/>\n",
       "<circle clip-path=\"url(#clip162)\" cx=\"477.734\" cy=\"603.68\" r=\"14.4\" fill=\"#009af9\" fill-rule=\"evenodd\" fill-opacity=\"1\" stroke=\"#000000\" stroke-opacity=\"1\" stroke-width=\"3.2\"/>\n",
       "<circle clip-path=\"url(#clip162)\" cx=\"477.734\" cy=\"197.987\" r=\"14.4\" fill=\"#009af9\" fill-rule=\"evenodd\" fill-opacity=\"1\" stroke=\"#000000\" stroke-opacity=\"1\" stroke-width=\"3.2\"/>\n",
       "<circle clip-path=\"url(#clip162)\" cx=\"477.734\" cy=\"314.403\" r=\"14.4\" fill=\"#009af9\" fill-rule=\"evenodd\" fill-opacity=\"1\" stroke=\"#000000\" stroke-opacity=\"1\" stroke-width=\"3.2\"/>\n",
       "<circle clip-path=\"url(#clip162)\" cx=\"477.734\" cy=\"1055.23\" r=\"14.4\" fill=\"#009af9\" fill-rule=\"evenodd\" fill-opacity=\"1\" stroke=\"#000000\" stroke-opacity=\"1\" stroke-width=\"3.2\"/>\n",
       "<circle clip-path=\"url(#clip162)\" cx=\"477.734\" cy=\"977.624\" r=\"14.4\" fill=\"#009af9\" fill-rule=\"evenodd\" fill-opacity=\"1\" stroke=\"#000000\" stroke-opacity=\"1\" stroke-width=\"3.2\"/>\n",
       "<circle clip-path=\"url(#clip162)\" cx=\"477.734\" cy=\"900.013\" r=\"14.4\" fill=\"#009af9\" fill-rule=\"evenodd\" fill-opacity=\"1\" stroke=\"#000000\" stroke-opacity=\"1\" stroke-width=\"3.2\"/>\n",
       "<circle clip-path=\"url(#clip162)\" cx=\"477.734\" cy=\"956.457\" r=\"14.4\" fill=\"#009af9\" fill-rule=\"evenodd\" fill-opacity=\"1\" stroke=\"#000000\" stroke-opacity=\"1\" stroke-width=\"3.2\"/>\n",
       "<circle clip-path=\"url(#clip162)\" cx=\"477.734\" cy=\"1101.1\" r=\"14.4\" fill=\"#009af9\" fill-rule=\"evenodd\" fill-opacity=\"1\" stroke=\"#000000\" stroke-opacity=\"1\" stroke-width=\"3.2\"/>\n",
       "<circle clip-path=\"url(#clip162)\" cx=\"477.734\" cy=\"998.79\" r=\"14.4\" fill=\"#009af9\" fill-rule=\"evenodd\" fill-opacity=\"1\" stroke=\"#000000\" stroke-opacity=\"1\" stroke-width=\"3.2\"/>\n",
       "<circle clip-path=\"url(#clip162)\" cx=\"477.734\" cy=\"801.235\" r=\"14.4\" fill=\"#009af9\" fill-rule=\"evenodd\" fill-opacity=\"1\" stroke=\"#000000\" stroke-opacity=\"1\" stroke-width=\"3.2\"/>\n",
       "<circle clip-path=\"url(#clip162)\" cx=\"736.715\" cy=\"690.314\" r=\"14.4\" fill=\"#009af9\" fill-rule=\"evenodd\" fill-opacity=\"1\" stroke=\"#000000\" stroke-opacity=\"1\" stroke-width=\"3.2\"/>\n",
       "<circle clip-path=\"url(#clip162)\" cx=\"736.715\" cy=\"898.859\" r=\"14.4\" fill=\"#009af9\" fill-rule=\"evenodd\" fill-opacity=\"1\" stroke=\"#000000\" stroke-opacity=\"1\" stroke-width=\"3.2\"/>\n",
       "<circle clip-path=\"url(#clip162)\" cx=\"736.715\" cy=\"578.172\" r=\"14.4\" fill=\"#009af9\" fill-rule=\"evenodd\" fill-opacity=\"1\" stroke=\"#000000\" stroke-opacity=\"1\" stroke-width=\"3.2\"/>\n",
       "<circle clip-path=\"url(#clip162)\" cx=\"736.715\" cy=\"950.012\" r=\"14.4\" fill=\"#009af9\" fill-rule=\"evenodd\" fill-opacity=\"1\" stroke=\"#000000\" stroke-opacity=\"1\" stroke-width=\"3.2\"/>\n",
       "<circle clip-path=\"url(#clip162)\" cx=\"736.715\" cy=\"1121.18\" r=\"14.4\" fill=\"#009af9\" fill-rule=\"evenodd\" fill-opacity=\"1\" stroke=\"#000000\" stroke-opacity=\"1\" stroke-width=\"3.2\"/>\n",
       "<circle clip-path=\"url(#clip162)\" cx=\"736.715\" cy=\"405.04\" r=\"14.4\" fill=\"#009af9\" fill-rule=\"evenodd\" fill-opacity=\"1\" stroke=\"#000000\" stroke-opacity=\"1\" stroke-width=\"3.2\"/>\n",
       "<circle clip-path=\"url(#clip162)\" cx=\"736.715\" cy=\"979.523\" r=\"14.4\" fill=\"#009af9\" fill-rule=\"evenodd\" fill-opacity=\"1\" stroke=\"#000000\" stroke-opacity=\"1\" stroke-width=\"3.2\"/>\n",
       "<circle clip-path=\"url(#clip162)\" cx=\"736.715\" cy=\"395.203\" r=\"14.4\" fill=\"#009af9\" fill-rule=\"evenodd\" fill-opacity=\"1\" stroke=\"#000000\" stroke-opacity=\"1\" stroke-width=\"3.2\"/>\n",
       "<circle clip-path=\"url(#clip162)\" cx=\"736.715\" cy=\"953.947\" r=\"14.4\" fill=\"#009af9\" fill-rule=\"evenodd\" fill-opacity=\"1\" stroke=\"#000000\" stroke-opacity=\"1\" stroke-width=\"3.2\"/>\n",
       "<circle clip-path=\"url(#clip162)\" cx=\"736.715\" cy=\"1040.51\" r=\"14.4\" fill=\"#009af9\" fill-rule=\"evenodd\" fill-opacity=\"1\" stroke=\"#000000\" stroke-opacity=\"1\" stroke-width=\"3.2\"/>\n",
       "<circle clip-path=\"url(#clip162)\" cx=\"995.696\" cy=\"1310.53\" r=\"14.4\" fill=\"#009af9\" fill-rule=\"evenodd\" fill-opacity=\"1\" stroke=\"#000000\" stroke-opacity=\"1\" stroke-width=\"3.2\"/>\n",
       "<circle clip-path=\"url(#clip162)\" cx=\"995.696\" cy=\"1067.5\" r=\"14.4\" fill=\"#009af9\" fill-rule=\"evenodd\" fill-opacity=\"1\" stroke=\"#000000\" stroke-opacity=\"1\" stroke-width=\"3.2\"/>\n",
       "<circle clip-path=\"url(#clip162)\" cx=\"995.696\" cy=\"784.388\" r=\"14.4\" fill=\"#009af9\" fill-rule=\"evenodd\" fill-opacity=\"1\" stroke=\"#000000\" stroke-opacity=\"1\" stroke-width=\"3.2\"/>\n",
       "<circle clip-path=\"url(#clip162)\" cx=\"995.696\" cy=\"1272.95\" r=\"14.4\" fill=\"#009af9\" fill-rule=\"evenodd\" fill-opacity=\"1\" stroke=\"#000000\" stroke-opacity=\"1\" stroke-width=\"3.2\"/>\n",
       "<circle clip-path=\"url(#clip162)\" cx=\"995.696\" cy=\"1018.65\" r=\"14.4\" fill=\"#009af9\" fill-rule=\"evenodd\" fill-opacity=\"1\" stroke=\"#000000\" stroke-opacity=\"1\" stroke-width=\"3.2\"/>\n",
       "<circle clip-path=\"url(#clip162)\" cx=\"995.696\" cy=\"533.845\" r=\"14.4\" fill=\"#009af9\" fill-rule=\"evenodd\" fill-opacity=\"1\" stroke=\"#000000\" stroke-opacity=\"1\" stroke-width=\"3.2\"/>\n",
       "<circle clip-path=\"url(#clip162)\" cx=\"995.696\" cy=\"1242.88\" r=\"14.4\" fill=\"#009af9\" fill-rule=\"evenodd\" fill-opacity=\"1\" stroke=\"#000000\" stroke-opacity=\"1\" stroke-width=\"3.2\"/>\n",
       "<circle clip-path=\"url(#clip162)\" cx=\"995.696\" cy=\"1333.08\" r=\"14.4\" fill=\"#009af9\" fill-rule=\"evenodd\" fill-opacity=\"1\" stroke=\"#000000\" stroke-opacity=\"1\" stroke-width=\"3.2\"/>\n",
       "<circle clip-path=\"url(#clip162)\" cx=\"995.696\" cy=\"1081.28\" r=\"14.4\" fill=\"#009af9\" fill-rule=\"evenodd\" fill-opacity=\"1\" stroke=\"#000000\" stroke-opacity=\"1\" stroke-width=\"3.2\"/>\n",
       "<circle clip-path=\"url(#clip162)\" cx=\"995.696\" cy=\"1032.43\" r=\"14.4\" fill=\"#009af9\" fill-rule=\"evenodd\" fill-opacity=\"1\" stroke=\"#000000\" stroke-opacity=\"1\" stroke-width=\"3.2\"/>\n",
       "<circle clip-path=\"url(#clip162)\" cx=\"1254.68\" cy=\"1093.23\" r=\"14.4\" fill=\"#009af9\" fill-rule=\"evenodd\" fill-opacity=\"1\" stroke=\"#000000\" stroke-opacity=\"1\" stroke-width=\"3.2\"/>\n",
       "<circle clip-path=\"url(#clip162)\" cx=\"1254.68\" cy=\"124.801\" r=\"14.4\" fill=\"#009af9\" fill-rule=\"evenodd\" fill-opacity=\"1\" stroke=\"#000000\" stroke-opacity=\"1\" stroke-width=\"3.2\"/>\n",
       "<circle clip-path=\"url(#clip162)\" cx=\"1254.68\" cy=\"1052.48\" r=\"14.4\" fill=\"#009af9\" fill-rule=\"evenodd\" fill-opacity=\"1\" stroke=\"#000000\" stroke-opacity=\"1\" stroke-width=\"3.2\"/>\n",
       "<circle clip-path=\"url(#clip162)\" cx=\"1254.68\" cy=\"1065.49\" r=\"14.4\" fill=\"#009af9\" fill-rule=\"evenodd\" fill-opacity=\"1\" stroke=\"#000000\" stroke-opacity=\"1\" stroke-width=\"3.2\"/>\n",
       "<circle clip-path=\"url(#clip162)\" cx=\"1254.68\" cy=\"1078.49\" r=\"14.4\" fill=\"#009af9\" fill-rule=\"evenodd\" fill-opacity=\"1\" stroke=\"#000000\" stroke-opacity=\"1\" stroke-width=\"3.2\"/>\n",
       "<circle clip-path=\"url(#clip162)\" cx=\"1254.68\" cy=\"1074.16\" r=\"14.4\" fill=\"#009af9\" fill-rule=\"evenodd\" fill-opacity=\"1\" stroke=\"#000000\" stroke-opacity=\"1\" stroke-width=\"3.2\"/>\n",
       "<circle clip-path=\"url(#clip162)\" cx=\"1254.68\" cy=\"1316.05\" r=\"14.4\" fill=\"#009af9\" fill-rule=\"evenodd\" fill-opacity=\"1\" stroke=\"#000000\" stroke-opacity=\"1\" stroke-width=\"3.2\"/>\n",
       "<circle clip-path=\"url(#clip162)\" cx=\"1254.68\" cy=\"1018.67\" r=\"14.4\" fill=\"#009af9\" fill-rule=\"evenodd\" fill-opacity=\"1\" stroke=\"#000000\" stroke-opacity=\"1\" stroke-width=\"3.2\"/>\n",
       "<circle clip-path=\"url(#clip162)\" cx=\"1254.68\" cy=\"512.347\" r=\"14.4\" fill=\"#009af9\" fill-rule=\"evenodd\" fill-opacity=\"1\" stroke=\"#000000\" stroke-opacity=\"1\" stroke-width=\"3.2\"/>\n",
       "<circle clip-path=\"url(#clip162)\" cx=\"1254.68\" cy=\"1009.13\" r=\"14.4\" fill=\"#009af9\" fill-rule=\"evenodd\" fill-opacity=\"1\" stroke=\"#000000\" stroke-opacity=\"1\" stroke-width=\"3.2\"/>\n",
       "<circle clip-path=\"url(#clip162)\" cx=\"1513.66\" cy=\"1356.19\" r=\"14.4\" fill=\"#009af9\" fill-rule=\"evenodd\" fill-opacity=\"1\" stroke=\"#000000\" stroke-opacity=\"1\" stroke-width=\"3.2\"/>\n",
       "<circle clip-path=\"url(#clip162)\" cx=\"1513.66\" cy=\"1162.38\" r=\"14.4\" fill=\"#009af9\" fill-rule=\"evenodd\" fill-opacity=\"1\" stroke=\"#000000\" stroke-opacity=\"1\" stroke-width=\"3.2\"/>\n",
       "<circle clip-path=\"url(#clip162)\" cx=\"1513.66\" cy=\"1351.11\" r=\"14.4\" fill=\"#009af9\" fill-rule=\"evenodd\" fill-opacity=\"1\" stroke=\"#000000\" stroke-opacity=\"1\" stroke-width=\"3.2\"/>\n",
       "<circle clip-path=\"url(#clip162)\" cx=\"1513.66\" cy=\"132.34\" r=\"14.4\" fill=\"#009af9\" fill-rule=\"evenodd\" fill-opacity=\"1\" stroke=\"#000000\" stroke-opacity=\"1\" stroke-width=\"3.2\"/>\n",
       "<circle clip-path=\"url(#clip162)\" cx=\"1513.66\" cy=\"1356.19\" r=\"14.4\" fill=\"#009af9\" fill-rule=\"evenodd\" fill-opacity=\"1\" stroke=\"#000000\" stroke-opacity=\"1\" stroke-width=\"3.2\"/>\n",
       "<circle clip-path=\"url(#clip162)\" cx=\"1513.66\" cy=\"1279.94\" r=\"14.4\" fill=\"#009af9\" fill-rule=\"evenodd\" fill-opacity=\"1\" stroke=\"#000000\" stroke-opacity=\"1\" stroke-width=\"3.2\"/>\n",
       "<circle clip-path=\"url(#clip162)\" cx=\"1513.66\" cy=\"1320.61\" r=\"14.4\" fill=\"#009af9\" fill-rule=\"evenodd\" fill-opacity=\"1\" stroke=\"#000000\" stroke-opacity=\"1\" stroke-width=\"3.2\"/>\n",
       "<circle clip-path=\"url(#clip162)\" cx=\"1513.66\" cy=\"1027.67\" r=\"14.4\" fill=\"#009af9\" fill-rule=\"evenodd\" fill-opacity=\"1\" stroke=\"#000000\" stroke-opacity=\"1\" stroke-width=\"3.2\"/>\n",
       "<circle clip-path=\"url(#clip162)\" cx=\"1513.66\" cy=\"545.373\" r=\"14.4\" fill=\"#009af9\" fill-rule=\"evenodd\" fill-opacity=\"1\" stroke=\"#000000\" stroke-opacity=\"1\" stroke-width=\"3.2\"/>\n",
       "<circle clip-path=\"url(#clip162)\" cx=\"1513.66\" cy=\"1164.92\" r=\"14.4\" fill=\"#009af9\" fill-rule=\"evenodd\" fill-opacity=\"1\" stroke=\"#000000\" stroke-opacity=\"1\" stroke-width=\"3.2\"/>\n",
       "<circle clip-path=\"url(#clip162)\" cx=\"1772.64\" cy=\"827.074\" r=\"14.4\" fill=\"#009af9\" fill-rule=\"evenodd\" fill-opacity=\"1\" stroke=\"#000000\" stroke-opacity=\"1\" stroke-width=\"3.2\"/>\n",
       "<circle clip-path=\"url(#clip162)\" cx=\"1772.64\" cy=\"1238.89\" r=\"14.4\" fill=\"#009af9\" fill-rule=\"evenodd\" fill-opacity=\"1\" stroke=\"#000000\" stroke-opacity=\"1\" stroke-width=\"3.2\"/>\n",
       "<circle clip-path=\"url(#clip162)\" cx=\"1772.64\" cy=\"1051.43\" r=\"14.4\" fill=\"#009af9\" fill-rule=\"evenodd\" fill-opacity=\"1\" stroke=\"#000000\" stroke-opacity=\"1\" stroke-width=\"3.2\"/>\n",
       "<circle clip-path=\"url(#clip162)\" cx=\"1772.64\" cy=\"1313.19\" r=\"14.4\" fill=\"#009af9\" fill-rule=\"evenodd\" fill-opacity=\"1\" stroke=\"#000000\" stroke-opacity=\"1\" stroke-width=\"3.2\"/>\n",
       "<circle clip-path=\"url(#clip162)\" cx=\"1772.64\" cy=\"1276.28\" r=\"14.4\" fill=\"#009af9\" fill-rule=\"evenodd\" fill-opacity=\"1\" stroke=\"#000000\" stroke-opacity=\"1\" stroke-width=\"3.2\"/>\n",
       "<circle clip-path=\"url(#clip162)\" cx=\"1772.64\" cy=\"572.12\" r=\"14.4\" fill=\"#009af9\" fill-rule=\"evenodd\" fill-opacity=\"1\" stroke=\"#000000\" stroke-opacity=\"1\" stroke-width=\"3.2\"/>\n",
       "<circle clip-path=\"url(#clip162)\" cx=\"1772.64\" cy=\"1154.39\" r=\"14.4\" fill=\"#009af9\" fill-rule=\"evenodd\" fill-opacity=\"1\" stroke=\"#000000\" stroke-opacity=\"1\" stroke-width=\"3.2\"/>\n",
       "<circle clip-path=\"url(#clip162)\" cx=\"1772.64\" cy=\"137.97\" r=\"14.4\" fill=\"#009af9\" fill-rule=\"evenodd\" fill-opacity=\"1\" stroke=\"#000000\" stroke-opacity=\"1\" stroke-width=\"3.2\"/>\n",
       "<circle clip-path=\"url(#clip162)\" cx=\"1772.64\" cy=\"606.6\" r=\"14.4\" fill=\"#009af9\" fill-rule=\"evenodd\" fill-opacity=\"1\" stroke=\"#000000\" stroke-opacity=\"1\" stroke-width=\"3.2\"/>\n",
       "<circle clip-path=\"url(#clip162)\" cx=\"1772.64\" cy=\"1374.86\" r=\"14.4\" fill=\"#009af9\" fill-rule=\"evenodd\" fill-opacity=\"1\" stroke=\"#000000\" stroke-opacity=\"1\" stroke-width=\"3.2\"/>\n",
       "<circle clip-path=\"url(#clip162)\" cx=\"2031.62\" cy=\"1174.97\" r=\"14.4\" fill=\"#009af9\" fill-rule=\"evenodd\" fill-opacity=\"1\" stroke=\"#000000\" stroke-opacity=\"1\" stroke-width=\"3.2\"/>\n",
       "<circle clip-path=\"url(#clip162)\" cx=\"2031.62\" cy=\"585.275\" r=\"14.4\" fill=\"#009af9\" fill-rule=\"evenodd\" fill-opacity=\"1\" stroke=\"#000000\" stroke-opacity=\"1\" stroke-width=\"3.2\"/>\n",
       "<circle clip-path=\"url(#clip162)\" cx=\"2031.62\" cy=\"1159.26\" r=\"14.4\" fill=\"#009af9\" fill-rule=\"evenodd\" fill-opacity=\"1\" stroke=\"#000000\" stroke-opacity=\"1\" stroke-width=\"3.2\"/>\n",
       "<circle clip-path=\"url(#clip162)\" cx=\"2031.62\" cy=\"1409.85\" r=\"14.4\" fill=\"#009af9\" fill-rule=\"evenodd\" fill-opacity=\"1\" stroke=\"#000000\" stroke-opacity=\"1\" stroke-width=\"3.2\"/>\n",
       "<circle clip-path=\"url(#clip162)\" cx=\"2031.62\" cy=\"1158.11\" r=\"14.4\" fill=\"#009af9\" fill-rule=\"evenodd\" fill-opacity=\"1\" stroke=\"#000000\" stroke-opacity=\"1\" stroke-width=\"3.2\"/>\n",
       "<circle clip-path=\"url(#clip162)\" cx=\"2031.62\" cy=\"1179.18\" r=\"14.4\" fill=\"#009af9\" fill-rule=\"evenodd\" fill-opacity=\"1\" stroke=\"#000000\" stroke-opacity=\"1\" stroke-width=\"3.2\"/>\n",
       "<circle clip-path=\"url(#clip162)\" cx=\"2031.62\" cy=\"663.441\" r=\"14.4\" fill=\"#009af9\" fill-rule=\"evenodd\" fill-opacity=\"1\" stroke=\"#000000\" stroke-opacity=\"1\" stroke-width=\"3.2\"/>\n",
       "<circle clip-path=\"url(#clip162)\" cx=\"2031.62\" cy=\"571.864\" r=\"14.4\" fill=\"#009af9\" fill-rule=\"evenodd\" fill-opacity=\"1\" stroke=\"#000000\" stroke-opacity=\"1\" stroke-width=\"3.2\"/>\n",
       "<circle clip-path=\"url(#clip162)\" cx=\"2031.62\" cy=\"142.335\" r=\"14.4\" fill=\"#009af9\" fill-rule=\"evenodd\" fill-opacity=\"1\" stroke=\"#000000\" stroke-opacity=\"1\" stroke-width=\"3.2\"/>\n",
       "<circle clip-path=\"url(#clip162)\" cx=\"2031.62\" cy=\"646.198\" r=\"14.4\" fill=\"#009af9\" fill-rule=\"evenodd\" fill-opacity=\"1\" stroke=\"#000000\" stroke-opacity=\"1\" stroke-width=\"3.2\"/>\n",
       "<circle clip-path=\"url(#clip162)\" cx=\"2290.6\" cy=\"1150.27\" r=\"14.4\" fill=\"#009af9\" fill-rule=\"evenodd\" fill-opacity=\"1\" stroke=\"#000000\" stroke-opacity=\"1\" stroke-width=\"3.2\"/>\n",
       "<circle clip-path=\"url(#clip162)\" cx=\"2290.6\" cy=\"1420.91\" r=\"14.4\" fill=\"#009af9\" fill-rule=\"evenodd\" fill-opacity=\"1\" stroke=\"#000000\" stroke-opacity=\"1\" stroke-width=\"3.2\"/>\n",
       "<circle clip-path=\"url(#clip162)\" cx=\"2290.6\" cy=\"1445.72\" r=\"14.4\" fill=\"#009af9\" fill-rule=\"evenodd\" fill-opacity=\"1\" stroke=\"#000000\" stroke-opacity=\"1\" stroke-width=\"3.2\"/>\n",
       "<circle clip-path=\"url(#clip162)\" cx=\"2290.6\" cy=\"639.054\" r=\"14.4\" fill=\"#009af9\" fill-rule=\"evenodd\" fill-opacity=\"1\" stroke=\"#000000\" stroke-opacity=\"1\" stroke-width=\"3.2\"/>\n",
       "<circle clip-path=\"url(#clip162)\" cx=\"2290.6\" cy=\"1166.39\" r=\"14.4\" fill=\"#009af9\" fill-rule=\"evenodd\" fill-opacity=\"1\" stroke=\"#000000\" stroke-opacity=\"1\" stroke-width=\"3.2\"/>\n",
       "<circle clip-path=\"url(#clip162)\" cx=\"2290.6\" cy=\"1147.79\" r=\"14.4\" fill=\"#009af9\" fill-rule=\"evenodd\" fill-opacity=\"1\" stroke=\"#000000\" stroke-opacity=\"1\" stroke-width=\"3.2\"/>\n",
       "<circle clip-path=\"url(#clip162)\" cx=\"2290.6\" cy=\"559.69\" r=\"14.4\" fill=\"#009af9\" fill-rule=\"evenodd\" fill-opacity=\"1\" stroke=\"#000000\" stroke-opacity=\"1\" stroke-width=\"3.2\"/>\n",
       "<circle clip-path=\"url(#clip162)\" cx=\"2290.6\" cy=\"1116.79\" r=\"14.4\" fill=\"#009af9\" fill-rule=\"evenodd\" fill-opacity=\"1\" stroke=\"#000000\" stroke-opacity=\"1\" stroke-width=\"3.2\"/>\n",
       "<circle clip-path=\"url(#clip162)\" cx=\"2290.6\" cy=\"1113.38\" r=\"14.4\" fill=\"#009af9\" fill-rule=\"evenodd\" fill-opacity=\"1\" stroke=\"#000000\" stroke-opacity=\"1\" stroke-width=\"3.2\"/>\n",
       "<circle clip-path=\"url(#clip162)\" cx=\"2290.6\" cy=\"1348.37\" r=\"14.4\" fill=\"#009af9\" fill-rule=\"evenodd\" fill-opacity=\"1\" stroke=\"#000000\" stroke-opacity=\"1\" stroke-width=\"3.2\"/>\n",
       "<path clip-path=\"url(#clip160)\" d=\"\n",
       "M1983.1 198.898 L2279.55 198.898 L2279.55 95.2176 L1983.1 95.2176  Z\n",
       "  \" fill=\"#ffffff\" fill-rule=\"evenodd\" fill-opacity=\"1\"/>\n",
       "<polyline clip-path=\"url(#clip160)\" style=\"stroke:#000000; stroke-linecap:butt; stroke-linejoin:round; stroke-width:4; stroke-opacity:1; fill:none\" points=\"\n",
       "  1983.1,198.898 2279.55,198.898 2279.55,95.2176 1983.1,95.2176 1983.1,198.898 \n",
       "  \"/>\n",
       "<circle clip-path=\"url(#clip160)\" cx=\"2080.71\" cy=\"147.058\" r=\"23.04\" fill=\"#009af9\" fill-rule=\"evenodd\" fill-opacity=\"1\" stroke=\"#000000\" stroke-opacity=\"1\" stroke-width=\"5.12\"/>\n",
       "<path clip-path=\"url(#clip160)\" d=\"M2192.16 166.745 Q2190.35 171.375 2188.64 172.787 Q2186.93 174.199 2184.06 174.199 L2180.65 174.199 L2180.65 170.634 L2183.15 170.634 Q2184.91 170.634 2185.89 169.8 Q2186.86 168.967 2188.04 165.865 L2188.8 163.921 L2178.32 138.412 L2182.83 138.412 L2190.93 158.689 L2199.03 138.412 L2203.55 138.412 L2192.16 166.745 Z\" fill=\"#000000\" fill-rule=\"evenodd\" fill-opacity=\"1\" /><path clip-path=\"url(#clip160)\" d=\"M2210.84 160.402 L2218.48 160.402 L2218.48 134.037 L2210.17 135.703 L2210.17 131.444 L2218.43 129.778 L2223.11 129.778 L2223.11 160.402 L2230.75 160.402 L2230.75 164.338 L2210.84 164.338 L2210.84 160.402 Z\" fill=\"#000000\" fill-rule=\"evenodd\" fill-opacity=\"1\" /></svg>\n"
      ]
     },
     "execution_count": 109,
     "metadata": {},
     "output_type": "execute_result"
    }
   ],
   "source": [
    "scatter(nList, densityList)"
   ]
  },
  {
   "cell_type": "code",
   "execution_count": 121,
   "id": "c07478db",
   "metadata": {},
   "outputs": [
    {
     "data": {
      "text/plain": [
       "59-element Vector{Int64}:\n",
       " 32\n",
       " 39\n",
       "  6\n",
       " 45\n",
       " 27\n",
       " 57\n",
       " 49\n",
       " 33\n",
       " 15\n",
       "  4\n",
       " 58\n",
       " 60\n",
       " 50\n",
       "  ⋮\n",
       " 55\n",
       " 41\n",
       " 38\n",
       " 47\n",
       " 36\n",
       " 17\n",
       " 11\n",
       " 53\n",
       " 48\n",
       " 42\n",
       "  1\n",
       " 20"
      ]
     },
     "execution_count": 121,
     "metadata": {},
     "output_type": "execute_result"
    }
   ],
   "source": [
    "unique(ldli.col)"
   ]
  },
  {
   "cell_type": "code",
   "execution_count": 124,
   "id": "53383664",
   "metadata": {},
   "outputs": [
    {
     "data": {
      "text/plain": [
       "60×60 SparseMatrixCSC{Float64, Int64} with 1534 stored entries:\n",
       "⠛⢿⠛⠛⠛⠛⠛⠟⠛⠋⠟⠛⠛⠛⠟⠛⠛⠟⠛⠛⠛⠛⠛⠛⠻⠻⠛⠻⠟⠛\n",
       "⠀⠌⠙⢤⠠⠠⠤⡅⠠⠀⠤⠄⢤⠤⠄⠀⠄⠄⠅⠄⠀⡁⡅⠀⡤⠠⠨⢨⡥⠤\n",
       "⠭⣭⠭⠭⢽⢭⢽⡭⠭⠭⣭⠭⣭⡭⡭⠭⠭⡭⡯⠭⠭⠭⠭⠭⣯⢭⠭⢭⣭⡭\n",
       "⣀⣈⣀⣀⣈⣀⣙⣅⣀⣀⣉⣀⣉⣃⣁⣀⣀⣁⣁⣁⣀⣀⣁⣀⣉⣈⣈⣈⣉⣉\n",
       "⣭⣭⣭⣭⣭⣭⣭⣭⣽⣭⣭⣭⣭⣭⣭⣭⣭⣭⣭⣭⣭⣭⣯⣭⣭⣽⣭⣭⣭⣭\n",
       "⠀⣲⠀⠀⢰⢀⣴⡇⠀⠀⣷⣄⣒⣆⡃⠀⡀⡇⡄⡆⠀⠀⡄⠀⣾⢸⢠⢸⣗⣤\n",
       "⠀⣀⠀⠀⢀⢀⢀⡀⠀⠀⣀⠀⣙⣄⡀⠀⡀⡀⡀⡁⠀⠀⠀⠀⣁⢀⢀⢀⣈⠀\n",
       "⠶⠶⠶⠶⠶⠶⠶⠶⠶⠶⠶⠶⠶⠶⠷⢶⠶⠶⠶⠶⠶⠶⠶⠶⠾⠶⠶⠶⠶⠶\n",
       "⣒⣒⣒⣒⣒⣒⣒⣒⣒⣒⣒⣒⣒⣒⣖⣒⡓⣖⣒⣒⡒⣒⣒⣒⣲⣒⣒⣒⣒⣒\n",
       "⣒⣒⣒⣒⣒⣒⣒⣒⣒⣒⣒⣒⣒⣒⣒⣒⣒⣒⣓⣖⣒⣒⣒⣒⣒⣒⣒⣒⣒⣒\n",
       "⠛⣛⡛⠛⢛⠛⣛⡟⠛⠛⣛⡛⣛⡛⡛⠛⠛⡛⡛⡛⠛⢟⡟⠛⣛⢛⢛⢻⣟⢛\n",
       "⣶⣶⣶⣶⣶⣶⣶⣶⣶⣶⣶⣶⣶⣶⣶⣶⣶⣶⣶⣶⣶⣶⣷⣶⣶⣶⣶⣶⣶⣶\n",
       "⠀⠀⠀⠀⠀⠀⠀⠄⠀⠀⠀⠀⠠⠀⠀⠀⠀⠀⠀⠀⠀⠄⠄⠀⠑⢄⠀⠠⠄⠀\n",
       "⠥⠩⠉⠭⠭⠩⠭⡭⠩⠍⠩⠭⠍⠍⠭⠭⠭⠭⠍⠍⠭⠭⠯⠭⠭⠭⠹⢭⡭⠭\n",
       "⠀⠀⠀⠀⠀⠀⠀⠄⠀⠀⠀⠀⠀⠀⠀⠀⠀⠀⠀⠂⠀⠀⠀⠀⠀⠀⠀⠠⠕⢄"
      ]
     },
     "execution_count": 124,
     "metadata": {},
     "output_type": "execute_result"
    }
   ],
   "source": [
    "sparse(inv(Matrix(Linv)))"
   ]
  },
  {
   "cell_type": "code",
   "execution_count": 132,
   "id": "ff900288",
   "metadata": {},
   "outputs": [
    {
     "name": "stdout",
     "output_type": "stream",
     "text": [
      "lower: 0.6378287213071996, upper: 1.6315815406925598\n"
     ]
    },
    {
     "data": {
      "text/plain": [
       "2.5580245702148865"
      ]
     },
     "execution_count": 132,
     "metadata": {},
     "output_type": "execute_result"
    }
   ],
   "source": [
    "Lap.condNumber(G, ldli; verbose = true)"
   ]
  },
  {
   "cell_type": "code",
   "execution_count": 128,
   "id": "3d980230",
   "metadata": {},
   "outputs": [
    {
     "data": {
      "text/plain": [
       "1.3438362135446234e16"
      ]
     },
     "execution_count": 128,
     "metadata": {},
     "output_type": "execute_result"
    }
   ],
   "source": [
    "cond(Matrix(originalApplyLDLi(ldli, Lap.lap(G))))"
   ]
  },
  {
   "cell_type": "code",
   "execution_count": 130,
   "id": "f75b7000",
   "metadata": {},
   "outputs": [
    {
     "data": {
      "text/plain": [
       "#23 (generic function with 1 method)"
      ]
     },
     "execution_count": 130,
     "metadata": {},
     "output_type": "execute_result"
    }
   ],
   "source": [
    "g = function(b)\n",
    "    b + 1\n",
    "end"
   ]
  },
  {
   "cell_type": "code",
   "execution_count": 131,
   "id": "86f260be",
   "metadata": {},
   "outputs": [
    {
     "data": {
      "text/plain": [
       "3"
      ]
     },
     "execution_count": 131,
     "metadata": {},
     "output_type": "execute_result"
    }
   ],
   "source": [
    "g(2)"
   ]
  },
  {
   "cell_type": "code",
   "execution_count": 171,
   "id": "6311c1fd",
   "metadata": {},
   "outputs": [
    {
     "data": {
      "text/plain": [
       "60×60 SparseMatrixCSC{Float64, Int64} with 529 stored entries:\n",
       "⠗⣄⡀⠁⡀⣆⠀⠀⠀⠒⠠⠢⠀⢠⠠⠂⠐⠨⠐⠀⠊⠀⠘⠺⠀⠀⠀⠀⠀⠀\n",
       "⡊⠀⠓⣄⡃⠁⠀⢀⠀⠈⢀⠀⠀⠀⢀⠀⠘⠀⠀⠀⡈⠈⢨⣠⠀⠀⢈⠈⠀⠀\n",
       "⡅⠀⠀⠆⡑⣄⠅⠀⠃⠅⠐⠄⠀⢀⠸⠂⠈⢐⢀⠀⣌⠀⢸⣮⠀⡄⠀⡆⠀⠀\n",
       "⣁⠀⠀⠆⡐⠒⡑⢤⠀⡀⠄⡐⡀⠀⠀⡀⢀⠈⠠⠀⠈⠄⠈⢊⠀⠀⢀⢢⠀⠀\n",
       "⡐⠀⠀⠂⠀⡁⡅⠀⠑⣌⠀⡅⠀⠀⢨⠂⠀⠨⠐⠐⣑⠀⢸⣥⠀⠅⠀⠁⠀⠀\n",
       "⡄⠀⠀⡄⠂⠐⠆⠀⠀⢂⠑⣏⠂⠈⢀⠂⠀⢰⢀⠈⢠⠈⢨⢸⠀⠀⠂⠈⠀⠀\n",
       "⠀⠀⠀⡒⠁⠀⠣⠀⠁⢠⠐⡨⠓⢤⢈⠁⠀⢈⢘⠀⢁⠀⢀⣡⠀⠃⠀⠀⠀⠀\n",
       "⠀⠁⠀⠆⠀⠁⠆⠀⠁⢄⠁⠂⠀⠀⠹⢄⠀⠸⠠⠈⠰⠈⠰⠶⠀⠄⠀⠀⠀⠀\n",
       "⠋⠀⠀⡃⠀⠀⠀⠀⠀⠒⠄⠆⠀⠸⠠⠄⠙⢄⠀⠀⢲⠀⢀⢐⠀⠂⠅⠄⠀⠀\n",
       "⠂⠀⠁⠂⠉⢀⠅⠠⠀⡂⠀⠂⡀⠀⢀⠀⠀⠘⠑⢄⣐⢀⢘⡃⠀⡂⠀⠂⠠⠀\n",
       "⠀⠀⠄⠧⠀⡀⡀⠀⡄⡡⠀⡀⠀⠀⠈⠁⠀⢈⢀⠀⡙⢄⠐⣝⠀⠁⢠⠡⠀⠀\n",
       "⠄⠀⠀⠀⠀⠀⠄⠀⠈⠀⠀⠄⠀⠀⠀⠀⠀⠠⠀⠀⠨⠁⠱⢼⠀⠀⠈⠀⠀⠀\n",
       "⠄⠀⠀⡌⠈⡁⠄⠀⣂⠀⡀⠐⠁⠀⢺⠀⠀⠢⠀⢀⠠⠀⠨⡦⠑⢄⠀⠂⠀⠀\n",
       "⣔⠀⠀⠅⠂⢁⠃⠀⠀⡝⠀⡇⠀⢘⠠⠂⠈⢠⢀⠀⠸⠀⢸⠜⠀⡄⠑⣄⠀⠀\n",
       "⠠⠀⠀⡀⠀⡐⡃⠰⠀⠁⠀⣀⠂⠀⠈⠆⠠⠠⠠⠀⠆⠀⠈⢂⠀⠀⡀⠮⠑⢅"
      ]
     },
     "execution_count": 171,
     "metadata": {},
     "output_type": "execute_result"
    }
   ],
   "source": [
    "t = Lap.ldli2Chol(ldli)"
   ]
  },
  {
   "cell_type": "code",
   "execution_count": 172,
   "id": "ad113f11",
   "metadata": {},
   "outputs": [
    {
     "data": {
      "text/plain": [
       "60×60 SparseMatrixCSC{Float64, Int64} with 3038 stored entries:\n",
       "⢿⣷⣿⢿⡿⣿⢿⢻⡟⢿⣿⠿⡿⣿⡿⠗⣿⡿⡿⢸⠿⣻⠿⠿⡷⢿⣿⢿⢗⢿\n",
       "⣿⣟⣟⣽⣯⣿⣯⣽⣭⣽⣽⣿⣣⣭⣩⡍⣿⣩⣿⣨⣭⣯⣭⣧⣅⣯⣿⣿⣅⣫\n",
       "⣿⣯⣯⣿⣿⣿⣷⣾⣿⣿⣿⣿⣿⣽⣿⡇⣿⣿⣿⢽⣿⣿⣽⣯⣿⣿⣿⣿⣿⣿\n",
       "⣿⣓⣏⣿⣹⣿⡱⣮⣻⣛⣟⣿⣿⣻⢿⡇⣿⣿⣻⣝⣿⣾⣍⣋⡓⡷⣏⣿⣽⣿\n",
       "⣿⣍⣇⣿⣿⣿⣿⢺⣿⣿⣿⣿⣿⣽⣿⣏⣺⣿⣿⣽⣿⣿⣾⣧⣯⣿⣿⣿⣿⣿\n",
       "⣿⡟⣷⣿⣿⣿⣿⣽⣿⣿⣿⣿⣷⣿⣿⣇⣿⣿⣿⢾⣿⣽⣿⣿⣏⣯⣿⣿⡷⣿\n",
       "⣿⣯⡍⣾⣟⣿⣿⣻⣟⣿⣽⣿⣟⣽⣹⣧⣾⣽⣛⢛⣷⣿⣤⣧⣫⣟⣿⣻⣛⣻\n",
       "⢿⠏⡇⠾⠿⠿⠿⠷⡿⢿⠿⢿⠷⣾⠿⢇⢶⠿⠿⠾⠷⡿⠶⠷⠿⠿⣷⠿⠷⠿\n",
       "⣿⡿⡟⣻⣿⣿⣿⣿⣾⣾⣿⣿⣞⣿⣼⡗⣿⣿⣸⢰⣿⣳⣖⣗⡤⣿⣿⣿⡶⣿\n",
       "⣛⣋⡛⣻⣟⣟⣟⢾⣟⣿⣻⣟⣿⢘⣻⡇⢒⣚⣟⢝⣛⣻⣚⡇⣛⣟⣿⣛⣿⡿\n",
       "⣿⣣⡧⣿⣿⣿⣻⣿⣿⣿⣟⣿⣽⣿⣽⡧⢿⣻⣿⣸⣿⣿⣟⣟⣯⣿⣿⣿⣯⣽\n",
       "⣿⡇⠧⣿⡷⣿⡧⢹⠾⣿⣿⣿⠤⣿⢼⡇⢼⢽⠾⠼⣿⢽⣿⣿⠦⡯⣿⠷⠦⢼\n",
       "⣽⣏⡥⣽⣿⣿⢽⡬⣯⣿⡯⣽⣯⢾⣿⡇⣤⣯⣿⢼⣯⣿⡬⡧⣿⣿⡭⡿⣿⢾\n",
       "⣿⣟⣿⣿⣿⣿⣯⣽⣿⣿⣿⣿⣿⣻⣽⡟⣿⣿⣿⢻⣿⣿⢿⡟⣧⡯⣿⣿⣿⣿\n",
       "⣽⣕⡥⣹⣿⣿⣷⣿⣿⣿⣽⣯⣿⣸⣽⡇⣼⣯⣿⡿⣏⣿⣈⣇⣻⣟⣿⣿⣿⢟"
      ]
     },
     "execution_count": 172,
     "metadata": {},
     "output_type": "execute_result"
    }
   ],
   "source": [
    "approxLap = t * t'"
   ]
  },
  {
   "cell_type": "code",
   "execution_count": 173,
   "id": "b5c9cd1d",
   "metadata": {},
   "outputs": [
    {
     "data": {
      "text/plain": [
       "60×60 SparseMatrixCSC{Float64, Int64} with 610 stored entries:\n",
       "⠕⣥⡊⠈⡀⣍⠁⠘⠐⠒⠠⠩⠀⢠⠄⠀⠋⠠⠀⠀⠂⠀⠐⠲⠀⠁⠐⠈⠀⠂\n",
       "⡊⠈⠛⢄⡂⠁⠠⢄⠠⠀⠀⠀⢠⠠⢀⠀⠼⠠⠁⠀⡬⡉⠨⢀⡀⠠⠈⠄⠀⠠\n",
       "⡄⢬⠌⠈⠑⢄⢰⠈⠃⠠⢘⠀⠀⠀⠜⠂⠈⢀⠃⢀⢄⠀⠰⠎⠆⠤⠈⢂⢀⠠\n",
       "⣁⠀⠀⢆⡐⠒⡑⣬⠁⡈⠌⡁⠈⠂⠀⠀⢀⠀⠡⡁⠀⠌⠀⠂⠀⠀⠈⠢⠁⡈\n",
       "⢰⠀⠀⠂⠉⡀⡁⠠⡑⣬⠠⣀⠁⡀⠡⢂⢠⠀⠰⠰⡁⡉⠲⡀⠈⠝⣄⠄⠄⠀\n",
       "⡄⡂⠀⠀⠒⠐⠆⠡⠀⢢⡱⢎⡐⡈⠁⠀⠀⠅⢀⠀⢀⠠⠈⠸⢀⠈⠆⠄⠀⢠\n",
       "⠀⣀⠀⡒⠀⠀⠢⠀⠁⠠⡐⠨⠛⣤⠀⠁⡀⡈⢐⠈⢁⠀⠀⡡⠁⠂⣀⠀⠈⠀\n",
       "⠀⠁⠀⠐⠲⠁⠀⠀⠡⢂⠁⠀⠄⠀⠑⢄⠀⠎⠀⠈⠠⠈⠀⠀⠚⠔⠠⠀⠢⠄\n",
       "⠋⡀⠒⡃⠂⢀⠀⠐⠀⠒⠄⠄⡀⠨⡠⠄⠛⢄⡀⠀⢠⢀⠀⠀⠠⡂⠅⡀⠀⡂\n",
       "⠀⠀⠁⠀⠉⢀⠅⠢⢐⡂⠀⠐⡐⠐⡀⠀⠀⠈⠑⢄⡐⠐⠈⠁⠀⣀⠀⠐⠠⠂\n",
       "⠈⠀⡆⠫⠀⠑⡀⠄⡅⠨⠀⡐⠁⠐⡀⠂⠀⢒⢐⠈⡑⢌⠆⣄⠀⠀⠐⠀⠈⠁\n",
       "⢰⡀⠂⢂⡰⠆⠠⠀⠘⠢⣂⡀⠄⡠⠀⠀⠀⠀⠆⠀⠈⢥⡑⢌⠢⠠⠚⠂⠢⢀\n",
       "⠄⠀⠀⡈⠈⡅⠀⠀⣆⠄⡀⠐⠡⠀⢚⠄⠠⠢⠀⢠⠀⠀⠈⡂⠑⢄⠀⠢⠀⠀\n",
       "⡐⠀⠂⠄⠢⢀⠢⡀⠀⠝⠈⠅⠀⠘⠀⠂⠁⠡⢀⠀⠐⠀⠺⠀⠠⡀⠑⣤⡠⠌\n",
       "⠠⠀⠀⡀⠀⡐⡁⠠⠀⠁⠀⣀⠂⠀⠈⠆⠠⠠⠠⠂⠆⠀⠈⢂⠀⠀⡀⠎⠕⢅"
      ]
     },
     "execution_count": 173,
     "metadata": {},
     "output_type": "execute_result"
    }
   ],
   "source": [
    "la = Lap.lap(G)"
   ]
  },
  {
   "cell_type": "code",
   "execution_count": 174,
   "id": "7438d391",
   "metadata": {},
   "outputs": [
    {
     "data": {
      "text/plain": [
       "5×5 SparseMatrixCSC{Float64, Int64} with 13 stored entries:\n",
       " 13.0    ⋅   -1.0    ⋅     ⋅ \n",
       "   ⋅   12.0    ⋅     ⋅   -1.0\n",
       " -1.0    ⋅    9.0  -1.0    ⋅ \n",
       "   ⋅     ⋅   -1.0   6.0  -1.0\n",
       "   ⋅   -1.0    ⋅   -1.0  11.0"
      ]
     },
     "execution_count": 174,
     "metadata": {},
     "output_type": "execute_result"
    }
   ],
   "source": [
    "la[1:5,1:5]"
   ]
  },
  {
   "cell_type": "code",
   "execution_count": 175,
   "id": "f95ca8d3",
   "metadata": {},
   "outputs": [
    {
     "data": {
      "text/plain": [
       "5×5 SparseMatrixCSC{Float64, Int64} with 23 stored entries:\n",
       " 10.7348     -0.0333667  -0.535393    ⋅          0.622737\n",
       " -0.0333667  12.6082      0.388596   0.0986108  -0.558575\n",
       " -0.535393    0.388596   10.5932    -0.745948    0.277072\n",
       "   ⋅          0.0986108  -0.745948   7.0        -0.99635\n",
       "  0.622737   -0.558575    0.277072  -0.99635    10.9555"
      ]
     },
     "execution_count": 175,
     "metadata": {},
     "output_type": "execute_result"
    }
   ],
   "source": [
    "approxLap[1:5,1:5]"
   ]
  },
  {
   "cell_type": "code",
   "execution_count": 176,
   "id": "6c4fc97e",
   "metadata": {},
   "outputs": [
    {
     "data": {
      "text/plain": [
       "5×5 SparseMatrixCSC{Float64, Int64} with 15 stored entries:\n",
       " 3.46869      -0.451159  -0.380838      2.46331e-16  -2.11636e-16\n",
       " 1.50671e-16   6.20631   -5.32675e-16  -4.68375e-17  -0.538462\n",
       "  ⋅             ⋅         3.48623      -1.0            ⋅ \n",
       "  ⋅             ⋅          ⋅            6.0            ⋅ \n",
       "  ⋅             ⋅          ⋅           -1.0           5.28292"
      ]
     },
     "execution_count": 176,
     "metadata": {},
     "output_type": "execute_result"
    }
   ],
   "source": [
    "invLinv = sparse(inv(Matrix(Linv)))\n",
    "invLinv[1:5, 1:5]"
   ]
  },
  {
   "cell_type": "code",
   "execution_count": 177,
   "id": "5b86f234",
   "metadata": {},
   "outputs": [
    {
     "data": {
      "text/plain": [
       "5×5 SparseMatrixCSC{Float64, Int64} with 10 stored entries:\n",
       "  2.96395     ⋅          ⋅         ⋅         ⋅ \n",
       " -0.246126   3.3858      ⋅         ⋅         ⋅ \n",
       " -0.330516    ⋅         3.02557    ⋅         ⋅ \n",
       "   ⋅          ⋅        -0.408248  2.44949  -0.408248\n",
       "   ⋅        -0.319257    ⋅         ⋅        3.13227"
      ]
     },
     "execution_count": 177,
     "metadata": {},
     "output_type": "execute_result"
    }
   ],
   "source": [
    "t[1:5, 1:5]"
   ]
  },
  {
   "cell_type": "code",
   "execution_count": 181,
   "id": "2bb62e30",
   "metadata": {},
   "outputs": [
    {
     "data": {
      "text/plain": [
       "60-element Vector{Float64}:\n",
       " 1.3695910979604948\n",
       " 3.360035999327004\n",
       " 1.3276890530316605\n",
       " 5.9999999999999964\n",
       " 2.8446488740959874\n",
       " 3.999999999999999\n",
       " 0.24063776685835808\n",
       " 9.031994047619042\n",
       " 2.648346439693239\n",
       " 3.4421848739495826\n",
       " 2.0762256450737655\n",
       " 3.1995650209531115\n",
       " 1.1199817597224884\n",
       " ⋮\n",
       " 5.9999999999999964\n",
       " 6.999999999999989\n",
       " 4.769330478291857\n",
       " 7.999999999999986\n",
       " 3.960750536675944\n",
       " 4.056007609141774\n",
       " 2.814047164788954\n",
       " 4.275259652832477\n",
       " 5.9999999999999964\n",
       " 6.9999999999999964\n",
       " 8.16666666666665\n",
       " 6.999999999999989"
      ]
     },
     "execution_count": 181,
     "metadata": {},
     "output_type": "execute_result"
    }
   ],
   "source": [
    "dd = [d == 0 ? 1.0 : 1/d for d in ldli.d]"
   ]
  },
  {
   "cell_type": "code",
   "execution_count": 182,
   "id": "f5d86ac4",
   "metadata": {},
   "outputs": [
    {
     "data": {
      "text/plain": [
       "60×60 Matrix{Float64}:\n",
       " 11.7214       -0.539289     -1.0          …   5.63193e-15   5.99478e-16\n",
       " -0.539289     12.1977       -2.04815e-14     -1.0          -1.91686e-14\n",
       " -1.0          -1.88751e-14   9.45283         -1.30561e-14   2.3734e-14\n",
       " -1.50271e-14  -8.31513e-16  -1.0             -7.78276e-15   9.05721e-15\n",
       "  0.25         -1.0           0.166667        -1.43942e-14  -1.28168e-14\n",
       " -1.0          -5.4779e-15    7.11242e-16  …   9.05566e-15   1.13561e-14\n",
       "  0.0363828     0.303653      2.21489e-14     -1.32987e-14  -1.0\n",
       " -1.0           2.22964e-14   6.49125e-15     -3.02514e-14   1.76556e-14\n",
       "  0.214008      0.351706      0.166667         2.2985e-14    1.84071e-14\n",
       "  1.02979e-14  -2.66839e-14   1.29752e-14     -7.12899e-15  -1.33651e-14\n",
       " -0.536843     -0.715902     -2.32704      …   4.44369e-14  -1.0\n",
       " -1.43857       0.0210041     0.166667        -4.53659e-15   6.48231e-15\n",
       " -1.33572       0.202681     -4.60743e-15      0.166667     -1.0\n",
       "  ⋮                                        ⋱                \n",
       " -1.28444e-14   1.01411e-14   4.18603e-15     -2.40536e-15  -1.89871e-14\n",
       "  6.38769e-15  -5.08067e-17   1.65059e-14      2.95741e-14  -4.33015e-15\n",
       " -0.804902      0.0210041    -1.47165e-14  …  -1.89753e-14   1.25716e-14\n",
       "  1.26851e-14  -1.2172e-14   -1.24135e-14     -4.13802e-14  -2.12057e-14\n",
       "  0.166667      0.166667      8.82627e-15     -4.93017e-14  -1.0\n",
       "  0.0775823    -0.860858      1.4234e-14      -2.13488e-14  -3.20192e-14\n",
       " -0.163463      0.143453      4.39559e-15     -1.0          -5.97521e-15\n",
       " -0.929084     -0.0517718    -1.07598e-15  …   1.06107e-14  -2.92433e-14\n",
       "  6.05912e-15   3.10862e-15  -5.31549e-15     -1.0           4.55181e-15\n",
       " -1.75565e-14  -5.78091e-15   7.12864e-15     -1.89759e-14  -3.14594e-15\n",
       "  1.82826e-14  -1.0          -1.39107e-14      8.33333       1.88917e-14\n",
       " -3.55271e-15  -2.44249e-14   1.68754e-14      1.48582e-14   7.0"
      ]
     },
     "execution_count": 182,
     "metadata": {},
     "output_type": "execute_result"
    }
   ],
   "source": [
    "inv(Matrix(LTinv * sparse(diagm(dd)) * Linv))"
   ]
  },
  {
   "cell_type": "code",
   "execution_count": 160,
   "id": "67e2264f",
   "metadata": {},
   "outputs": [
    {
     "data": {
      "text/plain": [
       "60-element Vector{Float64}:\n",
       " 2.2369657142426926\n",
       " 0.16754170334265542\n",
       " 0.3739699659383328\n",
       " 0.16666666666666677\n",
       " 0.7142423652084936\n",
       " 0.25000000000000006\n",
       " 0.2192343973993776\n",
       " 0.11278231013954076\n",
       " 0.3269174216029858\n",
       " 0.29051315853718074\n",
       " 1.074548741964224\n",
       " 0.12495044836693966\n",
       " 0.2842890230754147\n",
       " ⋮\n",
       " 0.16666666666666677\n",
       " 0.14285714285714307\n",
       " 0.15824317352434922\n",
       " 0.12500000000000022\n",
       " 0.7992870439711255\n",
       " 0.1086956521739129\n",
       " 0.5060842021516294\n",
       " 0.1714285714285715\n",
       " 0.16666666666666677\n",
       " 0.15789473684210537\n",
       " 0.10179350460494412\n",
       " 0.14285714285714307"
      ]
     },
     "execution_count": 160,
     "metadata": {},
     "output_type": "execute_result"
    }
   ],
   "source": [
    "ldli.d"
   ]
  },
  {
   "cell_type": "code",
   "execution_count": 184,
   "id": "511a2500",
   "metadata": {},
   "outputs": [
    {
     "data": {
      "text/plain": [
       "10×10 Matrix{Float64}:\n",
       " 1.0  0.0  0.0  0.0  0.0  0.0  0.0  0.0  0.0  0.0\n",
       " 0.0  1.0  0.0  0.0  0.0  0.0  0.0  0.0  0.0  0.0\n",
       " 0.0  0.0  1.0  0.0  0.0  0.0  0.0  0.0  0.0  0.0\n",
       " 0.0  0.0  0.0  1.0  0.0  0.0  0.0  0.0  0.0  0.0\n",
       " 0.0  0.0  0.0  0.0  1.0  0.0  0.0  0.0  0.0  0.0\n",
       " 0.0  0.0  0.0  0.0  0.0  1.0  0.0  0.0  0.0  0.0\n",
       " 0.0  0.0  0.0  0.0  0.0  0.0  1.0  0.0  0.0  0.0\n",
       " 0.0  0.0  0.0  0.0  0.0  0.0  0.0  1.0  0.0  0.0\n",
       " 0.0  0.0  0.0  0.0  0.0  0.0  0.0  0.0  1.0  0.0\n",
       " 0.0  0.0  0.0  0.0  0.0  0.0  0.0  0.0  0.0  1.0"
      ]
     },
     "execution_count": 184,
     "metadata": {},
     "output_type": "execute_result"
    }
   ],
   "source": [
    "m = Matrix(1.0I, 10, 10)"
   ]
  },
  {
   "cell_type": "code",
   "execution_count": 188,
   "id": "8de9d72c",
   "metadata": {},
   "outputs": [
    {
     "data": {
      "text/plain": [
       "10-element Vector{Float64}:\n",
       " -1.302870490570615\n",
       "  0.2749312403310572\n",
       "  1.1789826867769775\n",
       " -0.1824552498288733\n",
       "  1.0161352046694263\n",
       "  1.6619906606295904\n",
       "  0.8199863385149838\n",
       "  0.44122963135303345\n",
       " -0.6994764539671474\n",
       "  1.7402048133531942"
      ]
     },
     "execution_count": 188,
     "metadata": {},
     "output_type": "execute_result"
    }
   ],
   "source": [
    "t = randn(10)\n",
    "m[:, 2] = t"
   ]
  },
  {
   "cell_type": "code",
   "execution_count": 189,
   "id": "47b2b57f",
   "metadata": {},
   "outputs": [
    {
     "data": {
      "text/plain": [
       "10×10 Matrix{Float64}:\n",
       " 1.0  -1.30287   0.0  0.0  0.0  0.0  0.0  0.0  0.0  0.0\n",
       " 0.0   0.274931  0.0  0.0  0.0  0.0  0.0  0.0  0.0  0.0\n",
       " 0.0   1.17898   1.0  0.0  0.0  0.0  0.0  0.0  0.0  0.0\n",
       " 0.0  -0.182455  0.0  1.0  0.0  0.0  0.0  0.0  0.0  0.0\n",
       " 0.0   1.01614   0.0  0.0  1.0  0.0  0.0  0.0  0.0  0.0\n",
       " 0.0   1.66199   0.0  0.0  0.0  1.0  0.0  0.0  0.0  0.0\n",
       " 0.0   0.819986  0.0  0.0  0.0  0.0  1.0  0.0  0.0  0.0\n",
       " 0.0   0.44123   0.0  0.0  0.0  0.0  0.0  1.0  0.0  0.0\n",
       " 0.0  -0.699476  0.0  0.0  0.0  0.0  0.0  0.0  1.0  0.0\n",
       " 0.0   1.7402    0.0  0.0  0.0  0.0  0.0  0.0  0.0  1.0"
      ]
     },
     "execution_count": 189,
     "metadata": {},
     "output_type": "execute_result"
    }
   ],
   "source": [
    "m"
   ]
  },
  {
   "cell_type": "code",
   "execution_count": 194,
   "id": "7680c2ca",
   "metadata": {},
   "outputs": [
    {
     "data": {
      "text/plain": [
       "10×10 Matrix{Float64}:\n",
       " 1.0   4.7389   0.0  -0.0  -0.0  -0.0  0.0  -0.0  -0.0  0.0\n",
       " 0.0   3.63727  0.0  -0.0  -0.0  -0.0  0.0  -0.0  -0.0  0.0\n",
       " 0.0  -4.28828  1.0  -0.0   0.0  -0.0  0.0  -0.0   0.0  0.0\n",
       " 0.0   0.66364  0.0   1.0  -0.0  -0.0  0.0  -0.0  -0.0  0.0\n",
       " 0.0  -3.69596  0.0   0.0   1.0  -0.0  0.0  -0.0   0.0  0.0\n",
       " 0.0  -6.04511  0.0   0.0   0.0   1.0  0.0  -0.0   0.0  0.0\n",
       " 0.0  -2.98251  0.0   0.0   0.0   0.0  1.0  -0.0   0.0  0.0\n",
       " 0.0  -1.60487  0.0   0.0   0.0   0.0  0.0   1.0   0.0  1.99017e-19\n",
       " 0.0   2.54419  0.0   0.0   0.0   0.0  0.0   0.0   1.0  0.0\n",
       " 0.0  -6.3296   0.0   0.0   0.0   0.0  0.0   0.0   0.0  1.0"
      ]
     },
     "execution_count": 194,
     "metadata": {},
     "output_type": "execute_result"
    }
   ],
   "source": [
    "invm = inv(m)"
   ]
  },
  {
   "cell_type": "code",
   "execution_count": 195,
   "id": "5cf66d79",
   "metadata": {},
   "outputs": [
    {
     "data": {
      "text/plain": [
       "10-element Vector{Float64}:\n",
       "  4.738895765362166\n",
       "  3.6372730825200312\n",
       " -4.288281991371045\n",
       "  0.6636395689670284\n",
       " -3.6959612281450873\n",
       " -6.045113893307693\n",
       " -2.982514237114709\n",
       " -1.604872661330625\n",
       "  2.544186877871267\n",
       " -6.3296001256813685"
      ]
     },
     "execution_count": 195,
     "metadata": {},
     "output_type": "execute_result"
    }
   ],
   "source": [
    "tt = invm[:, 2]"
   ]
  },
  {
   "cell_type": "code",
   "execution_count": 204,
   "id": "ffce4e35",
   "metadata": {},
   "outputs": [
    {
     "ename": "LoadError",
     "evalue": "MethodError: no method matching getindex(::typeof(inv), ::Int64, ::Int64)",
     "output_type": "error",
     "traceback": [
      "MethodError: no method matching getindex(::typeof(inv), ::Int64, ::Int64)",
      "",
      "Stacktrace:",
      " [1] top-level scope",
      "   @ In[204]:1",
      " [2] eval",
      "   @ ./boot.jl:368 [inlined]",
      " [3] include_string(mapexpr::typeof(REPL.softscope), mod::Module, code::String, filename::String)",
      "   @ Base ./loading.jl:1428"
     ]
    }
   ],
   "source": [
    "1 / inv[2,2]"
   ]
  },
  {
   "cell_type": "code",
   "execution_count": 198,
   "id": "aded85df",
   "metadata": {},
   "outputs": [
    {
     "data": {
      "text/plain": [
       "10×10 Matrix{Float64}:\n",
       " 1.0  -1.29277e-16  0.0  0.0  0.0  0.0  0.0  0.0  0.0  0.0\n",
       " 0.0   1.0          0.0  0.0  0.0  0.0  0.0  0.0  0.0  0.0\n",
       " 0.0   0.0          1.0  0.0  0.0  0.0  0.0  0.0  0.0  0.0\n",
       " 0.0   0.0          0.0  1.0  0.0  0.0  0.0  0.0  0.0  0.0\n",
       " 0.0  -4.44089e-16  0.0  0.0  1.0  0.0  0.0  0.0  0.0  0.0\n",
       " 0.0   0.0          0.0  0.0  0.0  1.0  0.0  0.0  0.0  0.0\n",
       " 0.0   0.0          0.0  0.0  0.0  0.0  1.0  0.0  0.0  0.0\n",
       " 0.0   0.0          0.0  0.0  0.0  0.0  0.0  1.0  0.0  1.99017e-19\n",
       " 0.0   0.0          0.0  0.0  0.0  0.0  0.0  0.0  1.0  0.0\n",
       " 0.0   0.0          0.0  0.0  0.0  0.0  0.0  0.0  0.0  1.0"
      ]
     },
     "execution_count": 198,
     "metadata": {},
     "output_type": "execute_result"
    }
   ],
   "source": [
    "m * invm"
   ]
  },
  {
   "cell_type": "code",
   "execution_count": null,
   "id": "ce8759a3",
   "metadata": {},
   "outputs": [],
   "source": []
  }
 ],
 "metadata": {
  "kernelspec": {
   "display_name": "Julia 1.8.0",
   "language": "julia",
   "name": "julia-1.8"
  },
  "language_info": {
   "file_extension": ".jl",
   "mimetype": "application/julia",
   "name": "julia",
   "version": "1.8.0"
  }
 },
 "nbformat": 4,
 "nbformat_minor": 5
}
