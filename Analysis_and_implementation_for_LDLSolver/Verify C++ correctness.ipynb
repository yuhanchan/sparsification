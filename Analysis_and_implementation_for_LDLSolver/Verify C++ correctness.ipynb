{
 "cells": [
  {
   "cell_type": "code",
   "execution_count": 1,
   "id": "b7cde4ba",
   "metadata": {},
   "outputs": [],
   "source": [
    "using LinearAlgebra\n",
    "using SparseArrays\n",
    "using Statistics\n",
    "import Laplacians as Lap\n",
    "include(\"Laplacians.jl/src/Laplacians.jl\")\n",
    "import .Laplacians as LapM\n",
    "import Random\n",
    "using Plots\n",
    "using BenchmarkTools\n",
    "using CUDA\n",
    "using Graphs\n",
    "using SNAPDatasets\n",
    "using GraphIO\n",
    "using PProf"
   ]
  },
  {
   "cell_type": "code",
   "execution_count": 2,
   "id": "5ac921b6",
   "metadata": {},
   "outputs": [
    {
     "data": {
      "text/plain": [
       "cmpldli (generic function with 1 method)"
      ]
     },
     "execution_count": 2,
     "metadata": {},
     "output_type": "execute_result"
    }
   ],
   "source": [
    "function loadMatCSCfromBinary(fname)\n",
    "    mn = Array{Int64, 1}(undef, 2)\n",
    "    open(fname, \"r\") do file\n",
    "      read!(file, mn)\n",
    "    end\n",
    "    m = mn[1]\n",
    "    n = mn[2]\n",
    "    colptr = Array{Int64, 1}(undef, n+1)\n",
    "    open(fname, \"r\") do file\n",
    "      read!(file, mn)\n",
    "      read!(file, colptr)\n",
    "    end\n",
    "    rowval = Array{Int64, 1}(undef, colptr[n+1]-1)\n",
    "    nzval = Array{Float64, 1}(undef, colptr[n+1]-1)\n",
    "    open(fname, \"r\") do file\n",
    "      read!(file, mn)\n",
    "      read!(file, colptr)\n",
    "      read!(file, rowval)\n",
    "      read!(file, nzval)\n",
    "    end\n",
    "    spmat = SparseMatrixCSC{Float64, Int64}(m, n, colptr, rowval, nzval)\n",
    "    return spmat\n",
    "end\n",
    "\n",
    "function loadRandNumsFromBinary(fname)\n",
    "    rnums = Array{Float64, 1}(undef, 5000000)\n",
    "    open(fname, \"r\") do file\n",
    "        read!(file, rnums)\n",
    "    end\n",
    "    return rnums\n",
    "end\n",
    "\n",
    "function loadLDLiout(fname)\n",
    "    szs = Array{Int64, 1}(undef, 5)\n",
    "    open(fname, \"r\") do file\n",
    "        read!(file, szs)\n",
    "    end\n",
    "    csz, cptrsz, rvsz, fvsz, dsz = szs\n",
    "    col = Vector{Int64}(undef, csz)\n",
    "    colptr = Vector{Int64}(undef, cptrsz)\n",
    "    rowval = Vector{Int64}(undef, rvsz)\n",
    "    fval = Vector{Float64}(undef, fvsz)\n",
    "    d = Vector{Float64}(undef, dsz)\n",
    "    \n",
    "    open(fname, \"r\") do file\n",
    "        read!(file, szs)\n",
    "        read!(file, col)\n",
    "        read!(file, colptr)\n",
    "        read!(file, rowval)\n",
    "        read!(file, fval)\n",
    "        read!(file, d)\n",
    "    end    \n",
    "    return LapM.LDLinv{Int64, Float64}(col .+ 1, colptr .+ 1, rowval .+ 1, fval, d)\n",
    "end\n",
    "\n",
    "function cmpldli(oldli, ldli)\n",
    "    println(\"maximum abs difference for col: $(maximum(abs.(oldli.col - ldli.col .+ 1)))\")\n",
    "    println(\"maximum abs difference for colptr: $(maximum(abs.(oldli.colptr - ldli.colptr .+ 1)))\")\n",
    "    println(\"maximum abs difference for rowval: $(maximum(abs.(oldli.rowval - ldli.rowval .+ 1)))\")\n",
    "    println(\"maximum abs difference for fval: $(maximum(abs.(oldli.fval - ldli.fval)))\")\n",
    "    println(\"maximum abs difference for d: $(maximum(abs.(oldli.d - ldli.d)))\")\n",
    "end"
   ]
  },
  {
   "cell_type": "code",
   "execution_count": 19,
   "id": "4dcff124",
   "metadata": {},
   "outputs": [
    {
     "data": {
      "text/plain": [
       "Main.Laplacians.LDLinv{Int64, Float64}([44635, 1568, 1777, 2479, 2993, 3022, 3309, 3316, 3570, 3660  …  148, 20, 23, 40, 3, 13, 14, 39, 11, 399], [1, 2, 4, 6, 8, 10, 12, 14, 16, 18  …  441140, 441149, 441157, 441164, 441170, 441175, 441179, 441182, 441184, 441185], [17278, 358, 863, 1152, 1253, 585, 2087, 442, 2221, 1156  …  39, 16, 11, 399, 399, 16, 11, 16, 399, 16], [1.0, 0.5, 1.0, 0.5, 1.0, 0.5, 1.0, 0.5, 1.0, 0.5  …  0.06132433783353129, 0.32174541299508547, 0.4802133188631721, 1.0, 0.1765832006231307, 0.25869174636701714, 1.0, 0.41711670484345037, 1.0, 1.0], [0.25236782477325365, 0.3189264055372324, 2.059243275034341, 0.3778493521842823, 0.09409202131134392, 0.16712003340476006, 0.16462485761344958, 0.42577258668767376, 0.33156464999137886, 0.10526045151013487  …  0.5, 0.5, 0.5, 0.5, 0.5, 0.5, 0.5, 0.5, 0.5, 0.5])"
      ]
     },
     "execution_count": 19,
     "metadata": {},
     "output_type": "execute_result"
    }
   ],
   "source": [
    "oldli = loadLDLiout(\"Laplacians.jl/ldliout.bin\")\n",
    "# println(\"oldli.col: $(oldli.col), len: $(length(oldli.col))\")\n",
    "# println(\"oldli.colptr: $(oldli.colptr), len: $(length(oldli.colptr))\")\n",
    "# println(\"oldli.d: $(oldli.d), len: $(length(oldli.d))\")\n",
    "# println(\"oldli.fval: $(oldli.fval), len: $(length(oldli.fval))\")\n",
    "# println(\"oldli.rowval: $(oldli.rowval), len: $(length(oldli.rowval))\")"
   ]
  },
  {
   "cell_type": "code",
   "execution_count": 20,
   "id": "7dc4b8f7",
   "metadata": {},
   "outputs": [
    {
     "data": {
      "text/plain": [
       "5000000-element Vector{Float64}:\n",
       " 0.5361670556581197\n",
       " 0.8160044081547981\n",
       " 0.2005106696682415\n",
       " 0.6229061332345399\n",
       " 0.4423113630390252\n",
       " 0.9717385222163453\n",
       " 0.2628360482165598\n",
       " 0.5464355193894663\n",
       " 0.35019247435776824\n",
       " 0.9509418540357933\n",
       " 0.9118146057006138\n",
       " 0.15097115760293678\n",
       " 0.6908575391858608\n",
       " ⋮\n",
       " 0.9787807351651087\n",
       " 0.38102549497801463\n",
       " 0.5355221246916624\n",
       " 0.06796548065692487\n",
       " 0.266162816257837\n",
       " 0.16487560574631122\n",
       " 0.1545447928321524\n",
       " 0.03038541144712159\n",
       " 0.7762531901448376\n",
       " 0.8285272236868789\n",
       " 0.5912004422712964\n",
       " 0.1723968281605035"
      ]
     },
     "execution_count": 20,
     "metadata": {},
     "output_type": "execute_result"
    }
   ],
   "source": [
    "rnums = loadRandNumsFromBinary(\"Laplacians.jl/randomNums.bin\")"
   ]
  },
  {
   "cell_type": "code",
   "execution_count": 21,
   "id": "5f4017fd",
   "metadata": {},
   "outputs": [
    {
     "data": {
      "text/plain": [
       "50000×50000 SparseMatrixCSC{Float64, Int64} with 199972 stored entries:\n",
       "⣿⣿⣿⣿⣿⣿⣿⣿⣿⣿⣿⣿⣿⣿⣿⣿⣿⣿⣿⣿⣿⣿⣿⣿⣿⣿⣿⣿⣿⣿⣿⣿⣿⣿⣿⣿⣿⣿⣿⣿\n",
       "⣿⣿⣿⣿⣿⣿⣿⣿⣿⣿⣿⣿⣿⣿⣿⣿⣿⣿⣿⣿⣿⣿⣿⣿⣿⣿⣿⣿⣿⣿⣿⣿⣿⣿⣿⣿⣿⣿⣿⣿\n",
       "⣿⣿⣿⣿⣿⣿⣿⣿⣿⣿⣿⣿⣿⣿⣿⣿⣿⣿⣿⣿⣿⣿⣿⣿⣿⣿⣿⣿⣿⣿⣿⣿⣿⣿⣿⣿⣿⣿⣿⣿\n",
       "⣿⣿⣿⣿⣿⣿⣿⣿⣿⣿⣿⣿⣿⣿⣿⣿⣿⣿⣿⣿⣿⣿⣿⣿⣿⣿⣿⣿⣿⣿⣿⣿⣿⣿⣿⣿⣿⣿⣿⣿\n",
       "⣿⣿⣿⣿⣿⣿⣿⣿⣿⣿⣿⣿⣿⣿⣿⣿⣿⣿⣿⣿⣿⣿⣿⣿⣿⣿⣿⣿⣿⣿⣿⣿⣿⣿⣿⣿⣿⣿⣿⣿\n",
       "⣿⣿⣿⣿⣿⣿⣿⣿⣿⣿⣿⣿⣿⣿⣿⣿⣿⣿⣿⣿⣿⣿⣿⣿⣿⣿⣿⣿⣿⣿⣿⣿⣿⣿⣿⣿⣿⣿⣿⣿\n",
       "⣿⣿⣿⣿⣿⣿⣿⣿⣿⣿⣿⣿⣿⣿⣿⣿⣿⣿⣿⣿⣿⣿⣿⣿⣿⣿⣿⣿⣿⣿⣿⣿⣿⣿⣿⣿⣿⣿⣿⣿\n",
       "⣿⣿⣿⣿⣿⣿⣿⣿⣿⣿⣿⣿⣿⣿⣿⣿⣿⣿⣿⣿⣿⣿⣿⣿⣿⣿⣿⣿⣿⣿⣿⣿⣿⣿⣿⣿⣿⣿⣿⣿\n",
       "⣿⣿⣿⣿⣿⣿⣿⣿⣿⣿⣿⣿⣿⣿⣿⣿⣿⣿⣿⣿⣿⣿⣿⣿⣿⣿⣿⣿⣿⣿⣿⣿⣿⣿⣿⣿⣿⣿⣿⣿\n",
       "⣿⣿⣿⣿⣿⣿⣿⣿⣿⣿⣿⣿⣿⣿⣿⣿⣿⣿⣿⣿⣿⣿⣿⣿⣿⣿⣿⣿⣿⣿⣿⣿⣿⣿⣿⣿⣿⣿⣿⣿\n",
       "⣿⣿⣿⣿⣿⣿⣿⣿⣿⣿⣿⣿⣿⣿⣿⣿⣿⣿⣿⣿⣿⣿⣿⣿⣿⣿⣿⣿⣿⣿⣿⣿⣿⣿⣿⣿⣿⣿⣿⣿\n",
       "⣿⣿⣿⣿⣿⣿⣿⣿⣿⣿⣿⣿⣿⣿⣿⣿⣿⣿⣿⣿⣿⣿⣿⣿⣿⣿⣿⣿⣿⣿⣿⣿⣿⣿⣿⣿⣿⣿⣿⣿\n",
       "⣿⣿⣿⣿⣿⣿⣿⣿⣿⣿⣿⣿⣿⣿⣿⣿⣿⣿⣿⣿⣿⣿⣿⣿⣿⣿⣿⣿⣿⣿⣿⣿⣿⣿⣿⣿⣿⣿⣿⣿\n",
       "⣿⣿⣿⣿⣿⣿⣿⣿⣿⣿⣿⣿⣿⣿⣿⣿⣿⣿⣿⣿⣿⣿⣿⣿⣿⣿⣿⣿⣿⣿⣿⣿⣿⣿⣿⣿⣿⣿⣿⣿\n",
       "⣿⣿⣿⣿⣿⣿⣿⣿⣿⣿⣿⣿⣿⣿⣿⣿⣿⣿⣿⣿⣿⣿⣿⣿⣿⣿⣿⣿⣿⣿⣿⣿⣿⣿⣿⣿⣿⣿⣿⣿\n",
       "⣿⣿⣿⣿⣿⣿⣿⣿⣿⣿⣿⣿⣿⣿⣿⣿⣿⣿⣿⣿⣿⣿⣿⣿⣿⣿⣿⣿⣿⣿⣿⣿⣿⣿⣿⣿⣿⣿⣿⣿\n",
       "⣿⣿⣿⣿⣿⣿⣿⣿⣿⣿⣿⣿⣿⣿⣿⣿⣿⣿⣿⣿⣿⣿⣿⣿⣿⣿⣿⣿⣿⣿⣿⣿⣿⣿⣿⣿⣿⣿⣿⣿\n",
       "⣿⣿⣿⣿⣿⣿⣿⣿⣿⣿⣿⣿⣿⣿⣿⣿⣿⣿⣿⣿⣿⣿⣿⣿⣿⣿⣿⣿⣿⣿⣿⣿⣿⣿⣿⣿⣿⣿⣿⣿\n",
       "⣿⣿⣿⣿⣿⣿⣿⣿⣿⣿⣿⣿⣿⣿⣿⣿⣿⣿⣿⣿⣿⣿⣿⣿⣿⣿⣿⣿⣿⣿⣿⣿⣿⣿⣿⣿⣿⣿⣿⣿\n",
       "⣿⣿⣿⣿⣿⣿⣿⣿⣿⣿⣿⣿⣿⣿⣿⣿⣿⣿⣿⣿⣿⣿⣿⣿⣿⣿⣿⣿⣿⣿⣿⣿⣿⣿⣿⣿⣿⣿⣿⣿"
      ]
     },
     "execution_count": 21,
     "metadata": {},
     "output_type": "execute_result"
    }
   ],
   "source": [
    "G = loadMatCSCfromBinary(\"Laplacians.jl/small.bin\")"
   ]
  },
  {
   "cell_type": "code",
   "execution_count": 22,
   "id": "03e641e7",
   "metadata": {},
   "outputs": [
    {
     "data": {
      "text/plain": [
       "Main.Laplacians.LDLinv{Int64, Float64}([44635, 1568, 1777, 2479, 2993, 3022, 3309, 3316, 3570, 3660  …  148, 20, 23, 40, 3, 13, 14, 39, 11, 399], [1, 2, 4, 6, 8, 10, 12, 14, 16, 18  …  440652, 440661, 440669, 440676, 440682, 440687, 440691, 440694, 440696, 440697], [17278, 358, 863, 1152, 1253, 585, 2087, 442, 2221, 1156  …  39, 11, 16, 399, 16, 399, 11, 16, 399, 16], [1.0, 0.5, 1.0, 0.5, 1.0, 0.5, 1.0, 0.5, 1.0, 0.5  …  0.13129250869022327, 0.2178492531642519, 0.44439039899883415, 1.0, 0.2547294840056442, 0.44433089647358825, 1.0, 0.37809593105135036, 1.0, 1.0], [0.2721922668606747, 0.29414512899300055, 1.0020499630191817, 0.4091398152945027, 0.13375274413233218, 0.20827173927629886, 0.15462570284344151, 0.45981527773663916, 0.33729146669899546, 0.09670914126227668  …  0.5, 0.5, 0.5, 0.5, 0.5, 0.5, 0.5, 0.5, 0.5, 0.5])"
      ]
     },
     "execution_count": 22,
     "metadata": {},
     "output_type": "execute_result"
    }
   ],
   "source": [
    "LapMLLmat = LapM.LLmatp(G)\n",
    "reorder = collect(range(1, length(LapMLLmat.degs)))\n",
    "perm = sortperm(LapMLLmat.degs)\n",
    "permute!(reorder, perm)\n",
    "ldli = LapM.approxChol_reordered(LapMLLmat, reorder, rnums)\n",
    "# ldli, log = LapM.approxChol_log(LapMLLmat)\n",
    "# println(\"reorder: $(reorder)\")\n",
    "# println(\"--------------------\")\n",
    "# println(\"ldli.col: $(ldli.col), len: $(length(ldli.col))\")\n",
    "# println(\"ldli.colptr: $(ldli.colptr), len: $(length(ldli.colptr))\")\n",
    "# println(\"ldli.d: $(ldli.d), len: $(length(ldli.d))\")\n",
    "# println(\"ldli.fval: $(ldli.fval), len: $(length(ldli.fval))\")\n",
    "# println(\"ldli.rowval: $(ldli.rowval), len: $(length(ldli.rowval))\")\n"
   ]
  },
  {
   "cell_type": "code",
   "execution_count": 8,
   "id": "54cdeb0c",
   "metadata": {},
   "outputs": [
    {
     "data": {
      "text/plain": [
       "applyLDLi (generic function with 1 method)"
      ]
     },
     "execution_count": 8,
     "metadata": {},
     "output_type": "execute_result"
    }
   ],
   "source": [
    "applyLDLi(ldli, mat) = sparse(reduce(hcat, map(x -> LapM.LDLsolver(ldli, Vector(x)), eachcol(mat))))"
   ]
  },
  {
   "cell_type": "code",
   "execution_count": 23,
   "id": "2c22cf18",
   "metadata": {},
   "outputs": [
    {
     "data": {
      "text/plain": [
       "49999-element Vector{Int64}:\n",
       "  1\n",
       "  2\n",
       "  2\n",
       "  2\n",
       "  2\n",
       "  2\n",
       "  2\n",
       "  2\n",
       "  2\n",
       "  2\n",
       "  2\n",
       "  2\n",
       "  2\n",
       "  ⋮\n",
       " 12\n",
       " 11\n",
       " 10\n",
       "  9\n",
       "  8\n",
       "  7\n",
       "  6\n",
       "  5\n",
       "  4\n",
       "  3\n",
       "  2\n",
       "  1"
      ]
     },
     "execution_count": 23,
     "metadata": {},
     "output_type": "execute_result"
    }
   ],
   "source": [
    "LapM.preprocessLDL(ldli)\n",
    "LapM.preprocessLDL(oldli)"
   ]
  },
  {
   "cell_type": "code",
   "execution_count": 24,
   "id": "e451ab2d",
   "metadata": {},
   "outputs": [
    {
     "name": "stdout",
     "output_type": "stream",
     "text": [
      "4.069700871960519\n",
      "4.452845997950618\n"
     ]
    }
   ],
   "source": [
    "println(LapM.condNumber(G, oldli)) \n",
    "println(LapM.condNumber(G, ldli))"
   ]
  },
  {
   "cell_type": "code",
   "execution_count": 14,
   "id": "412b0615",
   "metadata": {},
   "outputs": [
    {
     "data": {
      "text/plain": [
       "50000-element Vector{Float64}:\n",
       "  0.005252831725038529\n",
       " -0.010516587108028691\n",
       "  1.1102422534895025\n",
       "  0.03092598621229488\n",
       "  0.0014572077846086162\n",
       "  0.010615488914343094\n",
       "  0.029298591879472632\n",
       " -0.02247541200493368\n",
       "  0.040858022126301116\n",
       "  0.005893724994370728\n",
       "  0.034450315572929754\n",
       "  0.005537650917774861\n",
       "  0.14284020123944635\n",
       "  ⋮\n",
       "  0.0002287037052585289\n",
       "  0.007124124274444935\n",
       "  0.000629900992170182\n",
       " -0.0005845470696366623\n",
       " -0.0006668439054706016\n",
       "  0.0006128067587651137\n",
       "  0.001225205803752502\n",
       " -0.0010106219991242865\n",
       "  0.005575359836329438\n",
       " -0.0004074057419242716\n",
       " -0.0016347882460999302\n",
       "  0.0003089885946094967"
      ]
     },
     "execution_count": 14,
     "metadata": {},
     "output_type": "execute_result"
    }
   ],
   "source": [
    "LapM.LDLsolver(oldli, Vector(LapM.lap(G)[:, 3]))"
   ]
  },
  {
   "cell_type": "code",
   "execution_count": null,
   "id": "00ec1796",
   "metadata": {},
   "outputs": [],
   "source": []
  }
 ],
 "metadata": {
  "kernelspec": {
   "display_name": "Julia 1.8.0",
   "language": "julia",
   "name": "julia-1.8"
  },
  "language_info": {
   "file_extension": ".jl",
   "mimetype": "application/julia",
   "name": "julia",
   "version": "1.8.0"
  }
 },
 "nbformat": 4,
 "nbformat_minor": 5
}
