{
 "cells": [
  {
   "cell_type": "markdown",
   "metadata": {},
   "source": [
    "# Lex-Minimizer #\n",
    "In this notebook, we will demonstrate the use of functions that computes the inf-minimizer (`CompInfMin`) and lex-minimizer (`CompLexMin`), as well as other experiments. You can find all source code in `lex.jl`."
   ]
  },
  {
   "cell_type": "code",
   "execution_count": 1,
   "metadata": {
    "collapsed": false
   },
   "outputs": [
    {
     "data": {
      "text/plain": [
       "\"/home/xshi0x63/Desktop/YINS/Laplacians.jl/notebooks\""
      ]
     },
     "execution_count": 1,
     "metadata": {},
     "output_type": "execute_result"
    }
   ],
   "source": [
    "pwd()"
   ]
  },
  {
   "cell_type": "code",
   "execution_count": 3,
   "metadata": {
    "collapsed": false
   },
   "outputs": [],
   "source": [
    "push!(LOAD_PATH,\"../src\")\n",
    "using Laplacians"
   ]
  },
  {
   "cell_type": "code",
   "execution_count": 4,
   "metadata": {
    "collapsed": true
   },
   "outputs": [],
   "source": [
    "using PyPlot"
   ]
  },
  {
   "cell_type": "code",
   "execution_count": 5,
   "metadata": {
    "collapsed": false
   },
   "outputs": [
    {
     "data": {
      "text/plain": [
       "CompLexMin (generic function with 1 method)"
      ]
     },
     "execution_count": 5,
     "metadata": {},
     "output_type": "execute_result"
    }
   ],
   "source": [
    "include(\"../src/lex.jl\") # for development"
   ]
  },
  {
   "cell_type": "markdown",
   "metadata": {},
   "source": [
    "### IterLex Functions ###\n",
    "* `simIterLexUnwtd(...)` runs IterLex on a **uniformly weighted** graph for a specific number of iterations;\n",
    "\n",
    "* `checkLexUnwtd(...)` checks the correctness of the assignment up to `LEX_EPS`;\n",
    "\n",
    "* `simIterLex(...)` runs IterLex on any weighted graph;\n",
    "\n",
    "* `checkLex(...)` checks the correctness of the assignment up to `LEX_EPS`;"
   ]
  },
  {
   "cell_type": "markdown",
   "metadata": {},
   "source": [
    "## Simple examples ##\n",
    "### Path Graphs ###\n",
    "A path graph with `n` vertices. Let vertex `1` and `n` be terminals, with voltages `0` and `1` respectively."
   ]
  },
  {
   "cell_type": "code",
   "execution_count": null,
   "metadata": {
    "collapsed": false
   },
   "outputs": [],
   "source": [
    "# Set up\n",
    "n = 10\n",
    "Pn = pathGraph(n)\n",
    "\n",
    "isTerm = zeros(Bool, n)\n",
    "isTerm[1] = true\n",
    "isTerm[n] = true\n",
    "\n",
    "initVal = zeros(n)\n",
    "initVal[n] = 1.0\n"
   ]
  },
  {
   "cell_type": "code",
   "execution_count": null,
   "metadata": {
    "collapsed": false
   },
   "outputs": [],
   "source": [
    "# inf-minimizer\n",
    "infMinVolt = CompInfMin(Pn, isTerm, initVal)\n",
    "println(infMinVolt)\n",
    "println(MaxEdgeGrad(Pn, infMinVolt))\n",
    "\n",
    "# lex-minimizer\n",
    "lexMinVolt = CompLexMin(Pn, isTerm, initVal)\n",
    "\n",
    "println(lexMinVolt)"
   ]
  },
  {
   "cell_type": "code",
   "execution_count": null,
   "metadata": {
    "collapsed": false
   },
   "outputs": [],
   "source": [
    "# default error tolerance\n",
    "LEX_EPS"
   ]
  },
  {
   "cell_type": "code",
   "execution_count": null,
   "metadata": {
    "collapsed": false
   },
   "outputs": [],
   "source": [
    "t1 = 5\n",
    "asgnmt = simIterLexUnwtd(t1, Pn, isTerm, initVal)\n",
    "@printf(\"After %d iterations: %s\\n\", t1, checkLexUnwtd(Pn, isTerm, initVal, asgnmt, fatal = false))\n",
    "\n",
    "t2 = 500\n",
    "asgnmt = simIterLexUnwtd(t2, Pn, isTerm, initVal)\n",
    "@printf(\"After %d iterations: %s\\n\", t2, checkLexUnwtd(Pn, isTerm, initVal, asgnmt, fatal = false))\n"
   ]
  },
  {
   "cell_type": "code",
   "execution_count": null,
   "metadata": {
    "collapsed": false
   },
   "outputs": [],
   "source": [
    "iterVolt = copy(initVal)\n",
    "i = 0\n",
    "# the last parameter is to tell CheckLex not to complain when it sees a value that's worse than epsilon approx\n",
    "while (!CheckLex(Pn, isTerm, initVal, iterVolt, LEX_EPS, false))\n",
    "    i += 1\n",
    "    iterVolt = simIterLexUnwtd(1, Pn, isTerm, iterVolt)\n",
    "end\n",
    "@printf(\"After %d iterations, IterLex on path graph with %d vertices has an error <= %.2e\", i, n, LEX_EPS)"
   ]
  },
  {
   "cell_type": "markdown",
   "metadata": {},
   "source": [
    "Plotting the number of iteration needed vs. number of nodes in the path graph, we can see that it takes about O(n^2) iterations."
   ]
  },
  {
   "cell_type": "code",
   "execution_count": null,
   "metadata": {
    "collapsed": false
   },
   "outputs": [],
   "source": [
    "MAXN = 20\n",
    "iterArr = zeros(Int64, MAXN)\n",
    "for n in 3:MAXN\n",
    "    Pn = pathGraph(n)\n",
    "\n",
    "    isTerm = zeros(Bool, n)\n",
    "    isTerm[1] = true\n",
    "    isTerm[n] = true\n",
    "\n",
    "    initVal = zeros(n)\n",
    "    initVal[n] = 1.0\n",
    "    iterVolt = copy(initVal)\n",
    "    i = 0\n",
    "    while (!CheckLex(Pn, isTerm, initVal, iterVolt, 1e-14, false))\n",
    "        i += 1\n",
    "        iterVolt = simIterLexUnwtd(1, Pn, isTerm, iterVolt)\n",
    "    end\n",
    "    iterArr[n] = i\n",
    "end\n",
    "\n",
    "x = collect(1:20)\n",
    "x2 = x .* x * 5 # estimate\n",
    "y = copy(iterArr)\n",
    "plot(x, y, linewidth=1.0, \"o-\", x, x2, \"g^--\")"
   ]
  },
  {
   "cell_type": "markdown",
   "metadata": {
    "collapsed": false
   },
   "source": [
    "### Star Graph ###"
   ]
  },
  {
   "cell_type": "code",
   "execution_count": null,
   "metadata": {
    "collapsed": false
   },
   "outputs": [],
   "source": [
    "# Star Graph: simplest example:\n",
    "# picking the right pair of neighbors to average\n",
    "n = 5\n",
    "Sn = zeros(n, n)\n",
    "Sn[1,:] = a = [0, 1/20, 1/20, 1/10, 1/18]\n",
    "Sn[:,1] = a'\n",
    "Sn = sparse(Sn)\n",
    "\n",
    "isTerm = ones(Bool, n)\n",
    "isTerm[1] = false\n",
    "\n",
    "initVal = [0.0, 20, -5, -5, 17]\n",
    "\n",
    "asgnmt = simIterLex(1, Sn, isTerm, initVal)"
   ]
  },
  {
   "cell_type": "code",
   "execution_count": null,
   "metadata": {
    "collapsed": false
   },
   "outputs": [],
   "source": [
    "checkLex(Sn, isTerm, initVal, asgnmt, fatal = false)"
   ]
  },
  {
   "cell_type": "markdown",
   "metadata": {},
   "source": [
    "### Random Graph ###"
   ]
  },
  {
   "cell_type": "code",
   "execution_count": null,
   "metadata": {
    "collapsed": false
   },
   "outputs": [],
   "source": [
    "n = 20\n",
    "G = chimera(n)"
   ]
  },
  {
   "cell_type": "code",
   "execution_count": null,
   "metadata": {
    "collapsed": false
   },
   "outputs": [],
   "source": [
    "isTerm = zeros(Bool, n)\n",
    "# arbitrary terminal values\n",
    "isTerm[1] = true\n",
    "isTerm[5] = true\n",
    "isTerm[11] = true\n",
    "isTerm[18] = true\n",
    "\n",
    "initVal = zeros(Float64, n)\n",
    "initVal[1] = 0.0\n",
    "initVal[5] = 13\n",
    "initVal[11] = 7\n",
    "initVal[18] = 11\n"
   ]
  },
  {
   "cell_type": "code",
   "execution_count": null,
   "metadata": {
    "collapsed": false
   },
   "outputs": [],
   "source": [
    "infMinVolt = CompInfMin(G, isTerm, initVal)\n",
    "println(infMinVolt)\n",
    "println(MaxEdgeGrad(G, infMinVolt))"
   ]
  },
  {
   "cell_type": "code",
   "execution_count": null,
   "metadata": {
    "collapsed": false
   },
   "outputs": [],
   "source": [
    "lexMinVolt = simIterLex(500, G, isTerm, initVal)\n",
    "println(lexMinVolt)\n",
    "println(MaxEdgeGrad(G, lexMinVolt))\n",
    "println(checkLex(G, isTerm, initVal, lexMinVolt))"
   ]
  },
  {
   "cell_type": "markdown",
   "metadata": {
    "collapsed": false
   },
   "source": [
    "## Lex Algorithm Related ##\n",
    "* `termFreeShortestPaths` gives the shortest paths from the vertex `start` to every other vertex without going through a terminal;\n",
    "* "
   ]
  },
  {
   "cell_type": "code",
   "execution_count": 6,
   "metadata": {
    "collapsed": false
   },
   "outputs": [
    {
     "data": {
      "text/plain": [
       "20"
      ]
     },
     "execution_count": 6,
     "metadata": {},
     "output_type": "execute_result"
    }
   ],
   "source": [
    "G = readIJV(\"testLexGraph.txt\")\n",
    "n = G.n"
   ]
  },
  {
   "cell_type": "code",
   "execution_count": 7,
   "metadata": {
    "collapsed": false
   },
   "outputs": [
    {
     "data": {
      "text/plain": [
       "11"
      ]
     },
     "execution_count": 7,
     "metadata": {},
     "output_type": "execute_result"
    }
   ],
   "source": [
    "isTerm = zeros(Bool, n)\n",
    "# arbitrary terminal values\n",
    "isTerm[1] = true\n",
    "isTerm[5] = true\n",
    "isTerm[19] = true\n",
    "\n",
    "initVal = zeros(Float64, n)\n",
    "initVal[1] = 0.0\n",
    "initVal[5] = 13\n",
    "initVal[19] = 11\n"
   ]
  },
  {
   "cell_type": "code",
   "execution_count": null,
   "metadata": {
    "collapsed": false
   },
   "outputs": [],
   "source": []
  },
  {
   "cell_type": "code",
   "execution_count": null,
   "metadata": {
    "collapsed": false
   },
   "outputs": [],
   "source": [
    "include(\"../src/lex.jl\")"
   ]
  },
  {
   "cell_type": "code",
   "execution_count": null,
   "metadata": {
    "collapsed": false
   },
   "outputs": [],
   "source": [
    "lexMinVolt = CompLexMin(G, isTerm, initVal)"
   ]
  },
  {
   "cell_type": "code",
   "execution_count": null,
   "metadata": {
    "collapsed": false
   },
   "outputs": [],
   "source": [
    "checkLex(G, isTerm, initVal, lexMinVolt)"
   ]
  },
  {
   "cell_type": "code",
   "execution_count": null,
   "metadata": {
    "collapsed": false
   },
   "outputs": [],
   "source": [
    "setLexDebugFlag(true)\n",
    "LEX_DEBUG"
   ]
  },
  {
   "cell_type": "code",
   "execution_count": null,
   "metadata": {
    "collapsed": false
   },
   "outputs": [],
   "source": [
    "lexMinVolt"
   ]
  },
  {
   "cell_type": "code",
   "execution_count": null,
   "metadata": {
    "collapsed": false
   },
   "outputs": [],
   "source": []
  },
  {
   "cell_type": "code",
   "execution_count": null,
   "metadata": {
    "collapsed": false
   },
   "outputs": [],
   "source": [
    "MaxEdgeGrad(G, lexMinVolt)"
   ]
  },
  {
   "cell_type": "code",
   "execution_count": null,
   "metadata": {
    "collapsed": true
   },
   "outputs": [],
   "source": []
  }
 ],
 "metadata": {
  "kernelspec": {
   "display_name": "Julia 0.4.0",
   "language": "julia",
   "name": "julia-0.4"
  },
  "language_info": {
   "file_extension": ".jl",
   "mimetype": "application/julia",
   "name": "julia",
   "version": "0.4.2"
  }
 },
 "nbformat": 4,
 "nbformat_minor": 0
}
