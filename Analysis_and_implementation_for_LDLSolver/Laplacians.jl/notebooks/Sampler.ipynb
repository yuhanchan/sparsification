{
 "cells": [
  {
   "cell_type": "markdown",
   "metadata": {},
   "source": [
    "This is a demo/doc of the Sampler class.\n",
    "It enables you to sample integers with probability in proportion to provided weights.\n",
    "That is, for each integer in 1 to n, you push it with a weight.\n",
    "It then samples them with probability proportional to that weight.\n",
    "It can also pop them with that probability.\n",
    "Here are some demos of using it."
   ]
  },
  {
   "cell_type": "code",
   "execution_count": 1,
   "metadata": {
    "collapsed": false
   },
   "outputs": [],
   "source": [
    "using Laplacians"
   ]
  },
  {
   "cell_type": "markdown",
   "metadata": {},
   "source": [
    "The sampler class is not exported from Laplacians, because it is meant for internal use.  We could change that at some point.  In the meantime, if you want to use it then you need to import all of the methods that you want to use, like this."
   ]
  },
  {
   "cell_type": "code",
   "execution_count": 4,
   "metadata": {
    "collapsed": true
   },
   "outputs": [],
   "source": [
    "import Laplacians: Sampler, push!, remove!, sample, pop!"
   ]
  },
  {
   "cell_type": "code",
   "execution_count": 5,
   "metadata": {
    "collapsed": false
   },
   "outputs": [
    {
     "data": {
      "text/plain": [
       "Laplacians.Sampler([0.0,0.0,0.0,0.0,0.0,0.0,0.0,0.0,0.0,0.0,0.0,0.0,0.0],0,7)"
      ]
     },
     "execution_count": 5,
     "metadata": {},
     "output_type": "execute_result"
    }
   ],
   "source": [
    "s = Sampler(7)"
   ]
  },
  {
   "cell_type": "code",
   "execution_count": 6,
   "metadata": {
    "collapsed": false
   },
   "outputs": [
    {
     "data": {
      "text/plain": [
       "Laplacians.Sampler([1.0,0.0,1.0,0.0,0.0,1.0,0.0,0.0,0.0,0.0,0.0,0.0,1.0],1,7)"
      ]
     },
     "execution_count": 6,
     "metadata": {},
     "output_type": "execute_result"
    }
   ],
   "source": [
    "push!(s,7,1.0)\n",
    "s"
   ]
  },
  {
   "cell_type": "code",
   "execution_count": 7,
   "metadata": {
    "collapsed": false
   },
   "outputs": [
    {
     "data": {
      "text/plain": [
       "Laplacians.Sampler([1.5,0.0,1.5,0.0,0.0,1.0,0.5,0.0,0.0,0.0,0.0,0.0,1.0],2,7)"
      ]
     },
     "execution_count": 7,
     "metadata": {},
     "output_type": "execute_result"
    }
   ],
   "source": [
    "push!(s,1,0.5)\n",
    "s"
   ]
  },
  {
   "cell_type": "markdown",
   "metadata": {},
   "source": [
    "A uniform distribution"
   ]
  },
  {
   "cell_type": "code",
   "execution_count": 8,
   "metadata": {
    "collapsed": false
   },
   "outputs": [
    {
     "data": {
      "text/plain": [
       "5-element Array{Any,1}:\n",
       " 255\n",
       " 263\n",
       " 243\n",
       " 239\n",
       "   0"
      ]
     },
     "execution_count": 8,
     "metadata": {},
     "output_type": "execute_result"
    }
   ],
   "source": [
    "n = 5\n",
    "k = 4\n",
    "s = Sampler(n)\n",
    "for i in 1:k\n",
    "    push!(s,i,1.0)\n",
    "end\n",
    "x = zeros(1000)\n",
    "for i in 1:1000\n",
    "    x[i] = sample(s)\n",
    "end\n",
    "y = [sum(x .== i) for i in 1:n]"
   ]
  },
  {
   "cell_type": "markdown",
   "metadata": {},
   "source": [
    "Sampling with probability proportional to i"
   ]
  },
  {
   "cell_type": "code",
   "execution_count": 9,
   "metadata": {
    "collapsed": false
   },
   "outputs": [
    {
     "data": {
      "text/plain": [
       "5-element Array{Any,1}:\n",
       " 100\n",
       " 204\n",
       " 297\n",
       " 399\n",
       "   0"
      ]
     },
     "execution_count": 9,
     "metadata": {},
     "output_type": "execute_result"
    }
   ],
   "source": [
    "n = 5\n",
    "k = 4\n",
    "s = Sampler(n)\n",
    "for i in 1:k\n",
    "    push!(s,i,i+0.0)\n",
    "end\n",
    "# @show pop!(s)\n",
    "x = zeros(1000)\n",
    "for i in 1:1000\n",
    "    x[i] = sample(s)\n",
    "end\n",
    "y = [sum(x .== i) for i in 1:n]"
   ]
  },
  {
   "cell_type": "code",
   "execution_count": 10,
   "metadata": {
    "collapsed": false
   },
   "outputs": [
    {
     "name": "stdout",
     "output_type": "stream",
     "text": [
      "pop!(s) = 4"
     ]
    },
    {
     "ename": "LoadError",
     "evalue": "LoadError: No items to pop\nwhile loading In[10], in expression starting on line 11",
     "output_type": "error",
     "traceback": [
      "LoadError: No items to pop\nwhile loading In[10], in expression starting on line 11",
      "",
      " in pop! at /Users/spielman/git/Laplacians.jl/src/Sampler.jl:88"
     ]
    },
    {
     "name": "stdout",
     "output_type": "stream",
     "text": [
      "\n",
      "s = Laplacians.Sampler([6.0,1.0,5.0,0.0,1.0,2.0,3.0,0.0,0.0],3,5)\n",
      "pop!(s) = 3\n",
      "s = Laplacians.Sampler([3.0,1.0,2.0,0.0,1.0,2.0,0.0,0.0,0.0],2,5)\n",
      "pop!(s) = 2\n",
      "s = Laplacians.Sampler([1.0,1.0,0.0,0.0,1.0,0.0,0.0,0.0,0.0],1,5)\n",
      "pop!(s) = 1\n",
      "s = Laplacians.Sampler([0.0,0.0,0.0,0.0,0.0,0.0,0.0,0.0,0.0],0,5)\n"
     ]
    }
   ],
   "source": [
    "n = 5\n",
    "k = 4\n",
    "s = Sampler(n)\n",
    "for i in 1:k\n",
    "    push!(s,i,i+0.0)\n",
    "end\n",
    "for i in 1:k\n",
    "    @show pop!(s)\n",
    "    @show s\n",
    "end\n",
    "pop!(s)"
   ]
  },
  {
   "cell_type": "markdown",
   "metadata": {},
   "source": [
    "If you try to push an item that it already there, you will get an error."
   ]
  },
  {
   "cell_type": "code",
   "execution_count": 11,
   "metadata": {
    "collapsed": false
   },
   "outputs": [
    {
     "ename": "LoadError",
     "evalue": "LoadError: pushed item 3 is already in the sampler.\nwhile loading In[11], in expression starting on line 3",
     "output_type": "error",
     "traceback": [
      "LoadError: pushed item 3 is already in the sampler.\nwhile loading In[11], in expression starting on line 3",
      "",
      " in push! at /Users/spielman/git/Laplacians.jl/src/Sampler.jl:43"
     ]
    }
   ],
   "source": [
    "s = Sampler(3)\n",
    "push!(s, 1, 1.0)\n",
    "push!(s, 1, 1.0)\n"
   ]
  },
  {
   "cell_type": "markdown",
   "metadata": {
    "collapsed": true
   },
   "source": [
    "You can also bulk load a vector of probabilities"
   ]
  },
  {
   "cell_type": "code",
   "execution_count": 13,
   "metadata": {
    "collapsed": false
   },
   "outputs": [
    {
     "data": {
      "text/plain": [
       "Laplacians.Sampler([15.0,10.0,5.0,9.0,1.0,2.0,3.0,4.0,5.0],5,5)"
      ]
     },
     "execution_count": 13,
     "metadata": {},
     "output_type": "execute_result"
    }
   ],
   "source": [
    "v = collect(1.0:5.0)\n",
    "s = Sampler(v)"
   ]
  },
  {
   "cell_type": "code",
   "execution_count": 14,
   "metadata": {
    "collapsed": false
   },
   "outputs": [
    {
     "data": {
      "text/plain": [
       "5-element Array{Any,1}:\n",
       "  74\n",
       " 139\n",
       " 185\n",
       " 257\n",
       " 345"
      ]
     },
     "execution_count": 14,
     "metadata": {},
     "output_type": "execute_result"
    }
   ],
   "source": [
    "x = zeros(1000)\n",
    "for i in 1:1000\n",
    "    x[i] = sample(s)\n",
    "end\n",
    "y = [sum(x .== i) for i in 1:5]"
   ]
  },
  {
   "cell_type": "code",
   "execution_count": null,
   "metadata": {
    "collapsed": true
   },
   "outputs": [],
   "source": []
  }
 ],
 "metadata": {
  "kernelspec": {
   "display_name": "Julia 0.4.0",
   "language": "julia",
   "name": "julia-0.4"
  },
  "language_info": {
   "file_extension": ".jl",
   "mimetype": "application/julia",
   "name": "julia",
   "version": "0.4.0"
  }
 },
 "nbformat": 4,
 "nbformat_minor": 0
}
