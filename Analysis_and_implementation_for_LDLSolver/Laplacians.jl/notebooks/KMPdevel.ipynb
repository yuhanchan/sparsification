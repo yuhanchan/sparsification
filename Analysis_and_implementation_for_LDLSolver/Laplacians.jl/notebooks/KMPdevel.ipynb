{
 "cells": [
  {
   "cell_type": "code",
   "execution_count": 1,
   "metadata": {
    "collapsed": false
   },
   "outputs": [],
   "source": [
    "using Laplacians\n"
   ]
  },
  {
   "cell_type": "code",
   "execution_count": 2,
   "metadata": {
    "collapsed": true
   },
   "outputs": [],
   "source": [
    "n = 100000\n",
    "x1 = []\n",
    "x2 = []\n",
    "for i in 1:10\n",
    "    a = wtedChimera(n)\n",
    "    t1 = randishPrim(a)\n",
    "    t2 = randishKruskal(a)\n",
    "    s1 = sum(comp_stretches(t1,a))/nnz(a)\n",
    "    s2 = sum(comp_stretches(t2,a))/nnz(a)\n",
    "    push!(x1,s1)\n",
    "    push!(x2,s2)\n",
    "end\n",
    "    "
   ]
  },
  {
   "cell_type": "code",
   "execution_count": 5,
   "metadata": {
    "collapsed": false
   },
   "outputs": [
    {
     "data": {
      "text/plain": [
       "10x2 Array{Any,2}:\n",
       "  1.00032   1.00001\n",
       "  8.5111   14.1661 \n",
       " 15.0643   59.2039 \n",
       "  1.0       1.0    \n",
       " 14.4661   32.8597 \n",
       " 10.8775   13.7166 \n",
       "  6.73056   6.60805\n",
       " 15.5512   16.3427 \n",
       " 12.0103   15.3392 \n",
       " 23.7971   76.4343 "
      ]
     },
     "execution_count": 5,
     "metadata": {},
     "output_type": "execute_result"
    }
   ],
   "source": [
    "[x1 x2]"
   ]
  },
  {
   "cell_type": "code",
   "execution_count": 4,
   "metadata": {
    "collapsed": false
   },
   "outputs": [
    {
     "data": {
      "text/plain": [
       "manyRunsW (generic function with 1 method)"
      ]
     },
     "execution_count": 4,
     "metadata": {},
     "output_type": "execute_result"
    }
   ],
   "source": [
    "include(\"../src/KMPSolver.jl\")\n",
    "include(\"../devel/kmpTest.jl\")\n"
   ]
  },
  {
   "cell_type": "code",
   "execution_count": 5,
   "metadata": {
    "collapsed": false
   },
   "outputs": [
    {
     "name": "stdout",
     "output_type": "stream",
     "text": [
      "chimera(10000, 1)\n",
      "KMPparams(0.027777777777777776,6,0.25,600,:rand) : 0.05271524\n",
      "KMPparams(0.0625,4,0.25,600,:rand) : 0.044459041\n",
      "KMPparams(0.0625,4,0.25,600,:akpw) : 0.033500146\n",
      "augTree : 0.016121376\n",
      "chimera(10000, 2)\n",
      "KMPparams(0.027777777777777776,6,0.25,600,:rand) : 0.09139607699999999\n",
      "KMPparams(0.0625,4,0.25,600,:rand) : 0.081339504\n",
      "KMPparams(0.0625,4,0.25,600,:akpw) : 0.067165429\n",
      "augTree : 0.034964471\n",
      "chimera(10000, 3)\n",
      "KMPparams(0.027777777777777776,6,0.25,600,:rand) : 0.352665039\n",
      "KMPparams(0.0625,4,0.25,600,:rand) : 0.298541041\n",
      "KMPparams(0.0625,4,0.25,600,:akpw) : 0.20671900199999999\n",
      "augTree : 0.14502531600000002\n",
      "chimera(10000, 4)\n",
      "KMPparams(0.027777777777777776,6,0.25,600,:rand) : 0.40931837800000004\n",
      "KMPparams(0.0625,4,0.25,600,:rand) : 0.347162024\n",
      "KMPparams(0.0625,4,0.25,600,:akpw) : 0.247111324\n",
      "augTree : 0.167402991\n",
      "chimera(10000, 5)\n",
      "KMPparams(0.027777777777777776,6,0.25,600,:rand) : "
     ]
    },
    {
     "data": {
      "text/plain": [
       "5x4 Array{Float64,2}:\n",
       " 0.0527152  0.044459   0.0335001  0.0161214\n",
       " 0.0386808  0.0368805  0.0336653  0.0188431\n",
       " 0.261269   0.217202   0.139554   0.110061 \n",
       " 0.0566533  0.048621   0.0403923  0.0223777\n",
       " 0.0634609  0.108591   0.0993985  0.0319273"
      ]
     },
     "execution_count": 5,
     "metadata": {},
     "output_type": "execute_result"
    },
    {
     "name": "stdout",
     "output_type": "stream",
     "text": [
      "0.47277924200000004\n",
      "KMPparams(0.0625,4,0.25,600,:rand) : 0.455753403\n",
      "KMPparams(0.0625,4,0.25,600,:akpw) : 0.346509842\n",
      "augTree : 0.19933029\n"
     ]
    }
   ],
   "source": [
    "T = 6.0\n",
    "p = T^(-2)\n",
    "pList = [KMPparams(p,T,1/4,600,:rand)]\n",
    "T = 4.0\n",
    "p = T^(-2)\n",
    "push!(pList,KMPparams(p,T,1/4,600,:rand))\n",
    "push!(pList,KMPparams(p,T,1/4,600,:akpw))\n",
    "out = manyRuns(10000,5,pList)"
   ]
  },
  {
   "cell_type": "code",
   "execution_count": 38,
   "metadata": {
    "collapsed": false
   },
   "outputs": [
    {
     "ename": "LoadError",
     "evalue": "LoadError: graph is not connected\nwhile loading In[38], in expression starting on line 3",
     "output_type": "error",
     "traceback": [
      "LoadError: graph is not connected\nwhile loading In[38], in expression starting on line 3",
      "",
      " in matToTreeDepth at /Users/spielman/.julia/v0.4/Laplacians/src/treeAlgs.jl:162",
      " in comp_stretches at /Users/spielman/.julia/v0.4/Laplacians/src/treeAlgs.jl:408",
      " in augmentTree at /Users/spielman/.julia/v0.4/Laplacians/src/solvers.jl:138",
      " in augTreePrecon at /Users/spielman/.julia/v0.4/Laplacians/src/solvers.jl:195",
      " in augTreeSolver at /Users/spielman/.julia/v0.4/Laplacians/src/solvers.jl:210",
      " in lapWrapSolver at /Users/spielman/.julia/v0.4/Laplacians/src/solvers.jl:75"
     ]
    }
   ],
   "source": [
    "a = chimera(10000,4)\n",
    "la = lap(a)\n",
    "fsub = lapWrapSolver(augTreeSolver,lap(a),tol=0.01,maxits=10000)"
   ]
  },
  {
   "cell_type": "code",
   "execution_count": 45,
   "metadata": {
    "collapsed": false
   },
   "outputs": [
    {
     "data": {
      "text/plain": [
       "2"
      ]
     },
     "execution_count": 45,
     "metadata": {},
     "output_type": "execute_result"
    }
   ],
   "source": [
    "la = lap(a)\n",
    "c = components(la[1:9999,1:9999])\n",
    "maximum(c)"
   ]
  },
  {
   "cell_type": "code",
   "execution_count": 17,
   "metadata": {
    "collapsed": false
   },
   "outputs": [
    {
     "name": "stdout",
     "output_type": "stream",
     "text": [
      "aveStretch : 7.71761469924085 fac : 32.04670136865483\n",
      "level 0. Dimension 100000 off-tree edges : 262478\n",
      "level 1. Dimension 26717 off-tree edges : 10541\n",
      "level 2. Dimension 924 off-tree edges : 270\n",
      "PCG stopped after: 107 iterations with relative error 0.00964052746551591.\n",
      "  2.076951 seconds (332.27 k allocations: 1.215 GB, 6.87% gc time)\n",
      "PCG stopped after: 104 iterations with relative error 0.009836184667772216.\n",
      "  1.963941 seconds (323.05 k allocations: 1.181 GB, 6.73% gc time)\n"
     ]
    }
   ],
   "source": [
    "n = 100000\n",
    "a = wtedChimera(n)\n",
    "b = randn(n)\n",
    "b = b - mean(b)\n",
    "la = lap(a)\n",
    "b2 = la*b\n",
    "f = KMPLapSolver(a,verbose=true)\n",
    "@time x = f(b);\n",
    "@time x2 = f(b2);"
   ]
  },
  {
   "cell_type": "code",
   "execution_count": 12,
   "metadata": {
    "collapsed": false
   },
   "outputs": [
    {
     "data": {
      "text/plain": [
       "2-element Array{Any,1}:\n",
       " 1x3 Array{Int64,2}:\n",
       " 1  2  3\n",
       " 1x3 Array{Int64,2}:\n",
       " 4  5  6"
      ]
     },
     "execution_count": 12,
     "metadata": {},
     "output_type": "execute_result"
    }
   ],
   "source": [
    "out = []\n",
    "push!(out,[1 2 3])\n",
    "push!(out,[4 5 6])\n",
    "out"
   ]
  },
  {
   "cell_type": "code",
   "execution_count": 18,
   "metadata": {
    "collapsed": false
   },
   "outputs": [
    {
     "data": {
      "text/plain": [
       "(anonymous function)"
      ]
     },
     "execution_count": 18,
     "metadata": {},
     "output_type": "execute_result"
    }
   ],
   "source": [
    "f = lapWrapSolver(augTreeSolver,la,tol=0.1,maxits=1000)\n",
    "#x = f(b)\n",
    "#norm(la*x-b)/norm(b)"
   ]
  },
  {
   "cell_type": "code",
   "execution_count": null,
   "metadata": {
    "collapsed": false
   },
   "outputs": [],
   "source": [
    "n = 1000000\n",
    "a = chimera(n,4)\n",
    "la = lap(a)\n",
    "b = randn(n);\n",
    "b = b - mean(b);\n",
    "\n",
    "#t = akpw(a)\n",
    "#heavy = makeHeavy(a,t)\n",
    "#lheavy = lap(heavy);"
   ]
  },
  {
   "cell_type": "markdown",
   "metadata": {},
   "source": [
    "A test of the solver code, with some param settings thrown in"
   ]
  },
  {
   "cell_type": "code",
   "execution_count": null,
   "metadata": {
    "collapsed": false,
    "scrolled": true
   },
   "outputs": [],
   "source": [
    "KMP_LOGGING = true\n",
    "KMP_SAVEMATS = true\n",
    "t = akpw(a)\n",
    "T = 6.0\n",
    "p = (16/9)*T^(-2)\n",
    "params=KMPparams(p,T,1,500)\n",
    "@time f = KMPLapSolver(a,params=params,tol=0.1,maxits=1000)\n",
    "@time x = f(b)\n",
    "@show norm(la*x-b)/norm(b);"
   ]
  },
  {
   "cell_type": "code",
   "execution_count": null,
   "metadata": {
    "collapsed": false
   },
   "outputs": [],
   "source": [
    "Profile.clear()\n",
    "@profile f(b);\n",
    "ProfileView.view()"
   ]
  },
  {
   "cell_type": "code",
   "execution_count": null,
   "metadata": {
    "collapsed": false
   },
   "outputs": [],
   "source": [
    "(353546 - 3*(99999))/2"
   ]
  },
  {
   "cell_type": "code",
   "execution_count": null,
   "metadata": {
    "collapsed": false
   },
   "outputs": [],
   "source": [
    "KMP_MATS"
   ]
  },
  {
   "cell_type": "code",
   "execution_count": null,
   "metadata": {
    "collapsed": false
   },
   "outputs": [],
   "source": [
    "KMP_FS"
   ]
  },
  {
   "cell_type": "code",
   "execution_count": null,
   "metadata": {
    "collapsed": false
   },
   "outputs": [],
   "source": [
    "la2 = KMP_MATS[1];\n",
    "f2 = KMP_FS[2];\n",
    "f1 = KMP_FS[2];\n",
    "n2 = size(la2,1)\n"
   ]
  },
  {
   "cell_type": "code",
   "execution_count": null,
   "metadata": {
    "collapsed": false
   },
   "outputs": [],
   "source": [
    "b = randn(n2);\n",
    "b = b - mean(b);\n",
    "x = f1(b);\n",
    "norm(la2*x-b)/norm(b)"
   ]
  },
  {
   "cell_type": "markdown",
   "metadata": {},
   "source": [
    "A comparison with our old solver"
   ]
  },
  {
   "cell_type": "code",
   "execution_count": null,
   "metadata": {
    "collapsed": false
   },
   "outputs": [],
   "source": [
    "@time fa = lapWrapSolver(augTreeSolver,la,tol=0.1,maxits=1000)\n",
    "@time xa = fa(b)\n",
    "@show norm(la*xa-b)/norm(b);\n"
   ]
  },
  {
   "cell_type": "code",
   "execution_count": null,
   "metadata": {
    "collapsed": false
   },
   "outputs": [],
   "source": [
    "Profile.clear()\n",
    "@profile fa(b);\n",
    "ProfileView.view()"
   ]
  },
  {
   "cell_type": "code",
   "execution_count": null,
   "metadata": {
    "collapsed": true
   },
   "outputs": [],
   "source": []
  },
  {
   "cell_type": "markdown",
   "metadata": {
    "collapsed": false
   },
   "source": [
    "To understand what's going on, let's look at how quickly it solves the precon system.\n"
   ]
  },
  {
   "cell_type": "code",
   "execution_count": null,
   "metadata": {
    "collapsed": false
   },
   "outputs": [],
   "source": [
    "KMP_LOGGING = true\n",
    "# t = akpw(a)\n",
    "T = 6.0\n",
    "p = 2*T^(-2)\n",
    "ord = Laplacians.dfsOrder(t)\n",
    "aord = a[ord,ord]\n",
    "tord = t[ord,ord]\n",
    "\n",
    "params=KMPparams(p,T,2,500)\n",
    "heavy = makeHeavy(aord, t=tord, params=params)\n",
    "lh = lap(heavy)\n",
    "@time fsub =  KMPLapPrecon(aord, tord, params)\n",
    "@time xh = fsub(b)\n",
    "@show norm(lh*xh-b)/norm(b);"
   ]
  },
  {
   "cell_type": "code",
   "execution_count": null,
   "metadata": {
    "collapsed": false
   },
   "outputs": [],
   "source": [
    "xh = pcg(lh, b, fsub, tol=1e-2, maxits=60)\n",
    "norm(lh*xh-b)/norm(b)"
   ]
  },
  {
   "cell_type": "code",
   "execution_count": null,
   "metadata": {
    "collapsed": false
   },
   "outputs": [],
   "source": [
    "nnz(triu(a,1))"
   ]
  },
  {
   "cell_type": "code",
   "execution_count": null,
   "metadata": {
    "collapsed": true
   },
   "outputs": [],
   "source": [
    "Profile.clear()"
   ]
  },
  {
   "cell_type": "code",
   "execution_count": null,
   "metadata": {
    "collapsed": false
   },
   "outputs": [],
   "source": [
    "@profile fsub(b);"
   ]
  },
  {
   "cell_type": "code",
   "execution_count": null,
   "metadata": {
    "collapsed": false,
    "scrolled": true
   },
   "outputs": [],
   "source": [
    "using ProfileView\n",
    "ProfileView.view()"
   ]
  },
  {
   "cell_type": "code",
   "execution_count": null,
   "metadata": {
    "collapsed": false,
    "scrolled": true
   },
   "outputs": [],
   "source": [
    "#Profile.clear()\n",
    "n = 1000000\n",
    "a = chimera(n,1)\n",
    "b = randn(n)\n",
    "@profile a*b;\n",
    "ProfileView.view()"
   ]
  },
  {
   "cell_type": "code",
   "execution_count": null,
   "metadata": {
    "collapsed": false
   },
   "outputs": [],
   "source": [
    "function ms1(x)\n",
    "    mn = mean(x)\n",
    "    for i in 1:length(x)\n",
    "        x[i] = x[i] - mn\n",
    "    end\n",
    "end"
   ]
  },
  {
   "cell_type": "code",
   "execution_count": null,
   "metadata": {
    "collapsed": false
   },
   "outputs": [],
   "source": [
    "n = 10000900\n",
    "x = randn(n)\n",
    "@time x = x - mean(x);\n",
    "y = randn(n)\n",
    "@time ms1(y)\n",
    "mean(y)"
   ]
  },
  {
   "cell_type": "code",
   "execution_count": null,
   "metadata": {
    "collapsed": false
   },
   "outputs": [],
   "source": [
    "function manyRuns(n,numruns,pList)\n",
    "    tot = zeros(length(pList))\n",
    "    for it in 1:numruns\n",
    "        a = chimera(n,n+it)\n",
    "        b = randn(n)\n",
    "        b = b - mean(b)\n",
    "        for i in 1:length(pList)\n",
    "            fsub =  KMPLapPrecon(a, akpw(a), pList[i])\n",
    "            tic()\n",
    "            xh = fsub(b)\n",
    "            tot[i] += toq()\n",
    "        end\n",
    "\n",
    "    end\n",
    "\n",
    "            \n",
    "    for i in 1:length(pList)\n",
    "        println(string(pList[i]), \" : \", tot[i])\n",
    "    end\n",
    "\n",
    "    return tot\n",
    "end\n",
    "\n",
    "function manyRunsW(n,numruns,pList)\n",
    "    tot = zeros(length(pList))\n",
    "    for it in 1:numruns\n",
    "        a = wtedChimera(n,n+it)\n",
    "        b = randn(n)\n",
    "        b = b - mean(b)\n",
    "        for i in 1:length(pList)\n",
    "            fsub =  KMPLapPrecon(a, akpw(a), pList[i])\n",
    "            tic()\n",
    "            xh = fsub(b)\n",
    "            tot[i] += toq()\n",
    "        end\n",
    "        \n",
    "    end\n",
    "    \n",
    "    for i in 1:length(pList)\n",
    "        println(string(pList[i]), \" : \", tot[i])\n",
    "    end\n",
    "    return tot\n",
    "end"
   ]
  },
  {
   "cell_type": "markdown",
   "metadata": {},
   "source": [
    "The following gave a best n0=400, at least on a few small experiments.  Another puts it at 800."
   ]
  },
  {
   "cell_type": "code",
   "execution_count": null,
   "metadata": {
    "collapsed": false
   },
   "outputs": [],
   "source": [
    "T = 6.0\n",
    "p = (16/9)*T^(-2)\n",
    "pList = [KMPparams(p,T,2,100)]\n",
    "push!(pList,KMPparams(p,T,2,200))\n",
    "push!(pList,KMPparams(p,T,2,400))\n",
    "push!(pList,KMPparams(p,T,2,800))\n",
    "push!(pList,KMPparams(p,T,2,1600))\n",
    "zeros(length(pList))"
   ]
  },
  {
   "cell_type": "code",
   "execution_count": null,
   "metadata": {
    "collapsed": false
   },
   "outputs": [],
   "source": [
    "KMP_LOGGING = true\n",
    "totx = manyRuns(1000,2,pList);"
   ]
  },
  {
   "cell_type": "code",
   "execution_count": null,
   "metadata": {
    "collapsed": false
   },
   "outputs": [],
   "source": [
    "\n",
    "tot2 = manyRunsW(40000,50,pList)\n"
   ]
  },
  {
   "cell_type": "code",
   "execution_count": null,
   "metadata": {
    "collapsed": false
   },
   "outputs": [],
   "source": [
    "tot"
   ]
  },
  {
   "cell_type": "code",
   "execution_count": null,
   "metadata": {
    "collapsed": false
   },
   "outputs": [],
   "source": [
    "tot2"
   ]
  },
  {
   "cell_type": "markdown",
   "metadata": {},
   "source": [
    "The following experiment suggests T = 6.0"
   ]
  },
  {
   "cell_type": "code",
   "execution_count": null,
   "metadata": {
    "collapsed": false
   },
   "outputs": [],
   "source": [
    "T = 4.0\n",
    "pList = [KMPparams((16/9)*T^(-2),T,2,600)]\n",
    "T = 6.0\n",
    "push!(pList,KMPparams((16/9)*T^(-2),T,2,600))\n",
    "T = 8.0\n",
    "push!(pList,KMPparams((16/9)*T^(-2),T,2,600))\n",
    "\n",
    "tot3 = manyRuns(30000,70,pList)"
   ]
  },
  {
   "cell_type": "code",
   "execution_count": null,
   "metadata": {
    "collapsed": false
   },
   "outputs": [],
   "source": [
    "tot3"
   ]
  },
  {
   "cell_type": "code",
   "execution_count": null,
   "metadata": {
    "collapsed": false
   },
   "outputs": [],
   "source": [
    "print(string(pList[1]))"
   ]
  },
  {
   "cell_type": "code",
   "execution_count": null,
   "metadata": {
    "collapsed": true
   },
   "outputs": [],
   "source": []
  },
  {
   "cell_type": "code",
   "execution_count": null,
   "metadata": {
    "collapsed": false,
    "scrolled": true
   },
   "outputs": [],
   "source": [
    "marked = 0 + (rand(n) .< 0.6)\n",
    "b = randn(n)\n",
    "b = b - mean(b)\n",
    "lt = lap(t)\n",
    "lt[1,1] = lt[1,1] + 1\n",
    "x = recTest12x(t, b, marked)\n",
    "norm(lt*x-b);\n"
   ]
  },
  {
   "cell_type": "code",
   "execution_count": null,
   "metadata": {
    "collapsed": false
   },
   "outputs": [],
   "source": [
    "@time F = factorize(lt)\n",
    "\n",
    "@time y = F \\ b\n",
    "\n",
    "norm(y - x)"
   ]
  },
  {
   "cell_type": "code",
   "execution_count": null,
   "metadata": {
    "collapsed": false
   },
   "outputs": [],
   "source": [
    "elims1, elims2 = elimDeg12(t, marked)"
   ]
  },
  {
   "cell_type": "code",
   "execution_count": null,
   "metadata": {
    "collapsed": false
   },
   "outputs": [],
   "source": [
    "(rand(5) .< 0.6) + 0"
   ]
  },
  {
   "cell_type": "code",
   "execution_count": null,
   "metadata": {
    "collapsed": true
   },
   "outputs": [],
   "source": []
  },
  {
   "cell_type": "code",
   "execution_count": null,
   "metadata": {
    "collapsed": true
   },
   "outputs": [],
   "source": []
  },
  {
   "cell_type": "code",
   "execution_count": null,
   "metadata": {
    "collapsed": true
   },
   "outputs": [],
   "source": []
  },
  {
   "cell_type": "code",
   "execution_count": null,
   "metadata": {
    "collapsed": true
   },
   "outputs": [],
   "source": []
  },
  {
   "cell_type": "code",
   "execution_count": null,
   "metadata": {
    "collapsed": false
   },
   "outputs": [],
   "source": [
    "elims1"
   ]
  },
  {
   "cell_type": "code",
   "execution_count": null,
   "metadata": {
    "collapsed": false
   },
   "outputs": [],
   "source": [
    "elims2"
   ]
  },
  {
   "cell_type": "code",
   "execution_count": null,
   "metadata": {
    "collapsed": false
   },
   "outputs": [],
   "source": [
    "ind = find(marked.<2)"
   ]
  },
  {
   "cell_type": "code",
   "execution_count": null,
   "metadata": {
    "collapsed": true
   },
   "outputs": [],
   "source": [
    "ts = t[ind,ind];\n",
    "lt = lap(t)\n",
    "lt[1,1] = lt[1,1] + 1\n",
    "lts = lap(ts)\n",
    "lts[1,1] = lts[1,1] + 1\n",
    "b = randn(n);\n"
   ]
  },
  {
   "cell_type": "code",
   "execution_count": null,
   "metadata": {
    "collapsed": false
   },
   "outputs": [],
   "source": [
    "cumb = copy(b)\n",
    "\n",
    "for i in 1:length(elims1)\n",
    "    cumb[elims1[i].parent] += cumb[elims1[i].nodeid]\n",
    "end\n",
    "cumbs = cumb[ind]\n",
    "sum(cumbs)"
   ]
  },
  {
   "cell_type": "code",
   "execution_count": null,
   "metadata": {
    "collapsed": false
   },
   "outputs": [],
   "source": [
    "xs = lts \\ cumbs\n",
    "norm(lts*xs-cumbs)"
   ]
  },
  {
   "cell_type": "code",
   "execution_count": null,
   "metadata": {
    "collapsed": false
   },
   "outputs": [],
   "source": [
    "x = zeros(n)\n",
    "x[ind] = xs\n",
    "for i in length(elims1):-1:1\n",
    "    node = elims1[i].nodeid\n",
    "    x[node] = x[elims1[i].parent] + cumb[node]/elims1[i].wtDeg\n",
    "end\n",
    "norm(lt*x-b)"
   ]
  },
  {
   "cell_type": "code",
   "execution_count": null,
   "metadata": {
    "collapsed": false
   },
   "outputs": [],
   "source": [
    "y = la \\ b;\n",
    "norm(la*y-b)\n",
    "[y[ind] x[ind] xs]"
   ]
  },
  {
   "cell_type": "code",
   "execution_count": null,
   "metadata": {
    "collapsed": false
   },
   "outputs": [],
   "source": [
    "sum(las)"
   ]
  },
  {
   "cell_type": "code",
   "execution_count": null,
   "metadata": {
    "collapsed": true
   },
   "outputs": [],
   "source": []
  },
  {
   "cell_type": "code",
   "execution_count": null,
   "metadata": {
    "collapsed": true
   },
   "outputs": [],
   "source": []
  },
  {
   "cell_type": "code",
   "execution_count": null,
   "metadata": {
    "collapsed": false
   },
   "outputs": [],
   "source": [
    "function recTest(t,b, marked)\n",
    "\n",
    "    n = length(b)\n",
    "\n",
    "    elims1 = elimDeg1(t, marked)\n",
    "\n",
    "    cumb = copy(b)\n",
    "\n",
    "    for i in 1:length(elims1)\n",
    "        cumb[elims1[i].parent] += cumb[elims1[i].nodeid]\n",
    "    end\n",
    "\n",
    "\n",
    "    ind = find(marked.<2)\n",
    "    ts = t[ind,ind];\n",
    "    lts = lap(ts)\n",
    "\n",
    "    cumbs = cumb[ind]\n",
    "    xs = pinv(full(lts))*cumbs\n",
    "    \n",
    "    x = zeros(n)\n",
    "    x[ind] = xs\n",
    "    for i in length(elims1):-1:1\n",
    "        node = elims1[i].nodeid\n",
    "        x[node] = x[elims1[i].parent] + cumb[node]/elims1[i].wtDeg\n",
    "    end\n",
    "\n",
    "    return x\n",
    "    \n",
    "end\n"
   ]
  },
  {
   "cell_type": "code",
   "execution_count": null,
   "metadata": {
    "collapsed": false
   },
   "outputs": [],
   "source": [
    "mkd = rand(0:1,n)\n",
    "#elims1 = elimDeg1(t, mkd)\n",
    "#ind = find(mkd .< 2)"
   ]
  },
  {
   "cell_type": "code",
   "execution_count": null,
   "metadata": {
    "collapsed": false
   },
   "outputs": [],
   "source": [
    "cumb = copy(b)\n",
    "\n",
    "for i in 1:length(elims1)\n",
    "    cumb[elims1[i].parent] += cumb[elims1[i].nodeid]\n",
    "end\n",
    "cumbs = cumb[ind]\n",
    "sum(cumbs)"
   ]
  },
  {
   "cell_type": "code",
   "execution_count": null,
   "metadata": {
    "collapsed": false
   },
   "outputs": [],
   "source": [
    "sum(cumbs)"
   ]
  },
  {
   "cell_type": "code",
   "execution_count": null,
   "metadata": {
    "collapsed": false
   },
   "outputs": [],
   "source": [
    "b = randn(n)\n",
    "b = b - mean(b)\n",
    "lt = lap(t)\n",
    "x = pinv(full(lt)) * b\n",
    "norm(lt*x-b)"
   ]
  },
  {
   "cell_type": "code",
   "execution_count": null,
   "metadata": {
    "collapsed": false
   },
   "outputs": [],
   "source": [
    "x = recTest(t, b, mkd)\n",
    "norm(lt*x-b)"
   ]
  },
  {
   "cell_type": "code",
   "execution_count": null,
   "metadata": {
    "collapsed": false
   },
   "outputs": [],
   "source": [
    "sum(mkd.==2)"
   ]
  },
  {
   "cell_type": "code",
   "execution_count": null,
   "metadata": {
    "collapsed": false
   },
   "outputs": [],
   "source": [
    "norm(b)"
   ]
  },
  {
   "cell_type": "code",
   "execution_count": null,
   "metadata": {
    "collapsed": true
   },
   "outputs": [],
   "source": []
  },
  {
   "cell_type": "code",
   "execution_count": null,
   "metadata": {
    "collapsed": true
   },
   "outputs": [],
   "source": []
  },
  {
   "cell_type": "code",
   "execution_count": null,
   "metadata": {
    "collapsed": true
   },
   "outputs": [],
   "source": []
  },
  {
   "cell_type": "code",
   "execution_count": null,
   "metadata": {
    "collapsed": false
   },
   "outputs": [],
   "source": [
    "function makeElimList(t)\n",
    "    tr = matToTree(t)\n",
    "    n = size(tr.children,1)  \n",
    "    \n",
    "    elims = Array{elimTreeNode}(0)\n",
    "    for vi in n:-1:2\n",
    "        v = tr.children[vi]\n",
    "        push!(elims,elimTreeNode(v,tr.parent[v],tr.weights[vi]))\n",
    "    end\n",
    "    \n",
    "    return elims\n",
    "end"
   ]
  },
  {
   "cell_type": "code",
   "execution_count": null,
   "metadata": {
    "collapsed": false
   },
   "outputs": [],
   "source": [
    "function solveTree(elims,b)\n",
    "    cumb = copy(b)\n",
    "    n = size(b,1)\n",
    "    for i in 1:(n-1)\n",
    "        cumb[elims[i].parent] += cumb[elims[i].nodeid]\n",
    "    end\n",
    "    x = zeros(Float64,n)\n",
    "    for i in (n-1):-1:1\n",
    "        node = elims[i].nodeid\n",
    "        x[node] = x[elims[i].parent] + cumb[node]/elims[i].wtDeg\n",
    "    end\n",
    "    return x\n",
    "    \n",
    "end"
   ]
  },
  {
   "cell_type": "code",
   "execution_count": null,
   "metadata": {
    "collapsed": false
   },
   "outputs": [],
   "source": [
    "@time el = makeElimList(t);"
   ]
  },
  {
   "cell_type": "code",
   "execution_count": null,
   "metadata": {
    "collapsed": false
   },
   "outputs": [],
   "source": [
    "lt = lap(t)\n",
    "lt[end,end] += 1\n",
    "@time F = factorize(lt)"
   ]
  },
  {
   "cell_type": "code",
   "execution_count": null,
   "metadata": {
    "collapsed": false
   },
   "outputs": [],
   "source": [
    "b = randn(size(t,1));\n",
    "b = b - mean(b);\n",
    "@time x = solveTree(el,b);\n",
    "x = x - mean(x);\n",
    "norm(lap(t)*x-b)"
   ]
  },
  {
   "cell_type": "code",
   "execution_count": null,
   "metadata": {
    "collapsed": false
   },
   "outputs": [],
   "source": [
    "@time y = F \\ b;\n",
    "norm(lt*y-b)"
   ]
  },
  {
   "cell_type": "code",
   "execution_count": null,
   "metadata": {
    "collapsed": true
   },
   "outputs": [],
   "source": []
  },
  {
   "cell_type": "code",
   "execution_count": null,
   "metadata": {
    "collapsed": true
   },
   "outputs": [],
   "source": []
  },
  {
   "cell_type": "code",
   "execution_count": null,
   "metadata": {
    "collapsed": false
   },
   "outputs": [],
   "source": [
    "elims = Array{elimTreeNode}(0)"
   ]
  },
  {
   "cell_type": "code",
   "execution_count": null,
   "metadata": {
    "collapsed": true
   },
   "outputs": [],
   "source": [
    "for vi in n:-1:2\n",
    "    v = tr.children[vi]\n",
    "    push!(elims,elimTreeNode(v,tr.parent[v],tr.weights[vi]))\n",
    "end"
   ]
  },
  {
   "cell_type": "code",
   "execution_count": null,
   "metadata": {
    "collapsed": false
   },
   "outputs": [],
   "source": [
    "elims"
   ]
  },
  {
   "cell_type": "code",
   "execution_count": null,
   "metadata": {
    "collapsed": false
   },
   "outputs": [],
   "source": [
    "b = randn(n)\n",
    "b = b - mean(b)"
   ]
  },
  {
   "cell_type": "code",
   "execution_count": null,
   "metadata": {
    "collapsed": false
   },
   "outputs": [],
   "source": [
    "cumb = copy(b)\n",
    "for i in 1:(n-1)\n",
    "    cumb[elims[i].parent] += cumb[elims[i].nodeid]\n",
    "end\n",
    "cumb"
   ]
  },
  {
   "cell_type": "code",
   "execution_count": null,
   "metadata": {
    "collapsed": false
   },
   "outputs": [],
   "source": [
    "x = zeros(Float64,n)\n",
    "for i in (n-1):-1:1\n",
    "    node = elims[i].nodeid\n",
    "    x[node] = x[elims[i].parent] + cumb[node]/elims[i].wtDeg\n",
    "end\n",
    "x"
   ]
  },
  {
   "cell_type": "code",
   "execution_count": null,
   "metadata": {
    "collapsed": false
   },
   "outputs": [],
   "source": [
    "xs = pinv(full(lt))*b"
   ]
  },
  {
   "cell_type": "code",
   "execution_count": null,
   "metadata": {
    "collapsed": false
   },
   "outputs": [],
   "source": [
    "x-xs"
   ]
  },
  {
   "cell_type": "code",
   "execution_count": null,
   "metadata": {
    "collapsed": false
   },
   "outputs": [],
   "source": [
    "x = x - mean(x)"
   ]
  },
  {
   "cell_type": "code",
   "execution_count": null,
   "metadata": {
    "collapsed": false
   },
   "outputs": [],
   "source": [
    "lt*x - b"
   ]
  },
  {
   "cell_type": "code",
   "execution_count": null,
   "metadata": {
    "collapsed": false
   },
   "outputs": [],
   "source": [
    "b"
   ]
  },
  {
   "cell_type": "code",
   "execution_count": null,
   "metadata": {
    "collapsed": true
   },
   "outputs": [],
   "source": []
  },
  {
   "cell_type": "code",
   "execution_count": null,
   "metadata": {
    "collapsed": true
   },
   "outputs": [],
   "source": []
  },
  {
   "cell_type": "code",
   "execution_count": null,
   "metadata": {
    "collapsed": true
   },
   "outputs": [],
   "source": []
  },
  {
   "cell_type": "code",
   "execution_count": null,
   "metadata": {
    "collapsed": true
   },
   "outputs": [],
   "source": []
  },
  {
   "cell_type": "code",
   "execution_count": null,
   "metadata": {
    "collapsed": true
   },
   "outputs": [],
   "source": []
  },
  {
   "cell_type": "code",
   "execution_count": null,
   "metadata": {
    "collapsed": false
   },
   "outputs": [],
   "source": [
    "tr.weights"
   ]
  },
  {
   "cell_type": "code",
   "execution_count": null,
   "metadata": {
    "collapsed": false
   },
   "outputs": [],
   "source": []
  },
  {
   "cell_type": "code",
   "execution_count": null,
   "metadata": {
    "collapsed": true
   },
   "outputs": [],
   "source": []
  },
  {
   "cell_type": "code",
   "execution_count": null,
   "metadata": {
    "collapsed": true
   },
   "outputs": [],
   "source": []
  },
  {
   "cell_type": "code",
   "execution_count": null,
   "metadata": {
    "collapsed": false
   },
   "outputs": [],
   "source": [
    "st = comp_stretches(t,a);\n",
    "aveStretch = sum(st)/nnz(a)"
   ]
  },
  {
   "cell_type": "code",
   "execution_count": null,
   "metadata": {
    "collapsed": true
   },
   "outputs": [],
   "source": [
    "rest = a-t;\n",
    "fac = aveStretch*log(size(a,1))*2\n",
    "heavy = rest+fac*t;"
   ]
  },
  {
   "cell_type": "code",
   "execution_count": null,
   "metadata": {
    "collapsed": false
   },
   "outputs": [],
   "source": [
    "fac"
   ]
  },
  {
   "cell_type": "markdown",
   "metadata": {},
   "source": [
    "Sample with probability prop to stretch, but fix the number of edges we get to n/5"
   ]
  },
  {
   "cell_type": "code",
   "execution_count": null,
   "metadata": {
    "collapsed": false
   },
   "outputs": [],
   "source": [
    "n = size(a,1);"
   ]
  },
  {
   "cell_type": "code",
   "execution_count": null,
   "metadata": {
    "collapsed": false
   },
   "outputs": [],
   "source": [
    "strest = comp_stretches(t,rest)\n",
    "probs = triu(strest);\n",
    "probs = probs * (n/5)/ sum(probs);\n"
   ]
  },
  {
   "cell_type": "code",
   "execution_count": null,
   "metadata": {
    "collapsed": false
   },
   "outputs": [],
   "source": [
    "(pi,pj,pv) = findnz(probs)"
   ]
  },
  {
   "cell_type": "code",
   "execution_count": null,
   "metadata": {
    "collapsed": false
   },
   "outputs": [],
   "source": [
    "select = rand(size(pv)) .< pv;\n",
    "sum(select)"
   ]
  },
  {
   "cell_type": "code",
   "execution_count": null,
   "metadata": {
    "collapsed": false
   },
   "outputs": [],
   "source": [
    "(ai,aj,av) = findnz(triu(rest))"
   ]
  },
  {
   "cell_type": "code",
   "execution_count": null,
   "metadata": {
    "collapsed": false
   },
   "outputs": [],
   "source": [
    "samp1 = sparse(ai,aj,av.*select./pv,n,n)\n",
    "samp1 = samp1 + samp1';"
   ]
  },
  {
   "cell_type": "code",
   "execution_count": null,
   "metadata": {
    "collapsed": false
   },
   "outputs": [],
   "source": [
    "st1 = comp_stretches(t*fac, samp1);"
   ]
  },
  {
   "cell_type": "code",
   "execution_count": null,
   "metadata": {
    "collapsed": false
   },
   "outputs": [],
   "source": [
    "(s1i,s1j,s1v) = findnz(triu(samp1))"
   ]
  },
  {
   "cell_type": "code",
   "execution_count": null,
   "metadata": {
    "collapsed": false
   },
   "outputs": [],
   "source": [
    "maximum(x)"
   ]
  },
  {
   "cell_type": "code",
   "execution_count": null,
   "metadata": {
    "collapsed": false
   },
   "outputs": [],
   "source": [
    "a = chimera(100000,103+1111);\n",
    "testGraph(a);\n"
   ]
  },
  {
   "cell_type": "code",
   "execution_count": null,
   "metadata": {
    "collapsed": false
   },
   "outputs": [],
   "source": [
    "include(\"../devel/kmpTest.jl\")"
   ]
  },
  {
   "cell_type": "code",
   "execution_count": null,
   "metadata": {
    "collapsed": false
   },
   "outputs": [],
   "source": [
    "testAtSize(10000)"
   ]
  },
  {
   "cell_type": "code",
   "execution_count": null,
   "metadata": {
    "collapsed": false
   },
   "outputs": [],
   "source": [
    "x = testKMP(a,frac1 = 1/5, frac2 = 1/10)"
   ]
  },
  {
   "cell_type": "code",
   "execution_count": null,
   "metadata": {
    "collapsed": false
   },
   "outputs": [],
   "source": [
    "    (pi,pj,pv) = findnz(probs)\n",
    "    select = rand(size(pv)) .< pv;\n",
    "    (ai,aj,av) = findnz(triu(rest))\n",
    "    \n",
    "    samp1 = sparse(ai,aj,av.*select./pv,n,n)\n",
    "#    samp1 = samp1 + samp1';\n",
    "    \n",
    "#    st1 = comp_stretches(t*fac, samp1);\n",
    "#    (s1i,s1j,s1v) = findnz(triu(samp1))"
   ]
  },
  {
   "cell_type": "code",
   "execution_count": null,
   "metadata": {
    "collapsed": false
   },
   "outputs": [],
   "source": [
    "ringGraph(1)"
   ]
  },
  {
   "cell_type": "code",
   "execution_count": null,
   "metadata": {
    "collapsed": false
   },
   "outputs": [],
   "source": [
    "a = wtedChimera(1000000)\n",
    "@time t = akpw(a);\n"
   ]
  },
  {
   "cell_type": "code",
   "execution_count": null,
   "metadata": {
    "collapsed": false
   },
   "outputs": [],
   "source": [
    "n = size(t,1)\n",
    "nnz(a)"
   ]
  },
  {
   "cell_type": "code",
   "execution_count": null,
   "metadata": {
    "collapsed": false
   },
   "outputs": [],
   "source": [
    "@time ord = Laplacians.dfsOrder(t);"
   ]
  },
  {
   "cell_type": "code",
   "execution_count": null,
   "metadata": {
    "collapsed": false
   },
   "outputs": [],
   "source": [
    "@time aord = symperm(a,ord);\n",
    "@time aord = aord + aord';"
   ]
  },
  {
   "cell_type": "code",
   "execution_count": null,
   "metadata": {
    "collapsed": false
   },
   "outputs": [],
   "source": [
    "pe = randperm(n)\n",
    "@time ape = symperm(a,pe)\n",
    "@time ape = ape + ape';"
   ]
  },
  {
   "cell_type": "code",
   "execution_count": null,
   "metadata": {
    "collapsed": false
   },
   "outputs": [],
   "source": [
    "x = randn(n)\n",
    "@time b1 = ape*x;\n",
    "@time b2 = aord*x;"
   ]
  },
  {
   "cell_type": "code",
   "execution_count": null,
   "metadata": {
    "collapsed": false
   },
   "outputs": [],
   "source": [
    "@show nnz(ape)\n",
    "@show nnz(aord)"
   ]
  },
  {
   "cell_type": "code",
   "execution_count": null,
   "metadata": {
    "collapsed": true
   },
   "outputs": [],
   "source": [
    "tord = t[ord,ord];"
   ]
  },
  {
   "cell_type": "code",
   "execution_count": null,
   "metadata": {
    "collapsed": false
   },
   "outputs": [],
   "source": [
    "@time st1 = comp_stretches(tord,aord);"
   ]
  },
  {
   "cell_type": "code",
   "execution_count": null,
   "metadata": {
    "collapsed": false
   },
   "outputs": [],
   "source": [
    "@time st2 = comp_stretchesDFS(tord,aord);"
   ]
  },
  {
   "cell_type": "code",
   "execution_count": null,
   "metadata": {
    "collapsed": false
   },
   "outputs": [],
   "source": [
    "sum(abs(st1-st2))"
   ]
  },
  {
   "cell_type": "code",
   "execution_count": null,
   "metadata": {
    "collapsed": false
   },
   "outputs": [],
   "source": [
    "@time tr, d1 = matToTreeDepth(tord);"
   ]
  },
  {
   "cell_type": "code",
   "execution_count": null,
   "metadata": {
    "collapsed": false
   },
   "outputs": [],
   "source": [
    "@time d2 = treeDepthDFS(tord);"
   ]
  },
  {
   "cell_type": "code",
   "execution_count": null,
   "metadata": {
    "collapsed": false
   },
   "outputs": [],
   "source": [
    "norm(d1-d2)"
   ]
  },
  {
   "cell_type": "code",
   "execution_count": null,
   "metadata": {
    "collapsed": true
   },
   "outputs": [],
   "source": []
  },
  {
   "cell_type": "code",
   "execution_count": null,
   "metadata": {
    "collapsed": true
   },
   "outputs": [],
   "source": []
  },
  {
   "cell_type": "code",
   "execution_count": null,
   "metadata": {
    "collapsed": true
   },
   "outputs": [],
   "source": []
  },
  {
   "cell_type": "code",
   "execution_count": null,
   "metadata": {
    "collapsed": true
   },
   "outputs": [],
   "source": []
  },
  {
   "cell_type": "code",
   "execution_count": null,
   "metadata": {
    "collapsed": false
   },
   "outputs": [],
   "source": [
    "function dfsOrder2(t::SparseMatrixCSC)\n",
    "    n = size(t,1)\n",
    "    seen = zeros(Bool,n)\n",
    "    ord = Array{Int64}(0)\n",
    "    stk = Array{Int64}(0)\n",
    "    push!(stk,1)\n",
    "    while ~isempty(stk)\n",
    "        u = pop!(stk)\n",
    "        push!(ord,u)\n",
    "        seen[u] = true\n",
    "        for vi in t.colptr[u]:(t.colptr[u+1]-1)\n",
    "            v = t.rowval[vi]\n",
    "            if !seen[v]\n",
    "                push!(stk,v)\n",
    "            end\n",
    "        end\n",
    "    end\n",
    "    return ord\n",
    "\n",
    "end"
   ]
  },
  {
   "cell_type": "code",
   "execution_count": null,
   "metadata": {
    "collapsed": false
   },
   "outputs": [],
   "source": [
    "ord = dfsOrder(tr);"
   ]
  },
  {
   "cell_type": "code",
   "execution_count": null,
   "metadata": {
    "collapsed": false
   },
   "outputs": [],
   "source": [
    "stack = Array{Int64}(0)"
   ]
  },
  {
   "cell_type": "code",
   "execution_count": null,
   "metadata": {
    "collapsed": false
   },
   "outputs": [],
   "source": [
    "~isempty(stack)"
   ]
  },
  {
   "cell_type": "code",
   "execution_count": null,
   "metadata": {
    "collapsed": true
   },
   "outputs": [],
   "source": []
  },
  {
   "cell_type": "code",
   "execution_count": null,
   "metadata": {
    "collapsed": true
   },
   "outputs": [],
   "source": []
  },
  {
   "cell_type": "code",
   "execution_count": null,
   "metadata": {
    "collapsed": false
   },
   "outputs": [],
   "source": [
    "function dfsOrder2(tr)\n",
    "    ord = Array{Int64}(0)\n",
    "    stack = Array{Int64}(0)\n",
    "    push!(stack,tr.root)\n",
    "    while ~isempty(stack)\n",
    "        u = pop!(stack)\n",
    "        push!(ord,u)\n",
    "        for  vi in tr.kidsPtr[u]:(tr.numKids[u] + tr.kidsPtr[u] - 1)\n",
    "            v = tr.children[vi]\n",
    "            push!(stack,v)\n",
    "        end\n",
    "    end\n",
    "    return ord\n",
    "\n",
    "end"
   ]
  },
  {
   "cell_type": "code",
   "execution_count": null,
   "metadata": {
    "collapsed": false
   },
   "outputs": [],
   "source": [
    "ord2 = dfsOrder2(tr);"
   ]
  },
  {
   "cell_type": "code",
   "execution_count": null,
   "metadata": {
    "collapsed": false
   },
   "outputs": [],
   "source": [
    "norm(ord - ord2[size(tr.children,1):-1:1])"
   ]
  },
  {
   "cell_type": "code",
   "execution_count": null,
   "metadata": {
    "collapsed": false
   },
   "outputs": [],
   "source": [
    "# n = 100000\n",
    "a = grid2(1000)\n",
    "t = akpw(a)\n",
    "aves = sum(comp_stretches(t,a))/nnz(a)"
   ]
  },
  {
   "cell_type": "code",
   "execution_count": null,
   "metadata": {
    "collapsed": false
   },
   "outputs": [],
   "source": [
    "avc = zeros(10)\n",
    "for i in 1:10\n",
    "    ap = randperm(a)\n",
    "    tp = akpw(ap)\n",
    "    avc[i] = sum(comp_stretches(tp,ap))/nnz(a)\n",
    "end\n",
    "mean(avc)"
   ]
  },
  {
   "cell_type": "code",
   "execution_count": null,
   "metadata": {
    "collapsed": false
   },
   "outputs": [],
   "source": [
    "avc"
   ]
  },
  {
   "cell_type": "code",
   "execution_count": null,
   "metadata": {
    "collapsed": false
   },
   "outputs": [],
   "source": [
    "?akpw!"
   ]
  },
  {
   "cell_type": "code",
   "execution_count": null,
   "metadata": {
    "collapsed": false
   },
   "outputs": [],
   "source": [
    "a = grid2(700)\n",
    "@time t = akpw(a,exponentialX=false)\n",
    "@show sum(comp_stretches(t,a))/nnz(a)\n",
    "@time t = akpw(a,exponentialX=true)\n",
    "@show sum(comp_stretches(t,a))/nnz(a);"
   ]
  },
  {
   "cell_type": "code",
   "execution_count": null,
   "metadata": {
    "collapsed": false
   },
   "outputs": [],
   "source": [
    "nits = 100\n",
    "df = Array{Float64}(0)\n",
    "dt = Array{Float64}(0)\n",
    "timef = Array{Float64}(0)\n",
    "timet = Array{Float64}(0)\n",
    "for i in 1:nits\n",
    "    a = wtedChimera(500000)\n",
    "    tic();\n",
    "    t = akpw(a,exponentialX=false)\n",
    "    push!(timef,toc())\n",
    "    push!(df,sum(comp_stretches(t,a))/nnz(a))\n",
    "    \n",
    "    tic();\n",
    "    t = akpw(a,exponentialX=true)\n",
    "    push!(timet,toc())\n",
    "    push!(dt,sum(comp_stretches(t,a))/nnz(a))\n",
    "    \n",
    "    a = unweight(a)\n",
    "    tic();\n",
    "    t = akpw(a,exponentialX=false)\n",
    "    push!(timef,toc())\n",
    "    push!(df,sum(comp_stretches(t,a))/nnz(a))\n",
    "    \n",
    "    tic();\n",
    "    t = akpw(a,exponentialX=true)\n",
    "    push!(timet,toc())\n",
    "    push!(dt,sum(comp_stretches(t,a))/nnz(a))\n",
    "end\n",
    "    \n"
   ]
  },
  {
   "cell_type": "code",
   "execution_count": null,
   "metadata": {
    "collapsed": false
   },
   "outputs": [],
   "source": [
    "x = collect(1:length(dt));\n",
    "plot(x,sort(timet),\"rx\",x,sort(timef),\"bo\")"
   ]
  },
  {
   "cell_type": "code",
   "execution_count": null,
   "metadata": {
    "collapsed": false
   },
   "outputs": [],
   "source": [
    "plot(x,sort(timet./timef),\"rx\",x,sort(timef./timet),\"bo\")"
   ]
  },
  {
   "cell_type": "code",
   "execution_count": null,
   "metadata": {
    "collapsed": false
   },
   "outputs": [],
   "source": [
    "plot(x,sort(dt./df),\"rx\",x,sort(df./dt),\"bo\")"
   ]
  },
  {
   "cell_type": "code",
   "execution_count": null,
   "metadata": {
    "collapsed": false
   },
   "outputs": [],
   "source": [
    "mean(df)"
   ]
  },
  {
   "cell_type": "code",
   "execution_count": null,
   "metadata": {
    "collapsed": false
   },
   "outputs": [],
   "source": [
    "mean(dt)"
   ]
  },
  {
   "cell_type": "code",
   "execution_count": null,
   "metadata": {
    "collapsed": false
   },
   "outputs": [],
   "source": [
    "plot(x,sort(df),\"rx\",x,sort(dt),\"bo\")"
   ]
  },
  {
   "cell_type": "code",
   "execution_count": null,
   "metadata": {
    "collapsed": true
   },
   "outputs": [],
   "source": []
  },
  {
   "cell_type": "code",
   "execution_count": null,
   "metadata": {
    "collapsed": true
   },
   "outputs": [],
   "source": []
  },
  {
   "cell_type": "code",
   "execution_count": null,
   "metadata": {
    "collapsed": true
   },
   "outputs": [],
   "source": []
  },
  {
   "cell_type": "code",
   "execution_count": null,
   "metadata": {
    "collapsed": false
   },
   "outputs": [],
   "source": [
    "mean(timet)"
   ]
  },
  {
   "cell_type": "code",
   "execution_count": null,
   "metadata": {
    "collapsed": false
   },
   "outputs": [],
   "source": [
    "mean(df)"
   ]
  },
  {
   "cell_type": "code",
   "execution_count": null,
   "metadata": {
    "collapsed": false
   },
   "outputs": [],
   "source": [
    "mean(dt)"
   ]
  },
  {
   "cell_type": "code",
   "execution_count": null,
   "metadata": {
    "collapsed": false
   },
   "outputs": [],
   "source": [
    "function testSampler(a; t=akpw(a), frac1=1/5)\n",
    "\n",
    "\n",
    "    n = size(a,1);\n",
    "\n",
    "    rest = a-t;\n",
    "\n",
    "    st = comp_stretches(t,rest);\n",
    "    aveStretch = sum(st)/nnz(rest)\n",
    "    @show aveStretch\n",
    "    \n",
    "\n",
    "    fac = aveStretch*log(size(a,1))*3\n",
    "    heavy = rest+fac*t;\n",
    "\n",
    "    (ai,aj,av) = findnz(triu(rest))\n",
    "    (si,sj,sv) = findnz(triu(st))\n",
    "    sv = sv ./ fac\n",
    "\n",
    "    restijvs = restIJVS(ai,aj,av,sv)\n",
    "\n",
    "    sampijvs = stretchSample2(restijvs,frac1)\n",
    "    \n",
    "    samp1 = sparse(sampijvs.i,sampijvs.j,sampijvs.v,n,n)\n",
    "    samp1 = samp1 + samp1';\n",
    "    \n",
    "    st1 = comp_stretches(t*fac, samp1);\n",
    "    (s1i,s1j,s1v) = findnz(triu(samp1))\n",
    "\n",
    "    add = speye(n)/10^6;\n",
    "    e = eigs(lap(heavy)+add,lap(samp1+t*fac)+add, nev=4);\n",
    "\n",
    "    return maximum(e[1])\n",
    "end\n"
   ]
  },
  {
   "cell_type": "code",
   "execution_count": null,
   "metadata": {
    "collapsed": false
   },
   "outputs": [],
   "source": [
    "a = grid2(50)\n",
    "t = akpw(a)\n",
    "frac1 = 2/3\n",
    "    n = size(a,1);\n",
    "\n",
    "    rest = a-t;\n",
    "\n",
    "    st = comp_stretches(t,rest);\n",
    "    aveStretch = sum(st)/nnz(rest)\n",
    "    @show aveStretch\n",
    "    \n",
    "\n",
    "    fac = aveStretch*log(size(a,1))\n",
    "    heavy = rest+fac*t;\n",
    "\n",
    "    (ai,aj,av) = findnz(triu(rest))\n",
    "    (si,sj,sv) = findnz(triu(st))\n",
    "    sv = sv ./ fac\n",
    "\n",
    "    restijvs = restIJVS(ai,aj,av,sv)\n",
    "\n",
    "    sampijvs = stretchSample(restijvs,frac1)\n",
    "    "
   ]
  },
  {
   "cell_type": "code",
   "execution_count": null,
   "metadata": {
    "collapsed": false
   },
   "outputs": [],
   "source": [
    "include(\"../src/KMPSolver.jl\")\n",
    "include(\"../devel/kmpTest.jl\")"
   ]
  },
  {
   "cell_type": "code",
   "execution_count": null,
   "metadata": {
    "collapsed": false
   },
   "outputs": [],
   "source": [
    "n = 1000000\n",
    "a = chimera(n)\n",
    "la = lap(a)\n",
    "b = randn(n);\n",
    "b = b - mean(b);\n",
    "\n",
    "t = akpw(a)\n",
    "heavy = makeHeavy(a,t)\n",
    "lheavy = lap(heavy);"
   ]
  },
  {
   "cell_type": "code",
   "execution_count": null,
   "metadata": {
    "collapsed": false
   },
   "outputs": [],
   "source": []
  },
  {
   "cell_type": "code",
   "execution_count": null,
   "metadata": {
    "collapsed": false
   },
   "outputs": [],
   "source": [
    "@profile f = KMPLapPrecon(a,t)\n",
    "#@time xh = f(b)\n",
    "#@show norm(lheavy*xh-b);"
   ]
  },
  {
   "cell_type": "code",
   "execution_count": null,
   "metadata": {
    "collapsed": false
   },
   "outputs": [],
   "source": [
    "Profile.clear()"
   ]
  },
  {
   "cell_type": "code",
   "execution_count": null,
   "metadata": {
    "collapsed": false
   },
   "outputs": [],
   "source": [
    "@time fa = lapWrapSolver(augTreeSolver,lheavy,tol=1e-2,maxits=1000)\n",
    "@time xa = fa(b)\n",
    "@show norm(lheavy*xa-b);"
   ]
  },
  {
   "cell_type": "code",
   "execution_count": null,
   "metadata": {
    "collapsed": false
   },
   "outputs": [],
   "source": [
    "function vecstats(s)\n",
    "    println(\"length : \", size(s,1), \", min : \", minimum(s), \", mean : \", mean(s), \", max : \", maximum(s), \", sum : \", sum(s))\n",
    "end"
   ]
  },
  {
   "cell_type": "code",
   "execution_count": null,
   "metadata": {
    "collapsed": true
   },
   "outputs": [],
   "source": []
  },
  {
   "cell_type": "code",
   "execution_count": null,
   "metadata": {
    "collapsed": false
   },
   "outputs": [],
   "source": [
    "vecstats(restijvs.s)"
   ]
  },
  {
   "cell_type": "code",
   "execution_count": null,
   "metadata": {
    "collapsed": false
   },
   "outputs": [],
   "source": [
    "a = grid2(200)\n",
    "t = akpw(a)\n",
    "\n",
    "frac1 = 1/5\n",
    "    n = size(a,1);\n",
    "\n",
    "    rest = a-t;\n",
    "\n",
    "    st = comp_stretches(t,rest);\n",
    "    aveStretch = sum(st)/nnz(rest)\n",
    "    @show aveStretch\n",
    "    \n",
    "\n",
    "    targetStretch = 1/(2*log(n)/log(2))"
   ]
  },
  {
   "cell_type": "code",
   "execution_count": null,
   "metadata": {
    "collapsed": false
   },
   "outputs": [],
   "source": [
    "    fac = aveStretch/targetStretch\n",
    "    heavy = rest+fac*t;\n",
    "\n",
    "    (ai,aj,av) = findnz(triu(rest))\n",
    "\n",
    "    (si,sj,sv) = findnz(triu(st))\n",
    "    sv = sv ./ fac\n",
    "\n",
    "    ijvs = IJVS(ai,aj,av,sv)\n",
    "\n",
    "    ijvs1 = stretchSample(ijvs,targetStretch,frac1)\n",
    "    ijvs2 = stretchSample(ijvs1,targetStretch,frac1)\n",
    "    \n",
    "    samp1 = sparse(ijvs1.i,ijvs1.j,ijvs1.v,n,n)\n",
    "    samp1 = samp1 + samp1';\n",
    "    \n",
    "    samp2 = sparse(ijvs2.i,ijvs2.j,ijvs2.v,n,n)\n",
    "    samp2 = samp2 + samp2';"
   ]
  },
  {
   "cell_type": "code",
   "execution_count": null,
   "metadata": {
    "collapsed": false
   },
   "outputs": [],
   "source": [
    "    add = speye(n)/10^6;\n",
    "@time e = eigs(lap(heavy)+add,lap(samp1+t*fac)+add, nev=1, maxiter = 10);\n",
    "@show maximum(e[1])\n",
    "@time e = eigs(lap(samp1)+add,lap(samp2+t*fac)+add, nev=1, maxiter = 10);\n",
    "@show maximum(e[1])"
   ]
  },
  {
   "cell_type": "code",
   "execution_count": null,
   "metadata": {
    "collapsed": false
   },
   "outputs": [],
   "source": [
    "vecstats(ijvs.s)\n",
    "vecstats(ijvs1.s)\n",
    "vecstats(ijvs2.s)"
   ]
  },
  {
   "cell_type": "code",
   "execution_count": null,
   "metadata": {
    "collapsed": false
   },
   "outputs": [],
   "source": [
    "targetStretch"
   ]
  },
  {
   "cell_type": "code",
   "execution_count": null,
   "metadata": {
    "collapsed": true
   },
   "outputs": [],
   "source": []
  },
  {
   "cell_type": "code",
   "execution_count": null,
   "metadata": {
    "collapsed": true
   },
   "outputs": [],
   "source": []
  },
  {
   "cell_type": "code",
   "execution_count": null,
   "metadata": {
    "collapsed": false
   },
   "outputs": [],
   "source": [
    "vecstats(sampijvs.s)"
   ]
  },
  {
   "cell_type": "code",
   "execution_count": null,
   "metadata": {
    "collapsed": true
   },
   "outputs": [],
   "source": []
  },
  {
   "cell_type": "code",
   "execution_count": null,
   "metadata": {
    "collapsed": false
   },
   "outputs": [],
   "source": [
    "mean(sampijvs.s)"
   ]
  },
  {
   "cell_type": "code",
   "execution_count": null,
   "metadata": {
    "collapsed": false
   },
   "outputs": [],
   "source": [
    "maximum(sampijvs.s)"
   ]
  },
  {
   "cell_type": "code",
   "execution_count": null,
   "metadata": {
    "collapsed": false
   },
   "outputs": [],
   "source": [
    "length(sampijvs.s)"
   ]
  },
  {
   "cell_type": "code",
   "execution_count": null,
   "metadata": {
    "collapsed": false
   },
   "outputs": [],
   "source": [
    "s2 = stretchSampleInner(sampijvs,1/2)\n",
    "vecstats(s2.s)"
   ]
  },
  {
   "cell_type": "code",
   "execution_count": null,
   "metadata": {
    "collapsed": false
   },
   "outputs": [],
   "source": [
    "sum(s2.s .< 0.2)"
   ]
  },
  {
   "cell_type": "code",
   "execution_count": null,
   "metadata": {
    "collapsed": false
   },
   "outputs": [],
   "source": [
    "1/log(size(a,1))"
   ]
  },
  {
   "cell_type": "code",
   "execution_count": null,
   "metadata": {
    "collapsed": false
   },
   "outputs": [],
   "source": [
    "mean(restijvs.s)"
   ]
  },
  {
   "cell_type": "code",
   "execution_count": null,
   "metadata": {
    "collapsed": true
   },
   "outputs": [],
   "source": []
  },
  {
   "cell_type": "code",
   "execution_count": null,
   "metadata": {
    "collapsed": true
   },
   "outputs": [],
   "source": []
  },
  {
   "cell_type": "code",
   "execution_count": null,
   "metadata": {
    "collapsed": false
   },
   "outputs": [],
   "source": [
    "s3 = stretchSampleInner(s2,1/5)\n",
    "[mean(s3.s), maximum(s3.s)]"
   ]
  },
  {
   "cell_type": "code",
   "execution_count": null,
   "metadata": {
    "collapsed": false
   },
   "outputs": [],
   "source": [
    "size(s3.i,1)"
   ]
  },
  {
   "cell_type": "code",
   "execution_count": null,
   "metadata": {
    "collapsed": true
   },
   "outputs": [],
   "source": []
  },
  {
   "cell_type": "code",
   "execution_count": null,
   "metadata": {
    "collapsed": false
   },
   "outputs": [],
   "source": [
    "n = 10000000\n",
    "p = randperm(n)\n",
    "f = function()\n",
    "    x = b[p]\n",
    "    return x\n",
    "end\n",
    "f1 = function(b::Array{Float64,1})\n",
    "    n = size(b,1)\n",
    "    x = zeros(n)\n",
    "    for i in 1:n\n",
    "        x[p[i]] = b[i]\n",
    "    end\n",
    "end\n",
    "f3 = function(b::Array{Float64,1}, p::Array{Int64,1})\n",
    "    x = b[p]\n",
    "    return x\n",
    "end\n",
    "f4 = function(b::Array{Float64,1}, p::Array{Int64,1})\n",
    "    n = size(b,1)\n",
    "    x = zeros(n)\n",
    "    for i in 1:n\n",
    "        x[i] = b[p[i]]\n",
    "    end\n",
    "end\n",
    "\n",
    "\n",
    "    "
   ]
  },
  {
   "cell_type": "code",
   "execution_count": null,
   "metadata": {
    "collapsed": false
   },
   "outputs": [],
   "source": [
    "b = randn(n)\n",
    "q = randperm(n)\n",
    "@time x = f(b);\n",
    "@time y = f1(b);\n",
    "@time z = f3(b,q);\n",
    "@time w = f4(b,q);\n"
   ]
  },
  {
   "cell_type": "code",
   "execution_count": null,
   "metadata": {
    "collapsed": false
   },
   "outputs": [],
   "source": [
    "@code_warntype f3(b)"
   ]
  },
  {
   "cell_type": "code",
   "execution_count": null,
   "metadata": {
    "collapsed": true
   },
   "outputs": [],
   "source": []
  }
 ],
 "metadata": {
  "kernelspec": {
   "display_name": "Julia 0.4.3",
   "language": "julia",
   "name": "julia-0.4"
  },
  "language_info": {
   "file_extension": ".jl",
   "mimetype": "application/julia",
   "name": "julia",
   "version": "0.4.3"
  }
 },
 "nbformat": 4,
 "nbformat_minor": 0
}
