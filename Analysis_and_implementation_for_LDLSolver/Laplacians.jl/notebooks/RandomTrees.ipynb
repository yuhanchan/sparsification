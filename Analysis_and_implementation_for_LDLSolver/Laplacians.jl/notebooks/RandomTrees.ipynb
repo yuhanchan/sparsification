{
 "cells": [
  {
   "cell_type": "code",
   "execution_count": 1,
   "metadata": {
    "collapsed": false
   },
   "outputs": [
    {
     "name": "stderr",
     "output_type": "stream",
     "text": [
      "INFO: Loading help data...\n"
     ]
    }
   ],
   "source": [
    "using yinsGraph"
   ]
  },
  {
   "cell_type": "code",
   "execution_count": 65,
   "metadata": {
    "collapsed": false
   },
   "outputs": [
    {
     "data": {
      "text/plain": [
       "augmentTree (generic function with 1 method)"
      ]
     },
     "execution_count": 65,
     "metadata": {},
     "output_type": "execute_result"
    }
   ],
   "source": [
    "include(\"sampler.jl\")\n",
    "include(\"randTrees.jl\")\n",
    "include(\"solvers.jl\")"
   ]
  },
  {
   "cell_type": "code",
   "execution_count": null,
   "metadata": {
    "collapsed": true
   },
   "outputs": [],
   "source": []
  },
  {
   "cell_type": "code",
   "execution_count": 99,
   "metadata": {
    "collapsed": false
   },
   "outputs": [
    {
     "name": "stdout",
     "output_type": "stream",
     "text": [
      "elapsed time: 0.000834213 seconds (571760 bytes allocated)\n",
      "elapsed time: 0.000241986 seconds (355584 bytes allocated)\n"
     ]
    },
    {
     "data": {
      "text/plain": [
       "7.343678160919559"
      ]
     },
     "execution_count": 99,
     "metadata": {},
     "output_type": "execute_result"
    }
   ],
   "source": [
    "a = grid2(30,30,isotropy=10);\n",
    "@time t = randishKruskal(a)\n",
    "@time st = comp_stretches(t,a);\n",
    "sum(st)/nnz(a)"
   ]
  },
  {
   "cell_type": "code",
   "execution_count": 98,
   "metadata": {
    "collapsed": false
   },
   "outputs": [
    {
     "data": {
      "text/plain": [
       "40000x40000 sparse matrix with 79998 Float64 entries:\n",
       "\t[201  ,     1]  =  10.0\n",
       "\t[202  ,     2]  =  10.0\n",
       "\t[203  ,     3]  =  10.0\n",
       "\t[204  ,     4]  =  10.0\n",
       "\t[205  ,     5]  =  10.0\n",
       "\t[206  ,     6]  =  10.0\n",
       "\t[207  ,     7]  =  10.0\n",
       "\t[9    ,     8]  =  1.0\n",
       "\t[208  ,     8]  =  10.0\n",
       "\t[8    ,     9]  =  1.0\n",
       "\t⋮\n",
       "\t[39791, 39991]  =  10.0\n",
       "\t[39792, 39992]  =  10.0\n",
       "\t[39793, 39993]  =  10.0\n",
       "\t[39794, 39994]  =  10.0\n",
       "\t[39795, 39995]  =  10.0\n",
       "\t[39796, 39996]  =  10.0\n",
       "\t[39997, 39996]  =  1.0\n",
       "\t[39996, 39997]  =  1.0\n",
       "\t[39798, 39998]  =  10.0\n",
       "\t[39799, 39999]  =  10.0\n",
       "\t[39800, 40000]  =  10.0"
      ]
     },
     "execution_count": 98,
     "metadata": {},
     "output_type": "execute_result"
    }
   ],
   "source": [
    "t"
   ]
  },
  {
   "cell_type": "code",
   "execution_count": 100,
   "metadata": {
    "collapsed": false
   },
   "outputs": [
    {
     "name": "stdout",
     "output_type": "stream",
     "text": [
      "elapsed time: 0.000850124 seconds (772648 bytes allocated)\n"
     ]
    },
    {
     "data": {
      "text/plain": [
       "900x900 sparse matrix with 2110 Float64 entries:\n",
       "\t[2  ,   1]  =  1.0\n",
       "\t[31 ,   1]  =  10.0\n",
       "\t[1  ,   2]  =  1.0\n",
       "\t[32 ,   2]  =  10.0\n",
       "\t[33 ,   3]  =  10.0\n",
       "\t[5  ,   4]  =  1.0\n",
       "\t[34 ,   4]  =  10.0\n",
       "\t[4  ,   5]  =  1.0\n",
       "\t[35 ,   5]  =  1.0\n",
       "\t[36 ,   6]  =  10.0\n",
       "\t⋮\n",
       "\t[894, 893]  =  1.0\n",
       "\t[864, 894]  =  10.0\n",
       "\t[893, 894]  =  1.0\n",
       "\t[865, 895]  =  10.0\n",
       "\t[896, 895]  =  1.0\n",
       "\t[866, 896]  =  10.0\n",
       "\t[895, 896]  =  1.0\n",
       "\t[867, 897]  =  10.0\n",
       "\t[868, 898]  =  10.0\n",
       "\t[869, 899]  =  10.0\n",
       "\t[870, 900]  =  10.0"
      ]
     },
     "execution_count": 100,
     "metadata": {},
     "output_type": "execute_result"
    }
   ],
   "source": [
    "@time at = augmentTree(t,a,convert(Int,4*round(sqrt(size(a)[1]))))"
   ]
  },
  {
   "cell_type": "code",
   "execution_count": null,
   "metadata": {
    "collapsed": true
   },
   "outputs": [],
   "source": []
  },
  {
   "cell_type": "code",
   "execution_count": null,
   "metadata": {
    "collapsed": true
   },
   "outputs": [],
   "source": []
  },
  {
   "cell_type": "code",
   "execution_count": 82,
   "metadata": {
    "collapsed": true
   },
   "outputs": [],
   "source": [
    "la = lap(a)\n",
    "la[1,1] = la[1,1] + 1\n",
    "lat = lap(at)\n",
    "lat[1,1] = lat[1,1] + 1;\n"
   ]
  },
  {
   "cell_type": "code",
   "execution_count": 83,
   "metadata": {
    "collapsed": false
   },
   "outputs": [
    {
     "name": "stdout",
     "output_type": "stream",
     "text": [
      "elapsed time: 0.059691726 seconds (17253024 bytes allocated)\n"
     ]
    },
    {
     "data": {
      "text/plain": []
     },
     "execution_count": 83,
     "metadata": {},
     "output_type": "execute_result"
    },
    {
     "name": "stdout",
     "output_type": "stream",
     "text": [
      "\n",
      "CHOLMOD factor:  :  40000-by-40000\n",
      "  scalar types: SuiteSparse_long, real, double\n",
      "  simplicial, LDL'.\n",
      "  ordering method used: AMD\n",
      "         0:30244\n",
      "         1:30044\n",
      "         2:30045\n",
      "         3:29645\n",
      "         4:29845\n",
      "         5:29844\n",
      "         6:29644\n",
      "         7:29444\n",
      "    ...\n",
      "     39996:33252\n",
      "     39997:36659\n",
      "     39998:38445\n",
      "     39999:17852\n",
      "  col: 0 colcount: 2\n",
      "  col: 1 colcount: 2\n",
      "  col: 2 colcount: 2\n",
      "  col: 3 colcount: 2\n",
      "  col: 4 colcount: 2\n",
      "  col: 5 colcount: 2\n",
      "  col: 6 colcount: 2\n",
      "  col: 7 colcount: 2\n",
      "    ...\n",
      "  col: 39996 colcount: 4\n",
      "  col: 39997 colcount: 3\n",
      "  col: 39998 colcount: 2\n",
      "  col: 39999 colcount: 1\n",
      "monotonic: 1\n",
      " nzmax 106610.\n",
      "  col 0: nz 2 start 0 end 2 space 2 free 0:\n",
      "         0: 10\n",
      "         1: -1\n",
      "  col 1: nz 2 start 2 end 4 space 2 free 0:\n",
      "         1: 10\n",
      "         5: -1\n",
      "  col 2: nz 2 start 4 end 6 space 2 free 0:\n",
      "         2: 10\n",
      "         4: -1\n",
      "  col 3: nz 2 start 6 end 8 space 2 free 0:\n",
      "         3: 10\n",
      "         4: -1\n",
      "    ...\n",
      "  col 39997: nz 3 start 106604 end 106607 space 3 free 0:\n",
      "     39997: 0.32105\n",
      "     39998: -0.44656\n",
      "     39999: -0.50985\n",
      "  col 39998: nz 2 start 106607 end 106609 space 2 free 0:\n",
      "     39998: 0.2084\n",
      "     39999: -0.83118\n",
      "  col 39999: nz 1 start 106609 end 106610 space 1 free 0:\n",
      "     39999: 0.076134\n",
      "  nz 106610  OK\n",
      "\n"
     ]
    }
   ],
   "source": [
    "@time F = cholfact(lat)"
   ]
  },
  {
   "cell_type": "code",
   "execution_count": 84,
   "metadata": {
    "collapsed": false
   },
   "outputs": [
    {
     "name": "stdout",
     "output_type": "stream",
     "text": [
      "nnz(lat) => 122484\n"
     ]
    }
   ],
   "source": [
    "@show nnz(lat)\n",
    "n = size(la)[1]\n",
    "b = randn(n);\n"
   ]
  },
  {
   "cell_type": "code",
   "execution_count": 9,
   "metadata": {
    "collapsed": true
   },
   "outputs": [],
   "source": [
    "using IterativeSolvers"
   ]
  },
  {
   "cell_type": "code",
   "execution_count": 85,
   "metadata": {
    "collapsed": false
   },
   "outputs": [
    {
     "name": "stdout",
     "output_type": "stream",
     "text": [
      "elapsed time: 9.636141236 seconds (3742343800 bytes allocated, 47.59% gc time)\n"
     ]
    },
    {
     "data": {
      "text/plain": [
       "1.7507940714932809e-9"
      ]
     },
     "execution_count": 85,
     "metadata": {},
     "output_type": "execute_result"
    }
   ],
   "source": [
    "@time y = cg(la,b)\n",
    "norm(b - la*y[1])\n"
   ]
  },
  {
   "cell_type": "code",
   "execution_count": 56,
   "metadata": {
    "collapsed": false
   },
   "outputs": [
    {
     "ename": "LoadError",
     "evalue": "`getindex` has no method matching getindex(::ConvergenceHistory{Float64,Array{Float64,1}}, ::Int64)\nwhile loading In[56], in expression starting on line 1",
     "output_type": "error",
     "traceback": [
      "`getindex` has no method matching getindex(::ConvergenceHistory{Float64,Array{Float64,1}}, ::Int64)\nwhile loading In[56], in expression starting on line 1",
      ""
     ]
    }
   ],
   "source": [
    "y[2]"
   ]
  },
  {
   "cell_type": "code",
   "execution_count": null,
   "metadata": {
    "collapsed": true
   },
   "outputs": [],
   "source": []
  },
  {
   "cell_type": "code",
   "execution_count": 86,
   "metadata": {
    "collapsed": false
   },
   "outputs": [
    {
     "name": "stdout",
     "output_type": "stream",
     "text": [
      "elapsed time: 3.259397753 seconds (1008172776 bytes allocated, 36.32% gc time)\n"
     ]
    },
    {
     "data": {
      "text/plain": [
       "1.7596799772000927e-9"
      ]
     },
     "execution_count": 86,
     "metadata": {},
     "output_type": "execute_result"
    }
   ],
   "source": [
    "@time z = cg(la, b, F)\n",
    "norm(b-la*z[1])"
   ]
  },
  {
   "cell_type": "code",
   "execution_count": 95,
   "metadata": {
    "collapsed": false
   },
   "outputs": [
    {
     "name": "stdout",
     "output_type": "stream",
     "text": [
      "norm(b) => 188.56045708877036\n",
      "norm(b) => 1144.690743052187\n",
      "norm(b) => 1088.9905275926415\n",
      "norm(b) => 1113.5891505619088\n",
      "norm(b) => 1135.433579673152\n",
      "norm(b) => 1147.7445146962941\n",
      "norm(b) => 1154.6785094547201\n",
      "norm(b) => 1158.841510212716\n",
      "norm(b) => 1161.555894370568\n",
      "norm(b) => 1163.4875149491486\n"
     ]
    }
   ],
   "source": [
    "b = randn(n)\n",
    "b = b / norm(b)\n",
    "for i in 1:10\n",
    "    b = F \\ (la * b)\n",
    "    @show norm(b)\n",
    "    b = b / norm(b)\n",
    "end"
   ]
  },
  {
   "cell_type": "code",
   "execution_count": 96,
   "metadata": {
    "collapsed": false
   },
   "outputs": [
    {
     "ename": "LoadError",
     "evalue": "`zero` has no method matching zero(::Type{Any})\nwhile loading In[96], in expression starting on line 1",
     "output_type": "error",
     "traceback": [
      "`zero` has no method matching zero(::Type{Any})\nwhile loading In[96], in expression starting on line 1",
      "",
      " in eigs at linalg/arnoldi.jl:5"
     ]
    }
   ],
   "source": [
    "E = eigs(x -> (F \\ la * x))"
   ]
  },
  {
   "cell_type": "code",
   "execution_count": 58,
   "metadata": {
    "collapsed": false
   },
   "outputs": [
    {
     "name": "stdout",
     "output_type": "stream",
     "text": [
      "elapsed time: 0.331130866 seconds (26439840 bytes allocated, 16.03% gc time)\n"
     ]
    }
   ],
   "source": [
    "@time fla = cholfact(la);"
   ]
  },
  {
   "cell_type": "code",
   "execution_count": 60,
   "metadata": {
    "collapsed": false
   },
   "outputs": [
    {
     "name": "stdout",
     "output_type": "stream",
     "text": [
      "elapsed time: 0.094227263 seconds (848 bytes allocated)\n"
     ]
    },
    {
     "data": {
      "text/plain": [
       "6.985945904433565e-10"
      ]
     },
     "execution_count": 60,
     "metadata": {},
     "output_type": "execute_result"
    }
   ],
   "source": [
    "@time w = fla \\ b\n",
    "norm(b - la*w)"
   ]
  },
  {
   "cell_type": "code",
   "execution_count": 62,
   "metadata": {
    "collapsed": false
   },
   "outputs": [
    {
     "data": {
      "text/plain": [
       "40000x40000 sparse matrix with 80720 Float64 entries:\n",
       "\t[2    ,     1]  =  1.0\n",
       "\t[201  ,     1]  =  10.0\n",
       "\t[1    ,     2]  =  1.0\n",
       "\t[202  ,     2]  =  10.0\n",
       "\t[203  ,     3]  =  10.0\n",
       "\t[204  ,     4]  =  10.0\n",
       "\t[205  ,     5]  =  10.0\n",
       "\t[7    ,     6]  =  1.0\n",
       "\t[206  ,     6]  =  10.0\n",
       "\t[6    ,     7]  =  1.0\n",
       "\t⋮\n",
       "\t[39794, 39994]  =  10.0\n",
       "\t[39795, 39995]  =  10.0\n",
       "\t[39996, 39995]  =  1.0\n",
       "\t[39796, 39996]  =  10.0\n",
       "\t[39995, 39996]  =  1.0\n",
       "\t[39797, 39997]  =  10.0\n",
       "\t[39798, 39998]  =  10.0\n",
       "\t[39999, 39998]  =  1.0\n",
       "\t[39799, 39999]  =  10.0\n",
       "\t[39998, 39999]  =  1.0\n",
       "\t[39800, 40000]  =  10.0"
      ]
     },
     "execution_count": 62,
     "metadata": {},
     "output_type": "execute_result"
    }
   ],
   "source": [
    "@profile at = augmentTree(t,a,convert(Int,round(sqrt(size(a)[1]))))"
   ]
  },
  {
   "cell_type": "code",
   "execution_count": 103,
   "metadata": {
    "collapsed": false
   },
   "outputs": [
    {
     "data": {
      "text/plain": [
       "augTreeSolver (generic function with 1 method)"
      ]
     },
     "execution_count": 103,
     "metadata": {},
     "output_type": "execute_result"
    }
   ],
   "source": [
    "function augTreeSolver{Tv,Ti}(ddmat::SparseMatrixCSC{Tv,Ti})\n",
    "\n",
    "  adjmat = -triu(ddmat,1)\n",
    "  adjmat = adjmat + adjmat'\n",
    "\n",
    "  tree = randishKruskal(adjmat)\n",
    "\n",
    "  augtree = augmentTree(tree,adjmat,convert(Int,round(sqrt(size(a)[1]))))\n",
    "\n",
    "  n = size(ddmat)[1]\n",
    "  Dx = spdiagm(ddmat*ones(n))\n",
    "\n",
    "  augDD = Dx + spdiagm(augtree*ones(n)) - augtree\n",
    "\n",
    "  F = cholfact(augDD)\n",
    "\n",
    "  f(b) = cg(ddmat, b, F)\n",
    "    \n",
    "  return f\n",
    "\n",
    "end\n"
   ]
  },
  {
   "cell_type": "code",
   "execution_count": 104,
   "metadata": {
    "collapsed": false
   },
   "outputs": [
    {
     "data": {
      "text/plain": [
       "f (generic function with 1 method)"
      ]
     },
     "execution_count": 104,
     "metadata": {},
     "output_type": "execute_result"
    }
   ],
   "source": [
    "f = augTreeSolver(la)"
   ]
  },
  {
   "cell_type": "code",
   "execution_count": 105,
   "metadata": {
    "collapsed": false
   },
   "outputs": [
    {
     "data": {
      "text/plain": [
       "40000"
      ]
     },
     "execution_count": 105,
     "metadata": {},
     "output_type": "execute_result"
    }
   ],
   "source": [
    "n = size(la)[1]"
   ]
  },
  {
   "cell_type": "code",
   "execution_count": 106,
   "metadata": {
    "collapsed": false
   },
   "outputs": [
    {
     "data": {
      "text/plain": [
       "([-66.5344,-81.6052,-89.1475,-93.7599,-97.245,-100.566,-102.976,-104.794,-107.133,-108.909  …  -190.109,-189.512,-189.678,-189.597,-189.064,-188.773,-188.248,-187.774,-187.933,-188.206],ConvergenceHistory{Float64,Array{Float64,1}}(true,1.777407426937412e-9,1196,[212.029,221.749,232.732,245.583,254.819,261.442,269.575,277.319,285.484,292.504  …  2.1297e-9,2.06545e-9,2.04968e-9,1.9827e-9,1.93115e-9,1.89823e-9,1.87439e-9,1.84846e-9,1.80941e-9,1.71978e-9]))"
      ]
     },
     "execution_count": 106,
     "metadata": {},
     "output_type": "execute_result"
    }
   ],
   "source": [
    "b = randn(n)\n",
    "x = f(b)"
   ]
  },
  {
   "cell_type": "code",
   "execution_count": 108,
   "metadata": {
    "collapsed": false
   },
   "outputs": [
    {
     "data": {
      "text/plain": [
       "2.2275038021700517e-9"
      ]
     },
     "execution_count": 108,
     "metadata": {},
     "output_type": "execute_result"
    }
   ],
   "source": [
    "norm(la*x[1]-b)"
   ]
  },
  {
   "cell_type": "code",
   "execution_count": null,
   "metadata": {
    "collapsed": true
   },
   "outputs": [],
   "source": []
  },
  {
   "cell_type": "code",
   "execution_count": null,
   "metadata": {
    "collapsed": true
   },
   "outputs": [],
   "source": []
  },
  {
   "cell_type": "code",
   "execution_count": null,
   "metadata": {
    "collapsed": true
   },
   "outputs": [],
   "source": []
  },
  {
   "cell_type": "code",
   "execution_count": null,
   "metadata": {
    "collapsed": true
   },
   "outputs": [],
   "source": []
  },
  {
   "cell_type": "code",
   "execution_count": null,
   "metadata": {
    "collapsed": true
   },
   "outputs": [],
   "source": []
  },
  {
   "cell_type": "code",
   "execution_count": null,
   "metadata": {
    "collapsed": true
   },
   "outputs": [],
   "source": []
  },
  {
   "cell_type": "code",
   "execution_count": null,
   "metadata": {
    "collapsed": true
   },
   "outputs": [],
   "source": []
  },
  {
   "cell_type": "code",
   "execution_count": null,
   "metadata": {
    "collapsed": true
   },
   "outputs": [],
   "source": []
  },
  {
   "cell_type": "code",
   "execution_count": null,
   "metadata": {
    "collapsed": true
   },
   "outputs": [],
   "source": []
  },
  {
   "cell_type": "code",
   "execution_count": null,
   "metadata": {
    "collapsed": true
   },
   "outputs": [],
   "source": []
  },
  {
   "cell_type": "code",
   "execution_count": null,
   "metadata": {
    "collapsed": true
   },
   "outputs": [],
   "source": []
  },
  {
   "cell_type": "code",
   "execution_count": 15,
   "metadata": {
    "collapsed": false
   },
   "outputs": [
    {
     "data": {
      "text/plain": [
       "2500-element Array{Float64,1}:\n",
       "  21.1543\n",
       "  46.5351\n",
       " 105.275 \n",
       " 162.73  \n",
       " 159.814 \n",
       " 162.051 \n",
       " 172.016 \n",
       " 175.008 \n",
       " 182.641 \n",
       " 254.736 \n",
       " 256.94  \n",
       " 261.332 \n",
       " 262.417 \n",
       "   ⋮     \n",
       " 327.247 \n",
       " 327.81  \n",
       " 329.673 \n",
       " 330.675 \n",
       " 333.242 \n",
       " 335.886 \n",
       " 335.923 \n",
       " 268.899 \n",
       " 272.405 \n",
       " 275.596 \n",
       " 276.709 \n",
       " 275.011 "
      ]
     },
     "execution_count": 15,
     "metadata": {},
     "output_type": "execute_result"
    }
   ],
   "source": [
    "y[1]"
   ]
  },
  {
   "cell_type": "code",
   "execution_count": null,
   "metadata": {
    "collapsed": true
   },
   "outputs": [],
   "source": []
  },
  {
   "cell_type": "code",
   "execution_count": null,
   "metadata": {
    "collapsed": true
   },
   "outputs": [],
   "source": []
  },
  {
   "cell_type": "code",
   "execution_count": null,
   "metadata": {
    "collapsed": true
   },
   "outputs": [],
   "source": []
  },
  {
   "cell_type": "code",
   "execution_count": 102,
   "metadata": {
    "collapsed": false
   },
   "outputs": [
    {
     "data": {
      "image/png": "[encoded data removed]",
      "text/plain": [
       "Figure(PyObject <matplotlib.figure.Figure object at 0x11e24a950>)"
      ]
     },
     "metadata": {},
     "output_type": "display_data"
    },
    {
     "data": {
      "text/plain": [
       "1-element Array{Any,1}:\n",
       " PyObject <matplotlib.lines.Line2D object at 0x11e508d90>"
      ]
     },
     "execution_count": 102,
     "metadata": {},
     "output_type": "execute_result"
    }
   ],
   "source": [
    "(x,y) = grid2coords(30);\n",
    "plotGraph(at,x,y,\"red\",dots=false)\n",
    "plotGraph(t,x,y,dots=false)"
   ]
  },
  {
   "cell_type": "code",
   "execution_count": 14,
   "metadata": {
    "collapsed": false
   },
   "outputs": [
    {
     "data": {
      "image/png": "[encoded data removed]",
      "text/plain": [
       "Figure(PyObject <matplotlib.figure.Figure object at 0x109180a50>)"
      ]
     },
     "metadata": {},
     "output_type": "display_data"
    },
    {
     "data": {
      "text/plain": [
       "1-element Array{Any,1}:\n",
       " PyObject <matplotlib.lines.Line2D object at 0x111e9c450>"
      ]
     },
     "execution_count": 14,
     "metadata": {},
     "output_type": "execute_result"
    }
   ],
   "source": [
    "x, y = grid2coords(50)\n",
    "plotGraph(t2, x, y, dots = false)"
   ]
  },
  {
   "cell_type": "code",
   "execution_count": null,
   "metadata": {
    "collapsed": true
   },
   "outputs": [],
   "source": []
  }
 ],
 "metadata": {
  "kernelspec": {
   "display_name": "Julia 0.3.11",
   "language": "julia",
   "name": "julia-0.3"
  },
  "language_info": {
   "name": "julia",
   "version": "0.3.11"
  }
 },
 "nbformat": 4,
 "nbformat_minor": 0
}
