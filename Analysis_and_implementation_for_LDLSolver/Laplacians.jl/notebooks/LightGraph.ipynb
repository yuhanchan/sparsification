{
 "cells": [
  {
   "cell_type": "markdown",
   "metadata": {},
   "source": [
    "We test out the LightGraph package, to see how easy it is to use with ours, and to compare its speed.  It is easy to make a LightGraphs data type.  You just put in the adjacency matrix.  Since this also works for directed graphs, it could be nice to use their directed graph routines.  Their connected components seems slower, but their dijkstra is often faster!"
   ]
  },
  {
   "cell_type": "code",
   "execution_count": 1,
   "metadata": {
    "collapsed": false
   },
   "outputs": [],
   "source": [
    "using Laplacians\n",
    "using LightGraphs"
   ]
  },
  {
   "cell_type": "code",
   "execution_count": 21,
   "metadata": {
    "collapsed": false
   },
   "outputs": [
    {
     "data": {
      "text/plain": [
       "{1000000, 1998000} undirected graph"
      ]
     },
     "execution_count": 21,
     "metadata": {},
     "output_type": "execute_result"
    }
   ],
   "source": [
    "a = grid2(1000) # Laplacians style graph\n",
    "lg = Graph(a)   # LightGraphs style"
   ]
  },
  {
   "cell_type": "code",
   "execution_count": 22,
   "metadata": {
    "collapsed": false
   },
   "outputs": [
    {
     "name": "stdout",
     "output_type": "stream",
     "text": [
      "  "
     ]
    },
    {
     "data": {
      "text/plain": [
       "true"
      ]
     },
     "execution_count": 22,
     "metadata": {},
     "output_type": "execute_result"
    },
    {
     "name": "stdout",
     "output_type": "stream",
     "text": [
      "0.450431 seconds (44 allocations: 31.890 MB)\n"
     ]
    }
   ],
   "source": [
    "@time is_connected(lg)"
   ]
  },
  {
   "cell_type": "code",
   "execution_count": 23,
   "metadata": {
    "collapsed": false
   },
   "outputs": [
    {
     "name": "stdout",
     "output_type": "stream",
     "text": [
      "  "
     ]
    },
    {
     "data": {
      "text/plain": [
       "true"
      ]
     },
     "execution_count": 23,
     "metadata": {},
     "output_type": "execute_result"
    },
    {
     "name": "stdout",
     "output_type": "stream",
     "text": [
      "0.142486 seconds (8 allocations: 15.259 MB)\n"
     ]
    }
   ],
   "source": [
    "@time isConnected(a)"
   ]
  },
  {
   "cell_type": "markdown",
   "metadata": {},
   "source": [
    "Let's subsample, and test out the speed of connected components routines."
   ]
  },
  {
   "cell_type": "code",
   "execution_count": 24,
   "metadata": {
    "collapsed": false
   },
   "outputs": [
    {
     "data": {
      "text/plain": [
       "{1000000, 998947} undirected graph"
      ]
     },
     "execution_count": 24,
     "metadata": {},
     "output_type": "execute_result"
    }
   ],
   "source": [
    "as = subsampleEdges(a,0.5);\n",
    "lgs = Graph(as)"
   ]
  },
  {
   "cell_type": "code",
   "execution_count": 27,
   "metadata": {
    "collapsed": false
   },
   "outputs": [
    {
     "name": "stdout",
     "output_type": "stream",
     "text": [
      "  0.061239 seconds (8 allocations: 15.259 MB)\n"
     ]
    }
   ],
   "source": [
    "@time c = components(as);"
   ]
  },
  {
   "cell_type": "code",
   "execution_count": 28,
   "metadata": {
    "collapsed": false
   },
   "outputs": [
    {
     "name": "stdout",
     "output_type": "stream",
     "text": [
      "  0.437358 seconds (572.18 k allocations: 73.131 MB)\n"
     ]
    }
   ],
   "source": [
    "@time lgc = connected_components(lgs);"
   ]
  },
  {
   "cell_type": "markdown",
   "metadata": {},
   "source": [
    "Let's check if they give the same answers."
   ]
  },
  {
   "cell_type": "code",
   "execution_count": 29,
   "metadata": {
    "collapsed": false
   },
   "outputs": [
    {
     "data": {
      "text/plain": [
       "98859-element Array{Array{Int64,1},1}:\n",
       " [1]                                                                                              \n",
       " [2,1001,1002,2001,2002,3001]                                                                     \n",
       " [3,4,1004]                                                                                       \n",
       " [5]                                                                                              \n",
       " [6]                                                                                              \n",
       " [7]                                                                                              \n",
       " [8,1008,1009]                                                                                    \n",
       " [9]                                                                                              \n",
       " [10]                                                                                             \n",
       " [11,12,13,14,15,16,17,18,23,1003  …  13024,13025,13026,13027,13028,13029,14009,14015,14016,14027]\n",
       " [19,20,21]                                                                                       \n",
       " [22]                                                                                             \n",
       " [24,25,26]                                                                                       \n",
       " ⋮                                                                                                \n",
       " [999966]                                                                                         \n",
       " [999970]                                                                                         \n",
       " [999974,999975,999976]                                                                           \n",
       " [999977,999978]                                                                                  \n",
       " [999985]                                                                                         \n",
       " [999986]                                                                                         \n",
       " [999987]                                                                                         \n",
       " [999988,999989]                                                                                  \n",
       " [999990,999991]                                                                                  \n",
       " [999995]                                                                                         \n",
       " [999996]                                                                                         \n",
       " [999997]                                                                                         "
      ]
     },
     "execution_count": 29,
     "metadata": {},
     "output_type": "execute_result"
    }
   ],
   "source": [
    "vecToComps(c)"
   ]
  },
  {
   "cell_type": "code",
   "execution_count": 30,
   "metadata": {
    "collapsed": false
   },
   "outputs": [
    {
     "data": {
      "text/plain": [
       "98859-element Array{Array{Int64,1},1}:\n",
       " [1]                                                                                              \n",
       " [2,1001,1002,2001,2002,3001]                                                                     \n",
       " [3,4,1004]                                                                                       \n",
       " [5]                                                                                              \n",
       " [6]                                                                                              \n",
       " [7]                                                                                              \n",
       " [8,1008,1009]                                                                                    \n",
       " [9]                                                                                              \n",
       " [10]                                                                                             \n",
       " [11,12,13,14,15,16,17,18,23,1003  …  13024,13025,13026,13027,13028,13029,14009,14015,14016,14027]\n",
       " [19,20,21]                                                                                       \n",
       " [22]                                                                                             \n",
       " [24,25,26]                                                                                       \n",
       " ⋮                                                                                                \n",
       " [999966]                                                                                         \n",
       " [999970]                                                                                         \n",
       " [999974,999975,999976]                                                                           \n",
       " [999977,999978]                                                                                  \n",
       " [999985]                                                                                         \n",
       " [999986]                                                                                         \n",
       " [999987]                                                                                         \n",
       " [999988,999989]                                                                                  \n",
       " [999990,999991]                                                                                  \n",
       " [999995]                                                                                         \n",
       " [999996]                                                                                         \n",
       " [999997]                                                                                         "
      ]
     },
     "execution_count": 30,
     "metadata": {},
     "output_type": "execute_result"
    }
   ],
   "source": [
    "lgc"
   ]
  },
  {
   "cell_type": "markdown",
   "metadata": {},
   "source": [
    "To be sure that we are not being unfair in running time, let's time the vecToComps, too."
   ]
  },
  {
   "cell_type": "code",
   "execution_count": 31,
   "metadata": {
    "collapsed": false
   },
   "outputs": [
    {
     "name": "stdout",
     "output_type": "stream",
     "text": [
      "  0.032858 seconds (98.90 k allocations: 16.559 MB)\n"
     ]
    }
   ],
   "source": [
    "@time v = vecToComps(c);"
   ]
  },
  {
   "cell_type": "markdown",
   "metadata": {},
   "source": [
    "### Testing Shortest Paths Code"
   ]
  },
  {
   "cell_type": "code",
   "execution_count": 105,
   "metadata": {
    "collapsed": false
   },
   "outputs": [
    {
     "data": {
      "text/plain": [
       "100-element Array{Float64,1}:\n",
       " 0.0\n",
       " 0.0\n",
       " 0.0\n",
       " 0.0\n",
       " 0.0\n",
       " 0.0\n",
       " 0.0\n",
       " 0.0\n",
       " 0.0\n",
       " 0.0\n",
       " 0.0\n",
       " 0.0\n",
       " 0.0\n",
       " ⋮  \n",
       " 0.0\n",
       " 0.0\n",
       " 0.0\n",
       " 0.0\n",
       " 0.0\n",
       " 0.0\n",
       " 0.0\n",
       " 0.0\n",
       " 0.0\n",
       " 0.0\n",
       " 0.0\n",
       " 0.0"
      ]
     },
     "execution_count": 105,
     "metadata": {},
     "output_type": "execute_result"
    }
   ],
   "source": [
    "nexp = 100\n",
    "tLap = zeros(nexp)\n",
    "tLG = zeros(nexp)\n",
    "tLapW = zeros(nexp)\n",
    "tLGW = zeros(nexp)"
   ]
  },
  {
   "cell_type": "code",
   "execution_count": 106,
   "metadata": {
    "collapsed": false
   },
   "outputs": [
    {
     "name": "stdout",
     "output_type": "stream",
     "text": [
      "graph 1 : time 0.157275335\n",
      "graph 2 : time 0.928855287\n",
      "graph 3 : time 0.628510434\n",
      "graph 4 : time 0.741046117\n",
      "graph 5 : time 0.562501868\n",
      "graph 6 : time 1.771566966\n",
      "graph 7 : time 2.281707172\n",
      "graph 8 : time 1.25713479\n",
      "graph 9 : time 2.443579607\n",
      "graph 10 : time 0.787615754\n",
      "graph 11 : time 0.38503731\n",
      "graph 12 : time 0.85096395\n",
      "graph 13 : time 2.092245319\n",
      "graph 14 : time 0.934313049\n",
      "graph 15 : time 2.083324296\n",
      "graph 16 : time 1.839508011\n",
      "graph 17 : time 2.378677059\n",
      "graph 18 : time 0.737971403\n",
      "graph 19 : time 0.832194423\n",
      "graph 20 : time 1.744760049\n",
      "graph 21 : time 0.842615388\n",
      "graph 22 : time 0.832270503\n",
      "graph 23 : time 0.751816658\n",
      "graph 24 : time 0.734181088\n",
      "graph 25 : time 0.359448181\n",
      "graph 26 : time 2.316138165\n",
      "graph 27 : time 0.696948792\n",
      "graph 28 : time 0.75321349\n",
      "graph 29 : time 2.11616297\n",
      "graph 30 : time 0.348678716\n",
      "graph 31 : time 1.237497125\n",
      "graph 32 : time 1.165063712\n",
      "graph 33 : time 0.811851699\n",
      "graph 34 : time 0.897246249\n",
      "graph 35 : time 0.750454691\n",
      "graph 36 : time 0.705361979\n",
      "graph 37 : time 1.047712793\n",
      "graph 38 : time 0.842277692\n",
      "graph 39 : time 0.352600328\n",
      "graph 40 : time 1.328107594\n",
      "graph 41 : time 0.239037287\n",
      "graph 42 : time 0.532566487\n",
      "graph 43 : time 1.012724503\n",
      "graph 44 : time 0.715499408\n",
      "graph 45 : time 1.928092845\n",
      "graph 46 : time 0.50488969\n",
      "graph 47 : time 1.425481859\n",
      "graph 48 : time 1.024145226\n",
      "graph 49 : time 2.126804497\n",
      "graph 50 : time 1.149338059\n",
      "graph 51 : time 0.331222678\n",
      "graph 52 : time 0.632950736\n",
      "graph 53 : time 0.739031659\n",
      "graph 54 : time 0.936926198\n",
      "graph 55 : time 0.857314364\n",
      "graph 56 : time 0.821412981\n",
      "graph 57 : time 1.068154934\n",
      "graph 58 : time 0.716064339\n",
      "graph 59 : time 0.863460168\n",
      "graph 60 : time 0.539561069\n",
      "graph 61 : time 0.484713077\n",
      "graph 62 : time 0.850514603\n",
      "graph 63 : time 2.41604869\n",
      "graph 64 : time 1.654863658\n",
      "graph 65 : time 1.191066798\n",
      "graph 66 : time 0.535297872\n",
      "graph 67 : time 1.793633333\n",
      "graph 68 : time 1.312013191\n",
      "graph 69 : time 0.725693666\n",
      "graph 70 : time 2.267990525\n",
      "graph 71 : time 1.970106005\n",
      "graph 72 : time 0.703268184\n",
      "graph 73 : time 2.015459113\n",
      "graph 74 : time 0.709835306\n",
      "graph 75 : time 0.564300122\n",
      "graph 76 : time 0.749912606\n",
      "graph 77 : time 1.759031567\n",
      "graph 78 : time 0.653794279\n",
      "graph 79 : time 0.686586271\n",
      "graph 80 : time 2.265021294\n",
      "graph 81 : time 1.053056034\n",
      "graph 82 : time 1.1960401\n",
      "graph 83 : time 0.62416301\n",
      "graph 84 : time 0.158542492\n",
      "graph 85 : time 1.877246471\n",
      "graph 86 : time 0.602288411\n",
      "graph 87 : time 1.242679209\n",
      "graph 88 : time 0.815844724\n",
      "graph 89 : time 0.819804015\n",
      "graph 90 : time 0.830730336\n",
      "graph 91 : time 0.925451229\n",
      "graph 92 : time 0.210743241\n",
      "graph 93 : time 0.354116712\n",
      "graph 94 : time 1.651095182\n",
      "graph 95 : time 1.62361271\n",
      "graph 96 : time 1.073295686\n",
      "graph 97 : time 0.477414615\n",
      "graph 98 : time 0.718524801\n",
      "graph 99 : time 1.853755806\n",
      "graph 100 : time 0.979657831\n"
     ]
    }
   ],
   "source": [
    "for i in 1:nexp\n",
    "    a = chimera(1000000,i)\n",
    "    tic()\n",
    "    len, pa =  shortestPaths(a,100);\n",
    "    t = toq()\n",
    "    tLap[i] = t\n",
    "    println(\"graph $i : time $t\")\n",
    "end\n"
   ]
  },
  {
   "cell_type": "code",
   "execution_count": 107,
   "metadata": {
    "collapsed": false
   },
   "outputs": [
    {
     "name": "stdout",
     "output_type": "stream",
     "text": [
      "graph 1 : time 0.1024683\n",
      "graph 2 : time 1.046985715\n",
      "graph 3 : time 0.729514845\n",
      "graph 4 : time 0.923873393\n",
      "graph 5 : time 2.081961896\n",
      "graph 6 : time 0.828859167\n",
      "graph 7 : time 1.167749709\n",
      "graph 8 : time 2.679251768\n",
      "graph 9 : time 1.07845828\n",
      "graph 10 : time 0.521480354\n",
      "graph 11 : time 0.560253723\n",
      "graph 12 : time 0.961765623\n",
      "graph 13 : time 0.743453264\n",
      "graph 14 : time 1.621570968\n",
      "graph 15 : time 0.941802642\n",
      "graph 16 : time 0.864799805\n",
      "graph 17 : time 1.068522535\n",
      "graph 18 : time 2.592392524\n",
      "graph 19 : time 1.071555119\n",
      "graph 20 : time 0.674786872\n",
      "graph 21 : time 0.679052765\n",
      "graph 22 : time 0.833518101\n",
      "graph 23 : time 0.929067561\n",
      "graph 24 : time 0.864176383\n",
      "graph 25 : time 0.541582205\n",
      "graph 26 : time 0.797464445\n",
      "graph 27 : time 0.938903691\n",
      "graph 28 : time 0.868045836\n",
      "graph 29 : time 0.784497356\n",
      "graph 30 : time 0.602001156\n",
      "graph 31 : time 2.656157307\n",
      "graph 32 : time 0.996491693\n",
      "graph 33 : time 0.91636858\n",
      "graph 34 : time 1.154634857\n",
      "graph 35 : time 0.985008687\n",
      "graph 36 : time 0.94366295\n",
      "graph 37 : time 2.685493646\n",
      "graph 38 : time 1.14629409\n",
      "graph 39 : time 0.536882932\n",
      "graph 40 : time 2.310639135\n",
      "graph 41 : time 0.443440792\n",
      "graph 42 : time 0.720367433\n",
      "graph 43 : time 0.919444481\n",
      "graph 44 : time 0.7826267\n",
      "graph 45 : time 0.687870276\n",
      "graph 46 : time 0.709048982\n",
      "graph 47 : time 0.394742257\n",
      "graph 48 : time 1.036085885\n",
      "graph 49 : time 1.262206425\n",
      "graph 50 : time 1.501881283\n",
      "graph 51 : time 0.50707875\n",
      "graph 52 : time 1.214084877\n",
      "graph 53 : time 0.843871846\n",
      "graph 54 : time 1.119644553\n",
      "graph 55 : time 2.695900333\n",
      "graph 56 : time 1.088468848\n",
      "graph 57 : time 2.645182618\n",
      "graph 58 : time 0.907828553\n",
      "graph 59 : time 0.933286586\n",
      "graph 60 : time 0.715587164\n",
      "graph 61 : time 0.732956407\n",
      "graph 62 : time 1.099927569\n",
      "graph 63 : time 1.175113679\n",
      "graph 64 : time 0.56308853\n",
      "graph 65 : time 1.436347681\n",
      "graph 66 : time 0.67799118\n",
      "graph 67 : time 2.182452545\n",
      "graph 68 : time 0.386249138\n",
      "graph 69 : time 0.962150979\n",
      "graph 70 : time 1.146955623\n",
      "graph 71 : time 1.054600355\n",
      "graph 72 : time 0.948912785\n",
      "graph 73 : time 0.709240807\n",
      "graph 74 : time 0.957472174\n",
      "graph 75 : time 0.667712832\n",
      "graph 76 : time 0.872074402\n",
      "graph 77 : time 2.335739753\n",
      "graph 78 : time 0.962783175\n",
      "graph 79 : time 2.43246195\n",
      "graph 80 : time 0.959568783\n",
      "graph 81 : time 1.196693408\n",
      "graph 82 : time 2.173345962\n",
      "graph 83 : time 0.748064703\n",
      "graph 84 : time 1.677466668\n",
      "graph 85 : time 0.884154106\n",
      "graph 86 : time 2.080571607\n",
      "graph 87 : time 1.264419639\n",
      "graph 88 : time 1.112915847\n",
      "graph 89 : time 1.061126768\n",
      "graph 90 : time 2.725352476\n",
      "graph 91 : time 1.354890608\n",
      "graph 92 : time 0.412411095\n",
      "graph 93 : time 0.460465893\n",
      "graph 94 : time 0.551368793\n",
      "graph 95 : time 0.52789641\n",
      "graph 96 : time 0.845639767\n",
      "graph 97 : time 2.37966868\n",
      "graph 98 : time 0.537544873\n",
      "graph 99 : time 0.846114407\n",
      "graph 100 : time 2.973283454\n"
     ]
    }
   ],
   "source": [
    "for i in 1:nexp\n",
    "    a = chimera(1000000,i)\n",
    "    lg = Graph(a)\n",
    "    tic()\n",
    "    x = dijkstra_shortest_paths(lg, 100);\n",
    "    t = toq()\n",
    "    tLG[i] = t\n",
    "    println(\"graph $i : time $t\")\n",
    "end\n",
    "\n"
   ]
  },
  {
   "cell_type": "code",
   "execution_count": 108,
   "metadata": {
    "collapsed": false
   },
   "outputs": [
    {
     "name": "stdout",
     "output_type": "stream",
     "text": [
      "graph 1 : time 2.110845529\n",
      "graph 2 : time 4.179539232\n",
      "graph 3 : time 3.52925238\n",
      "graph 4 : time 1.109663883\n",
      "graph 5 : time 1.443755588\n",
      "graph 6 : time 0.795051231\n",
      "graph 7 : time 1.889270151\n",
      "graph 8 : time 2.147416059\n",
      "graph 9 : time 4.28907586\n",
      "graph 10 : time 2.872148854\n",
      "graph 11 : time 2.803786198\n",
      "graph 12 : time 1.440558358\n",
      "graph 13 : time 0.943639223\n",
      "graph 14 : time 2.239154962\n",
      "graph 15 : time 1.631246066\n",
      "graph 16 : time 2.031459944\n",
      "graph 17 : time 1.926253048\n",
      "graph 18 : time 2.829226766\n",
      "graph 19 : time 1.98325763\n",
      "graph 20 : time 2.550215384\n",
      "graph 21 : time 1.797792106\n",
      "graph 22 : time 3.421989275\n",
      "graph 23 : time 3.624863382\n",
      "graph 24 : time 0.987482411\n",
      "graph 25 : time 2.859985992\n",
      "graph 26 : time 1.121990057\n",
      "graph 27 : time 1.49604734\n",
      "graph 28 : time 3.152010096\n",
      "graph 29 : time 1.060971825\n",
      "graph 30 : time 2.28811561\n",
      "graph 31 : time 2.204080297\n",
      "graph 32 : time 1.217375194\n",
      "graph 33 : time 2.322522799\n",
      "graph 34 : time 2.274813355\n",
      "graph 35 : time 4.054550711\n",
      "graph 36 : time 3.237646732\n",
      "graph 37 : time 4.100984635\n",
      "graph 38 : time 2.012630634\n",
      "graph 39 : time 2.621735282\n",
      "graph 40 : time 1.856719747\n",
      "graph 41 : time 2.274723234\n",
      "graph 42 : time 0.582292062\n",
      "graph 43 : time 1.921666356\n",
      "graph 44 : time 1.839085818\n",
      "graph 45 : time 0.587486305\n",
      "graph 46 : time 0.9682097\n",
      "graph 47 : time 2.296566071\n",
      "graph 48 : time 3.023098428\n",
      "graph 49 : time 2.055626055\n",
      "graph 50 : time 2.484077391\n",
      "graph 51 : time 0.481317381\n",
      "graph 52 : time 0.961107485\n",
      "graph 53 : time 1.346781653\n",
      "graph 54 : time 0.978061496\n",
      "graph 55 : time 0.946669866\n",
      "graph 56 : time 3.412782992\n",
      "graph 57 : time 2.357383903\n",
      "graph 58 : time 1.575535509\n",
      "graph 59 : time 1.773159515\n",
      "graph 60 : time 0.877092005\n",
      "graph 61 : time 2.585954847\n",
      "graph 62 : time 2.025908091\n",
      "graph 63 : time 2.068347652\n",
      "graph 64 : time 3.219374965\n",
      "graph 65 : time 2.068923633\n",
      "graph 66 : time 3.163632828\n",
      "graph 67 : time 1.409310683\n",
      "graph 68 : time 2.09950638\n",
      "graph 69 : time 1.180067644\n",
      "graph 70 : time 2.104834564\n",
      "graph 71 : time 3.550726014\n",
      "graph 72 : time 3.310997888\n",
      "graph 73 : time 1.445289247\n",
      "graph 74 : time 1.50092245\n",
      "graph 75 : time 1.51277849\n",
      "graph 76 : time 1.704613675\n",
      "graph 77 : time 1.298848274\n",
      "graph 78 : time 1.905187708\n",
      "graph 79 : time 2.118761659\n",
      "graph 80 : time 3.438881521\n",
      "graph 81 : time 2.199544641\n",
      "graph 82 : time 3.854044537\n",
      "graph 83 : time 3.692328342\n",
      "graph 84 : time 2.129791704\n",
      "graph 85 : time 1.84631052\n",
      "graph 86 : time 3.265163834\n",
      "graph 87 : time 4.450996935\n",
      "graph 88 : time 3.542819877\n",
      "graph 89 : time 2.069829049\n",
      "graph 90 : time 4.457931373\n",
      "graph 91 : time 1.921656955\n",
      "graph 92 : time 0.677498555\n",
      "graph 93 : time 0.684751675\n",
      "graph 94 : time 1.1175786\n",
      "graph 95 : time 0.928295015\n",
      "graph 96 : time 2.083393847\n",
      "graph 97 : time 0.840623804\n",
      "graph 98 : time 0.520243394\n",
      "graph 99 : time 1.792909829\n",
      "graph 100 : time 4.350851338\n"
     ]
    }
   ],
   "source": [
    "for i in 1:nexp\n",
    "    a = wtedChimera(1000000,i)\n",
    "    tic()\n",
    "    len, pa =  shortestPaths(a,100);\n",
    "    t = toq()\n",
    "    tLapW[i] = t\n",
    "    println(\"graph $i : time $t\")\n",
    "end\n",
    "\n"
   ]
  },
  {
   "cell_type": "code",
   "execution_count": 109,
   "metadata": {
    "collapsed": false
   },
   "outputs": [
    {
     "name": "stdout",
     "output_type": "stream",
     "text": [
      "graph 1 : time 0.102765886\n",
      "graph 2 : time 1.010568334\n",
      "graph 3 : time 0.73455243\n",
      "graph 4 : time 0.744312084\n",
      "graph 5 : time 0.501533801\n",
      "graph 6 : time 0.656156479\n",
      "graph 7 : time 1.078464111\n",
      "graph 8 : time 1.225795544\n",
      "graph 9 : time 0.961360329\n",
      "graph 10 : time 2.316190059\n",
      "graph 11 : time 0.514371085\n",
      "graph 12 : time 0.988589426\n",
      "graph 13 : time 0.66449644\n",
      "graph 14 : time 1.098261919\n",
      "graph 15 : time 0.852101211\n",
      "graph 16 : time 0.866978261\n",
      "graph 17 : time 1.351094506\n",
      "graph 18 : time 2.285211927\n",
      "graph 19 : time 2.440445626\n",
      "graph 20 : time 0.491848174\n",
      "graph 21 : time 2.445333934\n",
      "graph 22 : time 0.723611326\n",
      "graph 23 : time 0.876081898\n",
      "graph 24 : time 0.844240076\n",
      "graph 25 : time 0.465651408\n",
      "graph 26 : time 0.78266752\n",
      "graph 27 : time 0.804940698\n",
      "graph 28 : time 0.859372245\n",
      "graph 29 : time 0.684782605\n",
      "graph 30 : time 0.517619581\n",
      "graph 31 : time 1.000412581\n",
      "graph 32 : time 0.833410634\n",
      "graph 33 : time 0.850887277\n",
      "graph 34 : time 1.018031182\n",
      "graph 35 : time 0.863970853\n",
      "graph 36 : time 0.835602296\n",
      "graph 37 : time 1.002320993\n",
      "graph 38 : time 1.057235658\n",
      "graph 39 : time 0.478827907\n",
      "graph 40 : time 2.527517804\n",
      "graph 41 : time 0.419129206\n",
      "graph 42 : time 0.689159112\n",
      "graph 43 : time 0.772012059\n",
      "graph 44 : time 2.103725225\n",
      "graph 45 : time 0.597703012\n",
      "graph 46 : time 0.678368215\n",
      "graph 47 : time 0.35082579\n",
      "graph 48 : time 2.545016364\n",
      "graph 49 : time 1.228782159\n",
      "graph 50 : time 4.316305231\n",
      "graph 51 : time 0.66978866\n",
      "graph 52 : time 0.760374871\n",
      "graph 53 : time 0.838647804\n",
      "graph 54 : time 1.059882685\n",
      "graph 55 : time 3.251441888\n",
      "graph 56 : time 1.092562441\n",
      "graph 57 : time 2.489876674\n",
      "graph 58 : time 1.131913453\n",
      "graph 59 : time 1.166117909\n",
      "graph 60 : time 2.037836962\n",
      "graph 61 : time 0.633859672\n",
      "graph 62 : time 1.123415934\n",
      "graph 63 : time 1.079773414\n",
      "graph 64 : time 0.522129052\n",
      "graph 65 : time 1.277937574\n",
      "graph 66 : time 0.63898747\n",
      "graph 67 : time 0.658969813\n",
      "graph 68 : time 0.385223582\n",
      "graph 69 : time 0.901914882\n",
      "graph 70 : time 1.054069985\n",
      "graph 71 : time 0.879683828\n",
      "graph 72 : time 0.873378683\n",
      "graph 73 : time 0.672664486\n",
      "graph 74 : time 0.91035099\n",
      "graph 75 : time 0.712454651\n",
      "graph 76 : time 0.875697613\n",
      "graph 77 : time 0.796067779\n",
      "graph 78 : time 1.169217993\n",
      "graph 79 : time 0.900615241\n",
      "graph 80 : time 1.02475536\n",
      "graph 81 : time 1.168432609\n",
      "graph 82 : time 0.891843776\n",
      "graph 83 : time 0.793680646\n",
      "graph 84 : time 0.333590159\n",
      "graph 85 : time 0.888833315\n",
      "graph 86 : time 0.910245753\n",
      "graph 87 : time 1.421998378\n",
      "graph 88 : time 1.010424073\n",
      "graph 89 : time 1.055499274\n",
      "graph 90 : time 0.966871629\n",
      "graph 91 : time 1.126724733\n",
      "graph 92 : time 0.438733224\n",
      "graph 93 : time 0.473742781\n",
      "graph 94 : time 0.521613157\n",
      "graph 95 : time 0.532659537\n",
      "graph 96 : time 0.830701976\n",
      "graph 97 : time 0.636283312\n",
      "graph 98 : time 0.539592228\n",
      "graph 99 : time 0.822951847\n",
      "graph 100 : time 1.135567173\n"
     ]
    }
   ],
   "source": [
    "for i in 1:nexp\n",
    "    a = wtedChimera(1000000,i)\n",
    "    lg = Graph(a)\n",
    "    tic()\n",
    "    x = dijkstra_shortest_paths(lg, 100);\n",
    "    t = toq()\n",
    "    tLGW[i] = t\n",
    "    println(\"graph $i : time $t\")\n",
    "end\n",
    "\n"
   ]
  },
  {
   "cell_type": "code",
   "execution_count": 111,
   "metadata": {
    "collapsed": false
   },
   "outputs": [
    {
     "data": {
      "text/plain": [
       "1.0689032777399998"
      ]
     },
     "execution_count": 111,
     "metadata": {},
     "output_type": "execute_result"
    }
   ],
   "source": [
    "mean(tLap)"
   ]
  },
  {
   "cell_type": "code",
   "execution_count": 112,
   "metadata": {
    "collapsed": false
   },
   "outputs": [
    {
     "data": {
      "text/plain": [
       "1.13637294031"
      ]
     },
     "execution_count": 112,
     "metadata": {},
     "output_type": "execute_result"
    }
   ],
   "source": [
    "mean(tLG)"
   ]
  },
  {
   "cell_type": "code",
   "execution_count": 113,
   "metadata": {
    "collapsed": false
   },
   "outputs": [
    {
     "data": {
      "text/plain": [
       "2.15341279088"
      ]
     },
     "execution_count": 113,
     "metadata": {},
     "output_type": "execute_result"
    }
   ],
   "source": [
    "mean(tLapW)"
   ]
  },
  {
   "cell_type": "code",
   "execution_count": 114,
   "metadata": {
    "collapsed": false
   },
   "outputs": [
    {
     "data": {
      "text/plain": [
       "1.0214824341000002"
      ]
     },
     "execution_count": 114,
     "metadata": {},
     "output_type": "execute_result"
    }
   ],
   "source": [
    "mean(tLGW)"
   ]
  },
  {
   "cell_type": "code",
   "execution_count": 121,
   "metadata": {
    "collapsed": false,
    "scrolled": true
   },
   "outputs": [
    {
     "data": {
      "text/plain": [
       "6"
      ]
     },
     "execution_count": 121,
     "metadata": {},
     "output_type": "execute_result"
    }
   ],
   "source": [
    "i = 6"
   ]
  },
  {
   "cell_type": "code",
   "execution_count": 131,
   "metadata": {
    "collapsed": false
   },
   "outputs": [
    {
     "data": {
      "image/svg+xml": [
       "<?xml version=\"1.0\" standalone=\"no\"?>\n",
       "<!DOCTYPE svg PUBLIC \"-//W3C//DTD SVG 1.1//EN\" \"http://www.w3.org/Graphics/SVG/1.1/DTD/svg11.dtd\">\n",
       "<svg version=\"1.1\" width=\"1200\" height=\"385\" viewBox=\"0 0 1200 385\" xmlns=\"http://www.w3.org/2000/svg\" >\n",
       "<defs >\n",
       "    <linearGradient id=\"background\" y1=\"0\" y2=\"1\" x1=\"0\" x2=\"0\" >\n",
       "        <stop stop-color=\"#eeeeee\" offset=\"5%\" />\n",
       "        <stop stop-color=\"#eeeeb0\" offset=\"95%\" />\n",
       "    </linearGradient>\n",
       "    <clipPath id=\"fig-0c40888da1734e879bed5fff3bed0a6e-image-frame\">\n",
       "      <rect id=\"fig-0c40888da1734e879bed5fff3bed0a6e-clip-rect\" x=\"0\" y=\"0\" width=\"1200\" height=\"385\" />\n",
       "    </clipPath>\n",
       "</defs>\n",
       "<style type=\"text/css\">\n",
       "    rect[rx]:hover { stroke:black; stroke-width:1; }\n",
       "    text:hover { stroke:black; stroke-width:1; stroke-opacity:0.35; }\n",
       "</style>\n",
       "<g id=\"fig-0c40888da1734e879bed5fff3bed0a6e-frame\" clip-path=\"url(#fig-0c40888da1734e879bed5fff3bed0a6e-image-frame)\">\n",
       "<rect class=\"pvbackground\" x=\"0.0\" y=\"0\" width=\"1200.0\" height=\"385.0\" fill=\"url(#background)\"  />\n",
       "<text class=\"pvbackground\" text-anchor=\"middle\" x=\"600\" y=\"24\" font-size=\"17\" font-family=\"Verdana\" fill=\"rgb(0,0,0)\"  >Profile results</text>\n",
       "<text text-anchor=\"left\" x=\"10\" y=\"368\" font-size=\"12\" font-family=\"Verdana\" fill=\"rgb(0,0,0)\"  >Function:</text>\n",
       "<text text-anchor=\"\" x=\"70\" y=\"368\" font-size=\"12\" font-family=\"Verdana\" fill=\"rgb(0,0,0)\" id=\"fig-0c40888da1734e879bed5fff3bed0a6e-details\" > </text>\n",
       "<g id=\"fig-0c40888da1734e879bed5fff3bed0a6e-viewport\" transform=\"scale(1)\">\n",
       "<rect vector-effect=\"non-scaling-stroke\" x=\"10.0\" y=\"330.0\" width=\"1166.3136661623803\" height=\"15.0\" fill=\"rgb(0,150,114)\" rx=\"2\" ry=\"2\" data-shortinfo=\"anonymous in task.jl:447\" data-info=\"anonymous in task.jl:447\"/>\n",
       "<text text-anchor=\"\" x=\"14.0\" y=\"341.5\" font-size=\"12\" font-family=\"Verdana\" fill=\"rgb(0,0,0)\" ></text>\n",
       "<rect vector-effect=\"non-scaling-stroke\" x=\"10.0\" y=\"315.0\" width=\"1166.3136661623803\" height=\"15.0\" fill=\"rgb(255,78,199)\" rx=\"2\" ry=\"2\" data-shortinfo=\"eventloop in /Users/spielman/.julia/v0.4/IJulia/src/IJulia.jl:141\" data-info=\"eventloop in /Users/spielman/.julia/v0.4/IJulia/src/IJulia.jl:141\"/>\n",
       "<text text-anchor=\"\" x=\"14.0\" y=\"326.5\" font-size=\"12\" font-family=\"Verdana\" fill=\"rgb(0,0,0)\" ></text>\n",
       "<rect vector-effect=\"non-scaling-stroke\" x=\"10.0\" y=\"300.0\" width=\"1166.3136661623803\" height=\"15.0\" fill=\"rgb(0,150,114)\" rx=\"2\" ry=\"2\" data-shortinfo=\"execute_request_0x535c5df2 in /Users/spielman/.julia/v0.4/IJulia/src/execute_request.jl:177\" data-info=\"execute_request_0x535c5df2 in /Users/spielman/.julia/v0.4/IJulia/src/execute_request.jl:177\"/>\n",
       "<text text-anchor=\"\" x=\"14.0\" y=\"311.5\" font-size=\"12\" font-family=\"Verdana\" fill=\"rgb(0,0,0)\" ></text>\n",
       "<rect vector-effect=\"non-scaling-stroke\" x=\"10.0\" y=\"285.0\" width=\"1166.3136661623803\" height=\"15.0\" fill=\"rgb(255,78,199)\" rx=\"2\" ry=\"2\" data-shortinfo=\"include_string in loading.jl:266\" data-info=\"include_string in loading.jl:266\"/>\n",
       "<text text-anchor=\"\" x=\"14.0\" y=\"296.5\" font-size=\"12\" font-family=\"Verdana\" fill=\"rgb(0,0,0)\" ></text>\n",
       "<rect vector-effect=\"non-scaling-stroke\" x=\"10.0\" y=\"270.0\" width=\"1166.0161371659103\" height=\"15.0\" fill=\"rgb(0,150,114)\" rx=\"2\" ry=\"2\" data-shortinfo=\"anonymous in profile.jl:16\" data-info=\"anonymous in profile.jl:16\"/>\n",
       "<text text-anchor=\"\" x=\"14.0\" y=\"281.5\" font-size=\"12\" font-family=\"Verdana\" fill=\"rgb(0,0,0)\" ></text>\n",
       "<rect vector-effect=\"non-scaling-stroke\" x=\"10.0\" y=\"255.0\" width=\"1166.0161371659103\" height=\"15.0\" fill=\"rgb(255,78,199)\" rx=\"2\" ry=\"2\" data-shortinfo=\"chimera in /Users/spielman/git/Laplacians.jl/src/graphGenerators.jl:479\" data-info=\"chimera in /Users/spielman/git/Laplacians.jl/src/graphGenerators.jl:479\"/>\n",
       "<text text-anchor=\"\" x=\"14.0\" y=\"266.5\" font-size=\"12\" font-family=\"Verdana\" fill=\"rgb(0,0,0)\" ></text>\n",
       "<rect vector-effect=\"non-scaling-stroke\" x=\"10.0\" y=\"240.0\" width=\"6.248108925869893\" height=\"15.0\" fill=\"rgb(0,150,114)\" rx=\"2\" ry=\"2\" data-shortinfo=\"chimera in /Users/spielman/git/Laplacians.jl/src/graphGenerators.jl:453\" data-info=\"chimera in /Users/spielman/git/Laplacians.jl/src/graphGenerators.jl:453\"/>\n",
       "<text text-anchor=\"\" x=\"14.0\" y=\"251.5\" font-size=\"12\" font-family=\"Verdana\" fill=\"rgb(0,0,0)\" ></text>\n",
       "<rect vector-effect=\"non-scaling-stroke\" x=\"16.248108925869893\" y=\"240.0\" width=\"1.1901159858799808\" height=\"15.0\" fill=\"rgb(0,150,114)\" rx=\"2\" ry=\"2\" data-shortinfo=\"chimera in /Users/spielman/git/Laplacians.jl/src/graphGenerators.jl:453\" data-info=\"chimera in /Users/spielman/git/Laplacians.jl/src/graphGenerators.jl:453\"/>\n",
       "<text text-anchor=\"\" x=\"20.248108925869893\" y=\"251.5\" font-size=\"12\" font-family=\"Verdana\" fill=\"rgb(0,0,0)\" ></text>\n",
       "<rect vector-effect=\"non-scaling-stroke\" x=\"17.438224911749874\" y=\"240.0\" width=\"0.2975289964699961\" height=\"15.0\" fill=\"rgb(0,150,114)\" rx=\"2\" ry=\"2\" data-shortinfo=\"chimera in /Users/spielman/git/Laplacians.jl/src/graphGenerators.jl:453\" data-info=\"chimera in /Users/spielman/git/Laplacians.jl/src/graphGenerators.jl:453\"/>\n",
       "<text text-anchor=\"\" x=\"21.438224911749874\" y=\"251.5\" font-size=\"12\" font-family=\"Verdana\" fill=\"rgb(0,0,0)\" ></text>\n",
       "<rect vector-effect=\"non-scaling-stroke\" x=\"17.73575390821987\" y=\"240.0\" width=\"3.570347957639939\" height=\"15.0\" fill=\"rgb(0,150,114)\" rx=\"2\" ry=\"2\" data-shortinfo=\"chimera in /Users/spielman/git/Laplacians.jl/src/graphGenerators.jl:453\" data-info=\"chimera in /Users/spielman/git/Laplacians.jl/src/graphGenerators.jl:453\"/>\n",
       "<text text-anchor=\"\" x=\"21.73575390821987\" y=\"251.5\" font-size=\"12\" font-family=\"Verdana\" fill=\"rgb(0,0,0)\" ></text>\n",
       "<rect vector-effect=\"non-scaling-stroke\" x=\"21.30610186585981\" y=\"240.0\" width=\"0.2975289964699961\" height=\"15.0\" fill=\"rgb(0,150,114)\" rx=\"2\" ry=\"2\" data-shortinfo=\"chimera in /Users/spielman/git/Laplacians.jl/src/graphGenerators.jl:453\" data-info=\"chimera in /Users/spielman/git/Laplacians.jl/src/graphGenerators.jl:453\"/>\n",
       "<text text-anchor=\"\" x=\"25.30610186585981\" y=\"251.5\" font-size=\"12\" font-family=\"Verdana\" fill=\"rgb(0,0,0)\" ></text>\n",
       "<rect vector-effect=\"non-scaling-stroke\" x=\"21.603630862329805\" y=\"240.0\" width=\"3.2728189611699428\" height=\"15.0\" fill=\"rgb(117,88,255)\" rx=\"2\" ry=\"2\" data-shortinfo=\"chimera in /Users/spielman/git/Laplacians.jl/src/graphGenerators.jl:465\" data-info=\"chimera in /Users/spielman/git/Laplacians.jl/src/graphGenerators.jl:465\"/>\n",
       "<text text-anchor=\"\" x=\"25.603630862329805\" y=\"251.5\" font-size=\"12\" font-family=\"Verdana\" fill=\"rgb(0,0,0)\" ></text>\n",
       "<rect vector-effect=\"non-scaling-stroke\" x=\"24.876449823499748\" y=\"240.0\" width=\"1151.1396873424105\" height=\"15.0\" fill=\"rgb(117,88,255)\" rx=\"2\" ry=\"2\" data-shortinfo=\"chimera in /Users/spielman/git/Laplacians.jl/src/graphGenerators.jl:465\" data-info=\"chimera in /Users/spielman/git/Laplacians.jl/src/graphGenerators.jl:465\"/>\n",
       "<text text-anchor=\"\" x=\"28.876449823499748\" y=\"251.5\" font-size=\"12\" font-family=\"Verdana\" fill=\"rgb(0,0,0)\" ></text>\n",
       "<rect vector-effect=\"non-scaling-stroke\" x=\"10.0\" y=\"225.0\" width=\"2.677760968229954\" height=\"15.0\" fill=\"rgb(255,78,199)\" rx=\"2\" ry=\"2\" data-shortinfo=\"kron in sparse/linalg.jl:694\" data-info=\"kron in sparse/linalg.jl:694\"/>\n",
       "<text text-anchor=\"\" x=\"14.0\" y=\"236.5\" font-size=\"12\" font-family=\"Verdana\" fill=\"rgb(0,0,0)\" ></text>\n",
       "<rect vector-effect=\"non-scaling-stroke\" x=\"12.677760968229954\" y=\"225.0\" width=\"0.2975289964699961\" height=\"15.0\" fill=\"rgb(0,234,255)\" rx=\"2\" ry=\"2\" data-shortinfo=\"kron in sparse/linalg.jl:725\" data-info=\"kron in sparse/linalg.jl:725\"/>\n",
       "<text text-anchor=\"\" x=\"16.677760968229954\" y=\"236.5\" font-size=\"12\" font-family=\"Verdana\" fill=\"rgb(0,0,0)\" ></text>\n",
       "<rect vector-effect=\"non-scaling-stroke\" x=\"12.97528996469995\" y=\"225.0\" width=\"0.5950579929399886\" height=\"15.0\" fill=\"rgb(0,234,255)\" rx=\"2\" ry=\"2\" data-shortinfo=\"kron in sparse/linalg.jl:725\" data-info=\"kron in sparse/linalg.jl:725\"/>\n",
       "<text text-anchor=\"\" x=\"16.97528996469995\" y=\"236.5\" font-size=\"12\" font-family=\"Verdana\" fill=\"rgb(0,0,0)\" ></text>\n",
       "<rect vector-effect=\"non-scaling-stroke\" x=\"13.570347957639939\" y=\"225.0\" width=\"1.1901159858799808\" height=\"15.0\" fill=\"rgb(0,65,0)\" rx=\"2\" ry=\"2\" data-shortinfo=\"kron in sparse/linalg.jl:727\" data-info=\"kron in sparse/linalg.jl:727\"/>\n",
       "<text text-anchor=\"\" x=\"17.57034795763994\" y=\"236.5\" font-size=\"12\" font-family=\"Verdana\" fill=\"rgb(0,0,0)\" ></text>\n",
       "<rect vector-effect=\"non-scaling-stroke\" x=\"14.76046394351992\" y=\"225.0\" width=\"1.4876449823499733\" height=\"15.0\" fill=\"rgb(119,218,0)\" rx=\"2\" ry=\"2\" data-shortinfo=\"kron in sparse/linalg.jl:729\" data-info=\"kron in sparse/linalg.jl:729\"/>\n",
       "<text text-anchor=\"\" x=\"18.76046394351992\" y=\"236.5\" font-size=\"12\" font-family=\"Verdana\" fill=\"rgb(0,0,0)\" ></text>\n",
       "<rect vector-effect=\"non-scaling-stroke\" x=\"16.248108925869893\" y=\"225.0\" width=\"0.2975289964699961\" height=\"15.0\" fill=\"rgb(112,0,0)\" rx=\"2\" ry=\"2\" data-shortinfo=\"kron in sparse/linalg.jl:719\" data-info=\"kron in sparse/linalg.jl:719\"/>\n",
       "<text text-anchor=\"\" x=\"20.248108925869893\" y=\"236.5\" font-size=\"12\" font-family=\"Verdana\" fill=\"rgb(0,0,0)\" ></text>\n",
       "<rect vector-effect=\"non-scaling-stroke\" x=\"16.54563792233989\" y=\"225.0\" width=\"0.2975289964699961\" height=\"15.0\" fill=\"rgb(255,78,199)\" rx=\"2\" ry=\"2\" data-shortinfo=\"kron in sparse/linalg.jl:725\" data-info=\"kron in sparse/linalg.jl:725\"/>\n",
       "<text text-anchor=\"\" x=\"20.54563792233989\" y=\"236.5\" font-size=\"12\" font-family=\"Verdana\" fill=\"rgb(0,0,0)\" ></text>\n",
       "<rect vector-effect=\"non-scaling-stroke\" x=\"16.843166918809885\" y=\"225.0\" width=\"0.29752899646999253\" height=\"15.0\" fill=\"rgb(0,234,255)\" rx=\"2\" ry=\"2\" data-shortinfo=\"kron in sparse/linalg.jl:727\" data-info=\"kron in sparse/linalg.jl:727\"/>\n",
       "<text text-anchor=\"\" x=\"20.843166918809885\" y=\"236.5\" font-size=\"12\" font-family=\"Verdana\" fill=\"rgb(0,0,0)\" ></text>\n",
       "<rect vector-effect=\"non-scaling-stroke\" x=\"17.140695915279878\" y=\"225.0\" width=\"0.2975289964699961\" height=\"15.0\" fill=\"rgb(0,65,0)\" rx=\"2\" ry=\"2\" data-shortinfo=\"kron in sparse/linalg.jl:729\" data-info=\"kron in sparse/linalg.jl:729\"/>\n",
       "<text text-anchor=\"\" x=\"21.140695915279878\" y=\"236.5\" font-size=\"12\" font-family=\"Verdana\" fill=\"rgb(0,0,0)\" ></text>\n",
       "<rect vector-effect=\"non-scaling-stroke\" x=\"17.438224911749874\" y=\"225.0\" width=\"0.2975289964699961\" height=\"15.0\" fill=\"rgb(119,218,0)\" rx=\"2\" ry=\"2\" data-shortinfo=\"chimera in /Users/spielman/git/Laplacians.jl/src/graphGenerators.jl:417\" data-info=\"chimera in /Users/spielman/git/Laplacians.jl/src/graphGenerators.jl:417\"/>\n",
       "<text text-anchor=\"\" x=\"21.438224911749874\" y=\"236.5\" font-size=\"12\" font-family=\"Verdana\" fill=\"rgb(0,0,0)\" ></text>\n",
       "<rect vector-effect=\"non-scaling-stroke\" x=\"17.73575390821987\" y=\"225.0\" width=\"0.29752899646999253\" height=\"15.0\" fill=\"rgb(112,0,0)\" rx=\"2\" ry=\"2\" data-shortinfo=\"+ in sparse/sparsematrix.jl:781\" data-info=\"+ in sparse/sparsematrix.jl:781\"/>\n",
       "<text text-anchor=\"\" x=\"21.73575390821987\" y=\"236.5\" font-size=\"12\" font-family=\"Verdana\" fill=\"rgb(0,0,0)\" ></text>\n",
       "<rect vector-effect=\"non-scaling-stroke\" x=\"18.033282904689862\" y=\"225.0\" width=\"0.2975289964699961\" height=\"15.0\" fill=\"rgb(255,78,199)\" rx=\"2\" ry=\"2\" data-shortinfo=\"+ in sparse/sparsematrix.jl:782\" data-info=\"+ in sparse/sparsematrix.jl:782\"/>\n",
       "<text text-anchor=\"\" x=\"22.033282904689862\" y=\"236.5\" font-size=\"12\" font-family=\"Verdana\" fill=\"rgb(0,0,0)\" ></text>\n",
       "<rect vector-effect=\"non-scaling-stroke\" x=\"18.33081190115986\" y=\"225.0\" width=\"0.2975289964699961\" height=\"15.0\" fill=\"rgb(0,234,255)\" rx=\"2\" ry=\"2\" data-shortinfo=\"+ in sparse/sparsematrix.jl:783\" data-info=\"+ in sparse/sparsematrix.jl:783\"/>\n",
       "<text text-anchor=\"\" x=\"22.33081190115986\" y=\"236.5\" font-size=\"12\" font-family=\"Verdana\" fill=\"rgb(0,0,0)\" ></text>\n",
       "<rect vector-effect=\"non-scaling-stroke\" x=\"18.628340897629855\" y=\"225.0\" width=\"0.29752899646999253\" height=\"15.0\" fill=\"rgb(0,65,0)\" rx=\"2\" ry=\"2\" data-shortinfo=\"+ in sparse/sparsematrix.jl:790\" data-info=\"+ in sparse/sparsematrix.jl:790\"/>\n",
       "<text text-anchor=\"\" x=\"22.628340897629855\" y=\"236.5\" font-size=\"12\" font-family=\"Verdana\" fill=\"rgb(0,0,0)\" ></text>\n",
       "<rect vector-effect=\"non-scaling-stroke\" x=\"18.925869894099847\" y=\"225.0\" width=\"0.5950579929399922\" height=\"15.0\" fill=\"rgb(119,218,0)\" rx=\"2\" ry=\"2\" data-shortinfo=\"+ in sparse/sparsematrix.jl:811\" data-info=\"+ in sparse/sparsematrix.jl:811\"/>\n",
       "<text text-anchor=\"\" x=\"22.925869894099847\" y=\"236.5\" font-size=\"12\" font-family=\"Verdana\" fill=\"rgb(0,0,0)\" ></text>\n",
       "<rect vector-effect=\"non-scaling-stroke\" x=\"19.52092788703984\" y=\"225.0\" width=\"0.29752899646999253\" height=\"15.0\" fill=\"rgb(112,0,0)\" rx=\"2\" ry=\"2\" data-shortinfo=\"+ in sparse/sparsematrix.jl:812\" data-info=\"+ in sparse/sparsematrix.jl:812\"/>\n",
       "<text text-anchor=\"\" x=\"23.52092788703984\" y=\"236.5\" font-size=\"12\" font-family=\"Verdana\" fill=\"rgb(0,0,0)\" ></text>\n",
       "<rect vector-effect=\"non-scaling-stroke\" x=\"19.818456883509832\" y=\"225.0\" width=\"1.1901159858799844\" height=\"15.0\" fill=\"rgb(112,0,0)\" rx=\"2\" ry=\"2\" data-shortinfo=\"+ in sparse/sparsematrix.jl:812\" data-info=\"+ in sparse/sparsematrix.jl:812\"/>\n",
       "<text text-anchor=\"\" x=\"23.818456883509832\" y=\"236.5\" font-size=\"12\" font-family=\"Verdana\" fill=\"rgb(0,0,0)\" ></text>\n",
       "<rect vector-effect=\"non-scaling-stroke\" x=\"21.008572869389816\" y=\"225.0\" width=\"0.29752899646999253\" height=\"15.0\" fill=\"rgb(255,78,199)\" rx=\"2\" ry=\"2\" data-shortinfo=\"+ in sparse/sparsematrix.jl:826\" data-info=\"+ in sparse/sparsematrix.jl:826\"/>\n",
       "<text text-anchor=\"\" x=\"25.008572869389816\" y=\"236.5\" font-size=\"12\" font-family=\"Verdana\" fill=\"rgb(0,0,0)\" ></text>\n",
       "<rect vector-effect=\"non-scaling-stroke\" x=\"21.30610186585981\" y=\"225.0\" width=\"0.2975289964699961\" height=\"15.0\" fill=\"rgb(0,234,255)\" rx=\"2\" ry=\"2\" data-shortinfo=\"chimera in /Users/spielman/git/Laplacians.jl/src/graphGenerators.jl:465\" data-info=\"chimera in /Users/spielman/git/Laplacians.jl/src/graphGenerators.jl:465\"/>\n",
       "<text text-anchor=\"\" x=\"25.30610186585981\" y=\"236.5\" font-size=\"12\" font-family=\"Verdana\" fill=\"rgb(0,0,0)\" ></text>\n",
       "<rect vector-effect=\"non-scaling-stroke\" x=\"21.603630862329805\" y=\"225.0\" width=\"2.380231971759958\" height=\"15.0\" fill=\"rgb(0,65,0)\" rx=\"2\" ry=\"2\" data-shortinfo=\"chimera in /Users/spielman/git/Laplacians.jl/src/graphGenerators.jl:442\" data-info=\"chimera in /Users/spielman/git/Laplacians.jl/src/graphGenerators.jl:442\"/>\n",
       "<text text-anchor=\"\" x=\"25.603630862329805\" y=\"236.5\" font-size=\"12\" font-family=\"Verdana\" fill=\"rgb(0,0,0)\" ></text>\n",
       "<rect vector-effect=\"non-scaling-stroke\" x=\"23.983862834089763\" y=\"225.0\" width=\"0.8925869894099847\" height=\"15.0\" fill=\"rgb(0,65,0)\" rx=\"2\" ry=\"2\" data-shortinfo=\"chimera in /Users/spielman/git/Laplacians.jl/src/graphGenerators.jl:442\" data-info=\"chimera in /Users/spielman/git/Laplacians.jl/src/graphGenerators.jl:442\"/>\n",
       "<text text-anchor=\"\" x=\"27.983862834089763\" y=\"236.5\" font-size=\"12\" font-family=\"Verdana\" fill=\"rgb(0,0,0)\" ></text>\n",
       "<rect vector-effect=\"non-scaling-stroke\" x=\"24.876449823499748\" y=\"225.0\" width=\"6.843166918809885\" height=\"15.0\" fill=\"rgb(119,218,0)\" rx=\"2\" ry=\"2\" data-shortinfo=\"joinGraphs in /Users/spielman/git/Laplacians.jl/src/graphOps.jl:103\" data-info=\"joinGraphs in /Users/spielman/git/Laplacians.jl/src/graphOps.jl:103\"/>\n",
       "<text text-anchor=\"\" x=\"28.876449823499748\" y=\"236.5\" font-size=\"12\" font-family=\"Verdana\" fill=\"rgb(0,0,0)\" ></text>\n",
       "<rect vector-effect=\"non-scaling-stroke\" x=\"31.719616742309633\" y=\"225.0\" width=\"1144.2965204236007\" height=\"15.0\" fill=\"rgb(112,0,0)\" rx=\"2\" ry=\"2\" data-shortinfo=\"joinGraphs in /Users/spielman/git/Laplacians.jl/src/graphOps.jl:111\" data-info=\"joinGraphs in /Users/spielman/git/Laplacians.jl/src/graphOps.jl:111\"/>\n",
       "<text text-anchor=\"\" x=\"35.71961674230963\" y=\"236.5\" font-size=\"12\" font-family=\"Verdana\" fill=\"rgb(0,0,0)\" ></text>\n",
       "<rect vector-effect=\"non-scaling-stroke\" x=\"17.438224911749874\" y=\"210.0\" width=\"0.2975289964699961\" height=\"15.0\" fill=\"rgb(0,150,114)\" rx=\"2\" ry=\"2\" data-shortinfo=\"pureRandomGraph in /Users/spielman/git/Laplacians.jl/src/graphGenerators.jl:390\" data-info=\"pureRandomGraph in /Users/spielman/git/Laplacians.jl/src/graphGenerators.jl:390\"/>\n",
       "<text text-anchor=\"\" x=\"21.438224911749874\" y=\"221.5\" font-size=\"12\" font-family=\"Verdana\" fill=\"rgb(0,0,0)\" ></text>\n",
       "<rect vector-effect=\"non-scaling-stroke\" x=\"21.30610186585981\" y=\"210.0\" width=\"2.677760968229954\" height=\"15.0\" fill=\"rgb(117,88,255)\" rx=\"2\" ry=\"2\" data-shortinfo=\"chimera in /Users/spielman/git/Laplacians.jl/src/graphGenerators.jl:417\" data-info=\"chimera in /Users/spielman/git/Laplacians.jl/src/graphGenerators.jl:417\"/>\n",
       "<text text-anchor=\"\" x=\"25.30610186585981\" y=\"221.5\" font-size=\"12\" font-family=\"Verdana\" fill=\"rgb(0,0,0)\" ></text>\n",
       "<rect vector-effect=\"non-scaling-stroke\" x=\"23.983862834089763\" y=\"210.0\" width=\"0.5950579929399922\" height=\"15.0\" fill=\"rgb(148,116,0)\" rx=\"2\" ry=\"2\" data-shortinfo=\"chimera in /Users/spielman/git/Laplacians.jl/src/graphGenerators.jl:429\" data-info=\"chimera in /Users/spielman/git/Laplacians.jl/src/graphGenerators.jl:429\"/>\n",
       "<text text-anchor=\"\" x=\"27.983862834089763\" y=\"221.5\" font-size=\"12\" font-family=\"Verdana\" fill=\"rgb(0,0,0)\" ></text>\n",
       "<rect vector-effect=\"non-scaling-stroke\" x=\"24.578920827029755\" y=\"210.0\" width=\"0.29752899646999253\" height=\"15.0\" fill=\"rgb(148,116,0)\" rx=\"2\" ry=\"2\" data-shortinfo=\"chimera in /Users/spielman/git/Laplacians.jl/src/graphGenerators.jl:429\" data-info=\"chimera in /Users/spielman/git/Laplacians.jl/src/graphGenerators.jl:429\"/>\n",
       "<text text-anchor=\"\" x=\"28.578920827029755\" y=\"221.5\" font-size=\"12\" font-family=\"Verdana\" fill=\"rgb(0,0,0)\" ></text>\n",
       "<rect vector-effect=\"non-scaling-stroke\" x=\"24.876449823499748\" y=\"210.0\" width=\"0.2975289964699961\" height=\"15.0\" fill=\"rgb(0,126,255)\" rx=\"2\" ry=\"2\" data-shortinfo=\"findnz in sparse/sparsematrix.jl:442\" data-info=\"findnz in sparse/sparsematrix.jl:442\"/>\n",
       "<text text-anchor=\"\" x=\"28.876449823499748\" y=\"221.5\" font-size=\"12\" font-family=\"Verdana\" fill=\"rgb(0,0,0)\" ></text>\n",
       "<rect vector-effect=\"non-scaling-stroke\" x=\"25.173978819969744\" y=\"210.0\" width=\"0.2975289964699961\" height=\"15.0\" fill=\"rgb(187,0,72)\" rx=\"2\" ry=\"2\" data-shortinfo=\"findnz in sparse/sparsematrix.jl:443\" data-info=\"findnz in sparse/sparsematrix.jl:443\"/>\n",
       "<text text-anchor=\"\" x=\"29.173978819969744\" y=\"221.5\" font-size=\"12\" font-family=\"Verdana\" fill=\"rgb(0,0,0)\" ></text>\n",
       "<rect vector-effect=\"non-scaling-stroke\" x=\"25.47150781643974\" y=\"210.0\" width=\"2.380231971759958\" height=\"15.0\" fill=\"rgb(0,150,114)\" rx=\"2\" ry=\"2\" data-shortinfo=\"findnz in sparse/sparsematrix.jl:444\" data-info=\"findnz in sparse/sparsematrix.jl:444\"/>\n",
       "<text text-anchor=\"\" x=\"29.47150781643974\" y=\"221.5\" font-size=\"12\" font-family=\"Verdana\" fill=\"rgb(0,0,0)\" ></text>\n",
       "<rect vector-effect=\"non-scaling-stroke\" x=\"27.851739788199698\" y=\"210.0\" width=\"0.2975289964699961\" height=\"15.0\" fill=\"rgb(0,150,114)\" rx=\"2\" ry=\"2\" data-shortinfo=\"findnz in sparse/sparsematrix.jl:444\" data-info=\"findnz in sparse/sparsematrix.jl:444\"/>\n",
       "<text text-anchor=\"\" x=\"31.851739788199698\" y=\"221.5\" font-size=\"12\" font-family=\"Verdana\" fill=\"rgb(0,0,0)\" ></text>\n",
       "<rect vector-effect=\"non-scaling-stroke\" x=\"28.149268784669694\" y=\"210.0\" width=\"0.5950579929399886\" height=\"15.0\" fill=\"rgb(117,88,255)\" rx=\"2\" ry=\"2\" data-shortinfo=\"findnz in sparse/sparsematrix.jl:445\" data-info=\"findnz in sparse/sparsematrix.jl:445\"/>\n",
       "<text text-anchor=\"\" x=\"32.149268784669694\" y=\"221.5\" font-size=\"12\" font-family=\"Verdana\" fill=\"rgb(0,0,0)\" ></text>\n",
       "<rect vector-effect=\"non-scaling-stroke\" x=\"28.744326777609682\" y=\"210.0\" width=\"0.5950579929399922\" height=\"15.0\" fill=\"rgb(148,116,0)\" rx=\"2\" ry=\"2\" data-shortinfo=\"findnz in sparse/sparsematrix.jl:446\" data-info=\"findnz in sparse/sparsematrix.jl:446\"/>\n",
       "<text text-anchor=\"\" x=\"32.744326777609686\" y=\"221.5\" font-size=\"12\" font-family=\"Verdana\" fill=\"rgb(0,0,0)\" ></text>\n",
       "<rect vector-effect=\"non-scaling-stroke\" x=\"29.339384770549675\" y=\"210.0\" width=\"0.29752899646999253\" height=\"15.0\" fill=\"rgb(148,116,0)\" rx=\"2\" ry=\"2\" data-shortinfo=\"findnz in sparse/sparsematrix.jl:446\" data-info=\"findnz in sparse/sparsematrix.jl:446\"/>\n",
       "<text text-anchor=\"\" x=\"33.33938477054967\" y=\"221.5\" font-size=\"12\" font-family=\"Verdana\" fill=\"rgb(0,0,0)\" ></text>\n",
       "<rect vector-effect=\"non-scaling-stroke\" x=\"29.636913767019667\" y=\"210.0\" width=\"0.5950579929399922\" height=\"15.0\" fill=\"rgb(148,116,0)\" rx=\"2\" ry=\"2\" data-shortinfo=\"findnz in sparse/sparsematrix.jl:446\" data-info=\"findnz in sparse/sparsematrix.jl:446\"/>\n",
       "<text text-anchor=\"\" x=\"33.636913767019664\" y=\"221.5\" font-size=\"12\" font-family=\"Verdana\" fill=\"rgb(0,0,0)\" ></text>\n",
       "<rect vector-effect=\"non-scaling-stroke\" x=\"30.23197175995966\" y=\"210.0\" width=\"0.29752899646999253\" height=\"15.0\" fill=\"rgb(0,126,255)\" rx=\"2\" ry=\"2\" data-shortinfo=\"findnz in sparse/sparsematrix.jl:447\" data-info=\"findnz in sparse/sparsematrix.jl:447\"/>\n",
       "<text text-anchor=\"\" x=\"34.23197175995966\" y=\"221.5\" font-size=\"12\" font-family=\"Verdana\" fill=\"rgb(0,0,0)\" ></text>\n",
       "<rect vector-effect=\"non-scaling-stroke\" x=\"30.529500756429652\" y=\"210.0\" width=\"1.1901159858799808\" height=\"15.0\" fill=\"rgb(187,0,72)\" rx=\"2\" ry=\"2\" data-shortinfo=\"findnz in sparse/sparsematrix.jl:458\" data-info=\"findnz in sparse/sparsematrix.jl:458\"/>\n",
       "<text text-anchor=\"\" x=\"34.529500756429655\" y=\"221.5\" font-size=\"12\" font-family=\"Verdana\" fill=\"rgb(0,0,0)\" ></text>\n",
       "<rect vector-effect=\"non-scaling-stroke\" x=\"31.719616742309633\" y=\"210.0\" width=\"1117.8164397377711\" height=\"15.0\" fill=\"rgb(0,150,114)\" rx=\"2\" ry=\"2\" data-shortinfo=\"sparse in sparse/csparse.jl:40\" data-info=\"sparse in sparse/csparse.jl:40\"/>\n",
       "<text text-anchor=\"\" x=\"35.71961674230963\" y=\"221.5\" font-size=\"12\" font-family=\"Verdana\" fill=\"rgb(0,0,0)\" ></text>\n",
       "<rect vector-effect=\"non-scaling-stroke\" x=\"1149.5360564800808\" y=\"210.0\" width=\"0.2975289964699641\" height=\"15.0\" fill=\"rgb(117,88,255)\" rx=\"2\" ry=\"2\" data-shortinfo=\"sparse in sparse/csparse.jl:48\" data-info=\"sparse in sparse/csparse.jl:48\"/>\n",
       "<text text-anchor=\"\" x=\"1153.5360564800808\" y=\"221.5\" font-size=\"12\" font-family=\"Verdana\" fill=\"rgb(0,0,0)\" ></text>\n",
       "<rect vector-effect=\"non-scaling-stroke\" x=\"1149.8335854765508\" y=\"210.0\" width=\"0.2975289964699641\" height=\"15.0\" fill=\"rgb(117,88,255)\" rx=\"2\" ry=\"2\" data-shortinfo=\"sparse in sparse/csparse.jl:48\" data-info=\"sparse in sparse/csparse.jl:48\"/>\n",
       "<text text-anchor=\"\" x=\"1153.8335854765508\" y=\"221.5\" font-size=\"12\" font-family=\"Verdana\" fill=\"rgb(0,0,0)\" ></text>\n",
       "<rect vector-effect=\"non-scaling-stroke\" x=\"1150.1311144730207\" y=\"210.0\" width=\"0.2975289964699641\" height=\"15.0\" fill=\"rgb(148,116,0)\" rx=\"2\" ry=\"2\" data-shortinfo=\"sparse in sparse/csparse.jl:51\" data-info=\"sparse in sparse/csparse.jl:51\"/>\n",
       "<text text-anchor=\"\" x=\"1154.1311144730207\" y=\"221.5\" font-size=\"12\" font-family=\"Verdana\" fill=\"rgb(0,0,0)\" ></text>\n",
       "<rect vector-effect=\"non-scaling-stroke\" x=\"1150.4286434694907\" y=\"210.0\" width=\"1.487644982350048\" height=\"15.0\" fill=\"rgb(0,126,255)\" rx=\"2\" ry=\"2\" data-shortinfo=\"sparse in sparse/csparse.jl:52\" data-info=\"sparse in sparse/csparse.jl:52\"/>\n",
       "<text text-anchor=\"\" x=\"1154.4286434694907\" y=\"221.5\" font-size=\"12\" font-family=\"Verdana\" fill=\"rgb(0,0,0)\" ></text>\n",
       "<rect vector-effect=\"non-scaling-stroke\" x=\"1151.9162884518407\" y=\"210.0\" width=\"2.3802319717599403\" height=\"15.0\" fill=\"rgb(187,0,72)\" rx=\"2\" ry=\"2\" data-shortinfo=\"sparse in sparse/csparse.jl:53\" data-info=\"sparse in sparse/csparse.jl:53\"/>\n",
       "<text text-anchor=\"\" x=\"1155.9162884518407\" y=\"221.5\" font-size=\"12\" font-family=\"Verdana\" fill=\"rgb(0,0,0)\" ></text>\n",
       "<rect vector-effect=\"non-scaling-stroke\" x=\"1154.2965204236007\" y=\"210.0\" width=\"2.9752899646998685\" height=\"15.0\" fill=\"rgb(187,0,72)\" rx=\"2\" ry=\"2\" data-shortinfo=\"sparse in sparse/csparse.jl:53\" data-info=\"sparse in sparse/csparse.jl:53\"/>\n",
       "<text text-anchor=\"\" x=\"1158.2965204236007\" y=\"221.5\" font-size=\"12\" font-family=\"Verdana\" fill=\"rgb(0,0,0)\" ></text>\n",
       "<rect vector-effect=\"non-scaling-stroke\" x=\"1157.2718103883005\" y=\"210.0\" width=\"0.2975289964701915\" height=\"15.0\" fill=\"rgb(0,150,114)\" rx=\"2\" ry=\"2\" data-shortinfo=\"sparse in sparse/csparse.jl:63\" data-info=\"sparse in sparse/csparse.jl:63\"/>\n",
       "<text text-anchor=\"\" x=\"1161.2718103883005\" y=\"221.5\" font-size=\"12\" font-family=\"Verdana\" fill=\"rgb(0,0,0)\" ></text>\n",
       "<rect vector-effect=\"non-scaling-stroke\" x=\"1157.5693393847707\" y=\"210.0\" width=\"0.2975289964699641\" height=\"15.0\" fill=\"rgb(117,88,255)\" rx=\"2\" ry=\"2\" data-shortinfo=\"sparse in sparse/csparse.jl:66\" data-info=\"sparse in sparse/csparse.jl:66\"/>\n",
       "<text text-anchor=\"\" x=\"1161.5693393847707\" y=\"221.5\" font-size=\"12\" font-family=\"Verdana\" fill=\"rgb(0,0,0)\" ></text>\n",
       "<rect vector-effect=\"non-scaling-stroke\" x=\"1157.8668683812407\" y=\"210.0\" width=\"0.2975289964699641\" height=\"15.0\" fill=\"rgb(148,116,0)\" rx=\"2\" ry=\"2\" data-shortinfo=\"sparse in sparse/csparse.jl:67\" data-info=\"sparse in sparse/csparse.jl:67\"/>\n",
       "<text text-anchor=\"\" x=\"1161.8668683812407\" y=\"221.5\" font-size=\"12\" font-family=\"Verdana\" fill=\"rgb(0,0,0)\" ></text>\n",
       "<rect vector-effect=\"non-scaling-stroke\" x=\"1158.1643973777107\" y=\"210.0\" width=\"0.2975289964699641\" height=\"15.0\" fill=\"rgb(0,126,255)\" rx=\"2\" ry=\"2\" data-shortinfo=\"sparse in sparse/csparse.jl:69\" data-info=\"sparse in sparse/csparse.jl:69\"/>\n",
       "<text text-anchor=\"\" x=\"1162.1643973777107\" y=\"221.5\" font-size=\"12\" font-family=\"Verdana\" fill=\"rgb(0,0,0)\" ></text>\n",
       "<rect vector-effect=\"non-scaling-stroke\" x=\"1158.4619263741806\" y=\"210.0\" width=\"0.2975289964699641\" height=\"15.0\" fill=\"rgb(187,0,72)\" rx=\"2\" ry=\"2\" data-shortinfo=\"sparse in sparse/csparse.jl:70\" data-info=\"sparse in sparse/csparse.jl:70\"/>\n",
       "<text text-anchor=\"\" x=\"1162.4619263741806\" y=\"221.5\" font-size=\"12\" font-family=\"Verdana\" fill=\"rgb(0,0,0)\" ></text>\n",
       "<rect vector-effect=\"non-scaling-stroke\" x=\"1158.7594553706506\" y=\"210.0\" width=\"0.5950579929399282\" height=\"15.0\" fill=\"rgb(0,150,114)\" rx=\"2\" ry=\"2\" data-shortinfo=\"sparse in sparse/csparse.jl:71\" data-info=\"sparse in sparse/csparse.jl:71\"/>\n",
       "<text text-anchor=\"\" x=\"1162.7594553706506\" y=\"221.5\" font-size=\"12\" font-family=\"Verdana\" fill=\"rgb(0,0,0)\" ></text>\n",
       "<rect vector-effect=\"non-scaling-stroke\" x=\"1159.3545133635905\" y=\"210.0\" width=\"0.2975289964701915\" height=\"15.0\" fill=\"rgb(0,150,114)\" rx=\"2\" ry=\"2\" data-shortinfo=\"sparse in sparse/csparse.jl:71\" data-info=\"sparse in sparse/csparse.jl:71\"/>\n",
       "<text text-anchor=\"\" x=\"1163.3545133635905\" y=\"221.5\" font-size=\"12\" font-family=\"Verdana\" fill=\"rgb(0,0,0)\" ></text>\n",
       "<rect vector-effect=\"non-scaling-stroke\" x=\"1159.6520423600607\" y=\"210.0\" width=\"0.2975289964699641\" height=\"15.0\" fill=\"rgb(117,88,255)\" rx=\"2\" ry=\"2\" data-shortinfo=\"sparse in sparse/csparse.jl:73\" data-info=\"sparse in sparse/csparse.jl:73\"/>\n",
       "<text text-anchor=\"\" x=\"1163.6520423600607\" y=\"221.5\" font-size=\"12\" font-family=\"Verdana\" fill=\"rgb(0,0,0)\" ></text>\n",
       "<rect vector-effect=\"non-scaling-stroke\" x=\"1159.9495713565307\" y=\"210.0\" width=\"0.5950579929399282\" height=\"15.0\" fill=\"rgb(148,116,0)\" rx=\"2\" ry=\"2\" data-shortinfo=\"sparse in sparse/csparse.jl:74\" data-info=\"sparse in sparse/csparse.jl:74\"/>\n",
       "<text text-anchor=\"\" x=\"1163.9495713565307\" y=\"221.5\" font-size=\"12\" font-family=\"Verdana\" fill=\"rgb(0,0,0)\" ></text>\n",
       "<rect vector-effect=\"non-scaling-stroke\" x=\"1160.5446293494706\" y=\"210.0\" width=\"1.487644982350048\" height=\"15.0\" fill=\"rgb(148,116,0)\" rx=\"2\" ry=\"2\" data-shortinfo=\"sparse in sparse/csparse.jl:74\" data-info=\"sparse in sparse/csparse.jl:74\"/>\n",
       "<text text-anchor=\"\" x=\"1164.5446293494706\" y=\"221.5\" font-size=\"12\" font-family=\"Verdana\" fill=\"rgb(0,0,0)\" ></text>\n",
       "<rect vector-effect=\"non-scaling-stroke\" x=\"1162.0322743318206\" y=\"210.0\" width=\"0.5950579929399282\" height=\"15.0\" fill=\"rgb(0,126,255)\" rx=\"2\" ry=\"2\" data-shortinfo=\"sparse in sparse/csparse.jl:75\" data-info=\"sparse in sparse/csparse.jl:75\"/>\n",
       "<text text-anchor=\"\" x=\"1166.0322743318206\" y=\"221.5\" font-size=\"12\" font-family=\"Verdana\" fill=\"rgb(0,0,0)\" ></text>\n",
       "<rect vector-effect=\"non-scaling-stroke\" x=\"1162.6273323247606\" y=\"210.0\" width=\"3.867876954109988\" height=\"15.0\" fill=\"rgb(0,126,255)\" rx=\"2\" ry=\"2\" data-shortinfo=\"sparse in sparse/csparse.jl:75\" data-info=\"sparse in sparse/csparse.jl:75\"/>\n",
       "<text text-anchor=\"\" x=\"1166.6273323247606\" y=\"221.5\" font-size=\"12\" font-family=\"Verdana\" fill=\"rgb(0,0,0)\" ></text>\n",
       "<rect vector-effect=\"non-scaling-stroke\" x=\"1166.4952092788706\" y=\"210.0\" width=\"1.1901159858798565\" height=\"15.0\" fill=\"rgb(0,126,255)\" rx=\"2\" ry=\"2\" data-shortinfo=\"sparse in sparse/csparse.jl:75\" data-info=\"sparse in sparse/csparse.jl:75\"/>\n",
       "<text text-anchor=\"\" x=\"1170.4952092788706\" y=\"221.5\" font-size=\"12\" font-family=\"Verdana\" fill=\"rgb(0,0,0)\" ></text>\n",
       "<rect vector-effect=\"non-scaling-stroke\" x=\"1167.6853252647504\" y=\"210.0\" width=\"0.2975289964699641\" height=\"15.0\" fill=\"rgb(187,0,72)\" rx=\"2\" ry=\"2\" data-shortinfo=\"sparse in sparse/csparse.jl:80\" data-info=\"sparse in sparse/csparse.jl:80\"/>\n",
       "<text text-anchor=\"\" x=\"1171.6853252647504\" y=\"221.5\" font-size=\"12\" font-family=\"Verdana\" fill=\"rgb(0,0,0)\" ></text>\n",
       "<rect vector-effect=\"non-scaling-stroke\" x=\"1167.9828542612204\" y=\"210.0\" width=\"0.5950579929401556\" height=\"15.0\" fill=\"rgb(0,150,114)\" rx=\"2\" ry=\"2\" data-shortinfo=\"sparse in sparse/csparse.jl:91\" data-info=\"sparse in sparse/csparse.jl:91\"/>\n",
       "<text text-anchor=\"\" x=\"1171.9828542612204\" y=\"221.5\" font-size=\"12\" font-family=\"Verdana\" fill=\"rgb(0,0,0)\" ></text>\n",
       "<rect vector-effect=\"non-scaling-stroke\" x=\"1168.5779122541605\" y=\"210.0\" width=\"0.2975289964699641\" height=\"15.0\" fill=\"rgb(117,88,255)\" rx=\"2\" ry=\"2\" data-shortinfo=\"sparse in sparse/csparse.jl:114\" data-info=\"sparse in sparse/csparse.jl:114\"/>\n",
       "<text text-anchor=\"\" x=\"1172.5779122541605\" y=\"221.5\" font-size=\"12\" font-family=\"Verdana\" fill=\"rgb(0,0,0)\" ></text>\n",
       "<rect vector-effect=\"non-scaling-stroke\" x=\"1168.8754412506305\" y=\"210.0\" width=\"0.5950579929399282\" height=\"15.0\" fill=\"rgb(148,116,0)\" rx=\"2\" ry=\"2\" data-shortinfo=\"sparse in sparse/csparse.jl:119\" data-info=\"sparse in sparse/csparse.jl:119\"/>\n",
       "<text text-anchor=\"\" x=\"1172.8754412506305\" y=\"221.5\" font-size=\"12\" font-family=\"Verdana\" fill=\"rgb(0,0,0)\" ></text>\n",
       "<rect vector-effect=\"non-scaling-stroke\" x=\"1169.4704992435704\" y=\"210.0\" width=\"0.5950579929399282\" height=\"15.0\" fill=\"rgb(0,126,255)\" rx=\"2\" ry=\"2\" data-shortinfo=\"sparse in sparse/csparse.jl:122\" data-info=\"sparse in sparse/csparse.jl:122\"/>\n",
       "<text text-anchor=\"\" x=\"1173.4704992435704\" y=\"221.5\" font-size=\"12\" font-family=\"Verdana\" fill=\"rgb(0,0,0)\" ></text>\n",
       "<rect vector-effect=\"non-scaling-stroke\" x=\"1170.0655572365104\" y=\"210.0\" width=\"0.2975289964699641\" height=\"15.0\" fill=\"rgb(187,0,72)\" rx=\"2\" ry=\"2\" data-shortinfo=\"sparse in sparse/csparse.jl:130\" data-info=\"sparse in sparse/csparse.jl:130\"/>\n",
       "<text text-anchor=\"\" x=\"1174.0655572365104\" y=\"221.5\" font-size=\"12\" font-family=\"Verdana\" fill=\"rgb(0,0,0)\" ></text>\n",
       "<rect vector-effect=\"non-scaling-stroke\" x=\"1170.3630862329803\" y=\"210.0\" width=\"0.5950579929401556\" height=\"15.0\" fill=\"rgb(0,150,114)\" rx=\"2\" ry=\"2\" data-shortinfo=\"sparse in sparse/csparse.jl:131\" data-info=\"sparse in sparse/csparse.jl:131\"/>\n",
       "<text text-anchor=\"\" x=\"1174.3630862329803\" y=\"221.5\" font-size=\"12\" font-family=\"Verdana\" fill=\"rgb(0,0,0)\" ></text>\n",
       "<rect vector-effect=\"non-scaling-stroke\" x=\"1170.9581442259205\" y=\"210.0\" width=\"2.3802319717599403\" height=\"15.0\" fill=\"rgb(117,88,255)\" rx=\"2\" ry=\"2\" data-shortinfo=\"sparse in sparse/csparse.jl:132\" data-info=\"sparse in sparse/csparse.jl:132\"/>\n",
       "<text text-anchor=\"\" x=\"1174.9581442259205\" y=\"221.5\" font-size=\"12\" font-family=\"Verdana\" fill=\"rgb(0,0,0)\" ></text>\n",
       "<rect vector-effect=\"non-scaling-stroke\" x=\"1173.3383761976804\" y=\"210.0\" width=\"0.2975289964699641\" height=\"15.0\" fill=\"rgb(117,88,255)\" rx=\"2\" ry=\"2\" data-shortinfo=\"sparse in sparse/csparse.jl:132\" data-info=\"sparse in sparse/csparse.jl:132\"/>\n",
       "<text text-anchor=\"\" x=\"1177.3383761976804\" y=\"221.5\" font-size=\"12\" font-family=\"Verdana\" fill=\"rgb(0,0,0)\" ></text>\n",
       "<rect vector-effect=\"non-scaling-stroke\" x=\"1173.6359051941504\" y=\"210.0\" width=\"0.5950579929399282\" height=\"15.0\" fill=\"rgb(148,116,0)\" rx=\"2\" ry=\"2\" data-shortinfo=\"sparse in sparse/csparse.jl:133\" data-info=\"sparse in sparse/csparse.jl:133\"/>\n",
       "<text text-anchor=\"\" x=\"1177.6359051941504\" y=\"221.5\" font-size=\"12\" font-family=\"Verdana\" fill=\"rgb(0,0,0)\" ></text>\n",
       "<rect vector-effect=\"non-scaling-stroke\" x=\"1174.2309631870903\" y=\"210.0\" width=\"1.487644982350048\" height=\"15.0\" fill=\"rgb(0,126,255)\" rx=\"2\" ry=\"2\" data-shortinfo=\"sparse in sparse/csparse.jl:134\" data-info=\"sparse in sparse/csparse.jl:134\"/>\n",
       "<text text-anchor=\"\" x=\"1178.2309631870903\" y=\"221.5\" font-size=\"12\" font-family=\"Verdana\" fill=\"rgb(0,0,0)\" ></text>\n",
       "<rect vector-effect=\"non-scaling-stroke\" x=\"1175.7186081694404\" y=\"210.0\" width=\"0.2975289964699641\" height=\"15.0\" fill=\"rgb(0,126,255)\" rx=\"2\" ry=\"2\" data-shortinfo=\"sparse in sparse/csparse.jl:134\" data-info=\"sparse in sparse/csparse.jl:134\"/>\n",
       "<text text-anchor=\"\" x=\"1179.7186081694404\" y=\"221.5\" font-size=\"12\" font-family=\"Verdana\" fill=\"rgb(0,0,0)\" ></text>\n",
       "<rect vector-effect=\"non-scaling-stroke\" x=\"21.30610186585981\" y=\"195.0\" width=\"0.2975289964699961\" height=\"15.0\" fill=\"rgb(255,78,199)\" rx=\"2\" ry=\"2\" data-shortinfo=\"pureRandomGraph in /Users/spielman/git/Laplacians.jl/src/graphGenerators.jl:390\" data-info=\"pureRandomGraph in /Users/spielman/git/Laplacians.jl/src/graphGenerators.jl:390\"/>\n",
       "<text text-anchor=\"\" x=\"25.30610186585981\" y=\"206.5\" font-size=\"12\" font-family=\"Verdana\" fill=\"rgb(0,0,0)\" ></text>\n",
       "<rect vector-effect=\"non-scaling-stroke\" x=\"21.603630862329805\" y=\"195.0\" width=\"2.0827029752899655\" height=\"15.0\" fill=\"rgb(255,0,0)\" rx=\"2\" ry=\"2\" data-shortinfo=\"pureRandomGraph in /Users/spielman/git/Laplacians.jl/src/graphGenerators.jl:359\" data-info=\"pureRandomGraph in /Users/spielman/git/Laplacians.jl/src/graphGenerators.jl:359\"/>\n",
       "<text text-anchor=\"\" x=\"25.603630862329805\" y=\"206.5\" font-size=\"12\" font-family=\"Verdana\" fill=\"rgb(0,0,0)\" ></text>\n",
       "<rect vector-effect=\"non-scaling-stroke\" x=\"23.68633383761977\" y=\"195.0\" width=\"0.29752899646999253\" height=\"15.0\" fill=\"rgb(0,234,255)\" rx=\"2\" ry=\"2\" data-shortinfo=\"pureRandomGraph in /Users/spielman/git/Laplacians.jl/src/graphGenerators.jl:386\" data-info=\"pureRandomGraph in /Users/spielman/git/Laplacians.jl/src/graphGenerators.jl:386\"/>\n",
       "<text text-anchor=\"\" x=\"27.68633383761977\" y=\"206.5\" font-size=\"12\" font-family=\"Verdana\" fill=\"rgb(0,0,0)\" ></text>\n",
       "<rect vector-effect=\"non-scaling-stroke\" x=\"23.983862834089763\" y=\"195.0\" width=\"0.8925869894099847\" height=\"15.0\" fill=\"rgb(0,65,0)\" rx=\"2\" ry=\"2\" data-shortinfo=\"chimera in /Users/spielman/git/Laplacians.jl/src/graphGenerators.jl:429\" data-info=\"chimera in /Users/spielman/git/Laplacians.jl/src/graphGenerators.jl:429\"/>\n",
       "<text text-anchor=\"\" x=\"27.983862834089763\" y=\"206.5\" font-size=\"12\" font-family=\"Verdana\" fill=\"rgb(0,0,0)\" ></text>\n",
       "<rect vector-effect=\"non-scaling-stroke\" x=\"1169.4704992435704\" y=\"195.0\" width=\"0.5950579929399282\" height=\"15.0\" fill=\"rgb(119,218,0)\" rx=\"2\" ry=\"2\" data-shortinfo=\"cumsum! in arraymath.jl:445\" data-info=\"cumsum! in arraymath.jl:445\"/>\n",
       "<text text-anchor=\"\" x=\"1173.4704992435704\" y=\"206.5\" font-size=\"12\" font-family=\"Verdana\" fill=\"rgb(0,0,0)\" ></text>\n",
       "<rect vector-effect=\"non-scaling-stroke\" x=\"23.68633383761977\" y=\"180.0\" width=\"0.29752899646999253\" height=\"15.0\" fill=\"rgb(0,150,114)\" rx=\"2\" ry=\"2\" data-shortinfo=\".&amp;gt; in operators.jl:39\" data-info=\".&amp;gt; in operators.jl:39\"/>\n",
       "<text text-anchor=\"\" x=\"27.68633383761977\" y=\"191.5\" font-size=\"12\" font-family=\"Verdana\" fill=\"rgb(0,0,0)\" ></text>\n",
       "<rect vector-effect=\"non-scaling-stroke\" x=\"23.983862834089763\" y=\"180.0\" width=\"0.2975289964699961\" height=\"15.0\" fill=\"rgb(117,88,255)\" rx=\"2\" ry=\"2\" data-shortinfo=\"chimera in /Users/spielman/git/Laplacians.jl/src/graphGenerators.jl:429\" data-info=\"chimera in /Users/spielman/git/Laplacians.jl/src/graphGenerators.jl:429\"/>\n",
       "<text text-anchor=\"\" x=\"27.983862834089763\" y=\"191.5\" font-size=\"12\" font-family=\"Verdana\" fill=\"rgb(0,0,0)\" ></text>\n",
       "<rect vector-effect=\"non-scaling-stroke\" x=\"24.28139183055976\" y=\"180.0\" width=\"0.2975289964699961\" height=\"15.0\" fill=\"rgb(117,88,255)\" rx=\"2\" ry=\"2\" data-shortinfo=\"chimera in /Users/spielman/git/Laplacians.jl/src/graphGenerators.jl:429\" data-info=\"chimera in /Users/spielman/git/Laplacians.jl/src/graphGenerators.jl:429\"/>\n",
       "<text text-anchor=\"\" x=\"28.28139183055976\" y=\"191.5\" font-size=\"12\" font-family=\"Verdana\" fill=\"rgb(0,0,0)\" ></text>\n",
       "<rect vector-effect=\"non-scaling-stroke\" x=\"24.578920827029755\" y=\"180.0\" width=\"0.29752899646999253\" height=\"15.0\" fill=\"rgb(117,88,255)\" rx=\"2\" ry=\"2\" data-shortinfo=\"chimera in /Users/spielman/git/Laplacians.jl/src/graphGenerators.jl:429\" data-info=\"chimera in /Users/spielman/git/Laplacians.jl/src/graphGenerators.jl:429\"/>\n",
       "<text text-anchor=\"\" x=\"28.578920827029755\" y=\"191.5\" font-size=\"12\" font-family=\"Verdana\" fill=\"rgb(0,0,0)\" ></text>\n",
       "<rect vector-effect=\"non-scaling-stroke\" x=\"1169.4704992435704\" y=\"180.0\" width=\"0.2975289964699641\" height=\"15.0\" fill=\"rgb(148,116,0)\" rx=\"2\" ry=\"2\" data-shortinfo=\"cumsum_pairwise! in arraymath.jl:436\" data-info=\"cumsum_pairwise! in arraymath.jl:436\"/>\n",
       "<text text-anchor=\"\" x=\"1173.4704992435704\" y=\"191.5\" font-size=\"12\" font-family=\"Verdana\" fill=\"rgb(0,0,0)\" ></text>\n",
       "<rect vector-effect=\"non-scaling-stroke\" x=\"1169.7680282400404\" y=\"180.0\" width=\"0.2975289964699641\" height=\"15.0\" fill=\"rgb(0,126,255)\" rx=\"2\" ry=\"2\" data-shortinfo=\"cumsum_pairwise! in arraymath.jl:437\" data-info=\"cumsum_pairwise! in arraymath.jl:437\"/>\n",
       "<text text-anchor=\"\" x=\"1173.7680282400404\" y=\"191.5\" font-size=\"12\" font-family=\"Verdana\" fill=\"rgb(0,0,0)\" ></text>\n",
       "<rect vector-effect=\"non-scaling-stroke\" x=\"23.68633383761977\" y=\"165.0\" width=\"0.29752899646999253\" height=\"15.0\" fill=\"rgb(255,78,199)\" rx=\"2\" ry=\"2\" data-shortinfo=\"call in /Applications/Julia-0.4.0.app/Contents/Resources/julia/lib/julia/sys.dylib:-1\" data-info=\"call in /Applications/Julia-0.4.0.app/Contents/Resources/julia/lib/julia/sys.dylib:-1\"/>\n",
       "<text text-anchor=\"\" x=\"27.68633383761977\" y=\"176.5\" font-size=\"12\" font-family=\"Verdana\" fill=\"rgb(0,0,0)\" ></text>\n",
       "<rect vector-effect=\"non-scaling-stroke\" x=\"23.983862834089763\" y=\"165.0\" width=\"0.2975289964699961\" height=\"15.0\" fill=\"rgb(0,234,255)\" rx=\"2\" ry=\"2\" data-shortinfo=\"chimera in /Users/spielman/git/Laplacians.jl/src/graphGenerators.jl:417\" data-info=\"chimera in /Users/spielman/git/Laplacians.jl/src/graphGenerators.jl:417\"/>\n",
       "<text text-anchor=\"\" x=\"27.983862834089763\" y=\"176.5\" font-size=\"12\" font-family=\"Verdana\" fill=\"rgb(0,0,0)\" ></text>\n",
       "<rect vector-effect=\"non-scaling-stroke\" x=\"24.28139183055976\" y=\"165.0\" width=\"0.2975289964699961\" height=\"15.0\" fill=\"rgb(0,65,0)\" rx=\"2\" ry=\"2\" data-shortinfo=\"chimera in /Users/spielman/git/Laplacians.jl/src/graphGenerators.jl:429\" data-info=\"chimera in /Users/spielman/git/Laplacians.jl/src/graphGenerators.jl:429\"/>\n",
       "<text text-anchor=\"\" x=\"28.28139183055976\" y=\"176.5\" font-size=\"12\" font-family=\"Verdana\" fill=\"rgb(0,0,0)\" ></text>\n",
       "<rect vector-effect=\"non-scaling-stroke\" x=\"24.578920827029755\" y=\"165.0\" width=\"0.29752899646999253\" height=\"15.0\" fill=\"rgb(119,218,0)\" rx=\"2\" ry=\"2\" data-shortinfo=\"chimera in /Users/spielman/git/Laplacians.jl/src/graphGenerators.jl:417\" data-info=\"chimera in /Users/spielman/git/Laplacians.jl/src/graphGenerators.jl:417\"/>\n",
       "<text text-anchor=\"\" x=\"28.578920827029755\" y=\"176.5\" font-size=\"12\" font-family=\"Verdana\" fill=\"rgb(0,0,0)\" ></text>\n",
       "<rect vector-effect=\"non-scaling-stroke\" x=\"1169.4704992435704\" y=\"165.0\" width=\"0.5950579929399282\" height=\"15.0\" fill=\"rgb(112,0,0)\" rx=\"2\" ry=\"2\" data-shortinfo=\"cumsum_pairwise! in arraymath.jl:437\" data-info=\"cumsum_pairwise! in arraymath.jl:437\"/>\n",
       "<text text-anchor=\"\" x=\"1173.4704992435704\" y=\"176.5\" font-size=\"12\" font-family=\"Verdana\" fill=\"rgb(0,0,0)\" ></text>\n",
       "<rect vector-effect=\"non-scaling-stroke\" x=\"23.983862834089763\" y=\"150.0\" width=\"0.2975289964699961\" height=\"15.0\" fill=\"rgb(0,150,114)\" rx=\"2\" ry=\"2\" data-shortinfo=\"pureRandomGraph in /Users/spielman/git/Laplacians.jl/src/graphGenerators.jl:390\" data-info=\"pureRandomGraph in /Users/spielman/git/Laplacians.jl/src/graphGenerators.jl:390\"/>\n",
       "<text text-anchor=\"\" x=\"27.983862834089763\" y=\"161.5\" font-size=\"12\" font-family=\"Verdana\" fill=\"rgb(0,0,0)\" ></text>\n",
       "<rect vector-effect=\"non-scaling-stroke\" x=\"24.28139183055976\" y=\"150.0\" width=\"0.2975289964699961\" height=\"15.0\" fill=\"rgb(117,88,255)\" rx=\"2\" ry=\"2\" data-shortinfo=\"chimera in /Users/spielman/git/Laplacians.jl/src/graphGenerators.jl:417\" data-info=\"chimera in /Users/spielman/git/Laplacians.jl/src/graphGenerators.jl:417\"/>\n",
       "<text text-anchor=\"\" x=\"28.28139183055976\" y=\"161.5\" font-size=\"12\" font-family=\"Verdana\" fill=\"rgb(0,0,0)\" ></text>\n",
       "<rect vector-effect=\"non-scaling-stroke\" x=\"24.578920827029755\" y=\"150.0\" width=\"0.29752899646999253\" height=\"15.0\" fill=\"rgb(148,116,0)\" rx=\"2\" ry=\"2\" data-shortinfo=\"pureRandomGraph in /Users/spielman/git/Laplacians.jl/src/graphGenerators.jl:390\" data-info=\"pureRandomGraph in /Users/spielman/git/Laplacians.jl/src/graphGenerators.jl:390\"/>\n",
       "<text text-anchor=\"\" x=\"28.578920827029755\" y=\"161.5\" font-size=\"12\" font-family=\"Verdana\" fill=\"rgb(0,0,0)\" ></text>\n",
       "<rect vector-effect=\"non-scaling-stroke\" x=\"1169.4704992435704\" y=\"150.0\" width=\"0.2975289964699641\" height=\"15.0\" fill=\"rgb(0,126,255)\" rx=\"2\" ry=\"2\" data-shortinfo=\"cumsum_pairwise! in arraymath.jl:436\" data-info=\"cumsum_pairwise! in arraymath.jl:436\"/>\n",
       "<text text-anchor=\"\" x=\"1173.4704992435704\" y=\"161.5\" font-size=\"12\" font-family=\"Verdana\" fill=\"rgb(0,0,0)\" ></text>\n",
       "<rect vector-effect=\"non-scaling-stroke\" x=\"1169.7680282400404\" y=\"150.0\" width=\"0.2975289964699641\" height=\"15.0\" fill=\"rgb(187,0,72)\" rx=\"2\" ry=\"2\" data-shortinfo=\"cumsum_pairwise! in arraymath.jl:437\" data-info=\"cumsum_pairwise! in arraymath.jl:437\"/>\n",
       "<text text-anchor=\"\" x=\"1173.7680282400404\" y=\"161.5\" font-size=\"12\" font-family=\"Verdana\" fill=\"rgb(0,0,0)\" ></text>\n",
       "<rect vector-effect=\"non-scaling-stroke\" x=\"24.28139183055976\" y=\"135.0\" width=\"0.2975289964699961\" height=\"15.0\" fill=\"rgb(255,78,199)\" rx=\"2\" ry=\"2\" data-shortinfo=\"pureRandomGraph in /Users/spielman/git/Laplacians.jl/src/graphGenerators.jl:390\" data-info=\"pureRandomGraph in /Users/spielman/git/Laplacians.jl/src/graphGenerators.jl:390\"/>\n",
       "<text text-anchor=\"\" x=\"28.28139183055976\" y=\"146.5\" font-size=\"12\" font-family=\"Verdana\" fill=\"rgb(0,0,0)\" ></text>\n",
       "<rect vector-effect=\"non-scaling-stroke\" x=\"1169.4704992435704\" y=\"135.0\" width=\"0.2975289964699641\" height=\"15.0\" fill=\"rgb(0,234,255)\" rx=\"2\" ry=\"2\" data-shortinfo=\"cumsum_pairwise! in arraymath.jl:436\" data-info=\"cumsum_pairwise! in arraymath.jl:436\"/>\n",
       "<text text-anchor=\"\" x=\"1173.4704992435704\" y=\"146.5\" font-size=\"12\" font-family=\"Verdana\" fill=\"rgb(0,0,0)\" ></text>\n",
       "<rect vector-effect=\"non-scaling-stroke\" x=\"1169.7680282400404\" y=\"135.0\" width=\"0.2975289964699641\" height=\"15.0\" fill=\"rgb(0,65,0)\" rx=\"2\" ry=\"2\" data-shortinfo=\"cumsum_pairwise! in arraymath.jl:437\" data-info=\"cumsum_pairwise! in arraymath.jl:437\"/>\n",
       "<text text-anchor=\"\" x=\"1173.7680282400404\" y=\"146.5\" font-size=\"12\" font-family=\"Verdana\" fill=\"rgb(0,0,0)\" ></text>\n",
       "<rect vector-effect=\"non-scaling-stroke\" x=\"1169.4704992435704\" y=\"120.0\" width=\"0.2975289964699641\" height=\"15.0\" fill=\"rgb(0,150,114)\" rx=\"2\" ry=\"2\" data-shortinfo=\"cumsum_pairwise! in arraymath.jl:437\" data-info=\"cumsum_pairwise! in arraymath.jl:437\"/>\n",
       "<text text-anchor=\"\" x=\"1173.4704992435704\" y=\"131.5\" font-size=\"12\" font-family=\"Verdana\" fill=\"rgb(0,0,0)\" ></text>\n",
       "<rect vector-effect=\"non-scaling-stroke\" x=\"1169.7680282400404\" y=\"120.0\" width=\"0.2975289964699641\" height=\"15.0\" fill=\"rgb(117,88,255)\" rx=\"2\" ry=\"2\" data-shortinfo=\"cumsum_pairwise! in arraymath.jl:436\" data-info=\"cumsum_pairwise! in arraymath.jl:436\"/>\n",
       "<text text-anchor=\"\" x=\"1173.7680282400404\" y=\"131.5\" font-size=\"12\" font-family=\"Verdana\" fill=\"rgb(0,0,0)\" ></text>\n",
       "<rect vector-effect=\"non-scaling-stroke\" x=\"1169.4704992435704\" y=\"105.0\" width=\"0.2975289964699641\" height=\"15.0\" fill=\"rgb(255,78,199)\" rx=\"2\" ry=\"2\" data-shortinfo=\"cumsum_pairwise! in arraymath.jl:437\" data-info=\"cumsum_pairwise! in arraymath.jl:437\"/>\n",
       "<text text-anchor=\"\" x=\"1173.4704992435704\" y=\"116.5\" font-size=\"12\" font-family=\"Verdana\" fill=\"rgb(0,0,0)\" ></text>\n",
       "<rect vector-effect=\"non-scaling-stroke\" x=\"1169.7680282400404\" y=\"105.0\" width=\"0.2975289964699641\" height=\"15.0\" fill=\"rgb(0,234,255)\" rx=\"2\" ry=\"2\" data-shortinfo=\"cumsum_pairwise! in arraymath.jl:436\" data-info=\"cumsum_pairwise! in arraymath.jl:436\"/>\n",
       "<text text-anchor=\"\" x=\"1173.7680282400404\" y=\"116.5\" font-size=\"12\" font-family=\"Verdana\" fill=\"rgb(0,0,0)\" ></text>\n",
       "<rect vector-effect=\"non-scaling-stroke\" x=\"1169.4704992435704\" y=\"90.0\" width=\"0.2975289964699641\" height=\"15.0\" fill=\"rgb(0,150,114)\" rx=\"2\" ry=\"2\" data-shortinfo=\"cumsum_pairwise! in arraymath.jl:437\" data-info=\"cumsum_pairwise! in arraymath.jl:437\"/>\n",
       "<text text-anchor=\"\" x=\"1173.4704992435704\" y=\"101.5\" font-size=\"12\" font-family=\"Verdana\" fill=\"rgb(0,0,0)\" ></text>\n",
       "<rect vector-effect=\"non-scaling-stroke\" x=\"1169.7680282400404\" y=\"90.0\" width=\"0.2975289964699641\" height=\"15.0\" fill=\"rgb(117,88,255)\" rx=\"2\" ry=\"2\" data-shortinfo=\"cumsum_pairwise! in arraymath.jl:436\" data-info=\"cumsum_pairwise! in arraymath.jl:436\"/>\n",
       "<text text-anchor=\"\" x=\"1173.7680282400404\" y=\"101.5\" font-size=\"12\" font-family=\"Verdana\" fill=\"rgb(0,0,0)\" ></text>\n",
       "<rect vector-effect=\"non-scaling-stroke\" x=\"1169.4704992435704\" y=\"75.0\" width=\"0.5950579929399282\" height=\"15.0\" fill=\"rgb(255,78,199)\" rx=\"2\" ry=\"2\" data-shortinfo=\"cumsum_pairwise! in arraymath.jl:437\" data-info=\"cumsum_pairwise! in arraymath.jl:437\"/>\n",
       "<text text-anchor=\"\" x=\"1173.4704992435704\" y=\"86.5\" font-size=\"12\" font-family=\"Verdana\" fill=\"rgb(0,0,0)\" ></text>\n",
       "<rect vector-effect=\"non-scaling-stroke\" x=\"1169.4704992435704\" y=\"60.0\" width=\"0.2975289964699641\" height=\"15.0\" fill=\"rgb(0,150,114)\" rx=\"2\" ry=\"2\" data-shortinfo=\"cumsum_pairwise! in arraymath.jl:437\" data-info=\"cumsum_pairwise! in arraymath.jl:437\"/>\n",
       "<text text-anchor=\"\" x=\"1173.4704992435704\" y=\"71.5\" font-size=\"12\" font-family=\"Verdana\" fill=\"rgb(0,0,0)\" ></text>\n",
       "<rect vector-effect=\"non-scaling-stroke\" x=\"1169.7680282400404\" y=\"60.0\" width=\"0.2975289964699641\" height=\"15.0\" fill=\"rgb(117,88,255)\" rx=\"2\" ry=\"2\" data-shortinfo=\"cumsum_pairwise! in arraymath.jl:436\" data-info=\"cumsum_pairwise! in arraymath.jl:436\"/>\n",
       "<text text-anchor=\"\" x=\"1173.7680282400404\" y=\"71.5\" font-size=\"12\" font-family=\"Verdana\" fill=\"rgb(0,0,0)\" ></text>\n",
       "<rect vector-effect=\"non-scaling-stroke\" x=\"1169.4704992435704\" y=\"45.0\" width=\"0.2975289964699641\" height=\"15.0\" fill=\"rgb(255,78,199)\" rx=\"2\" ry=\"2\" data-shortinfo=\"cumsum_pairwise! in arraymath.jl:437\" data-info=\"cumsum_pairwise! in arraymath.jl:437\"/>\n",
       "<text text-anchor=\"\" x=\"1173.4704992435704\" y=\"56.5\" font-size=\"12\" font-family=\"Verdana\" fill=\"rgb(0,0,0)\" ></text>\n",
       "<rect vector-effect=\"non-scaling-stroke\" x=\"1169.7680282400404\" y=\"45.0\" width=\"0.2975289964699641\" height=\"15.0\" fill=\"rgb(0,234,255)\" rx=\"2\" ry=\"2\" data-shortinfo=\"cumsum_pairwise! in arraymath.jl:436\" data-info=\"cumsum_pairwise! in arraymath.jl:436\"/>\n",
       "<text text-anchor=\"\" x=\"1173.7680282400404\" y=\"56.5\" font-size=\"12\" font-family=\"Verdana\" fill=\"rgb(0,0,0)\" ></text>\n",
       "<rect vector-effect=\"non-scaling-stroke\" x=\"1169.4704992435704\" y=\"30.0\" width=\"0.5950579929399282\" height=\"15.0\" fill=\"rgb(0,150,114)\" rx=\"2\" ry=\"2\" data-shortinfo=\"cumsum_pairwise! in arraymath.jl:432\" data-info=\"cumsum_pairwise! in arraymath.jl:432\"/>\n",
       "<text text-anchor=\"\" x=\"1173.4704992435704\" y=\"41.5\" font-size=\"12\" font-family=\"Verdana\" fill=\"rgb(0,0,0)\" ></text>\n",
       "    </g></g>\n",
       "    <script><![CDATA[(function(N){var k=/[\\.\\/]/,L=/\\s*,\\s*/,C=function(a,d){return a-d},a,v,y={n:{}},M=function(){for(var a=0,d=this.length;a<d;a++)if(\"undefined\"!=typeof this[a])return this[a]},A=function(){for(var a=this.length;--a;)if(\"undefined\"!=typeof this[a])return this[a]},w=function(k,d){k=String(k);var f=v,n=Array.prototype.slice.call(arguments,2),u=w.listeners(k),p=0,b,q=[],e={},l=[],r=a;l.firstDefined=M;l.lastDefined=A;a=k;for(var s=v=0,x=u.length;s<x;s++)\"zIndex\"in u[s]&&(q.push(u[s].zIndex),0>u[s].zIndex&&\n",
       "(e[u[s].zIndex]=u[s]));for(q.sort(C);0>q[p];)if(b=e[q[p++] ],l.push(b.apply(d,n)),v)return v=f,l;for(s=0;s<x;s++)if(b=u[s],\"zIndex\"in b)if(b.zIndex==q[p]){l.push(b.apply(d,n));if(v)break;do if(p++,(b=e[q[p] ])&&l.push(b.apply(d,n)),v)break;while(b)}else e[b.zIndex]=b;else if(l.push(b.apply(d,n)),v)break;v=f;a=r;return l};w._events=y;w.listeners=function(a){a=a.split(k);var d=y,f,n,u,p,b,q,e,l=[d],r=[];u=0;for(p=a.length;u<p;u++){e=[];b=0;for(q=l.length;b<q;b++)for(d=l[b].n,f=[d[a[u] ],d[\"*\"] ],n=2;n--;)if(d=\n",
       "f[n])e.push(d),r=r.concat(d.f||[]);l=e}return r};w.on=function(a,d){a=String(a);if(\"function\"!=typeof d)return function(){};for(var f=a.split(L),n=0,u=f.length;n<u;n++)(function(a){a=a.split(k);for(var b=y,f,e=0,l=a.length;e<l;e++)b=b.n,b=b.hasOwnProperty(a[e])&&b[a[e] ]||(b[a[e] ]={n:{}});b.f=b.f||[];e=0;for(l=b.f.length;e<l;e++)if(b.f[e]==d){f=!0;break}!f&&b.f.push(d)})(f[n]);return function(a){+a==+a&&(d.zIndex=+a)}};w.f=function(a){var d=[].slice.call(arguments,1);return function(){w.apply(null,\n",
       "[a,null].concat(d).concat([].slice.call(arguments,0)))}};w.stop=function(){v=1};w.nt=function(k){return k?(new RegExp(\"(?:\\\\.|\\\\/|^)\"+k+\"(?:\\\\.|\\\\/|$)\")).test(a):a};w.nts=function(){return a.split(k)};w.off=w.unbind=function(a,d){if(a){var f=a.split(L);if(1<f.length)for(var n=0,u=f.length;n<u;n++)w.off(f[n],d);else{for(var f=a.split(k),p,b,q,e,l=[y],n=0,u=f.length;n<u;n++)for(e=0;e<l.length;e+=q.length-2){q=[e,1];p=l[e].n;if(\"*\"!=f[n])p[f[n] ]&&q.push(p[f[n] ]);else for(b in p)p.hasOwnProperty(b)&&\n",
       "q.push(p[b]);l.splice.apply(l,q)}n=0;for(u=l.length;n<u;n++)for(p=l[n];p.n;){if(d){if(p.f){e=0;for(f=p.f.length;e<f;e++)if(p.f[e]==d){p.f.splice(e,1);break}!p.f.length&&delete p.f}for(b in p.n)if(p.n.hasOwnProperty(b)&&p.n[b].f){q=p.n[b].f;e=0;for(f=q.length;e<f;e++)if(q[e]==d){q.splice(e,1);break}!q.length&&delete p.n[b].f}}else for(b in delete p.f,p.n)p.n.hasOwnProperty(b)&&p.n[b].f&&delete p.n[b].f;p=p.n}}}else w._events=y={n:{}}};w.once=function(a,d){var f=function(){w.unbind(a,f);return d.apply(this,\n",
       "arguments)};return w.on(a,f)};w.version=\"0.4.2\";w.toString=function(){return\"You are running Eve 0.4.2\"};\"undefined\"!=typeof module&&module.exports?module.exports=w:\"function\"===typeof define&&define.amd?define(\"eve\",[],function(){return w}):N.eve=w})(this);\n",
       "(function(N,k){\"function\"===typeof define&&define.amd?define(\"Snap.svg\",[\"eve\"],function(L){return k(N,L)}):k(N,N.eve)})(this,function(N,k){var L=function(a){var k={},y=N.requestAnimationFrame||N.webkitRequestAnimationFrame||N.mozRequestAnimationFrame||N.oRequestAnimationFrame||N.msRequestAnimationFrame||function(a){setTimeout(a,16)},M=Array.isArray||function(a){return a instanceof Array||\"[object Array]\"==Object.prototype.toString.call(a)},A=0,w=\"M\"+(+new Date).toString(36),z=function(a){if(null==\n",
       "a)return this.s;var b=this.s-a;this.b+=this.dur*b;this.B+=this.dur*b;this.s=a},d=function(a){if(null==a)return this.spd;this.spd=a},f=function(a){if(null==a)return this.dur;this.s=this.s*a/this.dur;this.dur=a},n=function(){delete k[this.id];this.update();a(\"mina.stop.\"+this.id,this)},u=function(){this.pdif||(delete k[this.id],this.update(),this.pdif=this.get()-this.b)},p=function(){this.pdif&&(this.b=this.get()-this.pdif,delete this.pdif,k[this.id]=this)},b=function(){var a;if(M(this.start)){a=[];\n",
       "for(var b=0,e=this.start.length;b<e;b++)a[b]=+this.start[b]+(this.end[b]-this.start[b])*this.easing(this.s)}else a=+this.start+(this.end-this.start)*this.easing(this.s);this.set(a)},q=function(){var l=0,b;for(b in k)if(k.hasOwnProperty(b)){var e=k[b],f=e.get();l++;e.s=(f-e.b)/(e.dur/e.spd);1<=e.s&&(delete k[b],e.s=1,l--,function(b){setTimeout(function(){a(\"mina.finish.\"+b.id,b)})}(e));e.update()}l&&y(q)},e=function(a,r,s,x,G,h,J){a={id:w+(A++).toString(36),start:a,end:r,b:s,s:0,dur:x-s,spd:1,get:G,\n",
       "set:h,easing:J||e.linear,status:z,speed:d,duration:f,stop:n,pause:u,resume:p,update:b};k[a.id]=a;r=0;for(var K in k)if(k.hasOwnProperty(K)&&(r++,2==r))break;1==r&&y(q);return a};e.time=Date.now||function(){return+new Date};e.getById=function(a){return k[a]||null};e.linear=function(a){return a};e.easeout=function(a){return Math.pow(a,1.7)};e.easein=function(a){return Math.pow(a,0.48)};e.easeinout=function(a){if(1==a)return 1;if(0==a)return 0;var b=0.48-a/1.04,e=Math.sqrt(0.1734+b*b);a=e-b;a=Math.pow(Math.abs(a),\n",
       "1/3)*(0>a?-1:1);b=-e-b;b=Math.pow(Math.abs(b),1/3)*(0>b?-1:1);a=a+b+0.5;return 3*(1-a)*a*a+a*a*a};e.backin=function(a){return 1==a?1:a*a*(2.70158*a-1.70158)};e.backout=function(a){if(0==a)return 0;a-=1;return a*a*(2.70158*a+1.70158)+1};e.elastic=function(a){return a==!!a?a:Math.pow(2,-10*a)*Math.sin(2*(a-0.075)*Math.PI/0.3)+1};e.bounce=function(a){a<1/2.75?a*=7.5625*a:a<2/2.75?(a-=1.5/2.75,a=7.5625*a*a+0.75):a<2.5/2.75?(a-=2.25/2.75,a=7.5625*a*a+0.9375):(a-=2.625/2.75,a=7.5625*a*a+0.984375);return a};\n",
       "return N.mina=e}(\"undefined\"==typeof k?function(){}:k),C=function(){function a(c,t){if(c){if(c.tagName)return x(c);if(y(c,\"array\")&&a.set)return a.set.apply(a,c);if(c instanceof e)return c;if(null==t)return c=G.doc.querySelector(c),x(c)}return new s(null==c?\"100%\":c,null==t?\"100%\":t)}function v(c,a){if(a){\"#text\"==c&&(c=G.doc.createTextNode(a.text||\"\"));\"string\"==typeof c&&(c=v(c));if(\"string\"==typeof a)return\"xlink:\"==a.substring(0,6)?c.getAttributeNS(m,a.substring(6)):\"xml:\"==a.substring(0,4)?c.getAttributeNS(la,\n",
       "a.substring(4)):c.getAttribute(a);for(var da in a)if(a[h](da)){var b=J(a[da]);b?\"xlink:\"==da.substring(0,6)?c.setAttributeNS(m,da.substring(6),b):\"xml:\"==da.substring(0,4)?c.setAttributeNS(la,da.substring(4),b):c.setAttribute(da,b):c.removeAttribute(da)}}else c=G.doc.createElementNS(la,c);return c}function y(c,a){a=J.prototype.toLowerCase.call(a);return\"finite\"==a?isFinite(c):\"array\"==a&&(c instanceof Array||Array.isArray&&Array.isArray(c))?!0:\"null\"==a&&null===c||a==typeof c&&null!==c||\"object\"==\n",
       "a&&c===Object(c)||$.call(c).slice(8,-1).toLowerCase()==a}function M(c){if(\"function\"==typeof c||Object(c)!==c)return c;var a=new c.constructor,b;for(b in c)c[h](b)&&(a[b]=M(c[b]));return a}function A(c,a,b){function m(){var e=Array.prototype.slice.call(arguments,0),f=e.join(\"\\u2400\"),d=m.cache=m.cache||{},l=m.count=m.count||[];if(d[h](f)){a:for(var e=l,l=f,B=0,H=e.length;B<H;B++)if(e[B]===l){e.push(e.splice(B,1)[0]);break a}return b?b(d[f]):d[f]}1E3<=l.length&&delete d[l.shift()];l.push(f);d[f]=c.apply(a,\n",
       "e);return b?b(d[f]):d[f]}return m}function w(c,a,b,m,e,f){return null==e?(c-=b,a-=m,c||a?(180*I.atan2(-a,-c)/C+540)%360:0):w(c,a,e,f)-w(b,m,e,f)}function z(c){return c%360*C/180}function d(c){var a=[];c=c.replace(/(?:^|\\s)(\\w+)\\(([^)]+)\\)/g,function(c,b,m){m=m.split(/\\s*,\\s*|\\s+/);\"rotate\"==b&&1==m.length&&m.push(0,0);\"scale\"==b&&(2<m.length?m=m.slice(0,2):2==m.length&&m.push(0,0),1==m.length&&m.push(m[0],0,0));\"skewX\"==b?a.push([\"m\",1,0,I.tan(z(m[0])),1,0,0]):\"skewY\"==b?a.push([\"m\",1,I.tan(z(m[0])),\n",
       "0,1,0,0]):a.push([b.charAt(0)].concat(m));return c});return a}function f(c,t){var b=O(c),m=new a.Matrix;if(b)for(var e=0,f=b.length;e<f;e++){var h=b[e],d=h.length,B=J(h[0]).toLowerCase(),H=h[0]!=B,l=H?m.invert():0,E;\"t\"==B&&2==d?m.translate(h[1],0):\"t\"==B&&3==d?H?(d=l.x(0,0),B=l.y(0,0),H=l.x(h[1],h[2]),l=l.y(h[1],h[2]),m.translate(H-d,l-B)):m.translate(h[1],h[2]):\"r\"==B?2==d?(E=E||t,m.rotate(h[1],E.x+E.width/2,E.y+E.height/2)):4==d&&(H?(H=l.x(h[2],h[3]),l=l.y(h[2],h[3]),m.rotate(h[1],H,l)):m.rotate(h[1],\n",
       "h[2],h[3])):\"s\"==B?2==d||3==d?(E=E||t,m.scale(h[1],h[d-1],E.x+E.width/2,E.y+E.height/2)):4==d?H?(H=l.x(h[2],h[3]),l=l.y(h[2],h[3]),m.scale(h[1],h[1],H,l)):m.scale(h[1],h[1],h[2],h[3]):5==d&&(H?(H=l.x(h[3],h[4]),l=l.y(h[3],h[4]),m.scale(h[1],h[2],H,l)):m.scale(h[1],h[2],h[3],h[4])):\"m\"==B&&7==d&&m.add(h[1],h[2],h[3],h[4],h[5],h[6])}return m}function n(c,t){if(null==t){var m=!0;t=\"linearGradient\"==c.type||\"radialGradient\"==c.type?c.node.getAttribute(\"gradientTransform\"):\"pattern\"==c.type?c.node.getAttribute(\"patternTransform\"):\n",
       "c.node.getAttribute(\"transform\");if(!t)return new a.Matrix;t=d(t)}else t=a._.rgTransform.test(t)?J(t).replace(/\\.{3}|\\u2026/g,c._.transform||aa):d(t),y(t,\"array\")&&(t=a.path?a.path.toString.call(t):J(t)),c._.transform=t;var b=f(t,c.getBBox(1));if(m)return b;c.matrix=b}function u(c){c=c.node.ownerSVGElement&&x(c.node.ownerSVGElement)||c.node.parentNode&&x(c.node.parentNode)||a.select(\"svg\")||a(0,0);var t=c.select(\"defs\"),t=null==t?!1:t.node;t||(t=r(\"defs\",c.node).node);return t}function p(c){return c.node.ownerSVGElement&&\n",
       "x(c.node.ownerSVGElement)||a.select(\"svg\")}function b(c,a,m){function b(c){if(null==c)return aa;if(c==+c)return c;v(B,{width:c});try{return B.getBBox().width}catch(a){return 0}}function h(c){if(null==c)return aa;if(c==+c)return c;v(B,{height:c});try{return B.getBBox().height}catch(a){return 0}}function e(b,B){null==a?d[b]=B(c.attr(b)||0):b==a&&(d=B(null==m?c.attr(b)||0:m))}var f=p(c).node,d={},B=f.querySelector(\".svg---mgr\");B||(B=v(\"rect\"),v(B,{x:-9E9,y:-9E9,width:10,height:10,\"class\":\"svg---mgr\",\n",
       "fill:\"none\"}),f.appendChild(B));switch(c.type){case \"rect\":e(\"rx\",b),e(\"ry\",h);case \"image\":e(\"width\",b),e(\"height\",h);case \"text\":e(\"x\",b);e(\"y\",h);break;case \"circle\":e(\"cx\",b);e(\"cy\",h);e(\"r\",b);break;case \"ellipse\":e(\"cx\",b);e(\"cy\",h);e(\"rx\",b);e(\"ry\",h);break;case \"line\":e(\"x1\",b);e(\"x2\",b);e(\"y1\",h);e(\"y2\",h);break;case \"marker\":e(\"refX\",b);e(\"markerWidth\",b);e(\"refY\",h);e(\"markerHeight\",h);break;case \"radialGradient\":e(\"fx\",b);e(\"fy\",h);break;case \"tspan\":e(\"dx\",b);e(\"dy\",h);break;default:e(a,\n",
       "b)}f.removeChild(B);return d}function q(c){y(c,\"array\")||(c=Array.prototype.slice.call(arguments,0));for(var a=0,b=0,m=this.node;this[a];)delete this[a++];for(a=0;a<c.length;a++)\"set\"==c[a].type?c[a].forEach(function(c){m.appendChild(c.node)}):m.appendChild(c[a].node);for(var h=m.childNodes,a=0;a<h.length;a++)this[b++]=x(h[a]);return this}function e(c){if(c.snap in E)return E[c.snap];var a=this.id=V(),b;try{b=c.ownerSVGElement}catch(m){}this.node=c;b&&(this.paper=new s(b));this.type=c.tagName;this.anims=\n",
       "{};this._={transform:[]};c.snap=a;E[a]=this;\"g\"==this.type&&(this.add=q);if(this.type in{g:1,mask:1,pattern:1})for(var e in s.prototype)s.prototype[h](e)&&(this[e]=s.prototype[e])}function l(c){this.node=c}function r(c,a){var b=v(c);a.appendChild(b);return x(b)}function s(c,a){var b,m,f,d=s.prototype;if(c&&\"svg\"==c.tagName){if(c.snap in E)return E[c.snap];var l=c.ownerDocument;b=new e(c);m=c.getElementsByTagName(\"desc\")[0];f=c.getElementsByTagName(\"defs\")[0];m||(m=v(\"desc\"),m.appendChild(l.createTextNode(\"Created with Snap\")),\n",
       "b.node.appendChild(m));f||(f=v(\"defs\"),b.node.appendChild(f));b.defs=f;for(var ca in d)d[h](ca)&&(b[ca]=d[ca]);b.paper=b.root=b}else b=r(\"svg\",G.doc.body),v(b.node,{height:a,version:1.1,width:c,xmlns:la});return b}function x(c){return!c||c instanceof e||c instanceof l?c:c.tagName&&\"svg\"==c.tagName.toLowerCase()?new s(c):c.tagName&&\"object\"==c.tagName.toLowerCase()&&\"image/svg+xml\"==c.type?new s(c.contentDocument.getElementsByTagName(\"svg\")[0]):new e(c)}a.version=\"0.3.0\";a.toString=function(){return\"Snap v\"+\n",
       "this.version};a._={};var G={win:N,doc:N.document};a._.glob=G;var h=\"hasOwnProperty\",J=String,K=parseFloat,U=parseInt,I=Math,P=I.max,Q=I.min,Y=I.abs,C=I.PI,aa=\"\",$=Object.prototype.toString,F=/^\\s*((#[a-f\\d]{6})|(#[a-f\\d]{3})|rgba?\\(\\s*([\\d\\.]+%?\\s*,\\s*[\\d\\.]+%?\\s*,\\s*[\\d\\.]+%?(?:\\s*,\\s*[\\d\\.]+%?)?)\\s*\\)|hsba?\\(\\s*([\\d\\.]+(?:deg|\\xb0|%)?\\s*,\\s*[\\d\\.]+%?\\s*,\\s*[\\d\\.]+(?:%?\\s*,\\s*[\\d\\.]+)?%?)\\s*\\)|hsla?\\(\\s*([\\d\\.]+(?:deg|\\xb0|%)?\\s*,\\s*[\\d\\.]+%?\\s*,\\s*[\\d\\.]+(?:%?\\s*,\\s*[\\d\\.]+)?%?)\\s*\\))\\s*$/i;a._.separator=\n",
       "RegExp(\"[,\\t\\n\\x0B\\f\\r \\u00a0\\u1680\\u180e\\u2000\\u2001\\u2002\\u2003\\u2004\\u2005\\u2006\\u2007\\u2008\\u2009\\u200a\\u202f\\u205f\\u3000\\u2028\\u2029]+\");var S=RegExp(\"[\\t\\n\\x0B\\f\\r \\u00a0\\u1680\\u180e\\u2000\\u2001\\u2002\\u2003\\u2004\\u2005\\u2006\\u2007\\u2008\\u2009\\u200a\\u202f\\u205f\\u3000\\u2028\\u2029]*,[\\t\\n\\x0B\\f\\r \\u00a0\\u1680\\u180e\\u2000\\u2001\\u2002\\u2003\\u2004\\u2005\\u2006\\u2007\\u2008\\u2009\\u200a\\u202f\\u205f\\u3000\\u2028\\u2029]*\"),X={hs:1,rg:1},W=RegExp(\"([a-z])[\\t\\n\\x0B\\f\\r \\u00a0\\u1680\\u180e\\u2000\\u2001\\u2002\\u2003\\u2004\\u2005\\u2006\\u2007\\u2008\\u2009\\u200a\\u202f\\u205f\\u3000\\u2028\\u2029,]*((-?\\\\d*\\\\.?\\\\d*(?:e[\\\\-+]?\\\\d+)?[\\t\\n\\x0B\\f\\r \\u00a0\\u1680\\u180e\\u2000\\u2001\\u2002\\u2003\\u2004\\u2005\\u2006\\u2007\\u2008\\u2009\\u200a\\u202f\\u205f\\u3000\\u2028\\u2029]*,?[\\t\\n\\x0B\\f\\r \\u00a0\\u1680\\u180e\\u2000\\u2001\\u2002\\u2003\\u2004\\u2005\\u2006\\u2007\\u2008\\u2009\\u200a\\u202f\\u205f\\u3000\\u2028\\u2029]*)+)\",\n",
       "\"ig\"),ma=RegExp(\"([rstm])[\\t\\n\\x0B\\f\\r \\u00a0\\u1680\\u180e\\u2000\\u2001\\u2002\\u2003\\u2004\\u2005\\u2006\\u2007\\u2008\\u2009\\u200a\\u202f\\u205f\\u3000\\u2028\\u2029,]*((-?\\\\d*\\\\.?\\\\d*(?:e[\\\\-+]?\\\\d+)?[\\t\\n\\x0B\\f\\r \\u00a0\\u1680\\u180e\\u2000\\u2001\\u2002\\u2003\\u2004\\u2005\\u2006\\u2007\\u2008\\u2009\\u200a\\u202f\\u205f\\u3000\\u2028\\u2029]*,?[\\t\\n\\x0B\\f\\r \\u00a0\\u1680\\u180e\\u2000\\u2001\\u2002\\u2003\\u2004\\u2005\\u2006\\u2007\\u2008\\u2009\\u200a\\u202f\\u205f\\u3000\\u2028\\u2029]*)+)\",\"ig\"),Z=RegExp(\"(-?\\\\d*\\\\.?\\\\d*(?:e[\\\\-+]?\\\\d+)?)[\\t\\n\\x0B\\f\\r \\u00a0\\u1680\\u180e\\u2000\\u2001\\u2002\\u2003\\u2004\\u2005\\u2006\\u2007\\u2008\\u2009\\u200a\\u202f\\u205f\\u3000\\u2028\\u2029]*,?[\\t\\n\\x0B\\f\\r \\u00a0\\u1680\\u180e\\u2000\\u2001\\u2002\\u2003\\u2004\\u2005\\u2006\\u2007\\u2008\\u2009\\u200a\\u202f\\u205f\\u3000\\u2028\\u2029]*\",\n",
       "\"ig\"),na=0,ba=\"S\"+(+new Date).toString(36),V=function(){return ba+(na++).toString(36)},m=\"http://www.w3.org/1999/xlink\",la=\"http://www.w3.org/2000/svg\",E={},ca=a.url=function(c){return\"url('#\"+c+\"')\"};a._.$=v;a._.id=V;a.format=function(){var c=/\\{([^\\}]+)\\}/g,a=/(?:(?:^|\\.)(.+?)(?=\\[|\\.|$|\\()|\\[('|\")(.+?)\\2\\])(\\(\\))?/g,b=function(c,b,m){var h=m;b.replace(a,function(c,a,b,m,t){a=a||m;h&&(a in h&&(h=h[a]),\"function\"==typeof h&&t&&(h=h()))});return h=(null==h||h==m?c:h)+\"\"};return function(a,m){return J(a).replace(c,\n",
       "function(c,a){return b(c,a,m)})}}();a._.clone=M;a._.cacher=A;a.rad=z;a.deg=function(c){return 180*c/C%360};a.angle=w;a.is=y;a.snapTo=function(c,a,b){b=y(b,\"finite\")?b:10;if(y(c,\"array\"))for(var m=c.length;m--;){if(Y(c[m]-a)<=b)return c[m]}else{c=+c;m=a%c;if(m<b)return a-m;if(m>c-b)return a-m+c}return a};a.getRGB=A(function(c){if(!c||(c=J(c)).indexOf(\"-\")+1)return{r:-1,g:-1,b:-1,hex:\"none\",error:1,toString:ka};if(\"none\"==c)return{r:-1,g:-1,b:-1,hex:\"none\",toString:ka};!X[h](c.toLowerCase().substring(0,\n",
       "2))&&\"#\"!=c.charAt()&&(c=T(c));if(!c)return{r:-1,g:-1,b:-1,hex:\"none\",error:1,toString:ka};var b,m,e,f,d;if(c=c.match(F)){c[2]&&(e=U(c[2].substring(5),16),m=U(c[2].substring(3,5),16),b=U(c[2].substring(1,3),16));c[3]&&(e=U((d=c[3].charAt(3))+d,16),m=U((d=c[3].charAt(2))+d,16),b=U((d=c[3].charAt(1))+d,16));c[4]&&(d=c[4].split(S),b=K(d[0]),\"%\"==d[0].slice(-1)&&(b*=2.55),m=K(d[1]),\"%\"==d[1].slice(-1)&&(m*=2.55),e=K(d[2]),\"%\"==d[2].slice(-1)&&(e*=2.55),\"rgba\"==c[1].toLowerCase().slice(0,4)&&(f=K(d[3])),\n",
       "d[3]&&\"%\"==d[3].slice(-1)&&(f/=100));if(c[5])return d=c[5].split(S),b=K(d[0]),\"%\"==d[0].slice(-1)&&(b/=100),m=K(d[1]),\"%\"==d[1].slice(-1)&&(m/=100),e=K(d[2]),\"%\"==d[2].slice(-1)&&(e/=100),\"deg\"!=d[0].slice(-3)&&\"\\u00b0\"!=d[0].slice(-1)||(b/=360),\"hsba\"==c[1].toLowerCase().slice(0,4)&&(f=K(d[3])),d[3]&&\"%\"==d[3].slice(-1)&&(f/=100),a.hsb2rgb(b,m,e,f);if(c[6])return d=c[6].split(S),b=K(d[0]),\"%\"==d[0].slice(-1)&&(b/=100),m=K(d[1]),\"%\"==d[1].slice(-1)&&(m/=100),e=K(d[2]),\"%\"==d[2].slice(-1)&&(e/=100),\n",
       "\"deg\"!=d[0].slice(-3)&&\"\\u00b0\"!=d[0].slice(-1)||(b/=360),\"hsla\"==c[1].toLowerCase().slice(0,4)&&(f=K(d[3])),d[3]&&\"%\"==d[3].slice(-1)&&(f/=100),a.hsl2rgb(b,m,e,f);b=Q(I.round(b),255);m=Q(I.round(m),255);e=Q(I.round(e),255);f=Q(P(f,0),1);c={r:b,g:m,b:e,toString:ka};c.hex=\"#\"+(16777216|e|m<<8|b<<16).toString(16).slice(1);c.opacity=y(f,\"finite\")?f:1;return c}return{r:-1,g:-1,b:-1,hex:\"none\",error:1,toString:ka}},a);a.hsb=A(function(c,b,m){return a.hsb2rgb(c,b,m).hex});a.hsl=A(function(c,b,m){return a.hsl2rgb(c,\n",
       "b,m).hex});a.rgb=A(function(c,a,b,m){if(y(m,\"finite\")){var e=I.round;return\"rgba(\"+[e(c),e(a),e(b),+m.toFixed(2)]+\")\"}return\"#\"+(16777216|b|a<<8|c<<16).toString(16).slice(1)});var T=function(c){var a=G.doc.getElementsByTagName(\"head\")[0]||G.doc.getElementsByTagName(\"svg\")[0];T=A(function(c){if(\"red\"==c.toLowerCase())return\"rgb(255, 0, 0)\";a.style.color=\"rgb(255, 0, 0)\";a.style.color=c;c=G.doc.defaultView.getComputedStyle(a,aa).getPropertyValue(\"color\");return\"rgb(255, 0, 0)\"==c?null:c});return T(c)},\n",
       "qa=function(){return\"hsb(\"+[this.h,this.s,this.b]+\")\"},ra=function(){return\"hsl(\"+[this.h,this.s,this.l]+\")\"},ka=function(){return 1==this.opacity||null==this.opacity?this.hex:\"rgba(\"+[this.r,this.g,this.b,this.opacity]+\")\"},D=function(c,b,m){null==b&&y(c,\"object\")&&\"r\"in c&&\"g\"in c&&\"b\"in c&&(m=c.b,b=c.g,c=c.r);null==b&&y(c,string)&&(m=a.getRGB(c),c=m.r,b=m.g,m=m.b);if(1<c||1<b||1<m)c/=255,b/=255,m/=255;return[c,b,m]},oa=function(c,b,m,e){c=I.round(255*c);b=I.round(255*b);m=I.round(255*m);c={r:c,\n",
       "g:b,b:m,opacity:y(e,\"finite\")?e:1,hex:a.rgb(c,b,m),toString:ka};y(e,\"finite\")&&(c.opacity=e);return c};a.color=function(c){var b;y(c,\"object\")&&\"h\"in c&&\"s\"in c&&\"b\"in c?(b=a.hsb2rgb(c),c.r=b.r,c.g=b.g,c.b=b.b,c.opacity=1,c.hex=b.hex):y(c,\"object\")&&\"h\"in c&&\"s\"in c&&\"l\"in c?(b=a.hsl2rgb(c),c.r=b.r,c.g=b.g,c.b=b.b,c.opacity=1,c.hex=b.hex):(y(c,\"string\")&&(c=a.getRGB(c)),y(c,\"object\")&&\"r\"in c&&\"g\"in c&&\"b\"in c&&!(\"error\"in c)?(b=a.rgb2hsl(c),c.h=b.h,c.s=b.s,c.l=b.l,b=a.rgb2hsb(c),c.v=b.b):(c={hex:\"none\"},\n",
       "c.r=c.g=c.b=c.h=c.s=c.v=c.l=-1,c.error=1));c.toString=ka;return c};a.hsb2rgb=function(c,a,b,m){y(c,\"object\")&&\"h\"in c&&\"s\"in c&&\"b\"in c&&(b=c.b,a=c.s,c=c.h,m=c.o);var e,h,d;c=360*c%360/60;d=b*a;a=d*(1-Y(c%2-1));b=e=h=b-d;c=~~c;b+=[d,a,0,0,a,d][c];e+=[a,d,d,a,0,0][c];h+=[0,0,a,d,d,a][c];return oa(b,e,h,m)};a.hsl2rgb=function(c,a,b,m){y(c,\"object\")&&\"h\"in c&&\"s\"in c&&\"l\"in c&&(b=c.l,a=c.s,c=c.h);if(1<c||1<a||1<b)c/=360,a/=100,b/=100;var e,h,d;c=360*c%360/60;d=2*a*(0.5>b?b:1-b);a=d*(1-Y(c%2-1));b=e=\n",
       "h=b-d/2;c=~~c;b+=[d,a,0,0,a,d][c];e+=[a,d,d,a,0,0][c];h+=[0,0,a,d,d,a][c];return oa(b,e,h,m)};a.rgb2hsb=function(c,a,b){b=D(c,a,b);c=b[0];a=b[1];b=b[2];var m,e;m=P(c,a,b);e=m-Q(c,a,b);c=((0==e?0:m==c?(a-b)/e:m==a?(b-c)/e+2:(c-a)/e+4)+360)%6*60/360;return{h:c,s:0==e?0:e/m,b:m,toString:qa}};a.rgb2hsl=function(c,a,b){b=D(c,a,b);c=b[0];a=b[1];b=b[2];var m,e,h;m=P(c,a,b);e=Q(c,a,b);h=m-e;c=((0==h?0:m==c?(a-b)/h:m==a?(b-c)/h+2:(c-a)/h+4)+360)%6*60/360;m=(m+e)/2;return{h:c,s:0==h?0:0.5>m?h/(2*m):h/(2-2*\n",
       "m),l:m,toString:ra}};a.parsePathString=function(c){if(!c)return null;var b=a.path(c);if(b.arr)return a.path.clone(b.arr);var m={a:7,c:6,o:2,h:1,l:2,m:2,r:4,q:4,s:4,t:2,v:1,u:3,z:0},e=[];y(c,\"array\")&&y(c[0],\"array\")&&(e=a.path.clone(c));e.length||J(c).replace(W,function(c,a,b){var h=[];c=a.toLowerCase();b.replace(Z,function(c,a){a&&h.push(+a)});\"m\"==c&&2<h.length&&(e.push([a].concat(h.splice(0,2))),c=\"l\",a=\"m\"==a?\"l\":\"L\");\"o\"==c&&1==h.length&&e.push([a,h[0] ]);if(\"r\"==c)e.push([a].concat(h));else for(;h.length>=\n",
       "m[c]&&(e.push([a].concat(h.splice(0,m[c]))),m[c]););});e.toString=a.path.toString;b.arr=a.path.clone(e);return e};var O=a.parseTransformString=function(c){if(!c)return null;var b=[];y(c,\"array\")&&y(c[0],\"array\")&&(b=a.path.clone(c));b.length||J(c).replace(ma,function(c,a,m){var e=[];a.toLowerCase();m.replace(Z,function(c,a){a&&e.push(+a)});b.push([a].concat(e))});b.toString=a.path.toString;return b};a._.svgTransform2string=d;a._.rgTransform=RegExp(\"^[a-z][\\t\\n\\x0B\\f\\r \\u00a0\\u1680\\u180e\\u2000\\u2001\\u2002\\u2003\\u2004\\u2005\\u2006\\u2007\\u2008\\u2009\\u200a\\u202f\\u205f\\u3000\\u2028\\u2029]*-?\\\\.?\\\\d\",\n",
       "\"i\");a._.transform2matrix=f;a._unit2px=b;a._.getSomeDefs=u;a._.getSomeSVG=p;a.select=function(c){return x(G.doc.querySelector(c))};a.selectAll=function(c){c=G.doc.querySelectorAll(c);for(var b=(a.set||Array)(),m=0;m<c.length;m++)b.push(x(c[m]));return b};setInterval(function(){for(var c in E)if(E[h](c)){var a=E[c],b=a.node;(\"svg\"!=a.type&&!b.ownerSVGElement||\"svg\"==a.type&&(!b.parentNode||\"ownerSVGElement\"in b.parentNode&&!b.ownerSVGElement))&&delete E[c]}},1E4);(function(c){function m(c){function a(c,\n",
       "b){var m=v(c.node,b);(m=(m=m&&m.match(d))&&m[2])&&\"#\"==m.charAt()&&(m=m.substring(1))&&(f[m]=(f[m]||[]).concat(function(a){var m={};m[b]=ca(a);v(c.node,m)}))}function b(c){var a=v(c.node,\"xlink:href\");a&&\"#\"==a.charAt()&&(a=a.substring(1))&&(f[a]=(f[a]||[]).concat(function(a){c.attr(\"xlink:href\",\"#\"+a)}))}var e=c.selectAll(\"*\"),h,d=/^\\s*url\\((\"|'|)(.*)\\1\\)\\s*$/;c=[];for(var f={},l=0,E=e.length;l<E;l++){h=e[l];a(h,\"fill\");a(h,\"stroke\");a(h,\"filter\");a(h,\"mask\");a(h,\"clip-path\");b(h);var t=v(h.node,\n",
       "\"id\");t&&(v(h.node,{id:h.id}),c.push({old:t,id:h.id}))}l=0;for(E=c.length;l<E;l++)if(e=f[c[l].old])for(h=0,t=e.length;h<t;h++)e[h](c[l].id)}function e(c,a,b){return function(m){m=m.slice(c,a);1==m.length&&(m=m[0]);return b?b(m):m}}function d(c){return function(){var a=c?\"<\"+this.type:\"\",b=this.node.attributes,m=this.node.childNodes;if(c)for(var e=0,h=b.length;e<h;e++)a+=\" \"+b[e].name+'=\"'+b[e].value.replace(/\"/g,'\\\\\"')+'\"';if(m.length){c&&(a+=\">\");e=0;for(h=m.length;e<h;e++)3==m[e].nodeType?a+=m[e].nodeValue:\n",
       "1==m[e].nodeType&&(a+=x(m[e]).toString());c&&(a+=\"</\"+this.type+\">\")}else c&&(a+=\"/>\");return a}}c.attr=function(c,a){if(!c)return this;if(y(c,\"string\"))if(1<arguments.length){var b={};b[c]=a;c=b}else return k(\"snap.util.getattr.\"+c,this).firstDefined();for(var m in c)c[h](m)&&k(\"snap.util.attr.\"+m,this,c[m]);return this};c.getBBox=function(c){if(!a.Matrix||!a.path)return this.node.getBBox();var b=this,m=new a.Matrix;if(b.removed)return a._.box();for(;\"use\"==b.type;)if(c||(m=m.add(b.transform().localMatrix.translate(b.attr(\"x\")||\n",
       "0,b.attr(\"y\")||0))),b.original)b=b.original;else var e=b.attr(\"xlink:href\"),b=b.original=b.node.ownerDocument.getElementById(e.substring(e.indexOf(\"#\")+1));var e=b._,h=a.path.get[b.type]||a.path.get.deflt;try{if(c)return e.bboxwt=h?a.path.getBBox(b.realPath=h(b)):a._.box(b.node.getBBox()),a._.box(e.bboxwt);b.realPath=h(b);b.matrix=b.transform().localMatrix;e.bbox=a.path.getBBox(a.path.map(b.realPath,m.add(b.matrix)));return a._.box(e.bbox)}catch(d){return a._.box()}};var f=function(){return this.string};\n",
       "c.transform=function(c){var b=this._;if(null==c){var m=this;c=new a.Matrix(this.node.getCTM());for(var e=n(this),h=[e],d=new a.Matrix,l=e.toTransformString(),b=J(e)==J(this.matrix)?J(b.transform):l;\"svg\"!=m.type&&(m=m.parent());)h.push(n(m));for(m=h.length;m--;)d.add(h[m]);return{string:b,globalMatrix:c,totalMatrix:d,localMatrix:e,diffMatrix:c.clone().add(e.invert()),global:c.toTransformString(),total:d.toTransformString(),local:l,toString:f}}c instanceof a.Matrix?this.matrix=c:n(this,c);this.node&&\n",
       "(\"linearGradient\"==this.type||\"radialGradient\"==this.type?v(this.node,{gradientTransform:this.matrix}):\"pattern\"==this.type?v(this.node,{patternTransform:this.matrix}):v(this.node,{transform:this.matrix}));return this};c.parent=function(){return x(this.node.parentNode)};c.append=c.add=function(c){if(c){if(\"set\"==c.type){var a=this;c.forEach(function(c){a.add(c)});return this}c=x(c);this.node.appendChild(c.node);c.paper=this.paper}return this};c.appendTo=function(c){c&&(c=x(c),c.append(this));return this};\n",
       "c.prepend=function(c){if(c){if(\"set\"==c.type){var a=this,b;c.forEach(function(c){b?b.after(c):a.prepend(c);b=c});return this}c=x(c);var m=c.parent();this.node.insertBefore(c.node,this.node.firstChild);this.add&&this.add();c.paper=this.paper;this.parent()&&this.parent().add();m&&m.add()}return this};c.prependTo=function(c){c=x(c);c.prepend(this);return this};c.before=function(c){if(\"set\"==c.type){var a=this;c.forEach(function(c){var b=c.parent();a.node.parentNode.insertBefore(c.node,a.node);b&&b.add()});\n",
       "this.parent().add();return this}c=x(c);var b=c.parent();this.node.parentNode.insertBefore(c.node,this.node);this.parent()&&this.parent().add();b&&b.add();c.paper=this.paper;return this};c.after=function(c){c=x(c);var a=c.parent();this.node.nextSibling?this.node.parentNode.insertBefore(c.node,this.node.nextSibling):this.node.parentNode.appendChild(c.node);this.parent()&&this.parent().add();a&&a.add();c.paper=this.paper;return this};c.insertBefore=function(c){c=x(c);var a=this.parent();c.node.parentNode.insertBefore(this.node,\n",
       "c.node);this.paper=c.paper;a&&a.add();c.parent()&&c.parent().add();return this};c.insertAfter=function(c){c=x(c);var a=this.parent();c.node.parentNode.insertBefore(this.node,c.node.nextSibling);this.paper=c.paper;a&&a.add();c.parent()&&c.parent().add();return this};c.remove=function(){var c=this.parent();this.node.parentNode&&this.node.parentNode.removeChild(this.node);delete this.paper;this.removed=!0;c&&c.add();return this};c.select=function(c){return x(this.node.querySelector(c))};c.selectAll=\n",
       "function(c){c=this.node.querySelectorAll(c);for(var b=(a.set||Array)(),m=0;m<c.length;m++)b.push(x(c[m]));return b};c.asPX=function(c,a){null==a&&(a=this.attr(c));return+b(this,c,a)};c.use=function(){var c,a=this.node.id;a||(a=this.id,v(this.node,{id:a}));c=\"linearGradient\"==this.type||\"radialGradient\"==this.type||\"pattern\"==this.type?r(this.type,this.node.parentNode):r(\"use\",this.node.parentNode);v(c.node,{\"xlink:href\":\"#\"+a});c.original=this;return c};var l=/\\S+/g;c.addClass=function(c){var a=(c||\n",
       "\"\").match(l)||[];c=this.node;var b=c.className.baseVal,m=b.match(l)||[],e,h,d;if(a.length){for(e=0;d=a[e++];)h=m.indexOf(d),~h||m.push(d);a=m.join(\" \");b!=a&&(c.className.baseVal=a)}return this};c.removeClass=function(c){var a=(c||\"\").match(l)||[];c=this.node;var b=c.className.baseVal,m=b.match(l)||[],e,h;if(m.length){for(e=0;h=a[e++];)h=m.indexOf(h),~h&&m.splice(h,1);a=m.join(\" \");b!=a&&(c.className.baseVal=a)}return this};c.hasClass=function(c){return!!~(this.node.className.baseVal.match(l)||[]).indexOf(c)};\n",
       "c.toggleClass=function(c,a){if(null!=a)return a?this.addClass(c):this.removeClass(c);var b=(c||\"\").match(l)||[],m=this.node,e=m.className.baseVal,h=e.match(l)||[],d,f,E;for(d=0;E=b[d++];)f=h.indexOf(E),~f?h.splice(f,1):h.push(E);b=h.join(\" \");e!=b&&(m.className.baseVal=b);return this};c.clone=function(){var c=x(this.node.cloneNode(!0));v(c.node,\"id\")&&v(c.node,{id:c.id});m(c);c.insertAfter(this);return c};c.toDefs=function(){u(this).appendChild(this.node);return this};c.pattern=c.toPattern=function(c,\n",
       "a,b,m){var e=r(\"pattern\",u(this));null==c&&(c=this.getBBox());y(c,\"object\")&&\"x\"in c&&(a=c.y,b=c.width,m=c.height,c=c.x);v(e.node,{x:c,y:a,width:b,height:m,patternUnits:\"userSpaceOnUse\",id:e.id,viewBox:[c,a,b,m].join(\" \")});e.node.appendChild(this.node);return e};c.marker=function(c,a,b,m,e,h){var d=r(\"marker\",u(this));null==c&&(c=this.getBBox());y(c,\"object\")&&\"x\"in c&&(a=c.y,b=c.width,m=c.height,e=c.refX||c.cx,h=c.refY||c.cy,c=c.x);v(d.node,{viewBox:[c,a,b,m].join(\" \"),markerWidth:b,markerHeight:m,\n",
       "orient:\"auto\",refX:e||0,refY:h||0,id:d.id});d.node.appendChild(this.node);return d};var E=function(c,a,b,m){\"function\"!=typeof b||b.length||(m=b,b=L.linear);this.attr=c;this.dur=a;b&&(this.easing=b);m&&(this.callback=m)};a._.Animation=E;a.animation=function(c,a,b,m){return new E(c,a,b,m)};c.inAnim=function(){var c=[],a;for(a in this.anims)this.anims[h](a)&&function(a){c.push({anim:new E(a._attrs,a.dur,a.easing,a._callback),mina:a,curStatus:a.status(),status:function(c){return a.status(c)},stop:function(){a.stop()}})}(this.anims[a]);\n",
       "return c};a.animate=function(c,a,b,m,e,h){\"function\"!=typeof e||e.length||(h=e,e=L.linear);var d=L.time();c=L(c,a,d,d+m,L.time,b,e);h&&k.once(\"mina.finish.\"+c.id,h);return c};c.stop=function(){for(var c=this.inAnim(),a=0,b=c.length;a<b;a++)c[a].stop();return this};c.animate=function(c,a,b,m){\"function\"!=typeof b||b.length||(m=b,b=L.linear);c instanceof E&&(m=c.callback,b=c.easing,a=b.dur,c=c.attr);var d=[],f=[],l={},t,ca,n,T=this,q;for(q in c)if(c[h](q)){T.equal?(n=T.equal(q,J(c[q])),t=n.from,ca=\n",
       "n.to,n=n.f):(t=+T.attr(q),ca=+c[q]);var la=y(t,\"array\")?t.length:1;l[q]=e(d.length,d.length+la,n);d=d.concat(t);f=f.concat(ca)}t=L.time();var p=L(d,f,t,t+a,L.time,function(c){var a={},b;for(b in l)l[h](b)&&(a[b]=l[b](c));T.attr(a)},b);T.anims[p.id]=p;p._attrs=c;p._callback=m;k(\"snap.animcreated.\"+T.id,p);k.once(\"mina.finish.\"+p.id,function(){delete T.anims[p.id];m&&m.call(T)});k.once(\"mina.stop.\"+p.id,function(){delete T.anims[p.id]});return T};var T={};c.data=function(c,b){var m=T[this.id]=T[this.id]||\n",
       "{};if(0==arguments.length)return k(\"snap.data.get.\"+this.id,this,m,null),m;if(1==arguments.length){if(a.is(c,\"object\")){for(var e in c)c[h](e)&&this.data(e,c[e]);return this}k(\"snap.data.get.\"+this.id,this,m[c],c);return m[c]}m[c]=b;k(\"snap.data.set.\"+this.id,this,b,c);return this};c.removeData=function(c){null==c?T[this.id]={}:T[this.id]&&delete T[this.id][c];return this};c.outerSVG=c.toString=d(1);c.innerSVG=d()})(e.prototype);a.parse=function(c){var a=G.doc.createDocumentFragment(),b=!0,m=G.doc.createElement(\"div\");\n",
       "c=J(c);c.match(/^\\s*<\\s*svg(?:\\s|>)/)||(c=\"<svg>\"+c+\"</svg>\",b=!1);m.innerHTML=c;if(c=m.getElementsByTagName(\"svg\")[0])if(b)a=c;else for(;c.firstChild;)a.appendChild(c.firstChild);m.innerHTML=aa;return new l(a)};l.prototype.select=e.prototype.select;l.prototype.selectAll=e.prototype.selectAll;a.fragment=function(){for(var c=Array.prototype.slice.call(arguments,0),b=G.doc.createDocumentFragment(),m=0,e=c.length;m<e;m++){var h=c[m];h.node&&h.node.nodeType&&b.appendChild(h.node);h.nodeType&&b.appendChild(h);\n",
       "\"string\"==typeof h&&b.appendChild(a.parse(h).node)}return new l(b)};a._.make=r;a._.wrap=x;s.prototype.el=function(c,a){var b=r(c,this.node);a&&b.attr(a);return b};k.on(\"snap.util.getattr\",function(){var c=k.nt(),c=c.substring(c.lastIndexOf(\".\")+1),a=c.replace(/[A-Z]/g,function(c){return\"-\"+c.toLowerCase()});return pa[h](a)?this.node.ownerDocument.defaultView.getComputedStyle(this.node,null).getPropertyValue(a):v(this.node,c)});var pa={\"alignment-baseline\":0,\"baseline-shift\":0,clip:0,\"clip-path\":0,\n",
       "\"clip-rule\":0,color:0,\"color-interpolation\":0,\"color-interpolation-filters\":0,\"color-profile\":0,\"color-rendering\":0,cursor:0,direction:0,display:0,\"dominant-baseline\":0,\"enable-background\":0,fill:0,\"fill-opacity\":0,\"fill-rule\":0,filter:0,\"flood-color\":0,\"flood-opacity\":0,font:0,\"font-family\":0,\"font-size\":0,\"font-size-adjust\":0,\"font-stretch\":0,\"font-style\":0,\"font-variant\":0,\"font-weight\":0,\"glyph-orientation-horizontal\":0,\"glyph-orientation-vertical\":0,\"image-rendering\":0,kerning:0,\"letter-spacing\":0,\n",
       "\"lighting-color\":0,marker:0,\"marker-end\":0,\"marker-mid\":0,\"marker-start\":0,mask:0,opacity:0,overflow:0,\"pointer-events\":0,\"shape-rendering\":0,\"stop-color\":0,\"stop-opacity\":0,stroke:0,\"stroke-dasharray\":0,\"stroke-dashoffset\":0,\"stroke-linecap\":0,\"stroke-linejoin\":0,\"stroke-miterlimit\":0,\"stroke-opacity\":0,\"stroke-width\":0,\"text-anchor\":0,\"text-decoration\":0,\"text-rendering\":0,\"unicode-bidi\":0,visibility:0,\"word-spacing\":0,\"writing-mode\":0};k.on(\"snap.util.attr\",function(c){var a=k.nt(),b={},a=a.substring(a.lastIndexOf(\".\")+\n",
       "1);b[a]=c;var m=a.replace(/-(\\w)/gi,function(c,a){return a.toUpperCase()}),a=a.replace(/[A-Z]/g,function(c){return\"-\"+c.toLowerCase()});pa[h](a)?this.node.style[m]=null==c?aa:c:v(this.node,b)});a.ajax=function(c,a,b,m){var e=new XMLHttpRequest,h=V();if(e){if(y(a,\"function\"))m=b,b=a,a=null;else if(y(a,\"object\")){var d=[],f;for(f in a)a.hasOwnProperty(f)&&d.push(encodeURIComponent(f)+\"=\"+encodeURIComponent(a[f]));a=d.join(\"&\")}e.open(a?\"POST\":\"GET\",c,!0);a&&(e.setRequestHeader(\"X-Requested-With\",\"XMLHttpRequest\"),\n",
       "e.setRequestHeader(\"Content-type\",\"application/x-www-form-urlencoded\"));b&&(k.once(\"snap.ajax.\"+h+\".0\",b),k.once(\"snap.ajax.\"+h+\".200\",b),k.once(\"snap.ajax.\"+h+\".304\",b));e.onreadystatechange=function(){4==e.readyState&&k(\"snap.ajax.\"+h+\".\"+e.status,m,e)};if(4==e.readyState)return e;e.send(a);return e}};a.load=function(c,b,m){a.ajax(c,function(c){c=a.parse(c.responseText);m?b.call(m,c):b(c)})};a.getElementByPoint=function(c,a){var b,m,e=G.doc.elementFromPoint(c,a);if(G.win.opera&&\"svg\"==e.tagName){b=\n",
       "e;m=b.getBoundingClientRect();b=b.ownerDocument;var h=b.body,d=b.documentElement;b=m.top+(g.win.pageYOffset||d.scrollTop||h.scrollTop)-(d.clientTop||h.clientTop||0);m=m.left+(g.win.pageXOffset||d.scrollLeft||h.scrollLeft)-(d.clientLeft||h.clientLeft||0);h=e.createSVGRect();h.x=c-m;h.y=a-b;h.width=h.height=1;b=e.getIntersectionList(h,null);b.length&&(e=b[b.length-1])}return e?x(e):null};a.plugin=function(c){c(a,e,s,G,l)};return G.win.Snap=a}();C.plugin(function(a,k,y,M,A){function w(a,d,f,b,q,e){null==\n",
       "d&&\"[object SVGMatrix]\"==z.call(a)?(this.a=a.a,this.b=a.b,this.c=a.c,this.d=a.d,this.e=a.e,this.f=a.f):null!=a?(this.a=+a,this.b=+d,this.c=+f,this.d=+b,this.e=+q,this.f=+e):(this.a=1,this.c=this.b=0,this.d=1,this.f=this.e=0)}var z=Object.prototype.toString,d=String,f=Math;(function(n){function k(a){return a[0]*a[0]+a[1]*a[1]}function p(a){var d=f.sqrt(k(a));a[0]&&(a[0]/=d);a[1]&&(a[1]/=d)}n.add=function(a,d,e,f,n,p){var k=[[],[],[] ],u=[[this.a,this.c,this.e],[this.b,this.d,this.f],[0,0,1] ];d=[[a,\n",
       "e,n],[d,f,p],[0,0,1] ];a&&a instanceof w&&(d=[[a.a,a.c,a.e],[a.b,a.d,a.f],[0,0,1] ]);for(a=0;3>a;a++)for(e=0;3>e;e++){for(f=n=0;3>f;f++)n+=u[a][f]*d[f][e];k[a][e]=n}this.a=k[0][0];this.b=k[1][0];this.c=k[0][1];this.d=k[1][1];this.e=k[0][2];this.f=k[1][2];return this};n.invert=function(){var a=this.a*this.d-this.b*this.c;return new w(this.d/a,-this.b/a,-this.c/a,this.a/a,(this.c*this.f-this.d*this.e)/a,(this.b*this.e-this.a*this.f)/a)};n.clone=function(){return new w(this.a,this.b,this.c,this.d,this.e,\n",
       "this.f)};n.translate=function(a,d){return this.add(1,0,0,1,a,d)};n.scale=function(a,d,e,f){null==d&&(d=a);(e||f)&&this.add(1,0,0,1,e,f);this.add(a,0,0,d,0,0);(e||f)&&this.add(1,0,0,1,-e,-f);return this};n.rotate=function(b,d,e){b=a.rad(b);d=d||0;e=e||0;var l=+f.cos(b).toFixed(9);b=+f.sin(b).toFixed(9);this.add(l,b,-b,l,d,e);return this.add(1,0,0,1,-d,-e)};n.x=function(a,d){return a*this.a+d*this.c+this.e};n.y=function(a,d){return a*this.b+d*this.d+this.f};n.get=function(a){return+this[d.fromCharCode(97+\n",
       "a)].toFixed(4)};n.toString=function(){return\"matrix(\"+[this.get(0),this.get(1),this.get(2),this.get(3),this.get(4),this.get(5)].join()+\")\"};n.offset=function(){return[this.e.toFixed(4),this.f.toFixed(4)]};n.determinant=function(){return this.a*this.d-this.b*this.c};n.split=function(){var b={};b.dx=this.e;b.dy=this.f;var d=[[this.a,this.c],[this.b,this.d] ];b.scalex=f.sqrt(k(d[0]));p(d[0]);b.shear=d[0][0]*d[1][0]+d[0][1]*d[1][1];d[1]=[d[1][0]-d[0][0]*b.shear,d[1][1]-d[0][1]*b.shear];b.scaley=f.sqrt(k(d[1]));\n",
       "p(d[1]);b.shear/=b.scaley;0>this.determinant()&&(b.scalex=-b.scalex);var e=-d[0][1],d=d[1][1];0>d?(b.rotate=a.deg(f.acos(d)),0>e&&(b.rotate=360-b.rotate)):b.rotate=a.deg(f.asin(e));b.isSimple=!+b.shear.toFixed(9)&&(b.scalex.toFixed(9)==b.scaley.toFixed(9)||!b.rotate);b.isSuperSimple=!+b.shear.toFixed(9)&&b.scalex.toFixed(9)==b.scaley.toFixed(9)&&!b.rotate;b.noRotation=!+b.shear.toFixed(9)&&!b.rotate;return b};n.toTransformString=function(a){a=a||this.split();if(+a.shear.toFixed(9))return\"m\"+[this.get(0),\n",
       "this.get(1),this.get(2),this.get(3),this.get(4),this.get(5)];a.scalex=+a.scalex.toFixed(4);a.scaley=+a.scaley.toFixed(4);a.rotate=+a.rotate.toFixed(4);return(a.dx||a.dy?\"t\"+[+a.dx.toFixed(4),+a.dy.toFixed(4)]:\"\")+(1!=a.scalex||1!=a.scaley?\"s\"+[a.scalex,a.scaley,0,0]:\"\")+(a.rotate?\"r\"+[+a.rotate.toFixed(4),0,0]:\"\")}})(w.prototype);a.Matrix=w;a.matrix=function(a,d,f,b,k,e){return new w(a,d,f,b,k,e)}});C.plugin(function(a,v,y,M,A){function w(h){return function(d){k.stop();d instanceof A&&1==d.node.childNodes.length&&\n",
       "(\"radialGradient\"==d.node.firstChild.tagName||\"linearGradient\"==d.node.firstChild.tagName||\"pattern\"==d.node.firstChild.tagName)&&(d=d.node.firstChild,b(this).appendChild(d),d=u(d));if(d instanceof v)if(\"radialGradient\"==d.type||\"linearGradient\"==d.type||\"pattern\"==d.type){d.node.id||e(d.node,{id:d.id});var f=l(d.node.id)}else f=d.attr(h);else f=a.color(d),f.error?(f=a(b(this).ownerSVGElement).gradient(d))?(f.node.id||e(f.node,{id:f.id}),f=l(f.node.id)):f=d:f=r(f);d={};d[h]=f;e(this.node,d);this.node.style[h]=\n",
       "x}}function z(a){k.stop();a==+a&&(a+=\"px\");this.node.style.fontSize=a}function d(a){var b=[];a=a.childNodes;for(var e=0,f=a.length;e<f;e++){var l=a[e];3==l.nodeType&&b.push(l.nodeValue);\"tspan\"==l.tagName&&(1==l.childNodes.length&&3==l.firstChild.nodeType?b.push(l.firstChild.nodeValue):b.push(d(l)))}return b}function f(){k.stop();return this.node.style.fontSize}var n=a._.make,u=a._.wrap,p=a.is,b=a._.getSomeDefs,q=/^url\\(#?([^)]+)\\)$/,e=a._.$,l=a.url,r=String,s=a._.separator,x=\"\";k.on(\"snap.util.attr.mask\",\n",
       "function(a){if(a instanceof v||a instanceof A){k.stop();a instanceof A&&1==a.node.childNodes.length&&(a=a.node.firstChild,b(this).appendChild(a),a=u(a));if(\"mask\"==a.type)var d=a;else d=n(\"mask\",b(this)),d.node.appendChild(a.node);!d.node.id&&e(d.node,{id:d.id});e(this.node,{mask:l(d.id)})}});(function(a){k.on(\"snap.util.attr.clip\",a);k.on(\"snap.util.attr.clip-path\",a);k.on(\"snap.util.attr.clipPath\",a)})(function(a){if(a instanceof v||a instanceof A){k.stop();if(\"clipPath\"==a.type)var d=a;else d=\n",
       "n(\"clipPath\",b(this)),d.node.appendChild(a.node),!d.node.id&&e(d.node,{id:d.id});e(this.node,{\"clip-path\":l(d.id)})}});k.on(\"snap.util.attr.fill\",w(\"fill\"));k.on(\"snap.util.attr.stroke\",w(\"stroke\"));var G=/^([lr])(?:\\(([^)]*)\\))?(.*)$/i;k.on(\"snap.util.grad.parse\",function(a){a=r(a);var b=a.match(G);if(!b)return null;a=b[1];var e=b[2],b=b[3],e=e.split(/\\s*,\\s*/).map(function(a){return+a==a?+a:a});1==e.length&&0==e[0]&&(e=[]);b=b.split(\"-\");b=b.map(function(a){a=a.split(\":\");var b={color:a[0]};a[1]&&\n",
       "(b.offset=parseFloat(a[1]));return b});return{type:a,params:e,stops:b}});k.on(\"snap.util.attr.d\",function(b){k.stop();p(b,\"array\")&&p(b[0],\"array\")&&(b=a.path.toString.call(b));b=r(b);b.match(/[ruo]/i)&&(b=a.path.toAbsolute(b));e(this.node,{d:b})})(-1);k.on(\"snap.util.attr.#text\",function(a){k.stop();a=r(a);for(a=M.doc.createTextNode(a);this.node.firstChild;)this.node.removeChild(this.node.firstChild);this.node.appendChild(a)})(-1);k.on(\"snap.util.attr.path\",function(a){k.stop();this.attr({d:a})})(-1);\n",
       "k.on(\"snap.util.attr.class\",function(a){k.stop();this.node.className.baseVal=a})(-1);k.on(\"snap.util.attr.viewBox\",function(a){a=p(a,\"object\")&&\"x\"in a?[a.x,a.y,a.width,a.height].join(\" \"):p(a,\"array\")?a.join(\" \"):a;e(this.node,{viewBox:a});k.stop()})(-1);k.on(\"snap.util.attr.transform\",function(a){this.transform(a);k.stop()})(-1);k.on(\"snap.util.attr.r\",function(a){\"rect\"==this.type&&(k.stop(),e(this.node,{rx:a,ry:a}))})(-1);k.on(\"snap.util.attr.textpath\",function(a){k.stop();if(\"text\"==this.type){var d,\n",
       "f;if(!a&&this.textPath){for(a=this.textPath;a.node.firstChild;)this.node.appendChild(a.node.firstChild);a.remove();delete this.textPath}else if(p(a,\"string\")?(d=b(this),a=u(d.parentNode).path(a),d.appendChild(a.node),d=a.id,a.attr({id:d})):(a=u(a),a instanceof v&&(d=a.attr(\"id\"),d||(d=a.id,a.attr({id:d})))),d)if(a=this.textPath,f=this.node,a)a.attr({\"xlink:href\":\"#\"+d});else{for(a=e(\"textPath\",{\"xlink:href\":\"#\"+d});f.firstChild;)a.appendChild(f.firstChild);f.appendChild(a);this.textPath=u(a)}}})(-1);\n",
       "k.on(\"snap.util.attr.text\",function(a){if(\"text\"==this.type){for(var b=this.node,d=function(a){var b=e(\"tspan\");if(p(a,\"array\"))for(var f=0;f<a.length;f++)b.appendChild(d(a[f]));else b.appendChild(M.doc.createTextNode(a));b.normalize&&b.normalize();return b};b.firstChild;)b.removeChild(b.firstChild);for(a=d(a);a.firstChild;)b.appendChild(a.firstChild)}k.stop()})(-1);k.on(\"snap.util.attr.fontSize\",z)(-1);k.on(\"snap.util.attr.font-size\",z)(-1);k.on(\"snap.util.getattr.transform\",function(){k.stop();\n",
       "return this.transform()})(-1);k.on(\"snap.util.getattr.textpath\",function(){k.stop();return this.textPath})(-1);(function(){function b(d){return function(){k.stop();var b=M.doc.defaultView.getComputedStyle(this.node,null).getPropertyValue(\"marker-\"+d);return\"none\"==b?b:a(M.doc.getElementById(b.match(q)[1]))}}function d(a){return function(b){k.stop();var d=\"marker\"+a.charAt(0).toUpperCase()+a.substring(1);if(\"\"==b||!b)this.node.style[d]=\"none\";else if(\"marker\"==b.type){var f=b.node.id;f||e(b.node,{id:b.id});\n",
       "this.node.style[d]=l(f)}}}k.on(\"snap.util.getattr.marker-end\",b(\"end\"))(-1);k.on(\"snap.util.getattr.markerEnd\",b(\"end\"))(-1);k.on(\"snap.util.getattr.marker-start\",b(\"start\"))(-1);k.on(\"snap.util.getattr.markerStart\",b(\"start\"))(-1);k.on(\"snap.util.getattr.marker-mid\",b(\"mid\"))(-1);k.on(\"snap.util.getattr.markerMid\",b(\"mid\"))(-1);k.on(\"snap.util.attr.marker-end\",d(\"end\"))(-1);k.on(\"snap.util.attr.markerEnd\",d(\"end\"))(-1);k.on(\"snap.util.attr.marker-start\",d(\"start\"))(-1);k.on(\"snap.util.attr.markerStart\",\n",
       "d(\"start\"))(-1);k.on(\"snap.util.attr.marker-mid\",d(\"mid\"))(-1);k.on(\"snap.util.attr.markerMid\",d(\"mid\"))(-1)})();k.on(\"snap.util.getattr.r\",function(){if(\"rect\"==this.type&&e(this.node,\"rx\")==e(this.node,\"ry\"))return k.stop(),e(this.node,\"rx\")})(-1);k.on(\"snap.util.getattr.text\",function(){if(\"text\"==this.type||\"tspan\"==this.type){k.stop();var a=d(this.node);return 1==a.length?a[0]:a}})(-1);k.on(\"snap.util.getattr.#text\",function(){return this.node.textContent})(-1);k.on(\"snap.util.getattr.viewBox\",\n",
       "function(){k.stop();var b=e(this.node,\"viewBox\");if(b)return b=b.split(s),a._.box(+b[0],+b[1],+b[2],+b[3])})(-1);k.on(\"snap.util.getattr.points\",function(){var a=e(this.node,\"points\");k.stop();if(a)return a.split(s)})(-1);k.on(\"snap.util.getattr.path\",function(){var a=e(this.node,\"d\");k.stop();return a})(-1);k.on(\"snap.util.getattr.class\",function(){return this.node.className.baseVal})(-1);k.on(\"snap.util.getattr.fontSize\",f)(-1);k.on(\"snap.util.getattr.font-size\",f)(-1)});C.plugin(function(a,v,y,\n",
       "M,A){function w(a){return a}function z(a){return function(b){return+b.toFixed(3)+a}}var d={\"+\":function(a,b){return a+b},\"-\":function(a,b){return a-b},\"/\":function(a,b){return a/b},\"*\":function(a,b){return a*b}},f=String,n=/[a-z]+$/i,u=/^\\s*([+\\-\\/*])\\s*=\\s*([\\d.eE+\\-]+)\\s*([^\\d\\s]+)?\\s*$/;k.on(\"snap.util.attr\",function(a){if(a=f(a).match(u)){var b=k.nt(),b=b.substring(b.lastIndexOf(\".\")+1),q=this.attr(b),e={};k.stop();var l=a[3]||\"\",r=q.match(n),s=d[a[1] ];r&&r==l?a=s(parseFloat(q),+a[2]):(q=this.asPX(b),\n",
       "a=s(this.asPX(b),this.asPX(b,a[2]+l)));isNaN(q)||isNaN(a)||(e[b]=a,this.attr(e))}})(-10);k.on(\"snap.util.equal\",function(a,b){var q=f(this.attr(a)||\"\"),e=f(b).match(u);if(e){k.stop();var l=e[3]||\"\",r=q.match(n),s=d[e[1] ];if(r&&r==l)return{from:parseFloat(q),to:s(parseFloat(q),+e[2]),f:z(r)};q=this.asPX(a);return{from:q,to:s(q,this.asPX(a,e[2]+l)),f:w}}})(-10)});C.plugin(function(a,v,y,M,A){var w=y.prototype,z=a.is;w.rect=function(a,d,k,p,b,q){var e;null==q&&(q=b);z(a,\"object\")&&\"[object Object]\"==\n",
       "a?e=a:null!=a&&(e={x:a,y:d,width:k,height:p},null!=b&&(e.rx=b,e.ry=q));return this.el(\"rect\",e)};w.circle=function(a,d,k){var p;z(a,\"object\")&&\"[object Object]\"==a?p=a:null!=a&&(p={cx:a,cy:d,r:k});return this.el(\"circle\",p)};var d=function(){function a(){this.parentNode.removeChild(this)}return function(d,k){var p=M.doc.createElement(\"img\"),b=M.doc.body;p.style.cssText=\"position:absolute;left:-9999em;top:-9999em\";p.onload=function(){k.call(p);p.onload=p.onerror=null;b.removeChild(p)};p.onerror=a;\n",
       "b.appendChild(p);p.src=d}}();w.image=function(f,n,k,p,b){var q=this.el(\"image\");if(z(f,\"object\")&&\"src\"in f)q.attr(f);else if(null!=f){var e={\"xlink:href\":f,preserveAspectRatio:\"none\"};null!=n&&null!=k&&(e.x=n,e.y=k);null!=p&&null!=b?(e.width=p,e.height=b):d(f,function(){a._.$(q.node,{width:this.offsetWidth,height:this.offsetHeight})});a._.$(q.node,e)}return q};w.ellipse=function(a,d,k,p){var b;z(a,\"object\")&&\"[object Object]\"==a?b=a:null!=a&&(b={cx:a,cy:d,rx:k,ry:p});return this.el(\"ellipse\",b)};\n",
       "w.path=function(a){var d;z(a,\"object\")&&!z(a,\"array\")?d=a:a&&(d={d:a});return this.el(\"path\",d)};w.group=w.g=function(a){var d=this.el(\"g\");1==arguments.length&&a&&!a.type?d.attr(a):arguments.length&&d.add(Array.prototype.slice.call(arguments,0));return d};w.svg=function(a,d,k,p,b,q,e,l){var r={};z(a,\"object\")&&null==d?r=a:(null!=a&&(r.x=a),null!=d&&(r.y=d),null!=k&&(r.width=k),null!=p&&(r.height=p),null!=b&&null!=q&&null!=e&&null!=l&&(r.viewBox=[b,q,e,l]));return this.el(\"svg\",r)};w.mask=function(a){var d=\n",
       "this.el(\"mask\");1==arguments.length&&a&&!a.type?d.attr(a):arguments.length&&d.add(Array.prototype.slice.call(arguments,0));return d};w.ptrn=function(a,d,k,p,b,q,e,l){if(z(a,\"object\"))var r=a;else arguments.length?(r={},null!=a&&(r.x=a),null!=d&&(r.y=d),null!=k&&(r.width=k),null!=p&&(r.height=p),null!=b&&null!=q&&null!=e&&null!=l&&(r.viewBox=[b,q,e,l])):r={patternUnits:\"userSpaceOnUse\"};return this.el(\"pattern\",r)};w.use=function(a){return null!=a?(make(\"use\",this.node),a instanceof v&&(a.attr(\"id\")||\n",
       "a.attr({id:ID()}),a=a.attr(\"id\")),this.el(\"use\",{\"xlink:href\":a})):v.prototype.use.call(this)};w.text=function(a,d,k){var p={};z(a,\"object\")?p=a:null!=a&&(p={x:a,y:d,text:k||\"\"});return this.el(\"text\",p)};w.line=function(a,d,k,p){var b={};z(a,\"object\")?b=a:null!=a&&(b={x1:a,x2:k,y1:d,y2:p});return this.el(\"line\",b)};w.polyline=function(a){1<arguments.length&&(a=Array.prototype.slice.call(arguments,0));var d={};z(a,\"object\")&&!z(a,\"array\")?d=a:null!=a&&(d={points:a});return this.el(\"polyline\",d)};\n",
       "w.polygon=function(a){1<arguments.length&&(a=Array.prototype.slice.call(arguments,0));var d={};z(a,\"object\")&&!z(a,\"array\")?d=a:null!=a&&(d={points:a});return this.el(\"polygon\",d)};(function(){function d(){return this.selectAll(\"stop\")}function n(b,d){var f=e(\"stop\"),k={offset:+d+\"%\"};b=a.color(b);k[\"stop-color\"]=b.hex;1>b.opacity&&(k[\"stop-opacity\"]=b.opacity);e(f,k);this.node.appendChild(f);return this}function u(){if(\"linearGradient\"==this.type){var b=e(this.node,\"x1\")||0,d=e(this.node,\"x2\")||\n",
       "1,f=e(this.node,\"y1\")||0,k=e(this.node,\"y2\")||0;return a._.box(b,f,math.abs(d-b),math.abs(k-f))}b=this.node.r||0;return a._.box((this.node.cx||0.5)-b,(this.node.cy||0.5)-b,2*b,2*b)}function p(a,d){function f(a,b){for(var d=(b-u)/(a-w),e=w;e<a;e++)h[e].offset=+(+u+d*(e-w)).toFixed(2);w=a;u=b}var n=k(\"snap.util.grad.parse\",null,d).firstDefined(),p;if(!n)return null;n.params.unshift(a);p=\"l\"==n.type.toLowerCase()?b.apply(0,n.params):q.apply(0,n.params);n.type!=n.type.toLowerCase()&&e(p.node,{gradientUnits:\"userSpaceOnUse\"});\n",
       "var h=n.stops,n=h.length,u=0,w=0;n--;for(var v=0;v<n;v++)\"offset\"in h[v]&&f(v,h[v].offset);h[n].offset=h[n].offset||100;f(n,h[n].offset);for(v=0;v<=n;v++){var y=h[v];p.addStop(y.color,y.offset)}return p}function b(b,k,p,q,w){b=a._.make(\"linearGradient\",b);b.stops=d;b.addStop=n;b.getBBox=u;null!=k&&e(b.node,{x1:k,y1:p,x2:q,y2:w});return b}function q(b,k,p,q,w,h){b=a._.make(\"radialGradient\",b);b.stops=d;b.addStop=n;b.getBBox=u;null!=k&&e(b.node,{cx:k,cy:p,r:q});null!=w&&null!=h&&e(b.node,{fx:w,fy:h});\n",
       "return b}var e=a._.$;w.gradient=function(a){return p(this.defs,a)};w.gradientLinear=function(a,d,e,f){return b(this.defs,a,d,e,f)};w.gradientRadial=function(a,b,d,e,f){return q(this.defs,a,b,d,e,f)};w.toString=function(){var b=this.node.ownerDocument,d=b.createDocumentFragment(),b=b.createElement(\"div\"),e=this.node.cloneNode(!0);d.appendChild(b);b.appendChild(e);a._.$(e,{xmlns:\"http://www.w3.org/2000/svg\"});b=b.innerHTML;d.removeChild(d.firstChild);return b};w.clear=function(){for(var a=this.node.firstChild,\n",
       "b;a;)b=a.nextSibling,\"defs\"!=a.tagName?a.parentNode.removeChild(a):w.clear.call({node:a}),a=b}})()});C.plugin(function(a,k,y,M){function A(a){var b=A.ps=A.ps||{};b[a]?b[a].sleep=100:b[a]={sleep:100};setTimeout(function(){for(var d in b)b[L](d)&&d!=a&&(b[d].sleep--,!b[d].sleep&&delete b[d])});return b[a]}function w(a,b,d,e){null==a&&(a=b=d=e=0);null==b&&(b=a.y,d=a.width,e=a.height,a=a.x);return{x:a,y:b,width:d,w:d,height:e,h:e,x2:a+d,y2:b+e,cx:a+d/2,cy:b+e/2,r1:F.min(d,e)/2,r2:F.max(d,e)/2,r0:F.sqrt(d*\n",
       "d+e*e)/2,path:s(a,b,d,e),vb:[a,b,d,e].join(\" \")}}function z(){return this.join(\",\").replace(N,\"$1\")}function d(a){a=C(a);a.toString=z;return a}function f(a,b,d,h,f,k,l,n,p){if(null==p)return e(a,b,d,h,f,k,l,n);if(0>p||e(a,b,d,h,f,k,l,n)<p)p=void 0;else{var q=0.5,O=1-q,s;for(s=e(a,b,d,h,f,k,l,n,O);0.01<Z(s-p);)q/=2,O+=(s<p?1:-1)*q,s=e(a,b,d,h,f,k,l,n,O);p=O}return u(a,b,d,h,f,k,l,n,p)}function n(b,d){function e(a){return+(+a).toFixed(3)}return a._.cacher(function(a,h,l){a instanceof k&&(a=a.attr(\"d\"));\n",
       "a=I(a);for(var n,p,D,q,O=\"\",s={},c=0,t=0,r=a.length;t<r;t++){D=a[t];if(\"M\"==D[0])n=+D[1],p=+D[2];else{q=f(n,p,D[1],D[2],D[3],D[4],D[5],D[6]);if(c+q>h){if(d&&!s.start){n=f(n,p,D[1],D[2],D[3],D[4],D[5],D[6],h-c);O+=[\"C\"+e(n.start.x),e(n.start.y),e(n.m.x),e(n.m.y),e(n.x),e(n.y)];if(l)return O;s.start=O;O=[\"M\"+e(n.x),e(n.y)+\"C\"+e(n.n.x),e(n.n.y),e(n.end.x),e(n.end.y),e(D[5]),e(D[6])].join();c+=q;n=+D[5];p=+D[6];continue}if(!b&&!d)return n=f(n,p,D[1],D[2],D[3],D[4],D[5],D[6],h-c)}c+=q;n=+D[5];p=+D[6]}O+=\n",
       "D.shift()+D}s.end=O;return n=b?c:d?s:u(n,p,D[0],D[1],D[2],D[3],D[4],D[5],1)},null,a._.clone)}function u(a,b,d,e,h,f,k,l,n){var p=1-n,q=ma(p,3),s=ma(p,2),c=n*n,t=c*n,r=q*a+3*s*n*d+3*p*n*n*h+t*k,q=q*b+3*s*n*e+3*p*n*n*f+t*l,s=a+2*n*(d-a)+c*(h-2*d+a),t=b+2*n*(e-b)+c*(f-2*e+b),x=d+2*n*(h-d)+c*(k-2*h+d),c=e+2*n*(f-e)+c*(l-2*f+e);a=p*a+n*d;b=p*b+n*e;h=p*h+n*k;f=p*f+n*l;l=90-180*F.atan2(s-x,t-c)/S;return{x:r,y:q,m:{x:s,y:t},n:{x:x,y:c},start:{x:a,y:b},end:{x:h,y:f},alpha:l}}function p(b,d,e,h,f,n,k,l){a.is(b,\n",
       "\"array\")||(b=[b,d,e,h,f,n,k,l]);b=U.apply(null,b);return w(b.min.x,b.min.y,b.max.x-b.min.x,b.max.y-b.min.y)}function b(a,b,d){return b>=a.x&&b<=a.x+a.width&&d>=a.y&&d<=a.y+a.height}function q(a,d){a=w(a);d=w(d);return b(d,a.x,a.y)||b(d,a.x2,a.y)||b(d,a.x,a.y2)||b(d,a.x2,a.y2)||b(a,d.x,d.y)||b(a,d.x2,d.y)||b(a,d.x,d.y2)||b(a,d.x2,d.y2)||(a.x<d.x2&&a.x>d.x||d.x<a.x2&&d.x>a.x)&&(a.y<d.y2&&a.y>d.y||d.y<a.y2&&d.y>a.y)}function e(a,b,d,e,h,f,n,k,l){null==l&&(l=1);l=(1<l?1:0>l?0:l)/2;for(var p=[-0.1252,\n",
       "0.1252,-0.3678,0.3678,-0.5873,0.5873,-0.7699,0.7699,-0.9041,0.9041,-0.9816,0.9816],q=[0.2491,0.2491,0.2335,0.2335,0.2032,0.2032,0.1601,0.1601,0.1069,0.1069,0.0472,0.0472],s=0,c=0;12>c;c++)var t=l*p[c]+l,r=t*(t*(-3*a+9*d-9*h+3*n)+6*a-12*d+6*h)-3*a+3*d,t=t*(t*(-3*b+9*e-9*f+3*k)+6*b-12*e+6*f)-3*b+3*e,s=s+q[c]*F.sqrt(r*r+t*t);return l*s}function l(a,b,d){a=I(a);b=I(b);for(var h,f,l,n,k,s,r,O,x,c,t=d?0:[],w=0,v=a.length;w<v;w++)if(x=a[w],\"M\"==x[0])h=k=x[1],f=s=x[2];else{\"C\"==x[0]?(x=[h,f].concat(x.slice(1)),\n",
       "h=x[6],f=x[7]):(x=[h,f,h,f,k,s,k,s],h=k,f=s);for(var G=0,y=b.length;G<y;G++)if(c=b[G],\"M\"==c[0])l=r=c[1],n=O=c[2];else{\"C\"==c[0]?(c=[l,n].concat(c.slice(1)),l=c[6],n=c[7]):(c=[l,n,l,n,r,O,r,O],l=r,n=O);var z;var K=x,B=c;z=d;var H=p(K),J=p(B);if(q(H,J)){for(var H=e.apply(0,K),J=e.apply(0,B),H=~~(H/8),J=~~(J/8),U=[],A=[],F={},M=z?0:[],P=0;P<H+1;P++){var C=u.apply(0,K.concat(P/H));U.push({x:C.x,y:C.y,t:P/H})}for(P=0;P<J+1;P++)C=u.apply(0,B.concat(P/J)),A.push({x:C.x,y:C.y,t:P/J});for(P=0;P<H;P++)for(K=\n",
       "0;K<J;K++){var Q=U[P],L=U[P+1],B=A[K],C=A[K+1],N=0.001>Z(L.x-Q.x)?\"y\":\"x\",S=0.001>Z(C.x-B.x)?\"y\":\"x\",R;R=Q.x;var Y=Q.y,V=L.x,ea=L.y,fa=B.x,ga=B.y,ha=C.x,ia=C.y;if(W(R,V)<X(fa,ha)||X(R,V)>W(fa,ha)||W(Y,ea)<X(ga,ia)||X(Y,ea)>W(ga,ia))R=void 0;else{var $=(R*ea-Y*V)*(fa-ha)-(R-V)*(fa*ia-ga*ha),aa=(R*ea-Y*V)*(ga-ia)-(Y-ea)*(fa*ia-ga*ha),ja=(R-V)*(ga-ia)-(Y-ea)*(fa-ha);if(ja){var $=$/ja,aa=aa/ja,ja=+$.toFixed(2),ba=+aa.toFixed(2);R=ja<+X(R,V).toFixed(2)||ja>+W(R,V).toFixed(2)||ja<+X(fa,ha).toFixed(2)||\n",
       "ja>+W(fa,ha).toFixed(2)||ba<+X(Y,ea).toFixed(2)||ba>+W(Y,ea).toFixed(2)||ba<+X(ga,ia).toFixed(2)||ba>+W(ga,ia).toFixed(2)?void 0:{x:$,y:aa}}else R=void 0}R&&F[R.x.toFixed(4)]!=R.y.toFixed(4)&&(F[R.x.toFixed(4)]=R.y.toFixed(4),Q=Q.t+Z((R[N]-Q[N])/(L[N]-Q[N]))*(L.t-Q.t),B=B.t+Z((R[S]-B[S])/(C[S]-B[S]))*(C.t-B.t),0<=Q&&1>=Q&&0<=B&&1>=B&&(z?M++:M.push({x:R.x,y:R.y,t1:Q,t2:B})))}z=M}else z=z?0:[];if(d)t+=z;else{H=0;for(J=z.length;H<J;H++)z[H].segment1=w,z[H].segment2=G,z[H].bez1=x,z[H].bez2=c;t=t.concat(z)}}}return t}\n",
       "function r(a){var b=A(a);if(b.bbox)return C(b.bbox);if(!a)return w();a=I(a);for(var d=0,e=0,h=[],f=[],l,n=0,k=a.length;n<k;n++)l=a[n],\"M\"==l[0]?(d=l[1],e=l[2],h.push(d),f.push(e)):(d=U(d,e,l[1],l[2],l[3],l[4],l[5],l[6]),h=h.concat(d.min.x,d.max.x),f=f.concat(d.min.y,d.max.y),d=l[5],e=l[6]);a=X.apply(0,h);l=X.apply(0,f);h=W.apply(0,h);f=W.apply(0,f);f=w(a,l,h-a,f-l);b.bbox=C(f);return f}function s(a,b,d,e,h){if(h)return[[\"M\",+a+ +h,b],[\"l\",d-2*h,0],[\"a\",h,h,0,0,1,h,h],[\"l\",0,e-2*h],[\"a\",h,h,0,0,1,\n",
       "-h,h],[\"l\",2*h-d,0],[\"a\",h,h,0,0,1,-h,-h],[\"l\",0,2*h-e],[\"a\",h,h,0,0,1,h,-h],[\"z\"] ];a=[[\"M\",a,b],[\"l\",d,0],[\"l\",0,e],[\"l\",-d,0],[\"z\"] ];a.toString=z;return a}function x(a,b,d,e,h){null==h&&null==e&&(e=d);a=+a;b=+b;d=+d;e=+e;if(null!=h){var f=Math.PI/180,l=a+d*Math.cos(-e*f);a+=d*Math.cos(-h*f);var n=b+d*Math.sin(-e*f);b+=d*Math.sin(-h*f);d=[[\"M\",l,n],[\"A\",d,d,0,+(180<h-e),0,a,b] ]}else d=[[\"M\",a,b],[\"m\",0,-e],[\"a\",d,e,0,1,1,0,2*e],[\"a\",d,e,0,1,1,0,-2*e],[\"z\"] ];d.toString=z;return d}function G(b){var e=\n",
       "A(b);if(e.abs)return d(e.abs);Q(b,\"array\")&&Q(b&&b[0],\"array\")||(b=a.parsePathString(b));if(!b||!b.length)return[[\"M\",0,0] ];var h=[],f=0,l=0,n=0,k=0,p=0;\"M\"==b[0][0]&&(f=+b[0][1],l=+b[0][2],n=f,k=l,p++,h[0]=[\"M\",f,l]);for(var q=3==b.length&&\"M\"==b[0][0]&&\"R\"==b[1][0].toUpperCase()&&\"Z\"==b[2][0].toUpperCase(),s,r,w=p,c=b.length;w<c;w++){h.push(s=[]);r=b[w];p=r[0];if(p!=p.toUpperCase())switch(s[0]=p.toUpperCase(),s[0]){case \"A\":s[1]=r[1];s[2]=r[2];s[3]=r[3];s[4]=r[4];s[5]=r[5];s[6]=+r[6]+f;s[7]=+r[7]+\n",
       "l;break;case \"V\":s[1]=+r[1]+l;break;case \"H\":s[1]=+r[1]+f;break;case \"R\":for(var t=[f,l].concat(r.slice(1)),u=2,v=t.length;u<v;u++)t[u]=+t[u]+f,t[++u]=+t[u]+l;h.pop();h=h.concat(P(t,q));break;case \"O\":h.pop();t=x(f,l,r[1],r[2]);t.push(t[0]);h=h.concat(t);break;case \"U\":h.pop();h=h.concat(x(f,l,r[1],r[2],r[3]));s=[\"U\"].concat(h[h.length-1].slice(-2));break;case \"M\":n=+r[1]+f,k=+r[2]+l;default:for(u=1,v=r.length;u<v;u++)s[u]=+r[u]+(u%2?f:l)}else if(\"R\"==p)t=[f,l].concat(r.slice(1)),h.pop(),h=h.concat(P(t,\n",
       "q)),s=[\"R\"].concat(r.slice(-2));else if(\"O\"==p)h.pop(),t=x(f,l,r[1],r[2]),t.push(t[0]),h=h.concat(t);else if(\"U\"==p)h.pop(),h=h.concat(x(f,l,r[1],r[2],r[3])),s=[\"U\"].concat(h[h.length-1].slice(-2));else for(t=0,u=r.length;t<u;t++)s[t]=r[t];p=p.toUpperCase();if(\"O\"!=p)switch(s[0]){case \"Z\":f=+n;l=+k;break;case \"H\":f=s[1];break;case \"V\":l=s[1];break;case \"M\":n=s[s.length-2],k=s[s.length-1];default:f=s[s.length-2],l=s[s.length-1]}}h.toString=z;e.abs=d(h);return h}function h(a,b,d,e){return[a,b,d,e,d,\n",
       "e]}function J(a,b,d,e,h,f){var l=1/3,n=2/3;return[l*a+n*d,l*b+n*e,l*h+n*d,l*f+n*e,h,f]}function K(b,d,e,h,f,l,n,k,p,s){var r=120*S/180,q=S/180*(+f||0),c=[],t,x=a._.cacher(function(a,b,c){var d=a*F.cos(c)-b*F.sin(c);a=a*F.sin(c)+b*F.cos(c);return{x:d,y:a}});if(s)v=s[0],t=s[1],l=s[2],u=s[3];else{t=x(b,d,-q);b=t.x;d=t.y;t=x(k,p,-q);k=t.x;p=t.y;F.cos(S/180*f);F.sin(S/180*f);t=(b-k)/2;v=(d-p)/2;u=t*t/(e*e)+v*v/(h*h);1<u&&(u=F.sqrt(u),e*=u,h*=u);var u=e*e,w=h*h,u=(l==n?-1:1)*F.sqrt(Z((u*w-u*v*v-w*t*t)/\n",
       "(u*v*v+w*t*t)));l=u*e*v/h+(b+k)/2;var u=u*-h*t/e+(d+p)/2,v=F.asin(((d-u)/h).toFixed(9));t=F.asin(((p-u)/h).toFixed(9));v=b<l?S-v:v;t=k<l?S-t:t;0>v&&(v=2*S+v);0>t&&(t=2*S+t);n&&v>t&&(v-=2*S);!n&&t>v&&(t-=2*S)}if(Z(t-v)>r){var c=t,w=k,G=p;t=v+r*(n&&t>v?1:-1);k=l+e*F.cos(t);p=u+h*F.sin(t);c=K(k,p,e,h,f,0,n,w,G,[t,c,l,u])}l=t-v;f=F.cos(v);r=F.sin(v);n=F.cos(t);t=F.sin(t);l=F.tan(l/4);e=4/3*e*l;l*=4/3*h;h=[b,d];b=[b+e*r,d-l*f];d=[k+e*t,p-l*n];k=[k,p];b[0]=2*h[0]-b[0];b[1]=2*h[1]-b[1];if(s)return[b,d,k].concat(c);\n",
       "c=[b,d,k].concat(c).join().split(\",\");s=[];k=0;for(p=c.length;k<p;k++)s[k]=k%2?x(c[k-1],c[k],q).y:x(c[k],c[k+1],q).x;return s}function U(a,b,d,e,h,f,l,k){for(var n=[],p=[[],[] ],s,r,c,t,q=0;2>q;++q)0==q?(r=6*a-12*d+6*h,s=-3*a+9*d-9*h+3*l,c=3*d-3*a):(r=6*b-12*e+6*f,s=-3*b+9*e-9*f+3*k,c=3*e-3*b),1E-12>Z(s)?1E-12>Z(r)||(s=-c/r,0<s&&1>s&&n.push(s)):(t=r*r-4*c*s,c=F.sqrt(t),0>t||(t=(-r+c)/(2*s),0<t&&1>t&&n.push(t),s=(-r-c)/(2*s),0<s&&1>s&&n.push(s)));for(r=q=n.length;q--;)s=n[q],c=1-s,p[0][q]=c*c*c*a+3*\n",
       "c*c*s*d+3*c*s*s*h+s*s*s*l,p[1][q]=c*c*c*b+3*c*c*s*e+3*c*s*s*f+s*s*s*k;p[0][r]=a;p[1][r]=b;p[0][r+1]=l;p[1][r+1]=k;p[0].length=p[1].length=r+2;return{min:{x:X.apply(0,p[0]),y:X.apply(0,p[1])},max:{x:W.apply(0,p[0]),y:W.apply(0,p[1])}}}function I(a,b){var e=!b&&A(a);if(!b&&e.curve)return d(e.curve);var f=G(a),l=b&&G(b),n={x:0,y:0,bx:0,by:0,X:0,Y:0,qx:null,qy:null},k={x:0,y:0,bx:0,by:0,X:0,Y:0,qx:null,qy:null},p=function(a,b,c){if(!a)return[\"C\",b.x,b.y,b.x,b.y,b.x,b.y];a[0]in{T:1,Q:1}||(b.qx=b.qy=null);\n",
       "switch(a[0]){case \"M\":b.X=a[1];b.Y=a[2];break;case \"A\":a=[\"C\"].concat(K.apply(0,[b.x,b.y].concat(a.slice(1))));break;case \"S\":\"C\"==c||\"S\"==c?(c=2*b.x-b.bx,b=2*b.y-b.by):(c=b.x,b=b.y);a=[\"C\",c,b].concat(a.slice(1));break;case \"T\":\"Q\"==c||\"T\"==c?(b.qx=2*b.x-b.qx,b.qy=2*b.y-b.qy):(b.qx=b.x,b.qy=b.y);a=[\"C\"].concat(J(b.x,b.y,b.qx,b.qy,a[1],a[2]));break;case \"Q\":b.qx=a[1];b.qy=a[2];a=[\"C\"].concat(J(b.x,b.y,a[1],a[2],a[3],a[4]));break;case \"L\":a=[\"C\"].concat(h(b.x,b.y,a[1],a[2]));break;case \"H\":a=[\"C\"].concat(h(b.x,\n",
       "b.y,a[1],b.y));break;case \"V\":a=[\"C\"].concat(h(b.x,b.y,b.x,a[1]));break;case \"Z\":a=[\"C\"].concat(h(b.x,b.y,b.X,b.Y))}return a},s=function(a,b){if(7<a[b].length){a[b].shift();for(var c=a[b];c.length;)q[b]=\"A\",l&&(u[b]=\"A\"),a.splice(b++,0,[\"C\"].concat(c.splice(0,6)));a.splice(b,1);v=W(f.length,l&&l.length||0)}},r=function(a,b,c,d,e){a&&b&&\"M\"==a[e][0]&&\"M\"!=b[e][0]&&(b.splice(e,0,[\"M\",d.x,d.y]),c.bx=0,c.by=0,c.x=a[e][1],c.y=a[e][2],v=W(f.length,l&&l.length||0))},q=[],u=[],c=\"\",t=\"\",x=0,v=W(f.length,\n",
       "l&&l.length||0);for(;x<v;x++){f[x]&&(c=f[x][0]);\"C\"!=c&&(q[x]=c,x&&(t=q[x-1]));f[x]=p(f[x],n,t);\"A\"!=q[x]&&\"C\"==c&&(q[x]=\"C\");s(f,x);l&&(l[x]&&(c=l[x][0]),\"C\"!=c&&(u[x]=c,x&&(t=u[x-1])),l[x]=p(l[x],k,t),\"A\"!=u[x]&&\"C\"==c&&(u[x]=\"C\"),s(l,x));r(f,l,n,k,x);r(l,f,k,n,x);var w=f[x],z=l&&l[x],y=w.length,U=l&&z.length;n.x=w[y-2];n.y=w[y-1];n.bx=$(w[y-4])||n.x;n.by=$(w[y-3])||n.y;k.bx=l&&($(z[U-4])||k.x);k.by=l&&($(z[U-3])||k.y);k.x=l&&z[U-2];k.y=l&&z[U-1]}l||(e.curve=d(f));return l?[f,l]:f}function P(a,\n",
       "b){for(var d=[],e=0,h=a.length;h-2*!b>e;e+=2){var f=[{x:+a[e-2],y:+a[e-1]},{x:+a[e],y:+a[e+1]},{x:+a[e+2],y:+a[e+3]},{x:+a[e+4],y:+a[e+5]}];b?e?h-4==e?f[3]={x:+a[0],y:+a[1]}:h-2==e&&(f[2]={x:+a[0],y:+a[1]},f[3]={x:+a[2],y:+a[3]}):f[0]={x:+a[h-2],y:+a[h-1]}:h-4==e?f[3]=f[2]:e||(f[0]={x:+a[e],y:+a[e+1]});d.push([\"C\",(-f[0].x+6*f[1].x+f[2].x)/6,(-f[0].y+6*f[1].y+f[2].y)/6,(f[1].x+6*f[2].x-f[3].x)/6,(f[1].y+6*f[2].y-f[3].y)/6,f[2].x,f[2].y])}return d}y=k.prototype;var Q=a.is,C=a._.clone,L=\"hasOwnProperty\",\n",
       "N=/,?([a-z]),?/gi,$=parseFloat,F=Math,S=F.PI,X=F.min,W=F.max,ma=F.pow,Z=F.abs;M=n(1);var na=n(),ba=n(0,1),V=a._unit2px;a.path=A;a.path.getTotalLength=M;a.path.getPointAtLength=na;a.path.getSubpath=function(a,b,d){if(1E-6>this.getTotalLength(a)-d)return ba(a,b).end;a=ba(a,d,1);return b?ba(a,b).end:a};y.getTotalLength=function(){if(this.node.getTotalLength)return this.node.getTotalLength()};y.getPointAtLength=function(a){return na(this.attr(\"d\"),a)};y.getSubpath=function(b,d){return a.path.getSubpath(this.attr(\"d\"),\n",
       "b,d)};a._.box=w;a.path.findDotsAtSegment=u;a.path.bezierBBox=p;a.path.isPointInsideBBox=b;a.path.isBBoxIntersect=q;a.path.intersection=function(a,b){return l(a,b)};a.path.intersectionNumber=function(a,b){return l(a,b,1)};a.path.isPointInside=function(a,d,e){var h=r(a);return b(h,d,e)&&1==l(a,[[\"M\",d,e],[\"H\",h.x2+10] ],1)%2};a.path.getBBox=r;a.path.get={path:function(a){return a.attr(\"path\")},circle:function(a){a=V(a);return x(a.cx,a.cy,a.r)},ellipse:function(a){a=V(a);return x(a.cx||0,a.cy||0,a.rx,\n",
       "a.ry)},rect:function(a){a=V(a);return s(a.x||0,a.y||0,a.width,a.height,a.rx,a.ry)},image:function(a){a=V(a);return s(a.x||0,a.y||0,a.width,a.height)},line:function(a){return\"M\"+[a.attr(\"x1\")||0,a.attr(\"y1\")||0,a.attr(\"x2\"),a.attr(\"y2\")]},polyline:function(a){return\"M\"+a.attr(\"points\")},polygon:function(a){return\"M\"+a.attr(\"points\")+\"z\"},deflt:function(a){a=a.node.getBBox();return s(a.x,a.y,a.width,a.height)}};a.path.toRelative=function(b){var e=A(b),h=String.prototype.toLowerCase;if(e.rel)return d(e.rel);\n",
       "a.is(b,\"array\")&&a.is(b&&b[0],\"array\")||(b=a.parsePathString(b));var f=[],l=0,n=0,k=0,p=0,s=0;\"M\"==b[0][0]&&(l=b[0][1],n=b[0][2],k=l,p=n,s++,f.push([\"M\",l,n]));for(var r=b.length;s<r;s++){var q=f[s]=[],x=b[s];if(x[0]!=h.call(x[0]))switch(q[0]=h.call(x[0]),q[0]){case \"a\":q[1]=x[1];q[2]=x[2];q[3]=x[3];q[4]=x[4];q[5]=x[5];q[6]=+(x[6]-l).toFixed(3);q[7]=+(x[7]-n).toFixed(3);break;case \"v\":q[1]=+(x[1]-n).toFixed(3);break;case \"m\":k=x[1],p=x[2];default:for(var c=1,t=x.length;c<t;c++)q[c]=+(x[c]-(c%2?l:\n",
       "n)).toFixed(3)}else for(f[s]=[],\"m\"==x[0]&&(k=x[1]+l,p=x[2]+n),q=0,c=x.length;q<c;q++)f[s][q]=x[q];x=f[s].length;switch(f[s][0]){case \"z\":l=k;n=p;break;case \"h\":l+=+f[s][x-1];break;case \"v\":n+=+f[s][x-1];break;default:l+=+f[s][x-2],n+=+f[s][x-1]}}f.toString=z;e.rel=d(f);return f};a.path.toAbsolute=G;a.path.toCubic=I;a.path.map=function(a,b){if(!b)return a;var d,e,h,f,l,n,k;a=I(a);h=0;for(l=a.length;h<l;h++)for(k=a[h],f=1,n=k.length;f<n;f+=2)d=b.x(k[f],k[f+1]),e=b.y(k[f],k[f+1]),k[f]=d,k[f+1]=e;return a};\n",
       "a.path.toString=z;a.path.clone=d});C.plugin(function(a,v,y,C){var A=Math.max,w=Math.min,z=function(a){this.items=[];this.bindings={};this.length=0;this.type=\"set\";if(a)for(var f=0,n=a.length;f<n;f++)a[f]&&(this[this.items.length]=this.items[this.items.length]=a[f],this.length++)};v=z.prototype;v.push=function(){for(var a,f,n=0,k=arguments.length;n<k;n++)if(a=arguments[n])f=this.items.length,this[f]=this.items[f]=a,this.length++;return this};v.pop=function(){this.length&&delete this[this.length--];\n",
       "return this.items.pop()};v.forEach=function(a,f){for(var n=0,k=this.items.length;n<k&&!1!==a.call(f,this.items[n],n);n++);return this};v.animate=function(d,f,n,u){\"function\"!=typeof n||n.length||(u=n,n=L.linear);d instanceof a._.Animation&&(u=d.callback,n=d.easing,f=n.dur,d=d.attr);var p=arguments;if(a.is(d,\"array\")&&a.is(p[p.length-1],\"array\"))var b=!0;var q,e=function(){q?this.b=q:q=this.b},l=0,r=u&&function(){l++==this.length&&u.call(this)};return this.forEach(function(a,l){k.once(\"snap.animcreated.\"+\n",
       "a.id,e);b?p[l]&&a.animate.apply(a,p[l]):a.animate(d,f,n,r)})};v.remove=function(){for(;this.length;)this.pop().remove();return this};v.bind=function(a,f,k){var u={};if(\"function\"==typeof f)this.bindings[a]=f;else{var p=k||a;this.bindings[a]=function(a){u[p]=a;f.attr(u)}}return this};v.attr=function(a){var f={},k;for(k in a)if(this.bindings[k])this.bindings[k](a[k]);else f[k]=a[k];a=0;for(k=this.items.length;a<k;a++)this.items[a].attr(f);return this};v.clear=function(){for(;this.length;)this.pop()};\n",
       "v.splice=function(a,f,k){a=0>a?A(this.length+a,0):a;f=A(0,w(this.length-a,f));var u=[],p=[],b=[],q;for(q=2;q<arguments.length;q++)b.push(arguments[q]);for(q=0;q<f;q++)p.push(this[a+q]);for(;q<this.length-a;q++)u.push(this[a+q]);var e=b.length;for(q=0;q<e+u.length;q++)this.items[a+q]=this[a+q]=q<e?b[q]:u[q-e];for(q=this.items.length=this.length-=f-e;this[q];)delete this[q++];return new z(p)};v.exclude=function(a){for(var f=0,k=this.length;f<k;f++)if(this[f]==a)return this.splice(f,1),!0;return!1};\n",
       "v.insertAfter=function(a){for(var f=this.items.length;f--;)this.items[f].insertAfter(a);return this};v.getBBox=function(){for(var a=[],f=[],k=[],u=[],p=this.items.length;p--;)if(!this.items[p].removed){var b=this.items[p].getBBox();a.push(b.x);f.push(b.y);k.push(b.x+b.width);u.push(b.y+b.height)}a=w.apply(0,a);f=w.apply(0,f);k=A.apply(0,k);u=A.apply(0,u);return{x:a,y:f,x2:k,y2:u,width:k-a,height:u-f,cx:a+(k-a)/2,cy:f+(u-f)/2}};v.clone=function(a){a=new z;for(var f=0,k=this.items.length;f<k;f++)a.push(this.items[f].clone());\n",
       "return a};v.toString=function(){return\"Snap\\u2018s set\"};v.type=\"set\";a.set=function(){var a=new z;arguments.length&&a.push.apply(a,Array.prototype.slice.call(arguments,0));return a}});C.plugin(function(a,v,y,C){function A(a){var b=a[0];switch(b.toLowerCase()){case \"t\":return[b,0,0];case \"m\":return[b,1,0,0,1,0,0];case \"r\":return 4==a.length?[b,0,a[2],a[3] ]:[b,0];case \"s\":return 5==a.length?[b,1,1,a[3],a[4] ]:3==a.length?[b,1,1]:[b,1]}}function w(b,d,f){d=q(d).replace(/\\.{3}|\\u2026/g,b);b=a.parseTransformString(b)||\n",
       "[];d=a.parseTransformString(d)||[];for(var k=Math.max(b.length,d.length),p=[],v=[],h=0,w,z,y,I;h<k;h++){y=b[h]||A(d[h]);I=d[h]||A(y);if(y[0]!=I[0]||\"r\"==y[0].toLowerCase()&&(y[2]!=I[2]||y[3]!=I[3])||\"s\"==y[0].toLowerCase()&&(y[3]!=I[3]||y[4]!=I[4])){b=a._.transform2matrix(b,f());d=a._.transform2matrix(d,f());p=[[\"m\",b.a,b.b,b.c,b.d,b.e,b.f] ];v=[[\"m\",d.a,d.b,d.c,d.d,d.e,d.f] ];break}p[h]=[];v[h]=[];w=0;for(z=Math.max(y.length,I.length);w<z;w++)w in y&&(p[h][w]=y[w]),w in I&&(v[h][w]=I[w])}return{from:u(p),\n",
       "to:u(v),f:n(p)}}function z(a){return a}function d(a){return function(b){return+b.toFixed(3)+a}}function f(b){return a.rgb(b[0],b[1],b[2])}function n(a){var b=0,d,f,k,n,h,p,q=[];d=0;for(f=a.length;d<f;d++){h=\"[\";p=['\"'+a[d][0]+'\"'];k=1;for(n=a[d].length;k<n;k++)p[k]=\"val[\"+b++ +\"]\";h+=p+\"]\";q[d]=h}return Function(\"val\",\"return Snap.path.toString.call([\"+q+\"])\")}function u(a){for(var b=[],d=0,f=a.length;d<f;d++)for(var k=1,n=a[d].length;k<n;k++)b.push(a[d][k]);return b}var p={},b=/[a-z]+$/i,q=String;\n",
       "p.stroke=p.fill=\"colour\";v.prototype.equal=function(a,b){return k(\"snap.util.equal\",this,a,b).firstDefined()};k.on(\"snap.util.equal\",function(e,k){var r,s;r=q(this.attr(e)||\"\");var x=this;if(r==+r&&k==+k)return{from:+r,to:+k,f:z};if(\"colour\"==p[e])return r=a.color(r),s=a.color(k),{from:[r.r,r.g,r.b,r.opacity],to:[s.r,s.g,s.b,s.opacity],f:f};if(\"transform\"==e||\"gradientTransform\"==e||\"patternTransform\"==e)return k instanceof a.Matrix&&(k=k.toTransformString()),a._.rgTransform.test(k)||(k=a._.svgTransform2string(k)),\n",
       "w(r,k,function(){return x.getBBox(1)});if(\"d\"==e||\"path\"==e)return r=a.path.toCubic(r,k),{from:u(r[0]),to:u(r[1]),f:n(r[0])};if(\"points\"==e)return r=q(r).split(a._.separator),s=q(k).split(a._.separator),{from:r,to:s,f:function(a){return a}};aUnit=r.match(b);s=q(k).match(b);return aUnit&&aUnit==s?{from:parseFloat(r),to:parseFloat(k),f:d(aUnit)}:{from:this.asPX(e),to:this.asPX(e,k),f:z}})});C.plugin(function(a,v,y,C){var A=v.prototype,w=\"createTouch\"in C.doc;v=\"click dblclick mousedown mousemove mouseout mouseover mouseup touchstart touchmove touchend touchcancel\".split(\" \");\n",
       "var z={mousedown:\"touchstart\",mousemove:\"touchmove\",mouseup:\"touchend\"},d=function(a,b){var d=\"y\"==a?\"scrollTop\":\"scrollLeft\",e=b&&b.node?b.node.ownerDocument:C.doc;return e[d in e.documentElement?\"documentElement\":\"body\"][d]},f=function(){this.returnValue=!1},n=function(){return this.originalEvent.preventDefault()},u=function(){this.cancelBubble=!0},p=function(){return this.originalEvent.stopPropagation()},b=function(){if(C.doc.addEventListener)return function(a,b,e,f){var k=w&&z[b]?z[b]:b,l=function(k){var l=\n",
       "d(\"y\",f),q=d(\"x\",f);if(w&&z.hasOwnProperty(b))for(var r=0,u=k.targetTouches&&k.targetTouches.length;r<u;r++)if(k.targetTouches[r].target==a||a.contains(k.targetTouches[r].target)){u=k;k=k.targetTouches[r];k.originalEvent=u;k.preventDefault=n;k.stopPropagation=p;break}return e.call(f,k,k.clientX+q,k.clientY+l)};b!==k&&a.addEventListener(b,l,!1);a.addEventListener(k,l,!1);return function(){b!==k&&a.removeEventListener(b,l,!1);a.removeEventListener(k,l,!1);return!0}};if(C.doc.attachEvent)return function(a,\n",
       "b,e,h){var k=function(a){a=a||h.node.ownerDocument.window.event;var b=d(\"y\",h),k=d(\"x\",h),k=a.clientX+k,b=a.clientY+b;a.preventDefault=a.preventDefault||f;a.stopPropagation=a.stopPropagation||u;return e.call(h,a,k,b)};a.attachEvent(\"on\"+b,k);return function(){a.detachEvent(\"on\"+b,k);return!0}}}(),q=[],e=function(a){for(var b=a.clientX,e=a.clientY,f=d(\"y\"),l=d(\"x\"),n,p=q.length;p--;){n=q[p];if(w)for(var r=a.touches&&a.touches.length,u;r--;){if(u=a.touches[r],u.identifier==n.el._drag.id||n.el.node.contains(u.target)){b=\n",
       "u.clientX;e=u.clientY;(a.originalEvent?a.originalEvent:a).preventDefault();break}}else a.preventDefault();b+=l;e+=f;k(\"snap.drag.move.\"+n.el.id,n.move_scope||n.el,b-n.el._drag.x,e-n.el._drag.y,b,e,a)}},l=function(b){a.unmousemove(e).unmouseup(l);for(var d=q.length,f;d--;)f=q[d],f.el._drag={},k(\"snap.drag.end.\"+f.el.id,f.end_scope||f.start_scope||f.move_scope||f.el,b);q=[]};for(y=v.length;y--;)(function(d){a[d]=A[d]=function(e,f){a.is(e,\"function\")&&(this.events=this.events||[],this.events.push({name:d,\n",
       "f:e,unbind:b(this.node||document,d,e,f||this)}));return this};a[\"un\"+d]=A[\"un\"+d]=function(a){for(var b=this.events||[],e=b.length;e--;)if(b[e].name==d&&(b[e].f==a||!a)){b[e].unbind();b.splice(e,1);!b.length&&delete this.events;break}return this}})(v[y]);A.hover=function(a,b,d,e){return this.mouseover(a,d).mouseout(b,e||d)};A.unhover=function(a,b){return this.unmouseover(a).unmouseout(b)};var r=[];A.drag=function(b,d,f,h,n,p){function u(r,v,w){(r.originalEvent||r).preventDefault();this._drag.x=v;\n",
       "this._drag.y=w;this._drag.id=r.identifier;!q.length&&a.mousemove(e).mouseup(l);q.push({el:this,move_scope:h,start_scope:n,end_scope:p});d&&k.on(\"snap.drag.start.\"+this.id,d);b&&k.on(\"snap.drag.move.\"+this.id,b);f&&k.on(\"snap.drag.end.\"+this.id,f);k(\"snap.drag.start.\"+this.id,n||h||this,v,w,r)}if(!arguments.length){var v;return this.drag(function(a,b){this.attr({transform:v+(v?\"T\":\"t\")+[a,b]})},function(){v=this.transform().local})}this._drag={};r.push({el:this,start:u});this.mousedown(u);return this};\n",
       "A.undrag=function(){for(var b=r.length;b--;)r[b].el==this&&(this.unmousedown(r[b].start),r.splice(b,1),k.unbind(\"snap.drag.*.\"+this.id));!r.length&&a.unmousemove(e).unmouseup(l);return this}});C.plugin(function(a,v,y,C){y=y.prototype;var A=/^\\s*url\\((.+)\\)/,w=String,z=a._.$;a.filter={};y.filter=function(d){var f=this;\"svg\"!=f.type&&(f=f.paper);d=a.parse(w(d));var k=a._.id(),u=z(\"filter\");z(u,{id:k,filterUnits:\"userSpaceOnUse\"});u.appendChild(d.node);f.defs.appendChild(u);return new v(u)};k.on(\"snap.util.getattr.filter\",\n",
       "function(){k.stop();var d=z(this.node,\"filter\");if(d)return(d=w(d).match(A))&&a.select(d[1])});k.on(\"snap.util.attr.filter\",function(d){if(d instanceof v&&\"filter\"==d.type){k.stop();var f=d.node.id;f||(z(d.node,{id:d.id}),f=d.id);z(this.node,{filter:a.url(f)})}d&&\"none\"!=d||(k.stop(),this.node.removeAttribute(\"filter\"))});a.filter.blur=function(d,f){null==d&&(d=2);return a.format('<feGaussianBlur stdDeviation=\"{def}\"/>',{def:null==f?d:[d,f]})};a.filter.blur.toString=function(){return this()};a.filter.shadow=\n",
       "function(d,f,k,u,p){\"string\"==typeof k&&(p=u=k,k=4);\"string\"!=typeof u&&(p=u,u=\"#000\");null==k&&(k=4);null==p&&(p=1);null==d&&(d=0,f=2);null==f&&(f=d);u=a.color(u||\"#000\");return a.format('<feGaussianBlur in=\"SourceAlpha\" stdDeviation=\"{blur}\"/><feOffset dx=\"{dx}\" dy=\"{dy}\" result=\"offsetblur\"/><feFlood flood-color=\"{color}\"/><feComposite in2=\"offsetblur\" operator=\"in\"/><feComponentTransfer><feFuncA type=\"linear\" slope=\"{opacity}\"/></feComponentTransfer><feMerge><feMergeNode/><feMergeNode in=\"SourceGraphic\"/></feMerge>',\n",
       "{color:u,dx:d,dy:f,blur:k,opacity:p})};a.filter.shadow.toString=function(){return this()};a.filter.grayscale=function(d){null==d&&(d=1);return a.format('<feColorMatrix type=\"matrix\" values=\"{a} {b} {c} 0 0 {d} {e} {f} 0 0 {g} {b} {h} 0 0 0 0 0 1 0\"/>',{a:0.2126+0.7874*(1-d),b:0.7152-0.7152*(1-d),c:0.0722-0.0722*(1-d),d:0.2126-0.2126*(1-d),e:0.7152+0.2848*(1-d),f:0.0722-0.0722*(1-d),g:0.2126-0.2126*(1-d),h:0.0722+0.9278*(1-d)})};a.filter.grayscale.toString=function(){return this()};a.filter.sepia=\n",
       "function(d){null==d&&(d=1);return a.format('<feColorMatrix type=\"matrix\" values=\"{a} {b} {c} 0 0 {d} {e} {f} 0 0 {g} {h} {i} 0 0 0 0 0 1 0\"/>',{a:0.393+0.607*(1-d),b:0.769-0.769*(1-d),c:0.189-0.189*(1-d),d:0.349-0.349*(1-d),e:0.686+0.314*(1-d),f:0.168-0.168*(1-d),g:0.272-0.272*(1-d),h:0.534-0.534*(1-d),i:0.131+0.869*(1-d)})};a.filter.sepia.toString=function(){return this()};a.filter.saturate=function(d){null==d&&(d=1);return a.format('<feColorMatrix type=\"saturate\" values=\"{amount}\"/>',{amount:1-\n",
       "d})};a.filter.saturate.toString=function(){return this()};a.filter.hueRotate=function(d){return a.format('<feColorMatrix type=\"hueRotate\" values=\"{angle}\"/>',{angle:d||0})};a.filter.hueRotate.toString=function(){return this()};a.filter.invert=function(d){null==d&&(d=1);return a.format('<feComponentTransfer><feFuncR type=\"table\" tableValues=\"{amount} {amount2}\"/><feFuncG type=\"table\" tableValues=\"{amount} {amount2}\"/><feFuncB type=\"table\" tableValues=\"{amount} {amount2}\"/></feComponentTransfer>',{amount:d,\n",
       "amount2:1-d})};a.filter.invert.toString=function(){return this()};a.filter.brightness=function(d){null==d&&(d=1);return a.format('<feComponentTransfer><feFuncR type=\"linear\" slope=\"{amount}\"/><feFuncG type=\"linear\" slope=\"{amount}\"/><feFuncB type=\"linear\" slope=\"{amount}\"/></feComponentTransfer>',{amount:d})};a.filter.brightness.toString=function(){return this()};a.filter.contrast=function(d){null==d&&(d=1);return a.format('<feComponentTransfer><feFuncR type=\"linear\" slope=\"{amount}\" intercept=\"{amount2}\"/><feFuncG type=\"linear\" slope=\"{amount}\" intercept=\"{amount2}\"/><feFuncB type=\"linear\" slope=\"{amount}\" intercept=\"{amount2}\"/></feComponentTransfer>',\n",
       "{amount:d,amount2:0.5-d/2})};a.filter.contrast.toString=function(){return this()}});return C});\n",
       "]]></script>\n",
       "    <script><![CDATA[\n",
       "        (function(glob, factory){\n",
       "    if (typeof define == \"function\" && define.amd) {\n",
       "        define(\"ProfileView\", [\"Snap.svg\"], function (Snap){\n",
       "            return factory(Snap);\n",
       "        });\n",
       "    }\n",
       "    else {\n",
       "        glob.ProfileView = factory(glob.Snap);\n",
       "    }\n",
       "}(this, function(Snap){\n",
       "    var ProfileView = {};\n",
       "\n",
       "    var avgcharwidth = 6;\n",
       "    var default_transition_time = 300;\n",
       "    var viewport_scale = 0.9;\n",
       "\n",
       "    var format_text = function(text, available_len){\n",
       "        if (available_len < 3*avgcharwidth) {\n",
       "            return \"\";\n",
       "        }\n",
       "        else if (text.length*avgcharwidth > available_len) {\n",
       "            nchars = Math.round(available_len/avgcharwidth)-2;\n",
       "            return text.slice(0,nchars) + \"..\"\n",
       "        }\n",
       "        return text;\n",
       "    }\n",
       "\n",
       "    // Shift the view port to center on xc, then scale in the x direction\n",
       "    ProfileView.move_and_zoom = function(xc, xs, xScale, fig, delta_t){\n",
       "        if (typeof delta_t === 'undefined') { delta_t = default_transition_time; }\n",
       "        if (typeof xs === 'undefined') {xs = xc;}\n",
       "\n",
       "        var oldScale = fig.scale;\n",
       "        var oldShift = fig.shift;\n",
       "\n",
       "        fig.scale = xScale;\n",
       "        fig.shift = xc;\n",
       "\n",
       "        xScale *= viewport_scale;\n",
       "\n",
       "        var oldxshift = -(oldShift - 0.5*fig.clip_width);\n",
       "        var xshift = -(xc - 0.5*fig.clip_width);\n",
       "\n",
       "        fig.texts.forEach(function(text){\n",
       "            text.node.textContent = \"\";\n",
       "        });\n",
       "\n",
       "        if (delta_t != 0){\n",
       "            Snap.animate(0, 1, function(step){\n",
       "\n",
       "                var scale = oldScale + (xScale - oldScale)*step\n",
       "                var rMatrix = new Snap.Matrix;\n",
       "                rMatrix.translate(oldxshift + (xshift - oldxshift)*step, 0);\n",
       "                rMatrix.scale(scale, 1, xs, fig.clip_middle);\n",
       "                fig.viewport.attr({\n",
       "                    transform: rMatrix\n",
       "                })\n",
       "                fig.rects.forEach(function(rect){\n",
       "                    rect.attr({\n",
       "                        rx: 2/scale,\n",
       "                        ry: 2/scale\n",
       "                    });\n",
       "                })\n",
       "\n",
       "            }, delta_t, null, function(){\n",
       "                fig.rects.forEach(function(rect, i){\n",
       "                    var bbox = rect.getBBox();\n",
       "                    var text = fig.texts[i];\n",
       "                    var shortinfo = rect.node.getAttribute(\"data-shortinfo\");\n",
       "\n",
       "                    var tMatrix = new Snap.Matrix;\n",
       "                    tMatrix.scale(1.0/xScale, 1, bbox.x, bbox.y);\n",
       "\n",
       "                    text.node.textContent = format_text(shortinfo, bbox.w*xScale);\n",
       "                    text.transform(tMatrix);\n",
       "                });\n",
       "            });\n",
       "        }\n",
       "        else {\n",
       "            var rMatrix = new Snap.Matrix;\n",
       "            rMatrix.translate(xshift, 0);\n",
       "            rMatrix.scale(xScale, 1, xs, fig.clip_middle);\n",
       "\n",
       "            fig.viewport.transform(rMatrix);\n",
       "            fig.rects.forEach(function(rect, i){\n",
       "                rect.attr({\n",
       "                    rx: 2/xScale,\n",
       "                    ry: 2/xScale\n",
       "                });\n",
       "                var bbox = rect.getBBox();\n",
       "                var text = fig.texts[i];\n",
       "                var shortinfo = rect.node.getAttribute(\"data-shortinfo\");\n",
       "\n",
       "                var tMatrix = new Snap.Matrix;\n",
       "                tMatrix.scale(1.0/xScale, 1, bbox.x, bbox.y);\n",
       "\n",
       "                text.node.textContent = format_text(shortinfo, bbox.w*xScale);\n",
       "                text.transform(tMatrix);\n",
       "            });\n",
       "       }\n",
       "\n",
       "    }\n",
       "\n",
       "    ProfileView.reset = function(fig) {\n",
       "        ProfileView.move_and_zoom(fig.viewport_cx, fig.viewport_cx, viewport_scale, fig);\n",
       "    }\n",
       "\n",
       "    return ProfileView;\n",
       "}));\n",
       "\n",
       "        (function (glob, factory) {\n",
       "            if (typeof require === \"function\" && typeof define === \"function\" && define.amd) {\n",
       "                require([\"Snap.svg\", \"ProfileView\"], function (Snap, ProfileView) {\n",
       "                    factory(Snap, ProfileView);\n",
       "                });\n",
       "          } else {\n",
       "              factory(glob.Snap, glob.ProfileView);\n",
       "          }\n",
       "        })(window, function (Snap, ProfileView) {\n",
       "            var svg = Snap.select('svg').node;\n",
       "            var pt = svg.createSVGPoint();\n",
       "\n",
       "            var fig = {};\n",
       "\n",
       "            fig.viewport = Snap.select('#fig-0c40888da1734e879bed5fff3bed0a6e-viewport');\n",
       "            fig.frame = Snap.select('#fig-0c40888da1734e879bed5fff3bed0a6e-frame');\n",
       "\n",
       "            fig.viewport_cx = fig.viewport.getBBox().cx;\n",
       "\n",
       "            fig.rects = Snap.selectAll('#fig-0c40888da1734e879bed5fff3bed0a6e-viewport rect');\n",
       "            fig.texts = Snap.selectAll('#fig-0c40888da1734e879bed5fff3bed0a6e-viewport text');\n",
       "            fig.clip = Snap.select('#fig-0c40888da1734e879bed5fff3bed0a6e-clip-rect');\n",
       "            fig.clip_width  = fig.clip.getBBox().w;\n",
       "            fig.clip_middle = fig.clip.getBBox().cy;\n",
       "            fig.details = document.getElementById(\"fig-0c40888da1734e879bed5fff3bed0a6e-details\").firstChild; \n",
       "\n",
       "            fig.scale = 1.0;\n",
       "            fig.shift = fig.viewport_cx;\n",
       "\n",
       "            ProfileView.reset(fig)\n",
       "\n",
       "            fig.rects.forEach(function(rect, i){\n",
       "                rect.dblclick(function(){\n",
       "                    bbox = rect.getBBox();\n",
       "                    ProfileView.move_and_zoom(bbox.cx, bbox.cx, fig.clip_width/bbox.w, fig);\n",
       "                })\n",
       "                .mouseover(function(){\n",
       "                    fig.details.nodeValue = rect.node.getAttribute(\"data-info\");\n",
       "                })\n",
       "                .mouseout(function(){\n",
       "                    fig.details.nodeValue = \"\";\n",
       "                });\n",
       "\n",
       "            })\n",
       "            fig.texts.forEach(function(text, i){\n",
       "                text.dblclick(function(){\n",
       "                    bbox = fig.rects[i].getBBox();\n",
       "                    ProfileView.move_and_zoom(bbox.cx, bbox.cx, fig.clip_width/bbox.w, fig);\n",
       "                })\n",
       "                .mouseover(function(){\n",
       "                    fig.details.nodeValue = fig.rects[i].node.getAttribute(\"data-info\");\n",
       "                })\n",
       "                .mouseout(function(){\n",
       "                    fig.details.nodeValue = \"\";\n",
       "                });\n",
       "            })\n",
       "            Snap.selectAll(\"#fig-0c40888da1734e879bed5fff3bed0a6e-frame .pvbackground\").forEach(function(bg){\n",
       "               bg.dblclick(function(e){\n",
       "                   ProfileView.reset(fig);\n",
       "                });\n",
       "            });\n",
       "\n",
       "            function throttle(delay, callback) {\n",
       "                var previousCall = new Date().getTime();\n",
       "                return function() {\n",
       "                    var time = new Date().getTime();\n",
       "\n",
       "                    if ((time - previousCall) >= delay) {\n",
       "                        previousCall = time;\n",
       "                        callback.apply(null, arguments);\n",
       "                    }\n",
       "                    else {\n",
       "                        arguments[0].preventDefault();\n",
       "                    }\n",
       "                };\n",
       "            }\n",
       "\n",
       "            var MouseWheelHandler = throttle(400, function(e) {\n",
       "                e.preventDefault();\n",
       "                var e = window.event || e;\n",
       "                var delta = Math.max(-1, Math.min(1, (e.wheelDelta || -e.detail)));\n",
       "                pt.x = e.clientX;\n",
       "                pt.y = e.clientY;\n",
       "\n",
       "                pt.matrixTransform(fig.viewport.node.getScreenCTM().inverse());\n",
       "                var targetScale = fig.scale + 0.2*delta;\n",
       "                ProfileView.move_and_zoom(fig.shift, pt.x, targetScale, fig, 400);\n",
       "                return false;\n",
       "            })\n",
       "            frame = fig.frame.node;\n",
       "            if (frame.addEventListener) {\n",
       "                frame.addEventListener(\"mousewheel\", MouseWheelHandler, false);\n",
       "                frame.addEventListener(\"DOMMouseScroll\", MouseWheelHandler, false);\n",
       "            }\n",
       "            else {\n",
       "                frame.attachEvent(\"onmousewheel\", MouseWheelHandler);\n",
       "            }\n",
       "\n",
       "        fig.viewport.drag();\n",
       "}); ]]></script>\n",
       "</svg>\n"
      ],
      "text/plain": [
       "ProfileView.ProfileData(3966x21 Array{ColorTypes.RGB{FixedPointNumbers.UFixed{UInt8,8}},2}:\n",
       " RGB{U8}(0.0,0.588,0.447)  RGB{U8}(1.0,0.306,0.78)  …  RGB{U8}(0.0,0.0,0.0)\n",
       " RGB{U8}(0.0,0.588,0.447)  RGB{U8}(1.0,0.306,0.78)     RGB{U8}(0.0,0.0,0.0)\n",
       " RGB{U8}(0.0,0.588,0.447)  RGB{U8}(1.0,0.306,0.78)     RGB{U8}(0.0,0.0,0.0)\n",
       " RGB{U8}(0.0,0.588,0.447)  RGB{U8}(1.0,0.306,0.78)     RGB{U8}(0.0,0.0,0.0)\n",
       " RGB{U8}(0.0,0.588,0.447)  RGB{U8}(1.0,0.306,0.78)     RGB{U8}(0.0,0.0,0.0)\n",
       " RGB{U8}(0.0,0.588,0.447)  RGB{U8}(1.0,0.306,0.78)  …  RGB{U8}(0.0,0.0,0.0)\n",
       " RGB{U8}(0.0,0.588,0.447)  RGB{U8}(1.0,0.306,0.78)     RGB{U8}(0.0,0.0,0.0)\n",
       " RGB{U8}(0.0,0.588,0.447)  RGB{U8}(1.0,0.306,0.78)     RGB{U8}(0.0,0.0,0.0)\n",
       " RGB{U8}(0.0,0.588,0.447)  RGB{U8}(1.0,0.306,0.78)     RGB{U8}(0.0,0.0,0.0)\n",
       " RGB{U8}(0.0,0.588,0.447)  RGB{U8}(1.0,0.306,0.78)     RGB{U8}(0.0,0.0,0.0)\n",
       " RGB{U8}(0.0,0.588,0.447)  RGB{U8}(1.0,0.306,0.78)  …  RGB{U8}(0.0,0.0,0.0)\n",
       " RGB{U8}(0.0,0.588,0.447)  RGB{U8}(1.0,0.306,0.78)     RGB{U8}(0.0,0.0,0.0)\n",
       " RGB{U8}(0.0,0.588,0.447)  RGB{U8}(1.0,0.306,0.78)     RGB{U8}(0.0,0.0,0.0)\n",
       " ⋮                                                  ⋱  ⋮                   \n",
       " RGB{U8}(0.0,0.0,0.0)      RGB{U8}(0.0,0.0,0.0)        RGB{U8}(0.0,0.0,0.0)\n",
       " RGB{U8}(0.0,0.0,0.0)      RGB{U8}(0.0,0.0,0.0)     …  RGB{U8}(0.0,0.0,0.0)\n",
       " RGB{U8}(0.0,0.0,0.0)      RGB{U8}(0.0,0.0,0.0)        RGB{U8}(0.0,0.0,0.0)\n",
       " RGB{U8}(0.0,0.0,0.0)      RGB{U8}(0.0,0.0,0.0)        RGB{U8}(0.0,0.0,0.0)\n",
       " RGB{U8}(0.0,0.0,0.0)      RGB{U8}(0.0,0.0,0.0)        RGB{U8}(0.0,0.0,0.0)\n",
       " RGB{U8}(0.0,0.0,0.0)      RGB{U8}(0.0,0.0,0.0)        RGB{U8}(0.0,0.0,0.0)\n",
       " RGB{U8}(0.0,0.0,0.0)      RGB{U8}(0.0,0.0,0.0)     …  RGB{U8}(0.0,0.0,0.0)\n",
       " RGB{U8}(0.0,0.0,0.0)      RGB{U8}(0.0,0.0,0.0)        RGB{U8}(0.0,0.0,0.0)\n",
       " RGB{U8}(0.0,0.0,0.0)      RGB{U8}(0.0,0.0,0.0)        RGB{U8}(0.0,0.0,0.0)\n",
       " RGB{U8}(0.0,0.0,0.0)      RGB{U8}(0.0,0.0,0.0)        RGB{U8}(0.0,0.0,0.0)\n",
       " RGB{U8}(0.0,0.0,0.0)      RGB{U8}(0.0,0.0,0.0)        RGB{U8}(0.0,0.0,0.0)\n",
       " RGB{U8}(0.0,0.0,0.0)      RGB{U8}(0.0,0.0,0.0)     …  RGB{U8}(0.0,0.0,0.0),Dict(0x000000030ae1068e=>Base.Profile.LineInfo(\"+\",\"sparse/sparsematrix.jl\",811,\"\",-1,false,13067421326),0x00000001066cdb95=>Base.Profile.LineInfo(\"sweep_page\",\"/Users/osx/buildbot/slave/package_osx10_9-x64/build/src/gc.c\",1260,\"/Users/osx/buildbot/slave/package_osx10_9-x64/build/src/gc.c\",2157,true,4402764693),0x0000000315c09b9c=>Base.Profile.LineInfo(\".>\",\"operators.jl\",39,\"\",-1,false,13249846172),0x00000001066cdb8d=>Base.Profile.LineInfo(\"sweep_page\",\"/Users/osx/buildbot/slave/package_osx10_9-x64/build/src/gc.c\",1259,\"/Users/osx/buildbot/slave/package_osx10_9-x64/build/src/gc.c\",2157,true,4402764685),0x00000001066c671b=>Base.Profile.LineInfo(\"jl_toplevel_eval_flex\",\"/Users/osx/buildbot/slave/package_osx10_9-x64/build/src/toplevel.c\",493,\"\",-1,true,4402734875),0x00000001066cdc3a=>Base.Profile.LineInfo(\"sweep_page\",\"/Users/osx/buildbot/slave/package_osx10_9-x64/build/src/gc.c\",1271,\"/Users/osx/buildbot/slave/package_osx10_9-x64/build/src/gc.c\",2157,true,4402764858),0x0000000315c04dbe=>Base.Profile.LineInfo(\"chimera\",\"/Users/spielman/git/Laplacians.jl/src/graphGenerators.jl\",442,\"\",-1,false,13249826238),0x00000001066cdb25=>Base.Profile.LineInfo(\"sweep_page\",\"/Users/osx/buildbot/slave/package_osx10_9-x64/build/src/gc.c\",1248,\"/Users/osx/buildbot/slave/package_osx10_9-x64/build/src/gc.c\",2157,true,4402764581),0x00000001066cdb1d=>Base.Profile.LineInfo(\"sweep_page\",\"/Users/osx/buildbot/slave/package_osx10_9-x64/build/src/gc.c\",1247,\"/Users/osx/buildbot/slave/package_osx10_9-x64/build/src/gc.c\",2157,true,4402764573),0x000000030ae0f5bd=>Base.Profile.LineInfo(\"kron\",\"sparse/linalg.jl\",727,\"\",-1,false,13067417021),0x00000001066cdb7f=>Base.Profile.LineInfo(\"sweep_page\",\"/Users/osx/buildbot/slave/package_osx10_9-x64/build/src/gc.c\",1253,\"/Users/osx/buildbot/slave/package_osx10_9-x64/build/src/gc.c\",2157,true,4402764671),0x0000000315bb7990=>Base.Profile.LineInfo(\"findnz\",\"sparse/sparsematrix.jl\",444,\"\",-1,false,13249509776),0x00000001066bab92=>Base.Profile.LineInfo(\"_new_array_\",\"/Users/osx/buildbot/slave/package_osx10_9-x64/build/src/array.c\",84,\"\",-1,true,4402686866),0x000000030ae0f029=>Base.Profile.LineInfo(\"cumsum_pairwise!\",\"arraymath.jl\",436,\"\",-1,false,13067415593),0x000000030ae0e0a3=>Base.Profile.LineInfo(\"sparse\",\"sparse/csparse.jl\",69,\"\",-1,false,13067411619),0x00000001066cd984=>Base.Profile.LineInfo(\"sweep_pool_region\",\"/Users/osx/buildbot/slave/package_osx10_9-x64/build/src/gc.c\",1177,\"/Users/osx/buildbot/slave/package_osx10_9-x64/build/src/gc.c\",2157,true,4402764164),0x00000001066cdc05=>Base.Profile.LineInfo(\"sweep_page\",\"/Users/osx/buildbot/slave/package_osx10_9-x64/build/src/gc.c\",1266,\"/Users/osx/buildbot/slave/package_osx10_9-x64/build/src/gc.c\",2157,true,4402764805),0x0000000106645393=>Base.Profile.LineInfo(\"typekey_compare\",\"/Users/osx/buildbot/slave/package_osx10_9-x64/build/src/jltypes.c\",1833,\"/Users/osx/buildbot/slave/package_osx10_9-x64/build/src/jltypes.c\",1879,true,4402205587),0x000000030ae0e242=>Base.Profile.LineInfo(\"sparse\",\"sparse/csparse.jl\",91,\"\",-1,false,13067412034),0x00000001066cdb81=>Base.Profile.LineInfo(\"sweep_page\",\"/Users/osx/buildbot/slave/package_osx10_9-x64/build/src/gc.c\",1253,\"/Users/osx/buildbot/slave/package_osx10_9-x64/build/src/gc.c\",2157,true,4402764673),0x00000001066cdaa6=>Base.Profile.LineInfo(\"sweep_page\",\"/Users/osx/buildbot/slave/package_osx10_9-x64/build/src/gc.c\",1309,\"/Users/osx/buildbot/slave/package_osx10_9-x64/build/src/gc.c\",2157,true,4402764454),0x00000001066cdb3c=>Base.Profile.LineInfo(\"sweep_page\",\"/Users/osx/buildbot/slave/package_osx10_9-x64/build/src/gc.c\",1249,\"/Users/osx/buildbot/slave/package_osx10_9-x64/build/src/gc.c\",2157,true,4402764604),0x0000000315c0503b=>Base.Profile.LineInfo(\"chimera\",\"/Users/spielman/git/Laplacians.jl/src/graphGenerators.jl\",465,\"\",-1,false,13249826875),0x000000030ae0e091=>Base.Profile.LineInfo(\"sparse\",\"sparse/csparse.jl\",67,\"\",-1,false,13067411601),0x00000001066d8699=>Base.Profile.LineInfo(\"relocate\",\"/Users/osx/buildbot/slave/package_osx10_9-x64/build/src/flisp/flisp.c\",564,\"\",-1,true,4402808473),0x00000001066cdba2=>Base.Profile.LineInfo(\"sweep_page\",\"/Users/osx/buildbot/slave/package_osx10_9-x64/build/src/gc.c\",1237,\"/Users/osx/buildbot/slave/package_osx10_9-x64/build/src/gc.c\",2157,true,4402764706),0x000000030ae0e0e7=>Base.Profile.LineInfo(\"sparse\",\"sparse/csparse.jl\",74,\"\",-1,false,13067411687),0x00000001066d212d=>Base.Profile.LineInfo(\"symbol\",\"/Users/osx/buildbot/slave/package_osx10_9-x64/build/src/flisp/flisp.c\",307,\"\",-1,true,4402782509),0x00000001066cd4bb=>Base.Profile.LineInfo(\"sweep_malloced_arrays\",\"/Users/osx/buildbot/slave/package_osx10_9-x64/build/src/gc.c\",995,\"/Users/osx/buildbot/slave/package_osx10_9-x64/build/src/gc.c\",2153,true,4402762939),0x000000030ae0e647=>Base.Profile.LineInfo(\"sparse\",\"sparse/csparse.jl\",132,\"\",-1,false,13067413063),0x00007fff8f1aec6e=>Base.Profile.LineInfo(\"tiny_free_list_add_ptr\",\"/usr/lib/system/libsystem_malloc.dylib\",-1,\"\",-1,true,140735594294382),0x00007fff9a4aef49=>Base.Profile.LineInfo(\"_platform_memmove\\$VARIANT\\$Haswell\",\"/usr/lib/system/libsystem_platform.dylib\",-1,\"\",-1,true,140735781990217),0x000000030ae0e0f6=>Base.Profile.LineInfo(\"sparse\",\"sparse/csparse.jl\",75,\"\",-1,false,13067411702),0x000000030ae0f29e=>Base.Profile.LineInfo(\"kron\",\"sparse/linalg.jl\",694,\"\",-1,false,13067416222),0x000000030adc71c9=>Base.Profile.LineInfo(\"anonymous\",\"task.jl\",447,\"\",-1,false,13067121097),0x000000030ae0e0ad=>Base.Profile.LineInfo(\"sparse\",\"sparse/csparse.jl\",71,\"\",-1,false,13067411629),0x000000030ae0e463=>Base.Profile.LineInfo(\"sparse\",\"sparse/csparse.jl\",119,\"\",-1,false,13067412579),0x00000001066cdfc2=>Base.Profile.LineInfo(\"sweep_pool_region\",\"/Users/osx/buildbot/slave/package_osx10_9-x64/build/src/gc.c\",1182,\"/Users/osx/buildbot/slave/package_osx10_9-x64/build/src/gc.c\",2157,true,4402765762),0x00000001066ccea4=>Base.Profile.LineInfo(\"jl_gc_collect\",\"/Users/osx/buildbot/slave/package_osx10_9-x64/build/src/gc.c\",2037,\"\",-1,true,4402761380),0x00000001066cdb2b=>Base.Profile.LineInfo(\"sweep_page\",\"/Users/osx/buildbot/slave/package_osx10_9-x64/build/src/gc.c\",1248,\"/Users/osx/buildbot/slave/package_osx10_9-x64/build/src/gc.c\",2157,true,4402764587),0x00000001066ddc7b=>Base.Profile.LineInfo(\"fl_map1\",\"/Users/osx/buildbot/slave/package_osx10_9-x64/build/src/flisp/flisp.c\",2256,\"\",-1,true,4402830459),0x0000000315c084dd=>Base.Profile.LineInfo(\"pureRandomGraph\",\"/Users/spielman/git/Laplacians.jl/src/graphGenerators.jl\",390,\"\",-1,false,13249840349),0x0000000315bb7954=>Base.Profile.LineInfo(\"findnz\",\"sparse/sparsematrix.jl\",443,\"\",-1,false,13249509716),0x0000000315bb7925=>Base.Profile.LineInfo(\"findnz\",\"sparse/sparsematrix.jl\",442,\"\",-1,false,13249509669),0x00000001066cdb8a=>Base.Profile.LineInfo(\"sweep_page\",\"/Users/osx/buildbot/slave/package_osx10_9-x64/build/src/gc.c\",1258,\"/Users/osx/buildbot/slave/package_osx10_9-x64/build/src/gc.c\",2157,true,4402764682),0x00000001066e5781=>Base.Profile.LineInfo(\"apply_cl\",\"/Users/osx/buildbot/slave/package_osx10_9-x64/build/src/flisp/flisp.c\",1276,\"\",-1,true,4402861953),0x00000001066cdbf4=>Base.Profile.LineInfo(\"sweep_page\",\"/Users/osx/buildbot/slave/package_osx10_9-x64/build/src/gc.c\",1267,\"/Users/osx/buildbot/slave/package_osx10_9-x64/build/src/gc.c\",2157,true,4402764788),0x00000001066cdb21=>Base.Profile.LineInfo(\"sweep_page\",\"/Users/osx/buildbot/slave/package_osx10_9-x64/build/src/gc.c\",1248,\"/Users/osx/buildbot/slave/package_osx10_9-x64/build/src/gc.c\",2157,true,4402764577),0x00007fff8f1adddc=>Base.Profile.LineInfo(\"szone_free_definite_size\",\"/usr/lib/system/libsystem_malloc.dylib\",-1,\"\",-1,true,140735594290652),0x00000001066534a9=>Base.Profile.LineInfo(\"jl_expand\",\"/Users/osx/buildbot/slave/package_osx10_9-x64/build/src/ast.c\",613,\"\",-1,true,4402263209),0x00000001066babe1=>Base.Profile.LineInfo(\"_new_array_\",\"/Users/osx/buildbot/slave/package_osx10_9-x64/build/src/array.c\",94,\"\",-1,true,4402686945),0x00000001066cdba4=>Base.Profile.LineInfo(\"sweep_page\",\"/Users/osx/buildbot/slave/package_osx10_9-x64/build/src/gc.c\",1237,\"/Users/osx/buildbot/slave/package_osx10_9-x64/build/src/gc.c\",2157,true,4402764708),0x00000001066cdb53=>Base.Profile.LineInfo(\"sweep_page\",\"/Users/osx/buildbot/slave/package_osx10_9-x64/build/src/gc.c\",1242,\"/Users/osx/buildbot/slave/package_osx10_9-x64/build/src/gc.c\",2157,true,4402764627),0x00000001066daf27=>Base.Profile.LineInfo(\"trace_globals\",\"/Users/osx/buildbot/slave/package_osx10_9-x64/build/src/flisp/flisp.c\",593,\"\",-1,true,4402818855),0x000000030ae106e6=>Base.Profile.LineInfo(\"+\",\"sparse/sparsematrix.jl\",826,\"\",-1,false,13067421414),0x00000001066cd9d7=>Base.Profile.LineInfo(\"sweep_page\",\"/Users/osx/buildbot/slave/package_osx10_9-x64/build/src/gc.c\",1206,\"/Users/osx/buildbot/slave/package_osx10_9-x64/build/src/gc.c\",2157,true,4402764247),0x0000000315c04ece=>Base.Profile.LineInfo(\"chimera\",\"/Users/spielman/git/Laplacians.jl/src/graphGenerators.jl\",453,\"\",-1,false,13249826510),0x0000000315c05020=>Base.Profile.LineInfo(\"chimera\",\"/Users/spielman/git/Laplacians.jl/src/graphGenerators.jl\",465,\"\",-1,false,13249826848),0x00000001066cdb5a=>Base.Profile.LineInfo(\"sweep_page\",\"/Users/osx/buildbot/slave/package_osx10_9-x64/build/src/gc.c\",1243,\"/Users/osx/buildbot/slave/package_osx10_9-x64/build/src/gc.c\",2157,true,4402764634),0x00000001066c70ad=>Base.Profile.LineInfo(\"jl_parse_eval_all\",\"/Users/osx/buildbot/slave/package_osx10_9-x64/build/src/toplevel.c\",577,\"\",-1,true,4402737325),0x000000030ae0e639=>Base.Profile.LineInfo(\"sparse\",\"sparse/csparse.jl\",130,\"\",-1,false,13067413049),0x00000001066baa2f=>Base.Profile.LineInfo(\"jl_apply\",\"/Users/osx/buildbot/slave/package_osx10_9-x64/build/src/task.c\",241,\"/Users/osx/buildbot/slave/package_osx10_9-x64/build/src/task.c\",240,true,4402686511),0x000000030ae0e08e=>Base.Profile.LineInfo(\"sparse\",\"sparse/csparse.jl\",75,\"\",-1,false,13067411598),0x000000030ae0f5a0=>Base.Profile.LineInfo(\"kron\",\"sparse/linalg.jl\",729,\"\",-1,false,13067416992),0x0000000315c046ba=>Base.Profile.LineInfo(\"chimera\",\"/Users/spielman/git/Laplacians.jl/src/graphGenerators.jl\",417,\"\",-1,false,13249824442),0x00007fff960ae17a=>Base.Profile.LineInfo(\"madvise\",\"/usr/lib/system/libsystem_kernel.dylib\",-1,\"\",-1,true,140735710683514),0x000000030ae0de67=>Base.Profile.LineInfo(\"sparse\",\"sparse/csparse.jl\",53,\"\",-1,false,13067411047),0x000000030ae0f562=>Base.Profile.LineInfo(\"kron\",\"sparse/linalg.jl\",727,\"\",-1,false,13067416930),0x00000001066cd650=>Base.Profile.LineInfo(\"sweep_big_list\",\"/Users/osx/buildbot/slave/package_osx10_9-x64/build/src/gc.c\",880,\"/Users/osx/buildbot/slave/package_osx10_9-x64/build/src/gc.c\",2153,true,4402763344),0x00000001066cdfae=>Base.Profile.LineInfo(\"sweep_page\",\"/Users/osx/buildbot/slave/package_osx10_9-x64/build/src/gc.c\",1314,\"/Users/osx/buildbot/slave/package_osx10_9-x64/build/src/gc.c\",2157,true,4402765742),0x000000030ae0e63e=>Base.Profile.LineInfo(\"sparse\",\"sparse/csparse.jl\",131,\"\",-1,false,13067413054),0x000000030ae0f597=>Base.Profile.LineInfo(\"kron\",\"sparse/linalg.jl\",725,\"\",-1,false,13067416983),0x00000001066cdb50=>Base.Profile.LineInfo(\"sweep_page\",\"/Users/osx/buildbot/slave/package_osx10_9-x64/build/src/gc.c\",1240,\"/Users/osx/buildbot/slave/package_osx10_9-x64/build/src/gc.c\",2157,true,4402764624),0x000000010665347c=>Base.Profile.LineInfo(\"jl_load_file_string\",\"/Users/osx/buildbot/slave/package_osx10_9-x64/build/src/ast.c\",606,\"\",-1,true,4402263164),0x00000001066e5493=>Base.Profile.LineInfo(\"apply_cl\",\"/Users/osx/buildbot/slave/package_osx10_9-x64/build/src/flisp/flisp.c\",1226,\"\",-1,true,4402861203),0x00000001066b69a4=>Base.Profile.LineInfo(\"jl_mark_box_caches\",\"/Users/osx/buildbot/slave/package_osx10_9-x64/build/src/alloc.c\",854,\"\",-1,true,4402669988),0x00000001066cdb1f=>Base.Profile.LineInfo(\"sweep_page\",\"/Users/osx/buildbot/slave/package_osx10_9-x64/build/src/gc.c\",1247,\"/Users/osx/buildbot/slave/package_osx10_9-x64/build/src/gc.c\",2157,true,4402764575),0x000000030adc4d42=>Base.Profile.LineInfo(\"eventloop\",\"/Users/spielman/.julia/v0.4/IJulia/src/IJulia.jl\",141,\"\",-1,false,13067111746),0x0000000315bb7987=>Base.Profile.LineInfo(\"findnz\",\"sparse/sparsematrix.jl\",444,\"\",-1,false,13249509767),0x0000000315c04e75=>Base.Profile.LineInfo(\"chimera\",\"/Users/spielman/git/Laplacians.jl/src/graphGenerators.jl\",453,\"\",-1,false,13249826421),0x00000001066e9afb=>Base.Profile.LineInfo(\"apply_cl\",\"/Users/osx/buildbot/slave/package_osx10_9-x64/build/src/flisp/flisp.c\",1856,\"\",-1,true,4402879227),0x0000000315c04e21=>Base.Profile.LineInfo(\"chimera\",\"/Users/spielman/git/Laplacians.jl/src/graphGenerators.jl\",453,\"\",-1,false,13249826337),0x00000001066e5eb1=>Base.Profile.LineInfo(\"apply_cl\",\"/Users/osx/buildbot/slave/package_osx10_9-x64/build/src/flisp/flisp.c\",1340,\"\",-1,true,4402863793),0x0000000315bb7a4e=>Base.Profile.LineInfo(\"findnz\",\"sparse/sparsematrix.jl\",458,\"\",-1,false,13249509966),0x000000030add12ac=>Base.Profile.LineInfo(\"include_string\",\"loading.jl\",266,\"\",-1,false,13067162284),0x00000001066eb355=>Base.Profile.LineInfo(\"do_trycatch\",\"/Users/osx/buildbot/slave/package_osx10_9-x64/build/src/flisp/flisp.c\",950,\"\",-1,true,4402885461),0x00000001066cecbe=>Base.Profile.LineInfo(\"push_root\",\"/Users/osx/buildbot/slave/package_osx10_9-x64/build/src/gc.c\",1725,\"\",-1,true,4402769086),0x00000001066cdb34=>Base.Profile.LineInfo(\"sweep_page\",\"/Users/osx/buildbot/slave/package_osx10_9-x64/build/src/gc.c\",1248,\"/Users/osx/buildbot/slave/package_osx10_9-x64/build/src/gc.c\",2157,true,4402764596),0x00000001066cda60=>Base.Profile.LineInfo(\"sweep_page\",\"/Users/osx/buildbot/slave/package_osx10_9-x64/build/src/gc.c\",1221,\"/Users/osx/buildbot/slave/package_osx10_9-x64/build/src/gc.c\",2157,true,4402764384),0x00007fff960a7bca=>Base.Profile.LineInfo(\"_kernelrpc_mach_vm_deallocate_trap\",\"/usr/lib/system/libsystem_kernel.dylib\",-1,\"\",-1,true,140735710657482),0x000000030ae0de90=>Base.Profile.LineInfo(\"sparse\",\"sparse/csparse.jl\",51,\"\",-1,false,13067411088),0x0000000106645731=>Base.Profile.LineInfo(\"lookup_type\",\"/Users/osx/buildbot/slave/package_osx10_9-x64/build/src/jltypes.c\",1906,\"/Users/osx/buildbot/slave/package_osx10_9-x64/build/src/jltypes.c\",2033,true,4402206513),0x00000001066cd94f=>Base.Profile.LineInfo(\"sweep_pool_region\",\"/Users/osx/buildbot/slave/package_osx10_9-x64/build/src/gc.c\",1174,\"/Users/osx/buildbot/slave/package_osx10_9-x64/build/src/gc.c\",2157,true,4402764111),0x000000030ae0e3ce=>Base.Profile.LineInfo(\"sparse\",\"sparse/csparse.jl\",114,\"\",-1,false,13067412430),0x000000030ae0e64c=>Base.Profile.LineInfo(\"sparse\",\"sparse/csparse.jl\",133,\"\",-1,false,13067413068),0x00000001066cdfb7=>Base.Profile.LineInfo(\"sweep_page\",\"/Users/osx/buildbot/slave/package_osx10_9-x64/build/src/gc.c\",1315,\"/Users/osx/buildbot/slave/package_osx10_9-x64/build/src/gc.c\",2157,true,4402765751),0x000000010665508f=>Base.Profile.LineInfo(\"julia_to_scm_\",\"/Users/osx/buildbot/slave/package_osx10_9-x64/build/src/ast.c\",454,\"\",-1,true,4402270351),0x00000001066e4cea=>Base.Profile.LineInfo(\"apply_cl\",\"/Users/osx/buildbot/slave/package_osx10_9-x64/build/src/flisp/flisp.c\",1118,\"\",-1,true,4402859242),0x00000001066cdb9f=>Base.Profile.LineInfo(\"sweep_page\",\"/Users/osx/buildbot/slave/package_osx10_9-x64/build/src/gc.c\",1237,\"/Users/osx/buildbot/slave/package_osx10_9-x64/build/src/gc.c\",2157,true,4402764703),0x0000000106652e74=>Base.Profile.LineInfo(\"julia_to_scm\",\"/Users/osx/buildbot/slave/package_osx10_9-x64/build/src/ast.c\",419,\"\",-1,true,4402261620),0x000000030ae0f09f=>Base.Profile.LineInfo(\"cumsum_pairwise!\",\"arraymath.jl\",432,\"\",-1,false,13067415711),0x00000001066d82e9=>Base.Profile.LineInfo(\"relocate\",\"/Users/osx/buildbot/slave/package_osx10_9-x64/build/src/flisp/flisp.c\",515,\"\",-1,true,4402807529),0x000000030ae0e00a=>Base.Profile.LineInfo(\"sparse\",\"sparse/csparse.jl\",63,\"sparse/csparse.jl\",73,false,13067411466),0x00000001066cdb10=>Base.Profile.LineInfo(\"sweep_page\",\"/Users/osx/buildbot/slave/package_osx10_9-x64/build/src/gc.c\",1238,\"/Users/osx/buildbot/slave/package_osx10_9-x64/build/src/gc.c\",2157,true,4402764560),0x0000000315c0843c=>Base.Profile.LineInfo(\"pureRandomGraph\",\"/Users/spielman/git/Laplacians.jl/src/graphGenerators.jl\",386,\"\",-1,false,13249840188),0x00000001066cdc36=>Base.Profile.LineInfo(\"sweep_page\",\"/Users/osx/buildbot/slave/package_osx10_9-x64/build/src/gc.c\",1271,\"/Users/osx/buildbot/slave/package_osx10_9-x64/build/src/gc.c\",2157,true,4402764854),0x00000001066e9958=>Base.Profile.LineInfo(\"apply_cl\",\"/Users/osx/buildbot/slave/package_osx10_9-x64/build/src/flisp/flisp.c\",1841,\"\",-1,true,4402878808),0x000000030ae0dd87=>Base.Profile.LineInfo(\"sparse\",\"sparse/csparse.jl\",40,\"\",-1,false,13067410823),0x000000030ae0e0d2=>Base.Profile.LineInfo(\"sparse\",\"sparse/csparse.jl\",73,\"\",-1,false,13067411666),0x000000030ae10589=>Base.Profile.LineInfo(\"+\",\"sparse/sparsematrix.jl\",782,\"\",-1,false,13067421065),0x000000030ae0deb1=>Base.Profile.LineInfo(\"sparse\",\"sparse/csparse.jl\",52,\"\",-1,false,13067411121),0x000000030ae0e0f1=>Base.Profile.LineInfo(\"sparse\",\"sparse/csparse.jl\",75,\"\",-1,false,13067411697),0x00000001066cdbed=>Base.Profile.LineInfo(\"sweep_page\",\"/Users/osx/buildbot/slave/package_osx10_9-x64/build/src/gc.c\",1267,\"/Users/osx/buildbot/slave/package_osx10_9-x64/build/src/gc.c\",2157,true,4402764781),0x00000001066cdb83=>Base.Profile.LineInfo(\"sweep_page\",\"/Users/osx/buildbot/slave/package_osx10_9-x64/build/src/gc.c\",1255,\"/Users/osx/buildbot/slave/package_osx10_9-x64/build/src/gc.c\",2157,true,4402764675),0x000000030ae1057a=>Base.Profile.LineInfo(\"+\",\"sparse/sparsematrix.jl\",781,\"\",-1,false,13067421050),0x000000030ae0e0c6=>Base.Profile.LineInfo(\"sparse\",\"sparse/csparse.jl\",66,\"\",-1,false,13067411654),0x000000030ae0e509=>Base.Profile.LineInfo(\"sparse\",\"sparse/csparse.jl\",122,\"\",-1,false,13067412745),0x0000000106656d40=>Base.Profile.LineInfo(\"jl_f_tuple\",\"/Users/osx/buildbot/slave/package_osx10_9-x64/build/src/builtins.c\",668,\"\",-1,true,4402277696),0x0000000315c049a7=>Base.Profile.LineInfo(\"chimera\",\"/Users/spielman/git/Laplacians.jl/src/graphGenerators.jl\",429,\"\",-1,false,13249825191),0x000000030ae10696=>Base.Profile.LineInfo(\"+\",\"sparse/sparsematrix.jl\",812,\"\",-1,false,13067421334),0x000000030adccea7=>Base.Profile.LineInfo(\"jlcall_execute_request_0x535c5df2_21555\",\"\",-1,\"\",-1,true,13067144871),0x00000001066cdb18=>Base.Profile.LineInfo(\"sweep_page\",\"/Users/osx/buildbot/slave/package_osx10_9-x64/build/src/gc.c\",1238,\"/Users/osx/buildbot/slave/package_osx10_9-x64/build/src/gc.c\",2157,true,4402764568),0x00000001066cdb5d=>Base.Profile.LineInfo(\"sweep_page\",\"/Users/osx/buildbot/slave/package_osx10_9-x64/build/src/gc.c\",1244,\"/Users/osx/buildbot/slave/package_osx10_9-x64/build/src/gc.c\",2157,true,4402764637),0x000000030ae0e650=>Base.Profile.LineInfo(\"sparse\",\"sparse/csparse.jl\",134,\"\",-1,false,13067413072),0x00000001066cdb88=>Base.Profile.LineInfo(\"sweep_page\",\"/Users/osx/buildbot/slave/package_osx10_9-x64/build/src/gc.c\",1255,\"/Users/osx/buildbot/slave/package_osx10_9-x64/build/src/gc.c\",2157,true,4402764680),0x00000001066cdbad=>Base.Profile.LineInfo(\"sweep_page\",\"/Users/osx/buildbot/slave/package_osx10_9-x64/build/src/gc.c\",1266,\"/Users/osx/buildbot/slave/package_osx10_9-x64/build/src/gc.c\",2157,true,4402764717),0x0000000317a8969d=>Base.Profile.LineInfo(\"jlcall_chimera_23162\",\"\",-1,\"\",-1,true,13281826461),0x00000001066cde51=>Base.Profile.LineInfo(\"free_page\",\"/Users/osx/buildbot/slave/package_osx10_9-x64/build/src/gc.c\",743,\"/Users/osx/buildbot/slave/package_osx10_9-x64/build/src/gc.c\",2157,true,4402765393),0x000000030ae0e0ce=>Base.Profile.LineInfo(\"sparse\",\"sparse/csparse.jl\",70,\"\",-1,false,13067411662),0x000000030ae0e15a=>Base.Profile.LineInfo(\"sparse\",\"sparse/csparse.jl\",80,\"\",-1,false,13067411802),0x0000000106645e15=>Base.Profile.LineInfo(\"jl_inst_concrete_tupletype_v\",\"/Users/osx/buildbot/slave/package_osx10_9-x64/build/src/jltypes.c\",2175,\"\",-1,true,4402208277),0x00000001066cdc2f=>Base.Profile.LineInfo(\"sweep_page\",\"/Users/osx/buildbot/slave/package_osx10_9-x64/build/src/gc.c\",1270,\"/Users/osx/buildbot/slave/package_osx10_9-x64/build/src/gc.c\",2157,true,4402764847),0x00000001066cdb13=>Base.Profile.LineInfo(\"sweep_page\",\"/Users/osx/buildbot/slave/package_osx10_9-x64/build/src/gc.c\",1239,\"/Users/osx/buildbot/slave/package_osx10_9-x64/build/src/gc.c\",2157,true,4402764563),0x000000030ae1069c=>Base.Profile.LineInfo(\"+\",\"sparse/sparsematrix.jl\",812,\"\",-1,false,13067421340),0x00000001066cdb85=>Base.Profile.LineInfo(\"sweep_page\",\"/Users/osx/buildbot/slave/package_osx10_9-x64/build/src/gc.c\",1255,\"/Users/osx/buildbot/slave/package_osx10_9-x64/build/src/gc.c\",2157,true,4402764677),0x0000000315bb7962=>Base.Profile.LineInfo(\"findnz\",\"sparse/sparsematrix.jl\",447,\"\",-1,false,13249509730),0x000000030adcd7c1=>Base.Profile.LineInfo(\"execute_request_0x535c5df2\",\"/Users/spielman/.julia/v0.4/IJulia/src/execute_request.jl\",177,\"\",-1,false,13067147201),0x000000030ae0de64=>Base.Profile.LineInfo(\"sparse\",\"sparse/csparse.jl\",48,\"\",-1,false,13067411044),0x00000001066c6a7f=>Base.Profile.LineInfo(\"jl_apply\",\"/Users/osx/buildbot/slave/package_osx10_9-x64/build/src/./julia.h\",1325,\"/Users/osx/buildbot/slave/package_osx10_9-x64/build/src/toplevel.c\",539,true,4402735743),0x00000001066cd9b2=>Base.Profile.LineInfo(\"sweep_pool_region\",\"/Users/osx/buildbot/slave/package_osx10_9-x64/build/src/gc.c\",1179,\"/Users/osx/buildbot/slave/package_osx10_9-x64/build/src/gc.c\",2157,true,4402764210),0x00000001066e50fc=>Base.Profile.LineInfo(\"apply_cl\",\"/Users/osx/buildbot/slave/package_osx10_9-x64/build/src/flisp/flisp.c\",1175,\"\",-1,true,4402860284),0x0000000106658575=>Base.Profile.LineInfo(\"jl_toplevel_eval_in\",\"/Users/osx/buildbot/slave/package_osx10_9-x64/build/src/builtins.c\",579,\"\",-1,true,4402283893),0x00000001066cfca2=>Base.Profile.LineInfo(\"__pool_alloc\",\"/Users/osx/buildbot/slave/package_osx10_9-x64/build/src/gc.c\",1046,\"/Users/osx/buildbot/slave/package_osx10_9-x64/build/src/gc.c\",2294,true,4402773154),0x000000030ae0ef70=>Base.Profile.LineInfo(\"cumsum!\",\"arraymath.jl\",445,\"\",-1,false,13067415408),0x00000001066bb626=>Base.Profile.LineInfo(\"_new_array\",\"/Users/osx/buildbot/slave/package_osx10_9-x64/build/src/array.c\",333,\"/Users/osx/buildbot/slave/package_osx10_9-x64/build/src/array.c\",333,true,4402689574),0x00000001066cdf9d=>Base.Profile.LineInfo(\"sweep_page\",\"/Users/osx/buildbot/slave/package_osx10_9-x64/build/src/gc.c\",1309,\"/Users/osx/buildbot/slave/package_osx10_9-x64/build/src/gc.c\",2157,true,4402765725),0x000000030ae0e657=>Base.Profile.LineInfo(\"sparse\",\"sparse/csparse.jl\",134,\"\",-1,false,13067413079),0x00000001066cdb93=>Base.Profile.LineInfo(\"sweep_page\",\"/Users/osx/buildbot/slave/package_osx10_9-x64/build/src/gc.c\",1260,\"/Users/osx/buildbot/slave/package_osx10_9-x64/build/src/gc.c\",2157,true,4402764691),0x0000000318b5290b=>Base.Profile.LineInfo(\"anonymous\",\"profile.jl\",16,\"\",-1,false,13299427595),0x0000000315c04e14=>Base.Profile.LineInfo(\"chimera\",\"/Users/spielman/git/Laplacians.jl/src/graphGenerators.jl\",453,\"\",-1,false,13249826324),0x000000030ae0f492=>Base.Profile.LineInfo(\"kron\",\"sparse/linalg.jl\",719,\"\",-1,false,13067416722),0x00000001066cdb3f=>Base.Profile.LineInfo(\"sweep_page\",\"/Users/osx/buildbot/slave/package_osx10_9-x64/build/src/gc.c\",1249,\"/Users/osx/buildbot/slave/package_osx10_9-x64/build/src/gc.c\",2157,true,4402764607),0x0000000315bb7999=>Base.Profile.LineInfo(\"findnz\",\"sparse/sparsematrix.jl\",445,\"\",-1,false,13249509785),0x00000001066e6c5f=>Base.Profile.LineInfo(\"apply_cl\",\"/Users/osx/buildbot/slave/package_osx10_9-x64/build/src/flisp/flisp.c\",1421,\"\",-1,true,4402867295),0x00000001066c6980=>Base.Profile.LineInfo(\"jl_toplevel_eval_flex\",\"/Users/osx/buildbot/slave/package_osx10_9-x64/build/src/toplevel.c\",478,\"\",-1,true,4402735488),0x00000001079c2284=>Base.Profile.LineInfo(\"call\",\"/Applications/Julia-0.4.0.app/Contents/Resources/julia/lib/julia/sys.dylib\",-1,\"\",-1,false,4422640260),0x000000030ae0de8c=>Base.Profile.LineInfo(\"sparse\",\"sparse/csparse.jl\",53,\"\",-1,false,13067411084),0x00000001066cdb9b=>Base.Profile.LineInfo(\"sweep_page\",\"/Users/osx/buildbot/slave/package_osx10_9-x64/build/src/gc.c\",1260,\"/Users/osx/buildbot/slave/package_osx10_9-x64/build/src/gc.c\",2157,true,4402764699),0x0000000315c0499a=>Base.Profile.LineInfo(\"chimera\",\"/Users/spielman/git/Laplacians.jl/src/graphGenerators.jl\",429,\"\",-1,false,13249825178),0x000000030ae0f581=>Base.Profile.LineInfo(\"kron\",\"sparse/linalg.jl\",729,\"\",-1,false,13067416961),0x00000001066cdb99=>Base.Profile.LineInfo(\"sweep_page\",\"/Users/osx/buildbot/slave/package_osx10_9-x64/build/src/gc.c\",1260,\"/Users/osx/buildbot/slave/package_osx10_9-x64/build/src/gc.c\",2157,true,4402764697),0x00000001066cdb8f=>Base.Profile.LineInfo(\"sweep_page\",\"/Users/osx/buildbot/slave/package_osx10_9-x64/build/src/gc.c\",1262,\"/Users/osx/buildbot/slave/package_osx10_9-x64/build/src/gc.c\",2157,true,4402764687),0x0000000315c06c19=>Base.Profile.LineInfo(\"joinGraphs\",\"/Users/spielman/git/Laplacians.jl/src/graphOps.jl\",103,\"\",-1,false,13249834009),0x000000030ae0e0a6=>Base.Profile.LineInfo(\"sparse\",\"sparse/csparse.jl\",71,\"\",-1,false,13067411622),0x00000001066d1440=>Base.Profile.LineInfo(\"gc_push_root\",\"/Users/osx/buildbot/slave/package_osx10_9-x64/build/src/gc.c\",1482,\"/Users/osx/buildbot/slave/package_osx10_9-x64/build/src/gc.c\",1601,true,4402779200),0x0000000317a89754=>Base.Profile.LineInfo(\"chimera\",\"/Users/spielman/git/Laplacians.jl/src/graphGenerators.jl\",479,\"\",-1,false,13281826644),0x00000001066cdb31=>Base.Profile.LineInfo(\"sweep_page\",\"/Users/osx/buildbot/slave/package_osx10_9-x64/build/src/gc.c\",1248,\"/Users/osx/buildbot/slave/package_osx10_9-x64/build/src/gc.c\",2157,true,4402764593),0x00000001066551cc=>Base.Profile.LineInfo(\"array_to_list\",\"/Users/osx/buildbot/slave/package_osx10_9-x64/build/src/ast.c\",437,\"/Users/osx/buildbot/slave/package_osx10_9-x64/build/src/ast.c\",478,true,4402270668),0x00000001066d25c2=>Base.Profile.LineInfo(\"symtab_lookup\",\"/Users/osx/buildbot/slave/package_osx10_9-x64/build/src/flisp/flisp.c\",293,\"\",-1,true,4402783682),0x000000030ae10597=>Base.Profile.LineInfo(\"+\",\"sparse/sparsematrix.jl\",783,\"\",-1,false,13067421079),0x0000000315c04eac=>Base.Profile.LineInfo(\"chimera\",\"/Users/spielman/git/Laplacians.jl/src/graphGenerators.jl\",453,\"\",-1,false,13249826476),0x000000030ae0f053=>Base.Profile.LineInfo(\"cumsum_pairwise!\",\"arraymath.jl\",437,\"\",-1,false,13067415635),0x00000001066cdb1a=>Base.Profile.LineInfo(\"sweep_page\",\"/Users/osx/buildbot/slave/package_osx10_9-x64/build/src/gc.c\",1238,\"/Users/osx/buildbot/slave/package_osx10_9-x64/build/src/gc.c\",2157,true,4402764570),0x00000001066cd102=>Base.Profile.LineInfo(\"pre_mark\",\"/Users/osx/buildbot/slave/package_osx10_9-x64/build/src/gc.c\",1863,\"/Users/osx/buildbot/slave/package_osx10_9-x64/build/src/gc.c\",2060,true,4402761986),0x00000001066cda7d=>Base.Profile.LineInfo(\"sweep_page\",\"/Users/osx/buildbot/slave/package_osx10_9-x64/build/src/gc.c\",1221,\"/Users/osx/buildbot/slave/package_osx10_9-x64/build/src/gc.c\",2157,true,4402764413),0x000000010664fef3=>Base.Profile.LineInfo(\"jl_apply\",\"/Users/osx/buildbot/slave/package_osx10_9-x64/build/src/./julia.h\",1325,\"/Users/osx/buildbot/slave/package_osx10_9-x64/build/src/gf.c\",1684,true,4402249459),0x00000001066d030e=>Base.Profile.LineInfo(\"__pool_alloc\",\"/Users/osx/buildbot/slave/package_osx10_9-x64/build/src/gc.c\",1046,\"/Users/osx/buildbot/slave/package_osx10_9-x64/build/src/gc.c\",2332,true,4402774798),0x00000001066cdb28=>Base.Profile.LineInfo(\"sweep_page\",\"/Users/osx/buildbot/slave/package_osx10_9-x64/build/src/gc.c\",1248,\"/Users/osx/buildbot/slave/package_osx10_9-x64/build/src/gc.c\",2157,true,4402764584),0x00000001066dde58=>Base.Profile.LineInfo(\"fl_map1\",\"/Users/osx/buildbot/slave/package_osx10_9-x64/build/src/flisp/flisp.c\",2269,\"\",-1,true,4402830936),0x0000000315bb79b6=>Base.Profile.LineInfo(\"findnz\",\"sparse/sparsematrix.jl\",446,\"\",-1,false,13249509814),0x000000030ae0f5a3=>Base.Profile.LineInfo(\"kron\",\"sparse/linalg.jl\",725,\"\",-1,false,13067416995),0x000000030ae105e0=>Base.Profile.LineInfo(\"+\",\"sparse/sparsematrix.jl\",790,\"\",-1,false,13067421152),0x000000030ae0e0e1=>Base.Profile.LineInfo(\"sparse\",\"sparse/csparse.jl\",74,\"\",-1,false,13067411681),0x000000030ae0f526=>Base.Profile.LineInfo(\"kron\",\"sparse/linalg.jl\",725,\"\",-1,false,13067416870),0x00000001066cdb9d=>Base.Profile.LineInfo(\"sweep_page\",\"/Users/osx/buildbot/slave/package_osx10_9-x64/build/src/gc.c\",1260,\"/Users/osx/buildbot/slave/package_osx10_9-x64/build/src/gc.c\",2157,true,4402764701),0x00000001066d3422=>Base.Profile.LineInfo(\"gc\",\"/Users/osx/buildbot/slave/package_osx10_9-x64/build/src/flisp/flisp.c\",638,\"\",-1,true,4402787362),0x00000001066cd681=>Base.Profile.LineInfo(\"sweep_big_list\",\"/Users/osx/buildbot/slave/package_osx10_9-x64/build/src/gc.c\",898,\"/Users/osx/buildbot/slave/package_osx10_9-x64/build/src/gc.c\",2153,true,4402763393),0x000000030ae0e642=>Base.Profile.LineInfo(\"sparse\",\"sparse/csparse.jl\",132,\"\",-1,false,13067413058),0x00000001066cdb61=>Base.Profile.LineInfo(\"sweep_page\",\"/Users/osx/buildbot/slave/package_osx10_9-x64/build/src/gc.c\",1244,\"/Users/osx/buildbot/slave/package_osx10_9-x64/build/src/gc.c\",2157,true,4402764641),0x0000000315c04dcb=>Base.Profile.LineInfo(\"chimera\",\"/Users/spielman/git/Laplacians.jl/src/graphGenerators.jl\",442,\"\",-1,false,13249826251),0x00000001066daf3c=>Base.Profile.LineInfo(\"trace_globals\",\"/Users/osx/buildbot/slave/package_osx10_9-x64/build/src/flisp/flisp.c\",595,\"\",-1,true,4402818876),0x0000000315bb79af=>Base.Profile.LineInfo(\"findnz\",\"sparse/sparsematrix.jl\",446,\"\",-1,false,13249509807),0x00000001066cdb39=>Base.Profile.LineInfo(\"sweep_page\",\"/Users/osx/buildbot/slave/package_osx10_9-x64/build/src/gc.c\",1249,\"/Users/osx/buildbot/slave/package_osx10_9-x64/build/src/gc.c\",2157,true,4402764601),0x000000030ae0de6a=>Base.Profile.LineInfo(\"sparse\",\"sparse/csparse.jl\",48,\"\",-1,false,13067411050),0x0000000315bb79ac=>Base.Profile.LineInfo(\"findnz\",\"sparse/sparsematrix.jl\",446,\"\",-1,false,13249509804),0x00000001066cdb63=>Base.Profile.LineInfo(\"sweep_page\",\"/Users/osx/buildbot/slave/package_osx10_9-x64/build/src/gc.c\",1244,\"/Users/osx/buildbot/slave/package_osx10_9-x64/build/src/gc.c\",2157,true,4402764643),0x00000001066cda2a=>Base.Profile.LineInfo(\"sweep_page\",\"/Users/osx/buildbot/slave/package_osx10_9-x64/build/src/gc.c\",1214,\"/Users/osx/buildbot/slave/package_osx10_9-x64/build/src/gc.c\",2157,true,4402764330),0x00000001066db442=>Base.Profile.LineInfo(\"_applyn\",\"/Users/osx/buildbot/slave/package_osx10_9-x64/build/src/flisp/flisp.c\",729,\"\",-1,true,4402820162),0x00000001066ccb88=>Base.Profile.LineInfo(\"jl_gc_setmark\",\"/Users/osx/buildbot/slave/package_osx10_9-x64/build/src/gc.c\",1492,\"\",-1,true,4402760584),0x0000000315c0779e=>Base.Profile.LineInfo(\"pureRandomGraph\",\"/Users/spielman/git/Laplacians.jl/src/graphGenerators.jl\",359,\"\",-1,false,13249836958),0x00000001066534cf=>Base.Profile.LineInfo(\"jl_expand\",\"/Users/osx/buildbot/slave/package_osx10_9-x64/build/src/ast.c\",614,\"\",-1,true,4402263247),0x0000000315c07005=>Base.Profile.LineInfo(\"joinGraphs\",\"/Users/spielman/git/Laplacians.jl/src/graphOps.jl\",111,\"\",-1,false,13249835013),0x00000001066db7be=>Base.Profile.LineInfo(\"fl_applyn\",\"/Users/osx/buildbot/slave/package_osx10_9-x64/build/src/flisp/flisp.c\",774,\"\",-1,true,4402821054)),3966x21 Array{ProfileView.TagData,2}:\n",
       " ProfileView.TagData(0x000000030adc71c9,0)   …  ProfileView.TagData(0x0000000000000000,-1)\n",
       " ProfileView.TagData(0x000000030adc71c9,0)      ProfileView.TagData(0x0000000000000000,-1)\n",
       " ProfileView.TagData(0x000000030adc71c9,0)      ProfileView.TagData(0x0000000000000000,-1)\n",
       " ProfileView.TagData(0x000000030adc71c9,0)      ProfileView.TagData(0x0000000000000000,-1)\n",
       " ProfileView.TagData(0x000000030adc71c9,0)      ProfileView.TagData(0x0000000000000000,-1)\n",
       " ProfileView.TagData(0x000000030adc71c9,0)   …  ProfileView.TagData(0x0000000000000000,-1)\n",
       " ProfileView.TagData(0x000000030adc71c9,0)      ProfileView.TagData(0x0000000000000000,-1)\n",
       " ProfileView.TagData(0x000000030adc71c9,0)      ProfileView.TagData(0x0000000000000000,-1)\n",
       " ProfileView.TagData(0x000000030adc71c9,0)      ProfileView.TagData(0x0000000000000000,-1)\n",
       " ProfileView.TagData(0x000000030adc71c9,0)      ProfileView.TagData(0x0000000000000000,-1)\n",
       " ProfileView.TagData(0x000000030adc71c9,0)   …  ProfileView.TagData(0x0000000000000000,-1)\n",
       " ProfileView.TagData(0x000000030adc71c9,0)      ProfileView.TagData(0x0000000000000000,-1)\n",
       " ProfileView.TagData(0x000000030adc71c9,0)      ProfileView.TagData(0x0000000000000000,-1)\n",
       " ⋮                                           ⋱  ⋮                                         \n",
       " ProfileView.TagData(0x0000000000000000,-1)     ProfileView.TagData(0x0000000000000000,-1)\n",
       " ProfileView.TagData(0x0000000000000000,-1)  …  ProfileView.TagData(0x0000000000000000,-1)\n",
       " ProfileView.TagData(0x0000000000000000,-1)     ProfileView.TagData(0x0000000000000000,-1)\n",
       " ProfileView.TagData(0x0000000000000000,-1)     ProfileView.TagData(0x0000000000000000,-1)\n",
       " ProfileView.TagData(0x0000000000000000,-1)     ProfileView.TagData(0x0000000000000000,-1)\n",
       " ProfileView.TagData(0x0000000000000000,-1)     ProfileView.TagData(0x0000000000000000,-1)\n",
       " ProfileView.TagData(0x0000000000000000,-1)  …  ProfileView.TagData(0x0000000000000000,-1)\n",
       " ProfileView.TagData(0x0000000000000000,-1)     ProfileView.TagData(0x0000000000000000,-1)\n",
       " ProfileView.TagData(0x0000000000000000,-1)     ProfileView.TagData(0x0000000000000000,-1)\n",
       " ProfileView.TagData(0x0000000000000000,-1)     ProfileView.TagData(0x0000000000000000,-1)\n",
       " ProfileView.TagData(0x0000000000000000,-1)     ProfileView.TagData(0x0000000000000000,-1)\n",
       " ProfileView.TagData(0x0000000000000000,-1)  …  ProfileView.TagData(0x0000000000000000,-1),12)"
      ]
     },
     "execution_count": 131,
     "metadata": {},
     "output_type": "execute_result"
    }
   ],
   "source": [
    "Profile.clear()\n",
    "i = i + 1\n",
    "@profile chimera(100000,i);\n",
    "ProfileView.view()"
   ]
  },
  {
   "cell_type": "code",
   "execution_count": 136,
   "metadata": {
    "collapsed": false
   },
   "outputs": [
    {
     "name": "stdout",
     "output_type": "stream",
     "text": [
      "  "
     ]
    },
    {
     "data": {
      "text/plain": [
       "7952000"
      ]
     },
     "execution_count": 136,
     "metadata": {},
     "output_type": "execute_result"
    },
    {
     "name": "stdout",
     "output_type": "stream",
     "text": [
      "3.886340 seconds (61 allocations: 265.612 MB, 91.63% gc time)\n"
     ]
    }
   ],
   "source": [
    "a1 = grownGraph(1000,2);\n",
    "@time a11 = productGraph(a1,a1);\n",
    "nnz(a11)"
   ]
  },
  {
   "cell_type": "code",
   "execution_count": 138,
   "metadata": {
    "collapsed": false
   },
   "outputs": [
    {
     "name": "stdout",
     "output_type": "stream",
     "text": [
      "  2.283499 seconds (60 allocations: 265.612 MB, 151.86% gc time)\n"
     ]
    }
   ],
   "source": [
    "@time a11 = productGraph(a1,a1);\n"
   ]
  },
  {
   "cell_type": "code",
   "execution_count": 141,
   "metadata": {
    "collapsed": false
   },
   "outputs": [
    {
     "name": "stdout",
     "output_type": "stream",
     "text": [
      "  5.468156 seconds (31.89 k allocations: 320.776 MB, 94.43% gc time)\n"
     ]
    }
   ],
   "source": [
    "@time a10 = generalizedNecklace(a1,a1,2);"
   ]
  },
  {
   "cell_type": "code",
   "execution_count": 143,
   "metadata": {
    "collapsed": false
   },
   "outputs": [
    {
     "name": "stdout",
     "output_type": "stream",
     "text": [
      "  8.682505 seconds (53 allocations: 1.023 GB, 79.51% gc time)\n"
     ]
    }
   ],
   "source": [
    "@time a0 = joinGraphs(a11,a10,100);"
   ]
  },
  {
   "cell_type": "code",
   "execution_count": 150,
   "metadata": {
    "collapsed": false
   },
   "outputs": [
    {
     "name": "stdout",
     "output_type": "stream",
     "text": [
      "  1.814595 seconds (14 allocations: 182.007 MB, 95.28% gc time)\n",
      "  3.839271 seconds (23 allocations: 280.824 MB, 87.24% gc time)\n"
     ]
    }
   ],
   "source": [
    "@time (ai,aj,av) = findnz(a11);\n",
    "n = size(a11)[1]\n",
    "@time ax = sparse(ai,aj,av,n,n);"
   ]
  },
  {
   "cell_type": "code",
   "execution_count": 155,
   "metadata": {
    "collapsed": false
   },
   "outputs": [
    {
     "name": "stdout",
     "output_type": "stream",
     "text": [
      " 10.901156 seconds (7.95 M allocations: 767.093 MB, 52.49% gc time)\n"
     ]
    }
   ],
   "source": [
    "@time rt = randishKruskal(a11);"
   ]
  },
  {
   "cell_type": "code",
   "execution_count": 156,
   "metadata": {
    "collapsed": false
   },
   "outputs": [
    {
     "name": "stdout",
     "output_type": "stream",
     "text": [
      " 16.265951 seconds (7.95 M allocations: 1.083 GB, 54.24% gc time)\n"
     ]
    }
   ],
   "source": [
    "@time rt = randishPrim(a11);"
   ]
  },
  {
   "cell_type": "code",
   "execution_count": 157,
   "metadata": {
    "collapsed": true
   },
   "outputs": [],
   "source": [
    "a = wtedChimera(50);"
   ]
  },
  {
   "cell_type": "code",
   "execution_count": 159,
   "metadata": {
    "collapsed": false
   },
   "outputs": [
    {
     "data": {
      "text/plain": [
       "0.02186374208034043"
      ]
     },
     "execution_count": 159,
     "metadata": {},
     "output_type": "execute_result"
    }
   ],
   "source": [
    "x = minimum(a.nzval)"
   ]
  },
  {
   "cell_type": "code",
   "execution_count": 160,
   "metadata": {
    "collapsed": false
   },
   "outputs": [
    {
     "data": {
      "text/plain": [
       "1.0"
      ]
     },
     "execution_count": 160,
     "metadata": {},
     "output_type": "execute_result"
    }
   ],
   "source": [
    "a.nzval = a.nzval / x;\n",
    "minimum(a.nzval)"
   ]
  },
  {
   "cell_type": "code",
   "execution_count": 161,
   "metadata": {
    "collapsed": false
   },
   "outputs": [
    {
     "data": {
      "text/plain": [
       "1000000"
      ]
     },
     "execution_count": 161,
     "metadata": {},
     "output_type": "execute_result"
    }
   ],
   "source": [
    "n"
   ]
  },
  {
   "cell_type": "code",
   "execution_count": null,
   "metadata": {
    "collapsed": true
   },
   "outputs": [],
   "source": []
  }
 ],
 "metadata": {
  "kernelspec": {
   "display_name": "Julia 0.4.0",
   "language": "julia",
   "name": "julia-0.4"
  },
  "language_info": {
   "file_extension": ".jl",
   "mimetype": "application/julia",
   "name": "julia",
   "version": "0.4.0"
  }
 },
 "nbformat": 4,
 "nbformat_minor": 0
}
