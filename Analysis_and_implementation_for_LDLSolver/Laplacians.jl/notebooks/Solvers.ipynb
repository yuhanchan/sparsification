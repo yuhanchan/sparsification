{
 "cells": [
  {
   "cell_type": "markdown",
   "metadata": {
    "toc": "true"
   },
   "source": [
    "# Table of Contents\n",
    " <p><div class=\"lev1 toc-item\"><a href=\"#Direct-solvers-for-SDD-systems\" data-toc-modified-id=\"Direct-solvers-for-SDD-systems-1\"><span class=\"toc-item-num\">1&nbsp;&nbsp;</span></a></div><div class=\"lev2 toc-item\"><a href=\"#Testing-the-speed-of-that\" data-toc-modified-id=\"Testing-the-speed-of-that-11\"><span class=\"toc-item-num\">1.1&nbsp;&nbsp;</span>Testing the speed of that</a></div><div class=\"lev2 toc-item\"><a href=\"#What-about-just-using--?\" data-toc-modified-id=\"What-about-just-using--?-12\"><span class=\"toc-item-num\">1.2&nbsp;&nbsp;</span>What about just using \\ ?</a></div><div class=\"lev1 toc-item\"><a href=\"#Solving-Laplacian-Systems\" data-toc-modified-id=\"Solving-Laplacian-Systems-2\"><span class=\"toc-item-num\">2&nbsp;&nbsp;</span></a></div><div class=\"lev1 toc-item\"><a href=\"#Using-Conjugate-Gradient\" data-toc-modified-id=\"Using-Conjugate-Gradient-3\"><span class=\"toc-item-num\">3&nbsp;&nbsp;</span></a></div><div class=\"lev1 toc-item\"><a href=\"#Computing-Stretch\" data-toc-modified-id=\"Computing-Stretch-4\"><span class=\"toc-item-num\">4&nbsp;&nbsp;</span></a></div><div class=\"lev1 toc-item\"><a href=\"#Preconditioned-Solvers\" data-toc-modified-id=\"Preconditioned-Solvers-5\"><span class=\"toc-item-num\">5&nbsp;&nbsp;</span></a></div>"
   ]
  },
  {
   "cell_type": "markdown",
   "metadata": {},
   "source": [
    "This is a demo/instructions for solving equations in Laplacian and SDD matrices.\n",
    "The sections are:\n",
    "* <a href=\"#direct\">Direct solvers for SDD systems</a>\n",
    "* <a href=\"#lap\">Solving Laplacian systems</a>\n",
    "* <a href=\"#cg\">Using Conjugate Gradient</a>\n",
    "* <a href=\"#stretch\">Computing Stretch</a>\n",
    "* <a href=\"#precon\">A preconditioned spanning tree solver</a>\n"
   ]
  },
  {
   "cell_type": "code",
   "execution_count": 1,
   "metadata": {},
   "outputs": [],
   "source": [
    "using Laplacians"
   ]
  },
  {
   "cell_type": "markdown",
   "metadata": {},
   "source": [
    "# <a name=\"direct\">Direct solvers for SDD systems</a>"
   ]
  },
  {
   "cell_type": "markdown",
   "metadata": {},
   "source": [
    "We first generate a SDD, Positive Definite, system, and solve it using a direct solver.  This uses the amd ordering, and is very fast."
   ]
  },
  {
   "cell_type": "code",
   "execution_count": 2,
   "metadata": {},
   "outputs": [
    {
     "data": {
      "text/plain": [
       "Base.SparseMatrix.CHOLMOD.Factor{Float64}\n",
       "type:          LLt\n",
       "method: simplicial\n",
       "maxnnz:        102\n",
       "nnz:           102\n"
      ]
     },
     "execution_count": 2,
     "metadata": {},
     "output_type": "execute_result"
    }
   ],
   "source": [
    "a = grid2(5)\n",
    "la = lap(a)\n",
    "la[1,1] = la[1,1] + 1\n",
    "F = cholfact(la)"
   ]
  },
  {
   "cell_type": "markdown",
   "metadata": {},
   "source": [
    "We can now use F to solve systems in this matrix, la.  It is a complex structure that encodes a cholesky factorization, but it is much more than that."
   ]
  },
  {
   "cell_type": "code",
   "execution_count": 3,
   "metadata": {},
   "outputs": [
    {
     "data": {
      "text/plain": [
       "1.5873593020111658e-14"
      ]
     },
     "execution_count": 3,
     "metadata": {},
     "output_type": "execute_result"
    }
   ],
   "source": [
    "n = size(a)[1]\n",
    "b = randn(n)\n",
    "x = F \\ b\n",
    "norm(la*x-b)"
   ]
  },
  {
   "cell_type": "markdown",
   "metadata": {},
   "source": [
    "Let's poke around to see what F has inside it."
   ]
  },
  {
   "cell_type": "code",
   "execution_count": 4,
   "metadata": {},
   "outputs": [
    {
     "data": {
      "text/plain": [
       "Base.SparseMatrix.CHOLMOD.Factor{Float64}\n",
       "type:          LLt\n",
       "method: simplicial\n",
       "maxnnz:        102\n",
       "nnz:           102\n"
      ]
     },
     "execution_count": 4,
     "metadata": {},
     "output_type": "execute_result"
    }
   ],
   "source": [
    "F"
   ]
  },
  {
   "cell_type": "code",
   "execution_count": 5,
   "metadata": {},
   "outputs": [
    {
     "data": {
      "text/plain": [
       "Factorization{Float64}"
      ]
     },
     "execution_count": 5,
     "metadata": {},
     "output_type": "execute_result"
    }
   ],
   "source": [
    "super(typeof(F))"
   ]
  },
  {
   "cell_type": "code",
   "execution_count": 6,
   "metadata": {},
   "outputs": [
    {
     "data": {
      "text/plain": [
       "true"
      ]
     },
     "execution_count": 6,
     "metadata": {},
     "output_type": "execute_result"
    }
   ],
   "source": [
    "isa(F,Factorization)"
   ]
  },
  {
   "cell_type": "code",
   "execution_count": 7,
   "metadata": {},
   "outputs": [
    {
     "data": {
      "text/plain": [
       "1-element Array{Symbol,1}:\n",
       " :p"
      ]
     },
     "execution_count": 7,
     "metadata": {},
     "output_type": "execute_result"
    }
   ],
   "source": [
    "fieldnames(F)"
   ]
  },
  {
   "cell_type": "markdown",
   "metadata": {},
   "source": [
    "## Testing the speed of that"
   ]
  },
  {
   "cell_type": "markdown",
   "metadata": {},
   "source": [
    "Let's see how long this will take on biggish grids, and on random regular graphs (which will have a lot of fill)"
   ]
  },
  {
   "cell_type": "code",
   "execution_count": 8,
   "metadata": {},
   "outputs": [
    {
     "name": "stdout",
     "output_type": "stream",
     "text": [
      "  1.298336 seconds (205 allocations: 256.844 MB, 4.86% gc time)\n"
     ]
    }
   ],
   "source": [
    "n = 500;\n",
    "a = grid2(n)\n",
    "la = lap(a)\n",
    "la[1,1] = la[1,1] + 1\n",
    "@time F = cholfact(la);"
   ]
  },
  {
   "cell_type": "markdown",
   "metadata": {},
   "source": [
    "For a 500-by-500 grid, it took 1.5 seconds.  We will now see that to use the solver, it takes 0.4 seconds."
   ]
  },
  {
   "cell_type": "code",
   "execution_count": 9,
   "metadata": {},
   "outputs": [
    {
     "name": "stdout",
     "output_type": "stream",
     "text": [
      "  0.106618 seconds (19 allocations: 7.634 MB, 6.58% gc time)\n"
     ]
    },
    {
     "data": {
      "text/plain": [
       "2.3477210680497606e-10"
      ]
     },
     "execution_count": 9,
     "metadata": {},
     "output_type": "execute_result"
    }
   ],
   "source": [
    "N = size(la)[1]\n",
    "b = randn(N)\n",
    "@time x = F \\ b\n",
    "norm(la*x-b)"
   ]
  },
  {
   "cell_type": "markdown",
   "metadata": {},
   "source": [
    "For a random regular graph, we hit 1.5 seconds at around 20k vertices."
   ]
  },
  {
   "cell_type": "code",
   "execution_count": 10,
   "metadata": {},
   "outputs": [
    {
     "name": "stdout",
     "output_type": "stream",
     "text": [
      "  1.787637 seconds (59 allocations: 260.694 MB, 0.45% gc time)\n"
     ]
    }
   ],
   "source": [
    "N = 20000;\n",
    "a = randRegular(N,3)\n",
    "la = lap(a)\n",
    "la[1,1] = la[1,1] + 1\n",
    "@time F = cholfact(la);"
   ]
  },
  {
   "cell_type": "markdown",
   "metadata": {
    "collapsed": true
   },
   "source": [
    "The time required for the solve is then around 0.05 seconds."
   ]
  },
  {
   "cell_type": "code",
   "execution_count": 11,
   "metadata": {},
   "outputs": [
    {
     "name": "stdout",
     "output_type": "stream",
     "text": [
      "  0.034356 seconds (19 allocations: 648.680 KB)\n"
     ]
    },
    {
     "data": {
      "text/plain": [
       "2.5930764480212705e-11"
      ]
     },
     "execution_count": 11,
     "metadata": {},
     "output_type": "execute_result"
    }
   ],
   "source": [
    "b = randn(N)\n",
    "@time x = F \\ b\n",
    "norm(la*x-b)"
   ]
  },
  {
   "cell_type": "markdown",
   "metadata": {
    "collapsed": true
   },
   "source": [
    "## What about just using \\ ?"
   ]
  },
  {
   "cell_type": "code",
   "execution_count": 12,
   "metadata": {},
   "outputs": [
    {
     "name": "stdout",
     "output_type": "stream",
     "text": [
      "  1.429117 seconds (151.48 k allocations: 274.719 MB, 6.32% gc time)\n"
     ]
    },
    {
     "data": {
      "text/plain": [
       "7.323784555975749e-10"
      ]
     },
     "execution_count": 12,
     "metadata": {},
     "output_type": "execute_result"
    }
   ],
   "source": [
    "n = 500;\n",
    "a = grid2(n)\n",
    "la = lap(a)\n",
    "la[1,1] = la[1,1] + 1\n",
    "N = size(la)[1]\n",
    "b = randn(N)\n",
    "@time x = la \\ b\n",
    "norm(la*x-b)"
   ]
  },
  {
   "cell_type": "markdown",
   "metadata": {},
   "source": [
    "Just using \\ appears to be right, so it is probably using cholfact."
   ]
  },
  {
   "cell_type": "markdown",
   "metadata": {},
   "source": [
    "# <a name=\"lap\">Solving Laplacian Systems</a>"
   ]
  },
  {
   "cell_type": "markdown",
   "metadata": {},
   "source": [
    "We solve Laplacian systems by solving a system in the induced submatrix.\n",
    "Here are the steps, which I will then put into a wrapper function.  It works by solving in a submatrix, like this:"
   ]
  },
  {
   "cell_type": "code",
   "execution_count": 13,
   "metadata": {},
   "outputs": [],
   "source": [
    "la = lap(grid2(500))\n",
    "N = size(la)[1]\n",
    "lasub = la[1:(N-1),1:(N-1)]\n",
    "Fsub = cholfact(lasub);"
   ]
  },
  {
   "cell_type": "code",
   "execution_count": 14,
   "metadata": {},
   "outputs": [
    {
     "data": {
      "text/plain": [
       "6.440573359592263e-11"
      ]
     },
     "execution_count": 14,
     "metadata": {},
     "output_type": "execute_result"
    }
   ],
   "source": [
    "b = randn(N)\n",
    "b = b - mean(b)\n",
    "bs = b[1:(N-1)]\n",
    "xs = Fsub \\ bs;\n",
    "x = [xs;0]\n",
    "x = x - mean(x)\n",
    "norm(la*x-b)"
   ]
  },
  {
   "cell_type": "markdown",
   "metadata": {},
   "source": [
    "The following wraps a solver for SDD systems into a solver for Laplacian systems.  We really need to work on the types of solver, and actually for everything else inside."
   ]
  },
  {
   "cell_type": "markdown",
   "metadata": {},
   "source": [
    "Let's see this work."
   ]
  },
  {
   "cell_type": "code",
   "execution_count": 15,
   "metadata": {},
   "outputs": [
    {
     "data": {
      "text/plain": [
       "3.3314581543536396e-9"
      ]
     },
     "execution_count": 15,
     "metadata": {},
     "output_type": "execute_result"
    }
   ],
   "source": [
    "la = lap(a);\n",
    "f = lapWrapSolver(cholfact,la)\n",
    "b = randn(size(a)[1]); b = b - mean(b);\n",
    "norm(la*f(b) - b)"
   ]
  },
  {
   "cell_type": "markdown",
   "metadata": {},
   "source": [
    "We now make two more versions: one that just takes the solver, and one that takes b as well."
   ]
  },
  {
   "cell_type": "code",
   "execution_count": 16,
   "metadata": {},
   "outputs": [
    {
     "data": {
      "text/plain": [
       "(anonymous function)"
      ]
     },
     "execution_count": 16,
     "metadata": {},
     "output_type": "execute_result"
    }
   ],
   "source": [
    "lapChol2 = lapWrapSolver(cholfact)"
   ]
  },
  {
   "cell_type": "code",
   "execution_count": 17,
   "metadata": {},
   "outputs": [
    {
     "data": {
      "text/plain": [
       "(anonymous function)"
      ]
     },
     "execution_count": 17,
     "metadata": {},
     "output_type": "execute_result"
    }
   ],
   "source": [
    "f = lapChol(la)"
   ]
  },
  {
   "cell_type": "code",
   "execution_count": 18,
   "metadata": {},
   "outputs": [
    {
     "data": {
      "text/plain": [
       "3.3314581543536396e-9"
      ]
     },
     "execution_count": 18,
     "metadata": {},
     "output_type": "execute_result"
    }
   ],
   "source": [
    "norm(la*f(b) - b)"
   ]
  },
  {
   "cell_type": "code",
   "execution_count": 19,
   "metadata": {},
   "outputs": [
    {
     "data": {
      "text/plain": [
       "3.3314581543536396e-9"
      ]
     },
     "execution_count": 19,
     "metadata": {},
     "output_type": "execute_result"
    }
   ],
   "source": [
    "x = lapWrapSolver(cholfact,la,b)\n",
    "norm(la*x - b)"
   ]
  },
  {
   "cell_type": "code",
   "execution_count": null,
   "metadata": {
    "collapsed": true
   },
   "outputs": [],
   "source": []
  },
  {
   "cell_type": "markdown",
   "metadata": {},
   "source": [
    "I really like the fact that Julia lets me type the following.  It still needs reasonable types."
   ]
  },
  {
   "cell_type": "markdown",
   "metadata": {},
   "source": [
    "# <a name=\"cg\">Using Conjugate Gradient</a>"
   ]
  },
  {
   "cell_type": "markdown",
   "metadata": {},
   "source": [
    "Here are examples of how to solve systems using the Conjugate Gradient."
   ]
  },
  {
   "cell_type": "code",
   "execution_count": 20,
   "metadata": {},
   "outputs": [
    {
     "data": {
      "text/plain": [
       "2.827848817086888e-6"
      ]
     },
     "execution_count": 20,
     "metadata": {},
     "output_type": "execute_result"
    }
   ],
   "source": [
    "n = 50\n",
    "a = randn(n,n); a = a * a';\n",
    "b = randn(n)\n",
    "x = cg(a,b,maxits=100)\n",
    "norm(a*x - b)"
   ]
  },
  {
   "cell_type": "code",
   "execution_count": 21,
   "metadata": {},
   "outputs": [
    {
     "name": "stdout",
     "output_type": "stream",
     "text": [
      "CG stopped after: 50 iterations with relative error 1.427647178875816150213595857463364575541693109394711014852702931527973366187885e-38.\n"
     ]
    },
    {
     "data": {
      "text/plain": [
       "1.101247547814646235270580604305022613523442584566417362886403637881772618266604e-37"
      ]
     },
     "execution_count": 21,
     "metadata": {},
     "output_type": "execute_result"
    }
   ],
   "source": [
    "bbig = convert(Array{BigFloat,1},b);\n",
    "xbig = cg(a,bbig,maxits=100)\n",
    "norm(a*xbig - bbig)"
   ]
  },
  {
   "cell_type": "code",
   "execution_count": 22,
   "metadata": {},
   "outputs": [],
   "source": [
    "la = lap(grid2(200))\n",
    "n = size(la)[1]\n",
    "b = randn(n)\n",
    "b = b - mean(b);"
   ]
  },
  {
   "cell_type": "code",
   "execution_count": 23,
   "metadata": {},
   "outputs": [
    {
     "name": "stdout",
     "output_type": "stream",
     "text": [
      "  0.843329 seconds (51.00 k allocations: 201.458 MB, 4.29% gc time)\n"
     ]
    },
    {
     "data": {
      "text/plain": [
       "0.00019683922955253898"
      ]
     },
     "execution_count": 23,
     "metadata": {},
     "output_type": "execute_result"
    }
   ],
   "source": [
    "@time x = cg(la,b,maxits=1000)\n",
    "norm(la*x-b)"
   ]
  },
  {
   "cell_type": "code",
   "execution_count": 24,
   "metadata": {},
   "outputs": [],
   "source": [
    "a = mapweight(grid2(200),x->1/(rand(1)[1]));\n",
    "la = lap(a)\n",
    "n = size(la)[1]\n",
    "b = randn(n)\n",
    "b = b - mean(b);"
   ]
  },
  {
   "cell_type": "code",
   "execution_count": 25,
   "metadata": {},
   "outputs": [
    {
     "name": "stdout",
     "output_type": "stream",
     "text": [
      "  4.633557 seconds (16.01 k allocations: 1.193 GB, 4.36% gc time)\n"
     ]
    },
    {
     "data": {
      "text/plain": [
       "43.83572140320749"
      ]
     },
     "execution_count": 25,
     "metadata": {},
     "output_type": "execute_result"
    }
   ],
   "source": [
    "@time x = cg(la,b,maxits=4000)\n",
    "norm(la*x-b)"
   ]
  },
  {
   "cell_type": "markdown",
   "metadata": {
    "collapsed": true
   },
   "source": [
    "Now, let's try a diagonal preconditioner."
   ]
  },
  {
   "cell_type": "code",
   "execution_count": 26,
   "metadata": {},
   "outputs": [
    {
     "name": "stdout",
     "output_type": "stream",
     "text": [
      "  1.465714 seconds (491.96 k allocations: 595.625 MB, 6.51% gc time)\n"
     ]
    },
    {
     "data": {
      "text/plain": [
       "19.957461012625778"
      ]
     },
     "execution_count": 26,
     "metadata": {},
     "output_type": "execute_result"
    }
   ],
   "source": [
    "d = diag(la)\n",
    "pre(x) = x ./ d\n",
    "@time x = pcg(la,b,pre,tol=1e-1,maxits=10^5)\n",
    "norm(la*x-b)"
   ]
  },
  {
   "cell_type": "code",
   "execution_count": 27,
   "metadata": {},
   "outputs": [
    {
     "name": "stdout",
     "output_type": "stream",
     "text": [
      "  6.533181 seconds (21.05 k allocations: 1.568 GB, 4.16% gc time)\n"
     ]
    },
    {
     "data": {
      "text/plain": [
       "18.40084364386128"
      ]
     },
     "execution_count": 27,
     "metadata": {},
     "output_type": "execute_result"
    }
   ],
   "source": [
    "@time x = cg(la,b,tol=1e-1,maxits=10^5)\n",
    "norm(la*x-b)"
   ]
  },
  {
   "cell_type": "markdown",
   "metadata": {},
   "source": [
    "It is very different for a random regular graph of the same size"
   ]
  },
  {
   "cell_type": "code",
   "execution_count": 28,
   "metadata": {},
   "outputs": [],
   "source": [
    "n = 1000000\n",
    "la = lap(randRegular(n,3))\n",
    "b = randn(n)\n",
    "b = b - mean(b);\n"
   ]
  },
  {
   "cell_type": "code",
   "execution_count": 29,
   "metadata": {},
   "outputs": [
    {
     "name": "stdout",
     "output_type": "stream",
     "text": [
      "  2.986557 seconds (172 allocations: 328.068 MB, 4.27% gc time)\n"
     ]
    },
    {
     "data": {
      "text/plain": [
       "0.0007762305877414395"
      ]
     },
     "execution_count": 29,
     "metadata": {},
     "output_type": "execute_result"
    }
   ],
   "source": [
    "@time x = cg(la,b,maxits=100)\n",
    "norm(la*x-b)"
   ]
  },
  {
   "cell_type": "markdown",
   "metadata": {},
   "source": [
    "# <a name=\"stretch\">Computing Stretch</a>\n"
   ]
  },
  {
   "cell_type": "markdown",
   "metadata": {},
   "source": [
    "The following is a test of our stretch computation code.\n",
    "I begin by creating a grid graph with random weights, using our stretch computation,\n",
    "and checking that it agrees with the trace computation.\n"
   ]
  },
  {
   "cell_type": "code",
   "execution_count": 30,
   "metadata": {},
   "outputs": [],
   "source": [
    "a = grid2(3)\n",
    "a = uniformWeight(a)\n",
    "a = a + a';"
   ]
  },
  {
   "cell_type": "code",
   "execution_count": 31,
   "metadata": {},
   "outputs": [
    {
     "data": {
      "text/plain": [
       "9x9 sparse matrix with 16 Float64 entries:\n",
       "\t[2, 1]  =  0.298218\n",
       "\t[1, 2]  =  0.298218\n",
       "\t[3, 2]  =  1.16494\n",
       "\t[5, 2]  =  1.41178\n",
       "\t[2, 3]  =  1.16494\n",
       "\t[6, 3]  =  1.10545\n",
       "\t[5, 4]  =  1.76592\n",
       "\t[7, 4]  =  1.92661\n",
       "\t[2, 5]  =  1.41178\n",
       "\t[4, 5]  =  1.76592\n",
       "\t[8, 5]  =  1.59899\n",
       "\t[3, 6]  =  1.10545\n",
       "\t[9, 6]  =  1.31406\n",
       "\t[4, 7]  =  1.92661\n",
       "\t[5, 8]  =  1.59899\n",
       "\t[6, 9]  =  1.31406"
      ]
     },
     "execution_count": 31,
     "metadata": {},
     "output_type": "execute_result"
    }
   ],
   "source": [
    "mst = kruskal(a)"
   ]
  },
  {
   "cell_type": "markdown",
   "metadata": {},
   "source": [
    "The following computes a matrix with entries corresponding to the nonzeros of a.  For each nonzero, it puts in the stretch.\n",
    "So, to find the total stretch, we should sum them all and then divide by 2."
   ]
  },
  {
   "cell_type": "code",
   "execution_count": 32,
   "metadata": {},
   "outputs": [
    {
     "data": {
      "text/plain": [
       "9x9 sparse matrix with 24 Float64 entries:\n",
       "\t[2, 1]  =  1.0\n",
       "\t[4, 1]  =  0.115101\n",
       "\t[1, 2]  =  1.0\n",
       "\t[3, 2]  =  1.0\n",
       "\t[5, 2]  =  1.0\n",
       "\t[2, 3]  =  1.0\n",
       "\t[6, 3]  =  1.0\n",
       "\t[1, 4]  =  0.115101\n",
       "\t[5, 4]  =  1.0\n",
       "\t[7, 4]  =  1.0\n",
       "\t⋮\n",
       "\t[8, 5]  =  1.0\n",
       "\t[3, 6]  =  1.0\n",
       "\t[5, 6]  =  0.203503\n",
       "\t[9, 6]  =  1.0\n",
       "\t[4, 7]  =  1.0\n",
       "\t[8, 7]  =  1.3647\n",
       "\t[5, 8]  =  1.0\n",
       "\t[7, 8]  =  1.3647\n",
       "\t[9, 8]  =  2.72786\n",
       "\t[6, 9]  =  1.0\n",
       "\t[8, 9]  =  2.72786"
      ]
     },
     "execution_count": 32,
     "metadata": {},
     "output_type": "execute_result"
    }
   ],
   "source": [
    "st = comp_stretches(mst,a)"
   ]
  },
  {
   "cell_type": "code",
   "execution_count": 33,
   "metadata": {},
   "outputs": [
    {
     "data": {
      "text/plain": [
       "12.411163624965448"
      ]
     },
     "execution_count": 33,
     "metadata": {},
     "output_type": "execute_result"
    }
   ],
   "source": [
    "sum(st)/2"
   ]
  },
  {
   "cell_type": "markdown",
   "metadata": {},
   "source": [
    "We now check that we got the right answer by using the algebraic formula."
   ]
  },
  {
   "cell_type": "code",
   "execution_count": 34,
   "metadata": {},
   "outputs": [
    {
     "data": {
      "text/plain": [
       "12.41116362496545"
      ]
     },
     "execution_count": 34,
     "metadata": {},
     "output_type": "execute_result"
    }
   ],
   "source": [
    "trace( pinv( full(lap(mst))) * lap(a)  )"
   ]
  },
  {
   "cell_type": "markdown",
   "metadata": {},
   "source": [
    "Now, let's do a speed test on a randomly weighted grid of side 2000."
   ]
  },
  {
   "cell_type": "code",
   "execution_count": 35,
   "metadata": {},
   "outputs": [
    {
     "name": "stdout",
     "output_type": "stream",
     "text": [
      "  3.110296 seconds (31.98 M allocations: 1.609 GB, 13.45% gc time)\n",
      "  1.070956 seconds (35 allocations: 823.610 MB, 20.38% gc time)\n",
      "  9.772786 seconds (95 allocations: 1.103 GB, 7.46% gc time)\n",
      "  4.505141 seconds (115 allocations: 1.500 GB, 15.35% gc time)\n"
     ]
    }
   ],
   "source": [
    "a = grid2(2000)\n",
    "@time a = uniformWeight(a)\n",
    "@time a = a + a';\n",
    "@time mst = kruskal(a);\n",
    "@time st = comp_stretches(mst,a);"
   ]
  },
  {
   "cell_type": "markdown",
   "metadata": {},
   "source": [
    "# <a name=\"precon\">Preconditioned Solvers</a>"
   ]
  },
  {
   "cell_type": "markdown",
   "metadata": {},
   "source": [
    "Right now there are a multitude of solvers available in the repository. All of them have both calls for SDD systems and Laplacian systems."
   ]
  },
  {
   "cell_type": "code",
   "execution_count": 36,
   "metadata": {},
   "outputs": [
    {
     "data": {
      "text/plain": [
       "5-element Array{Function,1}:\n",
       " Laplacians.augTreeSolver    \n",
       " Laplacians.KMPSDDSolver     \n",
       " Laplacians.hybridSDDSolver  \n",
       " Laplacians.samplingSDDSolver\n",
       " Laplacians.AMGSolver        "
      ]
     },
     "execution_count": 36,
     "metadata": {},
     "output_type": "execute_result"
    }
   ],
   "source": [
    "SDDSolvers"
   ]
  },
  {
   "cell_type": "code",
   "execution_count": 37,
   "metadata": {},
   "outputs": [
    {
     "data": {
      "text/plain": [
       "5-element Array{Function,1}:\n",
       " Laplacians.augTreeLapSolver \n",
       " Laplacians.KMPLapSolver     \n",
       " Laplacians.hybridLapSolver  \n",
       " Laplacians.samplingLapSolver\n",
       " Laplacians.AMGLapSolver     "
      ]
     },
     "execution_count": 37,
     "metadata": {},
     "output_type": "execute_result"
    }
   ],
   "source": [
    "LapSolvers"
   ]
  },
  {
   "cell_type": "code",
   "execution_count": 47,
   "metadata": {},
   "outputs": [],
   "source": [
    "a = mapweight(grid2(100),x->1/(rand(1)[1]));\n",
    "n = a.n\n",
    "la = lap(a); \n",
    "dval = zeros(n); dval[1] = dval[n] = 1e-3;\n",
    "sdd = la + spdiagm(dval);\n",
    "b = randn(n); b = b - mean(b);"
   ]
  },
  {
   "cell_type": "markdown",
   "metadata": {},
   "source": [
    "The SDD solvers take in the sdd matrix alongside the tolerance, maxits and maxtime parameters."
   ]
  },
  {
   "cell_type": "code",
   "execution_count": 49,
   "metadata": {},
   "outputs": [
    {
     "name": "stdout",
     "output_type": "stream",
     "text": [
      "Solver Laplacians.augTreeSolver\n",
      "  0.067958 seconds (235.22 k allocations: 35.807 MB, 8.41% gc time)\n",
      "  0.060869 seconds (2.72 k allocations: 70.339 MB, 17.35% gc time)\n",
      "Relative norm: 9.250884271915595e-5\n",
      "\n",
      "Solver Laplacians.KMPSDDSolver\n",
      "  0.063388 seconds (254.46 k allocations: 44.168 MB, 14.65% gc time)\n",
      "  0.102330 seconds (8.82 k allocations: 133.219 MB, 18.42% gc time)\n",
      "Relative norm: 9.355785387633888e-5\n",
      "\n",
      "Solver Laplacians.hybridSDDSolver\n",
      "  0.064385 seconds (264.54 k allocations: 41.390 MB, 12.33% gc time)\n",
      "  0.379060 seconds (2.07 M allocations: 266.961 MB, 9.90% gc time)\n",
      "Relative norm: 9.832304243953024e-5\n",
      "\n",
      "Solver Laplacians.samplingSDDSolver\n",
      "  0.135522 seconds (706.74 k allocations: 101.318 MB, 13.69% gc time)\n",
      "  0.179568 seconds (3.14 M allocations: 144.395 MB, 13.88% gc time)\n",
      "Relative norm: 9.95716064856691e-5\n",
      "\n",
      "Solver Laplacians.AMGSolver\n",
      "  0.030372 seconds (166 allocations: 860.125 KB)\n",
      "  0.116332 seconds (1.55 k allocations: 4.400 MB)\n",
      "Relative norm: 9.519986283623698e-5\n",
      "\n"
     ]
    }
   ],
   "source": [
    "for solver in SDDSolvers\n",
    "    println(\"Solver \", solver)\n",
    "    @time f = solver(sdd, maxits=1000, maxtime=10, tol=1e-4, verbose=false)\n",
    "    @time x = f(b);\n",
    "    println(\"Relative norm: \", norm(sdd * x - b) / norm(b), \"\\n\")\n",
    "end"
   ]
  },
  {
   "cell_type": "markdown",
   "metadata": {},
   "source": [
    "The SDD solvers take in the sdd matrix alongside the tolerance, maxits and maxtime parameters."
   ]
  },
  {
   "cell_type": "code",
   "execution_count": 50,
   "metadata": {},
   "outputs": [
    {
     "name": "stdout",
     "output_type": "stream",
     "text": [
      "Solver Laplacians.augTreeLapSolver\n",
      "  0.072029 seconds (235.32 k allocations: 38.405 MB, 12.87% gc time)\n",
      "  0.088307 seconds (6.51 k allocations: 98.563 MB, 18.56% gc time)\n",
      "Relative norm: 0.00015469840172506333\n",
      "\n",
      "Solver Laplacians.KMPLapSolver\n",
      "  0.054602 seconds (254.18 k allocations: 39.445 MB, 15.07% gc time)\n",
      "  0.107957 seconds (8.38 k allocations: 126.549 MB, 21.16% gc time)\n",
      "Relative norm: 0.0001558714652838137\n",
      "\n",
      "Solver Laplacians.hybridLapSolver\n",
      "  0.053575 seconds (267.23 k allocations: 36.942 MB, 6.97% gc time)\n",
      "  0.407590 seconds (3.02 M allocations: 286.329 MB, 10.58% gc time)\n",
      "Relative norm: 0.00015420023270231535\n",
      "\n",
      "Solver Laplacians.samplingLapSolver\n",
      "  0.119625 seconds (706.35 k allocations: 90.641 MB, 21.37% gc time)\n",
      "  0.218231 seconds (3.52 M allocations: 161.625 MB, 14.20% gc time)\n",
      "Relative norm: 0.00015470313398451233\n",
      "\n",
      "Solver Laplacians.AMGLapSolver\n",
      "  0.043749 seconds (235 allocations: 2.744 MB)\n",
      "  0.179676 seconds (1.57 k allocations: 4.402 MB)\n",
      "Relative norm: 0.00014173955766018617\n",
      "\n"
     ]
    }
   ],
   "source": [
    "for solver in LapSolvers\n",
    "    println(\"Solver \", solver)\n",
    "    @time f = solver(a, maxits=1000, maxtime=10, tol=1e-4, verbose=false)\n",
    "    @time x = f(b);\n",
    "    println(\"Relative norm: \", norm(sdd * x - b) / norm(b), \"\\n\")\n",
    "end"
   ]
  },
  {
   "cell_type": "code",
   "execution_count": null,
   "metadata": {
    "collapsed": true
   },
   "outputs": [],
   "source": []
  }
 ],
 "metadata": {
  "anaconda-cloud": {},
  "kernelspec": {
   "display_name": "Julia 0.4.6",
   "language": "julia",
   "name": "julia-0.4"
  },
  "language_info": {
   "file_extension": ".jl",
   "mimetype": "application/julia",
   "name": "julia",
   "version": "0.4.6"
  },
  "toc": {
   "colors": {
    "hover_highlight": "#DAA520",
    "navigate_num": "#000000",
    "navigate_text": "#333333",
    "running_highlight": "#FF0000",
    "selected_highlight": "#FFD700",
    "sidebar_border": "#EEEEEE",
    "wrapper_background": "#FFFFFF"
   },
   "moveMenuLeft": true,
   "nav_menu": {
    "height": "138px",
    "width": "252px"
   },
   "navigate_menu": true,
   "number_sections": true,
   "sideBar": true,
   "threshold": 4,
   "toc_cell": true,
   "toc_section_display": "block",
   "toc_window_display": false,
   "widenNotebook": false
  }
 },
 "nbformat": 4,
 "nbformat_minor": 1
}
