{
 "cells": [
  {
   "cell_type": "markdown",
   "metadata": {
    "collapsed": false
   },
   "source": [
    "This is a demo for the use of the local clustering code."
   ]
  },
  {
   "cell_type": "code",
   "execution_count": 1,
   "metadata": {
    "collapsed": false
   },
   "outputs": [],
   "source": [
    "using Laplacians"
   ]
  },
  {
   "cell_type": "markdown",
   "metadata": {},
   "source": [
    "First, a small example"
   ]
  },
  {
   "cell_type": "code",
   "execution_count": 2,
   "metadata": {
    "collapsed": true
   },
   "outputs": [],
   "source": [
    "a = chimera(100, 3);"
   ]
  },
  {
   "cell_type": "code",
   "execution_count": 3,
   "metadata": {
    "collapsed": false
   },
   "outputs": [
    {
     "name": "stdout",
     "output_type": "stream",
     "text": [
      "0.1951219512195122 29\n"
     ]
    }
   ],
   "source": [
    "s = prn(a, [1,2,3], 0.2, 5);\n",
    "conds = compConductance(a, s)\n",
    "println(conds, \" \", length(s))"
   ]
  },
  {
   "cell_type": "code",
   "execution_count": 4,
   "metadata": {
    "collapsed": false
   },
   "outputs": [
    {
     "data": {
      "text/plain": [
       "0.01557632398753894"
      ]
     },
     "execution_count": 4,
     "metadata": {},
     "output_type": "execute_result"
    }
   ],
   "source": [
    "minEpsSigma = getVolume(a, s) / getVolume(a, setdiff(collect(1:max(a.n, a.m)), s));\n",
    "cut, flow = localImprove(a, s, epsSigma = minEpsSigma);\n",
    "condcut = compConductance(a, cut)\n",
    "println(concut, \" \", length(cut))"
   ]
  },
  {
   "cell_type": "markdown",
   "metadata": {},
   "source": [
    "If maxSize isn't set, the new conductance is always better than the initial one. In some cases much better."
   ]
  },
  {
   "cell_type": "markdown",
   "metadata": {},
   "source": [
    "Now a larger example"
   ]
  },
  {
   "cell_type": "code",
   "execution_count": 5,
   "metadata": {
    "collapsed": false
   },
   "outputs": [],
   "source": [
    "a = chimera(1000000, 1);"
   ]
  },
  {
   "cell_type": "code",
   "execution_count": 6,
   "metadata": {
    "collapsed": false
   },
   "outputs": [
    {
     "name": "stdout",
     "output_type": "stream",
     "text": [
      "0.47058823529411764 12\n"
     ]
    }
   ],
   "source": [
    "s = prn(a, [1,2,3], 0.5, 5);\n",
    "conds = compConductance(a, s)\n",
    "println(conds, \" \", length(s))"
   ]
  },
  {
   "cell_type": "code",
   "execution_count": 7,
   "metadata": {
    "collapsed": false
   },
   "outputs": [
    {
     "name": "stdout",
     "output_type": "stream",
     "text": [
      "0.1587607739135676 7012\n"
     ]
    }
   ],
   "source": [
    "minEpsSigma = getVolume(a, s) / getVolume(a, setdiff(collect(1:max(a.n, a.m)), s));\n",
    "cut, flow = localImprove(a, s, epsSigma = minEpsSigma, maxSize = 10000);\n",
    "condcut = compConductance(a, cut)\n",
    "println(condcut, \" \", length(cut))"
   ]
  },
  {
   "cell_type": "markdown",
   "metadata": {
    "collapsed": true
   },
   "source": [
    "There are however cases where we don't get any improvements, even if our maxSize value is set to something sensibly larger. This is mainly because of the structure of the graphs we are working with. The process can be hit & miss."
   ]
  },
  {
   "cell_type": "code",
   "execution_count": 8,
   "metadata": {
    "collapsed": false
   },
   "outputs": [],
   "source": [
    "a = chimera(1000000, 2);"
   ]
  },
  {
   "cell_type": "code",
   "execution_count": 9,
   "metadata": {
    "collapsed": false
   },
   "outputs": [
    {
     "name": "stdout",
     "output_type": "stream",
     "text": [
      "0.4925373134328358 37\n"
     ]
    }
   ],
   "source": [
    "s = prn(a, [1,2,3], 0.5, 5);\n",
    "conds = compConductance(a, s)\n",
    "println(conds, \" \", length(s))"
   ]
  },
  {
   "cell_type": "code",
   "execution_count": 10,
   "metadata": {
    "collapsed": false
   },
   "outputs": [
    {
     "name": "stdout",
     "output_type": "stream",
     "text": [
      "0.4925373134328358 37\n"
     ]
    }
   ],
   "source": [
    "minEpsSigma = getVolume(a, s) / getVolume(a, setdiff(collect(1:max(a.n, a.m)), s));\n",
    "cut, flow = localImprove(a, s, epsSigma = minEpsSigma, maxSize = 100000);\n",
    "condcut = compConductance(a, cut)\n",
    "println(condcut, \" \", length(cut))"
   ]
  },
  {
   "cell_type": "markdown",
   "metadata": {
    "collapsed": true
   },
   "source": [
    "We can however try a refinind heuristic to get a slight improvement on our result. "
   ]
  },
  {
   "cell_type": "code",
   "execution_count": 11,
   "metadata": {
    "collapsed": false
   },
   "outputs": [
    {
     "name": "stdout",
     "output_type": "stream",
     "text": [
      "0.4426229508196721 21\n"
     ]
    }
   ],
   "source": [
    "heur = refineCut(a, cut)\n",
    "condref = compConductance(a, heur)\n",
    "println(condref, \" \", length(heur))"
   ]
  }
 ],
 "metadata": {
  "kernelspec": {
   "display_name": "Julia 0.4.0",
   "language": "julia",
   "name": "julia-0.4"
  },
  "language_info": {
   "file_extension": ".jl",
   "mimetype": "application/julia",
   "name": "julia",
   "version": "0.4.0"
  }
 },
 "nbformat": 4,
 "nbformat_minor": 0
}
