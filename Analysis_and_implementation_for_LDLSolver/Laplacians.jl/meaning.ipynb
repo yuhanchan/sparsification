{
 "cells": [
  {
   "cell_type": "markdown",
   "metadata": {},
   "source": [
    "This notebook discusses the meaning of `approxChol()` and `LDLinv`. In summary, `approxChol()` takes the adjacency matrix `a` of a graph, and output an appoximate inverse of the laplacian. That inverse is represented by `LDLinv` structure, which can be applied to vectors using `LDLsolver()`"
   ]
  },
  {
   "cell_type": "code",
   "execution_count": 31,
   "metadata": {},
   "outputs": [],
   "source": [
    "using LinearAlgebra\n",
    "using SparseArrays\n",
    "using Statistics\n",
    "import Laplacians as Lap\n",
    "using CUDA"
   ]
  },
  {
   "cell_type": "markdown",
   "metadata": {},
   "source": [
    "Helper functions. `getLDLi(mat)` returns the `LDLinv` structure for the Laplacian of `mat`. `applyLDLi(ldli, mat)` applies `LDLinv` to a matrix `mat`."
   ]
  },
  {
   "cell_type": "code",
   "execution_count": 10,
   "metadata": {},
   "outputs": [
    {
     "data": {
      "text/plain": [
       "applyLDLi (generic function with 1 method)"
      ]
     },
     "execution_count": 10,
     "metadata": {},
     "output_type": "execute_result"
    }
   ],
   "source": [
    "getLDLi(mat) = Lap.approxChol(Lap.LLmatp(mat))\n",
    "applyLDLi(ldli, mat) = sparse(reduce(hcat, map(x -> Lap.LDLsolver(ldli, Vector(x)), eachcol(mat))))"
   ]
  },
  {
   "cell_type": "markdown",
   "metadata": {},
   "source": [
    "Generate a random graph with 10000 nodes as `a`. Calculate its Laplacian as `la`. Get its `LDLinv` structure."
   ]
  },
  {
   "cell_type": "code",
   "execution_count": 21,
   "metadata": {},
   "outputs": [
    {
     "data": {
      "text/plain": [
       "10000×10000 SparseArrays.SparseMatrixCSC{Float64, Int64} with 80000 stored entries:\n",
       "⠻⣦⡀⠀⠳⣷⣄⠀⠀⠀⠀⠀⠀⠀⠀⠀⠀⠀⠀⠀⠀⠀⠀⠀⠀⠀⠀⠀⠀⠀⠀⠀⠀⠀⠈⠻⣷⣄⠀⠈\n",
       "⠀⠈⠻⣦⡀⠈⠻⣷⣄⠀⠀⠀⠀⠀⠀⠀⠀⠀⠀⠀⠀⠀⠀⠀⠀⠀⠀⠀⠀⠀⠀⠀⠀⠀⠀⠀⠈⠻⣷⣄\n",
       "⢽⣦⡀⠈⠻⣦⡀⠈⠻⣷⣄⠀⠀⠀⠀⠀⠀⠀⠀⠀⠀⠀⠀⠀⠀⠀⠀⠀⠀⠀⠀⠀⠀⠀⠀⠀⠀⠀⠈⠻\n",
       "⠀⠙⢿⣦⡀⠈⠻⣦⡀⠈⠻⣷⣄⠀⠀⠀⠀⠀⠀⠀⠀⠀⠀⠀⠀⠀⠀⠀⠀⠀⠀⠀⠀⠀⠀⠀⠀⠀⠀⠀\n",
       "⠀⠀⠀⠙⢿⣦⡀⠈⠻⣦⡀⠈⠻⣷⣄⠀⠀⠀⠀⠀⠀⠀⠀⠀⠀⠀⠀⠀⠀⠀⠀⠀⠀⠀⠀⠀⠀⠀⠀⠀\n",
       "⠀⠀⠀⠀⠀⠙⢿⣦⡀⠈⠻⣦⡀⠈⠻⣷⣄⠀⠀⠀⠀⠀⠀⠀⠀⠀⠀⠀⠀⠀⠀⠀⠀⠀⠀⠀⠀⠀⠀⠀\n",
       "⠀⠀⠀⠀⠀⠀⠀⠙⢿⣦⡀⠈⠻⣦⡀⠈⠻⣷⣄⠀⠀⠀⠀⠀⠀⠀⠀⠀⠀⠀⠀⠀⠀⠀⠀⠀⠀⠀⠀⠀\n",
       "⠀⠀⠀⠀⠀⠀⠀⠀⠀⠙⢿⣦⡀⠈⠻⣦⡀⠈⠻⣷⣄⠀⠀⠀⠀⠀⠀⠀⠀⠀⠀⠀⠀⠀⠀⠀⠀⠀⠀⠀\n",
       "⠀⠀⠀⠀⠀⠀⠀⠀⠀⠀⠀⠙⢿⣦⡀⠈⠻⣦⡀⠈⠻⣷⣄⠀⠀⠀⠀⠀⠀⠀⠀⠀⠀⠀⠀⠀⠀⠀⠀⠀\n",
       "⠀⠀⠀⠀⠀⠀⠀⠀⠀⠀⠀⠀⠀⠙⢿⣦⡀⠈⠻⣦⡀⠈⠻⣷⣄⠀⠀⠀⠀⠀⠀⠀⠀⠀⠀⠀⠀⠀⠀⠀\n",
       "⠀⠀⠀⠀⠀⠀⠀⠀⠀⠀⠀⠀⠀⠀⠀⠙⢿⣦⡀⠈⠻⣦⡀⠈⠻⣷⣄⠀⠀⠀⠀⠀⠀⠀⠀⠀⠀⠀⠀⠀\n",
       "⠀⠀⠀⠀⠀⠀⠀⠀⠀⠀⠀⠀⠀⠀⠀⠀⠀⠙⢿⣦⡀⠈⠻⣦⡀⠈⠻⣷⣄⠀⠀⠀⠀⠀⠀⠀⠀⠀⠀⠀\n",
       "⠀⠀⠀⠀⠀⠀⠀⠀⠀⠀⠀⠀⠀⠀⠀⠀⠀⠀⠀⠙⢿⣦⡀⠈⠻⣦⡀⠈⠻⣷⣄⠀⠀⠀⠀⠀⠀⠀⠀⠀\n",
       "⠀⠀⠀⠀⠀⠀⠀⠀⠀⠀⠀⠀⠀⠀⠀⠀⠀⠀⠀⠀⠀⠙⢿⣦⡀⠈⠻⣦⡀⠈⠻⣷⣄⠀⠀⠀⠀⠀⠀⠀\n",
       "⠀⠀⠀⠀⠀⠀⠀⠀⠀⠀⠀⠀⠀⠀⠀⠀⠀⠀⠀⠀⠀⠀⠀⠙⢿⣦⡀⠈⠻⣦⡀⠈⠻⣷⣄⠀⠀⠀⠀⠀\n",
       "⠀⠀⠀⠀⠀⠀⠀⠀⠀⠀⠀⠀⠀⠀⠀⠀⠀⠀⠀⠀⠀⠀⠀⠀⠀⠙⢿⣦⡀⠈⠻⣦⡀⠈⠻⣷⣄⠀⠀⠀\n",
       "⠀⠀⠀⠀⠀⠀⠀⠀⠀⠀⠀⠀⠀⠀⠀⠀⠀⠀⠀⠀⠀⠀⠀⠀⠀⠀⠀⠙⢿⣦⡀⠈⠻⣦⡀⠈⠻⣷⣄⠀\n",
       "⣦⡀⠀⠀⠀⠀⠀⠀⠀⠀⠀⠀⠀⠀⠀⠀⠀⠀⠀⠀⠀⠀⠀⠀⠀⠀⠀⠀⠀⠙⢿⣦⡀⠈⠻⣦⡀⠈⠻⣗\n",
       "⠙⢿⣦⡀⠀⠀⠀⠀⠀⠀⠀⠀⠀⠀⠀⠀⠀⠀⠀⠀⠀⠀⠀⠀⠀⠀⠀⠀⠀⠀⠀⠙⢿⣦⡀⠈⠻⣦⡀⠀\n",
       "⡀⠀⠙⢿⣦⡀⠀⠀⠀⠀⠀⠀⠀⠀⠀⠀⠀⠀⠀⠀⠀⠀⠀⠀⠀⠀⠀⠀⠀⠀⠀⠀⠀⠙⢿⢦⠀⠈⠻⣦"
      ]
     },
     "execution_count": 21,
     "metadata": {},
     "output_type": "execute_result"
    }
   ],
   "source": [
    "a = Lap.pure_random_graph(10000)\n",
    "la = Lap.lap(a)\n",
    "ldli = getLDLi(a)\n",
    "a"
   ]
  },
  {
   "cell_type": "markdown",
   "metadata": {},
   "source": [
    "Applying `LDLinv` to the graph laplacian will transform it to identity matrix. Thus, the linear operator represented by `LDLinv` is the approximate inverse of the graph laplcain."
   ]
  },
  {
   "cell_type": "code",
   "execution_count": 34,
   "metadata": {},
   "outputs": [
    {
     "name": "stdout",
     "output_type": "stream",
     "text": [
      "the mean of deviation from identity matrix for all entries is -0.0001\n",
      "the upper left corner of the resulting matrix is: \n"
     ]
    },
    {
     "data": {
      "text/plain": [
       "15×15 SparseMatrixCSC{Float64, Int64} with 225 stored entries:\n",
       "  1.14306      0.0126771     0.0172945    …  -0.0253597     0.00653636\n",
       "  0.0123504    1.16515       0.0503812       -0.00289762    0.00169255\n",
       " -0.0024889    0.0466095     1.11742          0.000808095  -0.000301933\n",
       " -0.00352406   0.0133843    -0.000792009      0.000986136  -0.00142257\n",
       " -0.00171223   0.00160572   -0.022854         0.000337445   0.000173126\n",
       " -0.00137628   0.00148531   -0.00633946   …   3.06648e-5    7.53624e-5\n",
       " -0.00117139   0.00106028   -0.00447675      -0.000157608  -5.75672e-5\n",
       " -0.000841139  0.000231387  -0.0015564       -0.000311532  -0.000213066\n",
       " -0.000743585  0.000202244  -0.000696326     -0.00049275   -0.000330041\n",
       " -0.000945985  0.000268603  -0.000305977     -0.000982721  -0.000513379\n",
       " -0.00124893   0.000336132   2.64695e-5   …  -0.000964667  -0.00115675\n",
       " -0.00298721   3.72796e-6    0.000380135     -0.003502     -0.00407727\n",
       " -0.00603306   0.00044673    0.00137892       0.00224336   -0.0256941\n",
       " -0.0206403    0.0028126     0.00508451       1.07689      -0.00466171\n",
       "  0.0208758    0.0119152     0.021599         0.00430983    1.07135"
      ]
     },
     "execution_count": 34,
     "metadata": {},
     "output_type": "execute_result"
    }
   ],
   "source": [
    "res = applyLDLi(ldli, la)\n",
    "println(\"the mean of deviation from identity matrix for all entries is $(mean(res - 1.0I))\")\n",
    "println(\"the upper left corner of the resulting matrix is: \")\n",
    "res[1:15, 1:15]"
   ]
  }
 ],
 "metadata": {
  "kernelspec": {
   "display_name": "Julia 1.8.0",
   "language": "julia",
   "name": "julia-1.8"
  },
  "language_info": {
   "file_extension": ".jl",
   "mimetype": "application/julia",
   "name": "julia",
   "version": "1.8.0"
  },
  "vscode": {
   "interpreter": {
    "hash": "1668e7ef494e657ea677882f56aa8b5ead60d3e15ff2286c7087974f9437314e"
   }
  }
 },
 "nbformat": 4,
 "nbformat_minor": 2
}
