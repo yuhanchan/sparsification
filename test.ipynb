{
 "cells": [
  {
   "cell_type": "code",
   "execution_count": 5,
   "metadata": {},
   "outputs": [
    {
     "data": {
      "text/plain": [
       "0.821302136083599"
      ]
     },
     "metadata": {},
     "output_type": "display_data"
    }
   ],
   "source": [
    "using Laplacians, LinearAlgebra, SparseArrays\n",
    "rand()"
   ]
  },
  {
   "cell_type": "code",
   "execution_count": 1031,
   "metadata": {},
   "outputs": [
    {
     "data": {
      "text/plain": [
       "100×100 SparseMatrixCSC{Float64, Int64} with 384 stored entries:\n",
       "⠮⡣⡡⠜⣀⠀⠀⠄⡠⠀⡀⠀⢀⠀⠀⡀⠄⠀⠄⠀⠀⠀⠀⠀⠀⠤⠀⠤⠀⠀⠠⠁⠀⠈⠀⠀⠀⠀⠀⠈\n",
       "⣁⠎⠠⠂⡈⠦⡀⠀⠈⢄⠀⠀⠂⠤⠀⠀⢀⡀⢀⠀⠐⠀⠀⠀⠀⠀⠀⠀⠀⠀⡀⠈⠀⠀⢐⠀⢀⠀⠀⠀\n",
       "⠀⠘⠢⡌⠠⡢⠴⠎⡀⡀⠀⠀⠀⠀⢀⠤⠄⠀⠈⠀⠀⠀⠀⠀⠀⠀⠀⡀⠀⠀⠀⢀⠀⠀⠀⠀⠀⠀⠀⡀\n",
       "⠀⠄⠀⠈⡰⠇⠀⡠⠀⠄⠀⠥⠀⠠⠀⠦⠀⠤⠄⠀⠡⠅⢀⠁⠀⠀⠈⠀⠠⠀⠀⠀⠀⠀⠢⠀⠀⠀⠀⡀\n",
       "⠀⠊⠂⢄⠀⠨⠀⠄⠄⡡⠔⠄⠁⠀⠑⠀⠀⠀⠀⠈⠀⠠⠠⠀⠀⠀⠀⠀⠀⠀⠀⠀⠀⠀⠀⠀⠀⠉⠀⠀\n",
       "⠀⠈⠀⠀⠀⠀⠄⡄⠐⠅⠀⠀⠐⡀⠁⠀⠠⡀⠀⢂⢀⠀⠀⠄⢠⠀⠀⠀⠀⠀⠀⠀⠈⠀⠀⠀⠀⠀⠄⠠\n",
       "⠀⠐⠈⡄⠀⠀⠀⡀⠁⠀⠐⠠⠀⠀⠀⠀⠀⠀⠀⠆⠀⠀⡀⠀⠄⠀⠀⠀⠀⠄⠈⠀⠀⠀⠀⠀⠀⠀⠀⠀\n",
       "⠀⠠⠀⠀⠀⡔⠠⡄⠑⠀⠁⠀⠀⠀⠀⠀⠀⠀⠀⠄⠀⠠⠑⠐⠠⠔⠠⠀⠀⠀⠀⠀⡈⠀⠂⢄⠐⠁⠀⠀\n",
       "⠀⠁⠀⠰⠀⠁⠀⡄⠀⠀⠀⠢⠀⠀⠀⠀⢀⠐⠀⠀⠤⠀⠀⠀⠐⠀⠠⠈⠀⠀⠀⠄⠀⠂⠀⠄⠀⠀⠀⠀\n",
       "⠀⠁⠀⠐⠂⠀⠀⠁⡀⠀⠠⢀⠠⠄⠀⠄⠀⠀⠀⠀⠀⠀⠀⠀⠁⠀⠠⠀⠀⠀⠀⠀⠄⠀⠀⠀⠄⠀⠀⠀\n",
       "⠀⠀⠐⠀⠀⠀⠅⠆⠀⡀⠀⠐⠀⠀⠀⡀⠀⠃⠀⠀⠀⠀⠈⢀⠀⠀⠀⠀⠑⠐⠀⠀⠀⠀⠀⠀⠀⠀⢠⠀\n",
       "⠀⠀⠀⠀⠀⠀⠄⠐⠀⠂⠀⠄⠀⠈⢑⠀⠀⠀⠀⠀⠂⢀⠀⠀⠀⠀⠀⠀⠠⠀⡀⠀⠐⠈⠀⠀⠀⠐⠠⠀\n",
       "⠀⡄⠀⠀⠀⠀⠀⠀⠀⠀⠀⠒⠀⠁⢀⠆⠐⠀⠁⠀⠀⠀⠀⠀⠀⠀⠂⠀⠄⠠⠀⠀⠐⠀⠀⠀⠀⠀⠀⠀\n",
       "⠀⡄⠀⠀⠀⠠⠂⠀⠀⠀⠀⠀⠀⠀⠀⠂⡀⠂⠀⠂⠀⠀⠀⠀⠈⠀⠀⠀⠀⠀⠐⠀⠀⠄⠀⠀⠀⠀⠠⠀\n",
       "⠀⠀⠀⠀⠀⠀⠀⠂⠀⠀⠀⠀⠀⠄⠀⠀⠀⠀⠀⠀⢑⠀⠀⠂⠀⡁⠀⠀⠄⠁⢀⠀⠀⠀⢀⢀⠀⠀⠀⠀\n",
       "⠄⠂⡀⠈⠀⢀⠀⠀⠀⠀⠀⠀⠂⠀⠀⠀⠀⠄⠀⠀⠀⠀⠀⠈⠀⠀⠐⠀⠀⠐⠀⠀⠀⠀⠀⠀⠠⠀⠀⠀\n",
       "⡀⠀⠀⠀⠀⠀⠀⠀⠀⠀⠂⠀⠀⠀⠂⠈⠠⠀⠀⠁⠀⠀⡐⠀⠐⠀⠀⠄⠀⠀⠀⠀⠀⠀⠀⠀⠄⠀⠄⠀\n",
       "⠀⠀⠐⠐⠀⠀⠈⠂⠀⠀⠀⠀⠀⠀⠈⢄⠀⠄⠀⠀⠀⠀⠀⠀⠀⠀⠀⠀⠀⢐⠀⠀⠀⠀⠀⠀⠈⠀⠀⠀\n",
       "⠀⠀⠀⠐⠀⠀⠀⠀⡄⠀⠀⠀⠀⠀⠔⠀⠀⠀⠀⠁⠀⠀⢀⠀⠀⠀⠀⠀⠀⠀⠀⠂⠀⠁⠂⠀⠀⠀⠀⠀\n",
       "⡀⠀⠀⠀⠀⠠⠀⠠⠀⠀⠀⡁⠀⠀⠀⠀⠀⠀⠀⠀⠀⠒⠀⠂⠀⠀⠀⠂⠀⠀⠀⠀⠀⠁⠀⠀⠀⠀⠀⠀"
      ]
     },
     "metadata": {},
     "output_type": "display_data"
    }
   ],
   "source": [
    "a = pure_random_graph(100)"
   ]
  },
  {
   "cell_type": "code",
   "execution_count": 1032,
   "metadata": {},
   "outputs": [
    {
     "data": {
      "text/plain": [
       "1455.1577176650726"
      ]
     },
     "metadata": {},
     "output_type": "display_data"
    }
   ],
   "source": [
    "# lambda, v = LinearAlgebra.eigen(Matrix(a))\n",
    "# abs(maximum(lambda)/minimum(lambda))\n",
    "LinearAlgebra.cond(Matrix(a))"
   ]
  },
  {
   "cell_type": "code",
   "execution_count": 1033,
   "metadata": {},
   "outputs": [
    {
     "data": {
      "text/plain": [
       "100×100 SparseMatrixCSC{Float64, Int64} with 484 stored entries:\n",
       "⠿⣧⡡⠜⣀⠀⠀⠄⡠⠀⡀⠀⢀⠀⠀⡀⠄⠀⠄⠀⠀⠀⠀⠀⠀⠤⠀⠤⠀⠀⠠⠁⠀⠈⠀⠀⠀⠀⠀⠈\n",
       "⣁⠎⠱⢆⡈⠦⡀⠀⠈⢄⠀⠀⠂⠤⠀⠀⢀⡀⢀⠀⠐⠀⠀⠀⠀⠀⠀⠀⠀⠀⡀⠈⠀⠀⢐⠀⢀⠀⠀⠀\n",
       "⠀⠘⠢⡌⠱⣦⠴⠎⡀⡀⠀⠀⠀⠀⢀⠤⠄⠀⠈⠀⠀⠀⠀⠀⠀⠀⠀⡀⠀⠀⠀⢀⠀⠀⠀⠀⠀⠀⠀⡀\n",
       "⠀⠄⠀⠈⡰⠇⠑⣤⠀⠄⠀⠥⠀⠠⠀⠦⠀⠤⠄⠀⠡⠅⢀⠁⠀⠀⠈⠀⠠⠀⠀⠀⠀⠀⠢⠀⠀⠀⠀⡀\n",
       "⠀⠊⠂⢄⠀⠨⠀⠄⠕⣥⠔⠄⠁⠀⠑⠀⠀⠀⠀⠈⠀⠠⠠⠀⠀⠀⠀⠀⠀⠀⠀⠀⠀⠀⠀⠀⠀⠉⠀⠀\n",
       "⠀⠈⠀⠀⠀⠀⠄⡄⠐⠅⠑⢄⠐⡀⠁⠀⠠⡀⠀⢂⢀⠀⠀⠄⢠⠀⠀⠀⠀⠀⠀⠀⠈⠀⠀⠀⠀⠀⠄⠠\n",
       "⠀⠐⠈⡄⠀⠀⠀⡀⠁⠀⠐⠠⠑⢄⠀⠀⠀⠀⠀⠆⠀⠀⡀⠀⠄⠀⠀⠀⠀⠄⠈⠀⠀⠀⠀⠀⠀⠀⠀⠀\n",
       "⠀⠠⠀⠀⠀⡔⠠⡄⠑⠀⠁⠀⠀⠀⠑⢄⠀⠀⠀⠄⠀⠠⠑⠐⠠⠔⠠⠀⠀⠀⠀⠀⡈⠀⠂⢄⠐⠁⠀⠀\n",
       "⠀⠁⠀⠰⠀⠁⠀⡄⠀⠀⠀⠢⠀⠀⠀⠀⢑⢔⠀⠀⠤⠀⠀⠀⠐⠀⠠⠈⠀⠀⠀⠄⠀⠂⠀⠄⠀⠀⠀⠀\n",
       "⠀⠁⠀⠐⠂⠀⠀⠁⡀⠀⠠⢀⠠⠄⠀⠄⠀⠀⠑⢄⠀⠀⠀⠀⠁⠀⠠⠀⠀⠀⠀⠀⠄⠀⠀⠀⠄⠀⠀⠀\n",
       "⠀⠀⠐⠀⠀⠀⠅⠆⠀⡀⠀⠐⠀⠀⠀⡀⠀⠃⠀⠀⠑⢄⠈⢀⠀⠀⠀⠀⠑⠐⠀⠀⠀⠀⠀⠀⠀⠀⢠⠀\n",
       "⠀⠀⠀⠀⠀⠀⠄⠐⠀⠂⠀⠄⠀⠈⢑⠀⠀⠀⠀⠀⠂⢀⠑⢄⠀⠀⠀⠀⠠⠀⡀⠀⠐⠈⠀⠀⠀⠐⠠⠀\n",
       "⠀⡄⠀⠀⠀⠀⠀⠀⠀⠀⠀⠒⠀⠁⢀⠆⠐⠀⠁⠀⠀⠀⠀⠀⠑⢄⠂⠀⠄⠠⠀⠀⠐⠀⠀⠀⠀⠀⠀⠀\n",
       "⠀⡄⠀⠀⠀⠠⠂⠀⠀⠀⠀⠀⠀⠀⠀⠂⡀⠂⠀⠂⠀⠀⠀⠀⠈⠀⠑⢄⠀⠀⠐⠀⠀⠄⠀⠀⠀⠀⠠⠀\n",
       "⠀⠀⠀⠀⠀⠀⠀⠂⠀⠀⠀⠀⠀⠄⠀⠀⠀⠀⠀⠀⢑⠀⠀⠂⠀⡁⠀⠀⠕⢅⢀⠀⠀⠀⢀⢀⠀⠀⠀⠀\n",
       "⠄⠂⡀⠈⠀⢀⠀⠀⠀⠀⠀⠀⠂⠀⠀⠀⠀⠄⠀⠀⠀⠀⠀⠈⠀⠀⠐⠀⠀⠐⠑⢄⠀⠀⠀⠀⠠⠀⠀⠀\n",
       "⡀⠀⠀⠀⠀⠀⠀⠀⠀⠀⠂⠀⠀⠀⠂⠈⠠⠀⠀⠁⠀⠀⡐⠀⠐⠀⠀⠄⠀⠀⠀⠀⠑⢄⠀⠀⠄⠀⠄⠀\n",
       "⠀⠀⠐⠐⠀⠀⠈⠂⠀⠀⠀⠀⠀⠀⠈⢄⠀⠄⠀⠀⠀⠀⠀⠀⠀⠀⠀⠀⠀⢐⠀⠀⠀⠀⠑⢄⠈⠀⠀⠀\n",
       "⠀⠀⠀⠐⠀⠀⠀⠀⡄⠀⠀⠀⠀⠀⠔⠀⠀⠀⠀⠁⠀⠀⢀⠀⠀⠀⠀⠀⠀⠀⠀⠂⠀⠁⠂⠀⠑⢄⠀⠀\n",
       "⡀⠀⠀⠀⠀⠠⠀⠠⠀⠀⠀⡁⠀⠀⠀⠀⠀⠀⠀⠀⠀⠒⠀⠂⠀⠀⠀⠂⠀⠀⠀⠀⠀⠁⠀⠀⠀⠀⠑⢄"
      ]
     },
     "metadata": {},
     "output_type": "display_data"
    }
   ],
   "source": [
    "la = Laplacians.lap(a)"
   ]
  },
  {
   "cell_type": "code",
   "execution_count": 1034,
   "metadata": {},
   "outputs": [
    {
     "data": {
      "text/plain": [
       "4.335491166394704e16"
      ]
     },
     "metadata": {},
     "output_type": "display_data"
    }
   ],
   "source": [
    "# lambda, v = LinearAlgebra.eigen(Matrix(la))\n",
    "# abs(maximum(lambda)/minimum(lambda))\n",
    "LinearAlgebra.cond(Matrix(la))"
   ]
  },
  {
   "cell_type": "code",
   "execution_count": 1043,
   "metadata": {},
   "outputs": [
    {
     "data": {
      "text/plain": [
       "ldli2CSC (generic function with 1 method)"
      ]
     },
     "metadata": {},
     "output_type": "display_data"
    }
   ],
   "source": [
    "function ldli2CSC(ldli::Laplacians.LDLinv{Tind, Tval}) where {Tind, Tval} \n",
    "    n = length(ldli.col) + 1\n",
    "    m = length(ldli.rowval)\n",
    "    rowind = Vector{Tind}()\n",
    "    colind = Vector{Tind}()\n",
    "    val = Vector{Tval}()\n",
    "    \n",
    "    for i in Tind(1):n-1\n",
    "        col = ldli.col[i]\n",
    "        for j in ldli.colptr[i]:ldli.colptr[i+1]-1\n",
    "            append!(rowind, ldli.rowval[j])\n",
    "            append!(colind, ldli.col[i])\n",
    "            append!(val, ldli.fval[j])\n",
    "        end\n",
    "\n",
    "    end\n",
    "\n",
    "    T = sparse(rowind, colind, val, n, n) # triangular mat\n",
    "    D = sparse(collect(1:n), collect(1:n), ldli.d, n, n) # diagonal mat\n",
    "    return T, D\n",
    "end"
   ]
  },
  {
   "cell_type": "code",
   "execution_count": 1036,
   "metadata": {},
   "outputs": [],
   "source": [
    "llmat = Laplacians.LLmatp(a);\n",
    "ldli = Laplacians.approxChol(llmat);"
   ]
  },
  {
   "cell_type": "code",
   "execution_count": 1037,
   "metadata": {},
   "outputs": [],
   "source": [
    "T, D = ldli2CSC(ldli);"
   ]
  },
  {
   "cell_type": "code",
   "execution_count": 1052,
   "metadata": {},
   "outputs": [
    {
     "data": {
      "text/plain": [
       "1.0354146015299545e34"
      ]
     },
     "metadata": {},
     "output_type": "display_data"
    }
   ],
   "source": [
    "b = T'*D*T*a\n",
    "# b = LinearAlgebra.pinv(Matrix(T'*D*T))*a\n",
    "# lambda, v = LinearAlgebra.eigen(Matrix(b))\n",
    "# abs(maximum(lambda)/minimum(lambda))\n",
    "LinearAlgebra.cond(Matrix(b))"
   ]
  },
  {
   "cell_type": "code",
   "execution_count": 1053,
   "metadata": {},
   "outputs": [
    {
     "data": {
      "text/plain": [
       "Inf"
      ]
     },
     "metadata": {},
     "output_type": "display_data"
    }
   ],
   "source": [
    "b = T*D*T'*a\n",
    "# b = LinearAlgebra.pinv(Matrix(T*D*T'))*a\n",
    "# lambda, v = LinearAlgebra.eigen(Matrix(b))\n",
    "# abs(maximum(lambda)/minimum(lambda))\n",
    "LinearAlgebra.cond(Matrix(b))"
   ]
  },
  {
   "cell_type": "code",
   "execution_count": 1054,
   "metadata": {},
   "outputs": [
    {
     "data": {
      "text/plain": [
       "6.201084383300624e19"
      ]
     },
     "metadata": {},
     "output_type": "display_data"
    }
   ],
   "source": [
    "b = T'*D*T*la\n",
    "# b = LinearAlgebra.pinv(Matrix(T'*D*T))*la\n",
    "# lambda, v = LinearAlgebra.eigen(Matrix(b))\n",
    "# abs(maximum(lambda)/minimum(lambda))\n",
    "LinearAlgebra.cond(Matrix(b))"
   ]
  },
  {
   "cell_type": "code",
   "execution_count": 1055,
   "metadata": {},
   "outputs": [
    {
     "data": {
      "text/plain": [
       "Inf"
      ]
     },
     "metadata": {},
     "output_type": "display_data"
    }
   ],
   "source": [
    "b = T*D*T'*la\n",
    "# b = LinearAlgebra.pinv(Matrix(T*D*T'))*la\n",
    "# lambda, v = LinearAlgebra.eigen(Matrix(b))\n",
    "# abs(maximum(lambda)/minimum(lambda))\n",
    "LinearAlgebra.cond(Matrix(b))"
   ]
  },
  {
   "cell_type": "code",
   "execution_count": 1042,
   "metadata": {},
   "outputs": [
    {
     "data": {
      "text/plain": [
       "1.0000000000001321"
      ]
     },
     "metadata": {},
     "output_type": "display_data"
    }
   ],
   "source": [
    "b = LinearAlgebra.inv(Matrix(a))*a\n",
    "LinearAlgebra.cond(Matrix(b))"
   ]
  }
 ],
 "metadata": {
  "kernelspec": {
   "display_name": "Julia 1.8.0-rc4",
   "language": "julia",
   "name": "julia-1.8"
  },
  "language_info": {
   "file_extension": ".jl",
   "mimetype": "application/julia",
   "name": "julia",
   "version": "1.8.0-rc4"
  },
  "orig_nbformat": 4
 },
 "nbformat": 4,
 "nbformat_minor": 2
}
